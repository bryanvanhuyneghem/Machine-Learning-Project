{
 "cells": [
  {
   "cell_type": "markdown",
   "metadata": {},
   "source": [
    "<h1 style='color:#00868b'>Read, balance and clean dataset<span class=\"tocSkip\"></span></h1>"
   ]
  },
  {
   "cell_type": "markdown",
   "metadata": {},
   "source": [
    "This notebook reads in the data, balances it, cleans it and then saves it to a csv file. This csv can then be used in a separate notebook to train a model. This notebook also allows the user to tweak the balancing and cleaning as they see fit."
   ]
  },
  {
   "cell_type": "code",
   "execution_count": 4,
   "metadata": {},
   "outputs": [],
   "source": [
    "import pandas as pd\n",
    "import seaborn as sns\n",
    "import matplotlib.pyplot as plt\n",
    "import numpy as np"
   ]
  },
  {
   "cell_type": "markdown",
   "metadata": {},
   "source": [
    "**Read file**"
   ]
  },
  {
   "cell_type": "code",
   "execution_count": 5,
   "metadata": {},
   "outputs": [],
   "source": [
    "df = pd.read_csv(\"complaints-2020-01-22_08_24.csv\", encoding=\"utf-8\")"
   ]
  },
  {
   "cell_type": "markdown",
   "metadata": {},
   "source": [
    "**Select columns to keep**"
   ]
  },
  {
   "cell_type": "markdown",
   "metadata": {},
   "source": [
    "Add your columns here."
   ]
  },
  {
   "cell_type": "code",
   "execution_count": 6,
   "metadata": {},
   "outputs": [],
   "source": [
    "df_selected = df.loc[:, ('Product', 'Consumer complaint narrative')]"
   ]
  },
  {
   "cell_type": "markdown",
   "metadata": {},
   "source": [
    "**Remove columns with the least complaints**"
   ]
  },
  {
   "cell_type": "code",
   "execution_count": 7,
   "metadata": {},
   "outputs": [],
   "source": [
    "df_balanced1 = df_selected\n",
    "\n",
    "df_balanced1 = df_balanced1[df_balanced1[\"Product\"] != \"Virtual currency\"]\n",
    "df_balanced1 = df_balanced1[df_balanced1[\"Product\"] != \"Other financial service\"]\n",
    "df_balanced1 = df_balanced1[df_balanced1[\"Product\"] != \"Prepaid card\"]\n",
    "df_balanced1 = df_balanced1[df_balanced1[\"Product\"] != \"Money transfers\"]\n",
    "df_balanced1 = df_balanced1[df_balanced1[\"Product\"] != \"Payday loan\"]"
   ]
  },
  {
   "cell_type": "markdown",
   "metadata": {},
   "source": [
    "**Make a copy and iteratively drop the products with the most complaints, adding a random sample % of them back afterwards**"
   ]
  },
  {
   "cell_type": "code",
   "execution_count": 8,
   "metadata": {},
   "outputs": [
    {
     "data": {
      "text/plain": [
       "(480700, 2)"
      ]
     },
     "execution_count": 8,
     "metadata": {},
     "output_type": "execute_result"
    }
   ],
   "source": [
    "df_balanced2 = df_balanced1.copy()\n",
    "df_balanced1.shape"
   ]
  },
  {
   "cell_type": "code",
   "execution_count": 9,
   "metadata": {},
   "outputs": [],
   "source": [
    "indexNames = df_balanced2[df_balanced2[\"Product\"] == \"Mortgage\"].index\n",
    "df_balanced2.drop(indexNames, inplace=True)\n",
    "indexNames = df_balanced2[df_balanced2[\"Product\"] == \"Debt collection\"].index\n",
    "df_balanced2.drop(indexNames, inplace=True)\n",
    "indexNames = df_balanced2[df_balanced2[\"Product\"] == \"Credit reporting, credit repair services, or other personal consumer reports\"].index\n",
    "df_balanced2.drop(indexNames, inplace=True)"
   ]
  },
  {
   "cell_type": "code",
   "execution_count": 10,
   "metadata": {},
   "outputs": [],
   "source": [
    "df_balanced2 = df_balanced2.append(df_balanced1.loc[df_balanced1[\"Product\"] == 'Mortgage'].sample(frac=0.5))\n",
    "df_balanced2 = df_balanced2.append(df_balanced1.loc[df_balanced1[\"Product\"] == 'Debt collection'].sample(frac=0.4))\n",
    "df_balanced2 = df_balanced2.append(df_balanced1.loc[df_balanced1[\"Product\"] == 'Credit reporting, credit repair services, or other personal consumer reports'].sample(frac=0.3))"
   ]
  },
  {
   "cell_type": "code",
   "execution_count": 11,
   "metadata": {},
   "outputs": [
    {
     "data": {
      "text/plain": [
       "(287475, 2)"
      ]
     },
     "execution_count": 11,
     "metadata": {},
     "output_type": "execute_result"
    }
   ],
   "source": [
    "df_balanced3 = df_balanced2.copy()\n",
    "df_balanced2.shape"
   ]
  },
  {
   "cell_type": "code",
   "execution_count": 12,
   "metadata": {},
   "outputs": [],
   "source": [
    "indexNames = df_balanced3[df_balanced3[\"Product\"] == \"Credit reporting, credit repair services, or other personal consumer reports\"].index\n",
    "df_balanced3.drop(indexNames, inplace=True)\n",
    "indexNames = df_balanced3[df_balanced3[\"Product\"] == \"Debt collection\"].index\n",
    "df_balanced3.drop(indexNames, inplace=True)\n",
    "indexNames = df_balanced3[df_balanced3[\"Product\"] == \"Credit reporting\"].index\n",
    "df_balanced3.drop(indexNames, inplace=True)\n",
    "indexNames = df_balanced3[df_balanced3[\"Product\"] == \"Credit card or prepaid card\"].index\n",
    "df_balanced3.drop(indexNames, inplace=True)\n",
    "indexNames = df_balanced3[df_balanced3[\"Product\"] == \"Mortgage\"].index\n",
    "df_balanced3.drop(indexNames, inplace=True)\n",
    "indexNames = df_balanced3[df_balanced3[\"Product\"] == \"Student loan\"].index\n",
    "df_balanced3.drop(indexNames, inplace=True)"
   ]
  },
  {
   "cell_type": "code",
   "execution_count": 13,
   "metadata": {},
   "outputs": [],
   "source": [
    "df_balanced3 = df_balanced3.append(df_balanced2.loc[df_balanced2[\"Product\"] == 'Credit reporting, credit repair services, or other personal consumer reports'].sample(frac=0.5))\n",
    "df_balanced3 = df_balanced3.append(df_balanced2.loc[df_balanced2[\"Product\"] == 'Debt collection'].sample(frac=0.5))\n",
    "df_balanced3 = df_balanced3.append(df_balanced2.loc[df_balanced2[\"Product\"] == 'Credit reporting'].sample(frac=0.6))\n",
    "df_balanced3 = df_balanced3.append(df_balanced2.loc[df_balanced2[\"Product\"] == 'Credit card or prepaid card'].sample(frac=0.6))\n",
    "df_balanced3 = df_balanced3.append(df_balanced2.loc[df_balanced2[\"Product\"] == 'Mortgage'].sample(frac=0.6))\n",
    "df_balanced3 = df_balanced3.append(df_balanced2.loc[df_balanced2[\"Product\"] == 'Student loan'].sample(frac=0.85))"
   ]
  },
  {
   "cell_type": "code",
   "execution_count": 14,
   "metadata": {},
   "outputs": [
    {
     "data": {
      "text/plain": [
       "(203874, 2)"
      ]
     },
     "execution_count": 14,
     "metadata": {},
     "output_type": "execute_result"
    }
   ],
   "source": [
    "df_balanced3.shape"
   ]
  },
  {
   "cell_type": "code",
   "execution_count": 15,
   "metadata": {},
   "outputs": [
    {
     "data": {
      "text/plain": [
       "Text(0, 0.5, 'categories')"
      ]
     },
     "execution_count": 15,
     "metadata": {},
     "output_type": "execute_result"
    },
    {
     "data": {
      "image/png": "[encoded data removed]",
      "text/plain": [
       "<Figure size 432x288 with 1 Axes>"
      ]
     },
     "metadata": {
      "needs_background": "light"
     },
     "output_type": "display_data"
    }
   ],
   "source": [
    "diff_products = df_balanced3.groupby(\"Product\")[\"Product\"].count().sort_values(ascending=False)\n",
    "fig = plt.figure()\n",
    "plt.rcParams['figure.figsize'] = [30,15]\n",
    "ax = fig.add_axes([0,0,0.4,0.5])\n",
    "\n",
    "ax.barh(diff_products.index,diff_products,color='teal')\n",
    "ax.invert_yaxis()\n",
    "plt.title('Complaints per Products')\n",
    "plt.xlabel('amount')\n",
    "plt.ylabel('categories')"
   ]
  },
  {
   "cell_type": "markdown",
   "metadata": {},
   "source": [
    "**Data cleaning & lemmatization**"
   ]
  },
  {
   "cell_type": "code",
   "execution_count": 16,
   "metadata": {},
   "outputs": [],
   "source": [
    "import re\n",
    "import string\n",
    "\n",
    "# Remove urls\n",
    "def clean_url(complaint):\n",
    "    # to do: more regex url garbage matching\n",
    "    complaint = re.sub('https?://(?:[-\\w.]|(?:%[\\da-fA-F]{2}))+', '', complaint)\n",
    "    complaint = re.sub('https? ?: ?// ?(?:[-\\w.]|(?:%[\\da-fA-F]{2}))+', '', complaint)\n",
    "    return complaint\n",
    "\n",
    "# Remove punctuation from complaint\n",
    "def clean_punctuation(complaint):\n",
    "    complaint = re.sub('[%s]' % re.escape(string.punctuation), '', complaint)\n",
    "    return complaint\n",
    "\n",
    "# Remove non-sensical characters from complaint\n",
    "def clean_nonsense(complaint):\n",
    "    complaint = re.sub('[''\"\"...]', '', complaint)\n",
    "    complaint = re.sub('\\n', '', complaint)\n",
    "    return complaint\n",
    "\n",
    "# Remove censored words from complaint\n",
    "def clean_censored(complaint):\n",
    "    complaint = re.sub('[XXXX]', '', complaint)\n",
    "    return complaint\n",
    "\n",
    "# Turn everything into lowercase\n",
    "def clean_lowercase(complaint):\n",
    "    complaint = complaint.lower()\n",
    "    return complaint\n",
    "\n",
    "# Remove numbers from complaint\n",
    "def clean_numbers(complaint):\n",
    "    complaint = re.sub(\"\\d+\", '', complaint)\n",
    "    return complaint"
   ]
  },
  {
   "cell_type": "code",
   "execution_count": 17,
   "metadata": {},
   "outputs": [],
   "source": [
    "df_balanced3[\"Consumer complaint narrative\"] = df_balanced3[\"Consumer complaint narrative\"].apply(clean_url)\n",
    "df_balanced3[\"Consumer complaint narrative\"] = df_balanced3[\"Consumer complaint narrative\"].apply(clean_punctuation)\n",
    "df_balanced3[\"Consumer complaint narrative\"] = df_balanced3[\"Consumer complaint narrative\"].apply(clean_nonsense)\n",
    "df_balanced3[\"Consumer complaint narrative\"] = df_balanced3[\"Consumer complaint narrative\"].apply(clean_censored)\n",
    "df_balanced3[\"Consumer complaint narrative\"] = df_balanced3[\"Consumer complaint narrative\"].apply(clean_lowercase)\n",
    "df_balanced3[\"Consumer complaint narrative\"] = df_balanced3[\"Consumer complaint narrative\"].apply(clean_numbers)"
   ]
  },
  {
   "cell_type": "code",
   "execution_count": 18,
   "metadata": {},
   "outputs": [
    {
     "name": "stdout",
     "output_type": "stream",
     "text": [
      "(203874, 2)\n"
     ]
    },
    {
     "data": {
      "text/html": [
       "<div>\n",
       "<style scoped>\n",
       "    .dataframe tbody tr th:only-of-type {\n",
       "        vertical-align: middle;\n",
       "    }\n",
       "\n",
       "    .dataframe tbody tr th {\n",
       "        vertical-align: top;\n",
       "    }\n",
       "\n",
       "    .dataframe thead th {\n",
       "        text-align: right;\n",
       "    }\n",
       "</style>\n",
       "<table border=\"1\" class=\"dataframe\">\n",
       "  <thead>\n",
       "    <tr style=\"text-align: right;\">\n",
       "      <th></th>\n",
       "      <th>Product</th>\n",
       "      <th>Consumer complaint narrative</th>\n",
       "    </tr>\n",
       "  </thead>\n",
       "  <tbody>\n",
       "    <tr>\n",
       "      <th>9</th>\n",
       "      <td>Payday loan, title loan, or personal loan</td>\n",
       "      <td>they would not let me pay my loan off  days be...</td>\n",
       "    </tr>\n",
       "    <tr>\n",
       "      <th>12</th>\n",
       "      <td>Payday loan, title loan, or personal loan</td>\n",
       "      <td>service finance are liars and are charging me ...</td>\n",
       "    </tr>\n",
       "    <tr>\n",
       "      <th>27</th>\n",
       "      <td>Checking or savings account</td>\n",
       "      <td>over draft fees due to fraudulent charges subm...</td>\n",
       "    </tr>\n",
       "    <tr>\n",
       "      <th>38</th>\n",
       "      <td>Vehicle loan or lease</td>\n",
       "      <td>on  i signed a car loan agreement to finance m...</td>\n",
       "    </tr>\n",
       "    <tr>\n",
       "      <th>44</th>\n",
       "      <td>Money transfer, virtual currency, or money ser...</td>\n",
       "      <td>we hired   and    debt collection to handle co...</td>\n",
       "    </tr>\n",
       "  </tbody>\n",
       "</table>\n",
       "</div>"
      ],
      "text/plain": [
       "                                              Product  \\\n",
       "9           Payday loan, title loan, or personal loan   \n",
       "12          Payday loan, title loan, or personal loan   \n",
       "27                        Checking or savings account   \n",
       "38                              Vehicle loan or lease   \n",
       "44  Money transfer, virtual currency, or money ser...   \n",
       "\n",
       "                         Consumer complaint narrative  \n",
       "9   they would not let me pay my loan off  days be...  \n",
       "12  service finance are liars and are charging me ...  \n",
       "27  over draft fees due to fraudulent charges subm...  \n",
       "38  on  i signed a car loan agreement to finance m...  \n",
       "44  we hired   and    debt collection to handle co...  "
      ]
     },
     "execution_count": 18,
     "metadata": {},
     "output_type": "execute_result"
    }
   ],
   "source": [
    "print(df_balanced3.shape)\n",
    "df_balanced3.head()"
   ]
  },
  {
   "cell_type": "code",
   "execution_count": 19,
   "metadata": {},
   "outputs": [],
   "source": [
    "# pickle for later use\n",
    "df_balanced3.to_pickle(\"corpus_balanced3_cleaned.pkl\")"
   ]
  },
  {
   "cell_type": "markdown",
   "metadata": {},
   "source": [
    "**Run the lemmatization.py script in Pycharm to lemmatize the balanced & cleaned dataset.**"
   ]
  },
  {
   "cell_type": "markdown",
   "metadata": {},
   "source": [
    "This will produce a csv, <code>corpus_balanced3_cleaned_lemmatized.csv</code> that can be read into any notebook used for training using the code below:"
   ]
  },
  {
   "cell_type": "markdown",
   "metadata": {},
   "source": [
    "<code> my_df = pd.read_csv(\"corpus_balanced3_cleaned_lemmatized.csv\", encoding=\"utf-8\")</code>"
   ]
  },
  {
   "cell_type": "code",
   "execution_count": 3,
   "metadata": {},
   "outputs": [],
   "source": [
    "my_df = pd.read_csv(\"corpus_balanced3_cleaned_lemmatized.csv\", encoding=\"utf-8\")"
   ]
  },
  {
   "cell_type": "code",
   "execution_count": 4,
   "metadata": {},
   "outputs": [
    {
     "data": {
      "text/html": [
       "<div>\n",
       "<style scoped>\n",
       "    .dataframe tbody tr th:only-of-type {\n",
       "        vertical-align: middle;\n",
       "    }\n",
       "\n",
       "    .dataframe tbody tr th {\n",
       "        vertical-align: top;\n",
       "    }\n",
       "\n",
       "    .dataframe thead th {\n",
       "        text-align: right;\n",
       "    }\n",
       "</style>\n",
       "<table border=\"1\" class=\"dataframe\">\n",
       "  <thead>\n",
       "    <tr style=\"text-align: right;\">\n",
       "      <th></th>\n",
       "      <th>Product</th>\n",
       "      <th>Consumer complaint narrative</th>\n",
       "    </tr>\n",
       "  </thead>\n",
       "  <tbody>\n",
       "    <tr>\n",
       "      <th>0</th>\n",
       "      <td>Payday loan, title loan, or personal loan</td>\n",
       "      <td>they would not let me pay my loan off day befo...</td>\n",
       "    </tr>\n",
       "    <tr>\n",
       "      <th>1</th>\n",
       "      <td>Payday loan, title loan, or personal loan</td>\n",
       "      <td>service finance are liar and are charging me i...</td>\n",
       "    </tr>\n",
       "    <tr>\n",
       "      <th>2</th>\n",
       "      <td>Checking or savings account</td>\n",
       "      <td>over draft fee due to fraudulent charge submit...</td>\n",
       "    </tr>\n",
       "    <tr>\n",
       "      <th>3</th>\n",
       "      <td>Vehicle loan or lease</td>\n",
       "      <td>on i signed a car loan agreement to finance my...</td>\n",
       "    </tr>\n",
       "    <tr>\n",
       "      <th>4</th>\n",
       "      <td>Money transfer, virtual currency, or money ser...</td>\n",
       "      <td>we hired and debt collection to handle collect...</td>\n",
       "    </tr>\n",
       "  </tbody>\n",
       "</table>\n",
       "</div>"
      ],
      "text/plain": [
       "                                             Product  \\\n",
       "0          Payday loan, title loan, or personal loan   \n",
       "1          Payday loan, title loan, or personal loan   \n",
       "2                        Checking or savings account   \n",
       "3                              Vehicle loan or lease   \n",
       "4  Money transfer, virtual currency, or money ser...   \n",
       "\n",
       "                        Consumer complaint narrative  \n",
       "0  they would not let me pay my loan off day befo...  \n",
       "1  service finance are liar and are charging me i...  \n",
       "2  over draft fee due to fraudulent charge submit...  \n",
       "3  on i signed a car loan agreement to finance my...  \n",
       "4  we hired and debt collection to handle collect...  "
      ]
     },
     "execution_count": 4,
     "metadata": {},
     "output_type": "execute_result"
    }
   ],
   "source": [
    "my_df.head()"
   ]
  },
  {
   "cell_type": "markdown",
   "metadata": {},
   "source": [
    "**Train in your separate notebook**\n",
    "\n",
    "Use <code>RandomForest_run_006.ipynb</code> as an example for structure. Make a copy, rename is and replace what you need. [notebook](RandomForest_run_006.ipynb)"
   ]
  },
  {
   "cell_type": "code",
   "execution_count": null,
   "metadata": {},
   "outputs": [],
   "source": []
  }
 ],
 "metadata": {
  "kernelspec": {
   "display_name": "Python 3",
   "language": "python",
   "name": "python3"
  },
  "language_info": {
   "codemirror_mode": {
    "name": "ipython",
    "version": 3
   },
   "file_extension": ".py",
   "mimetype": "text/x-python",
   "name": "python",
   "nbconvert_exporter": "python",
   "pygments_lexer": "ipython3",
   "version": "3.7.7"
  },
  "toc": {
   "base_numbering": 1,
   "nav_menu": {},
   "number_sections": true,
   "sideBar": true,
   "skip_h1_title": false,
   "title_cell": "Table of Contents",
   "title_sidebar": "Contents",
   "toc_cell": false,
   "toc_position": {},
   "toc_section_display": true,
   "toc_window_display": false
  }
 },
 "nbformat": 4,
 "nbformat_minor": 2
}

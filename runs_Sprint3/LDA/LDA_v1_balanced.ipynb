{
 "cells": [
  {
   "cell_type": "markdown",
   "metadata": {},
   "source": [
    "<h1 style='color:#00868b'>LDA_v1_balanced<span class=\"tocSkip\"></span></h1>"
   ]
  },
  {
   "cell_type": "markdown",
   "metadata": {},
   "source": [
    "# Start"
   ]
  },
  {
   "cell_type": "code",
   "execution_count": 1,
   "metadata": {},
   "outputs": [],
   "source": [
    "import pandas as pd\n",
    "import seaborn as sns\n",
    "import matplotlib.pyplot as plt\n",
    "import numpy as np"
   ]
  },
  {
   "cell_type": "markdown",
   "metadata": {},
   "source": [
    "## Read dataset"
   ]
  },
  {
   "cell_type": "code",
   "execution_count": 2,
   "metadata": {},
   "outputs": [],
   "source": [
    "df = pd.read_csv(\"../../corpus_sprint3_balanced_cleaned_all.csv\", encoding=\"utf-8\")"
   ]
  },
  {
   "cell_type": "markdown",
   "metadata": {},
   "source": [
    "Set index to old index:"
   ]
  },
  {
   "cell_type": "code",
   "execution_count": 3,
   "metadata": {},
   "outputs": [],
   "source": [
    "df = df.set_index('Row No')"
   ]
  },
  {
   "cell_type": "code",
   "execution_count": 4,
   "metadata": {},
   "outputs": [
    {
     "data": {
      "text/plain": [
       "(126593, 18)"
      ]
     },
     "execution_count": 4,
     "metadata": {},
     "output_type": "execute_result"
    }
   ],
   "source": [
    "df.shape"
   ]
  },
  {
   "cell_type": "code",
   "execution_count": 5,
   "metadata": {
    "scrolled": false
   },
   "outputs": [
    {
     "data": {
      "text/html": [
       "<div>\n",
       "<style scoped>\n",
       "    .dataframe tbody tr th:only-of-type {\n",
       "        vertical-align: middle;\n",
       "    }\n",
       "\n",
       "    .dataframe tbody tr th {\n",
       "        vertical-align: top;\n",
       "    }\n",
       "\n",
       "    .dataframe thead th {\n",
       "        text-align: right;\n",
       "    }\n",
       "</style>\n",
       "<table border=\"1\" class=\"dataframe\">\n",
       "  <thead>\n",
       "    <tr style=\"text-align: right;\">\n",
       "      <th></th>\n",
       "      <th>Date received</th>\n",
       "      <th>Product</th>\n",
       "      <th>Sub-product</th>\n",
       "      <th>Issue</th>\n",
       "      <th>Sub-issue</th>\n",
       "      <th>Consumer complaint narrative</th>\n",
       "      <th>Company public response</th>\n",
       "      <th>Company</th>\n",
       "      <th>State</th>\n",
       "      <th>ZIP code</th>\n",
       "      <th>Tags</th>\n",
       "      <th>Consumer consent provided?</th>\n",
       "      <th>Submitted via</th>\n",
       "      <th>Date sent to company</th>\n",
       "      <th>Company response to consumer</th>\n",
       "      <th>Timely response?</th>\n",
       "      <th>Consumer disputed?</th>\n",
       "      <th>Complaint ID</th>\n",
       "    </tr>\n",
       "    <tr>\n",
       "      <th>Row No</th>\n",
       "      <th></th>\n",
       "      <th></th>\n",
       "      <th></th>\n",
       "      <th></th>\n",
       "      <th></th>\n",
       "      <th></th>\n",
       "      <th></th>\n",
       "      <th></th>\n",
       "      <th></th>\n",
       "      <th></th>\n",
       "      <th></th>\n",
       "      <th></th>\n",
       "      <th></th>\n",
       "      <th></th>\n",
       "      <th></th>\n",
       "      <th></th>\n",
       "      <th></th>\n",
       "      <th></th>\n",
       "    </tr>\n",
       "  </thead>\n",
       "  <tbody>\n",
       "    <tr>\n",
       "      <th>9</th>\n",
       "      <td>06/15/19</td>\n",
       "      <td>Payday loan, title loan, or personal loan</td>\n",
       "      <td>Installment loan</td>\n",
       "      <td>Problem with the payoff process at the end of ...</td>\n",
       "      <td>None</td>\n",
       "      <td>they would not let me pay my loan off days bef...</td>\n",
       "      <td>None</td>\n",
       "      <td>Big Picture Loans, LLC</td>\n",
       "      <td>IN</td>\n",
       "      <td>477XX</td>\n",
       "      <td>None</td>\n",
       "      <td>Consent provided</td>\n",
       "      <td>Web</td>\n",
       "      <td>06/15/19</td>\n",
       "      <td>Closed with explanation</td>\n",
       "      <td>Yes</td>\n",
       "      <td>NaN</td>\n",
       "      <td>3276316</td>\n",
       "    </tr>\n",
       "    <tr>\n",
       "      <th>12</th>\n",
       "      <td>07/25/19</td>\n",
       "      <td>Payday loan, title loan, or personal loan</td>\n",
       "      <td>Installment loan</td>\n",
       "      <td>Charged fees or interest you didn't expect</td>\n",
       "      <td>None</td>\n",
       "      <td>service finance are liars and are charging me ...</td>\n",
       "      <td>None</td>\n",
       "      <td>Service Finance Holdings, LLC</td>\n",
       "      <td>TX</td>\n",
       "      <td>None</td>\n",
       "      <td>None</td>\n",
       "      <td>Consent provided</td>\n",
       "      <td>Web</td>\n",
       "      <td>07/25/19</td>\n",
       "      <td>Closed with non-monetary relief</td>\n",
       "      <td>Yes</td>\n",
       "      <td>NaN</td>\n",
       "      <td>3318533</td>\n",
       "    </tr>\n",
       "    <tr>\n",
       "      <th>38</th>\n",
       "      <td>06/23/19</td>\n",
       "      <td>Vehicle loan or lease</td>\n",
       "      <td>Loan</td>\n",
       "      <td>Problems at the end of the loan or lease</td>\n",
       "      <td>Problem with paying off the loan</td>\n",
       "      <td>on i signed a car loan agreement to finance my...</td>\n",
       "      <td>None</td>\n",
       "      <td>HUNTINGTON NATIONAL BANK, THE</td>\n",
       "      <td>TX</td>\n",
       "      <td>750XX</td>\n",
       "      <td>None</td>\n",
       "      <td>Consent provided</td>\n",
       "      <td>Web</td>\n",
       "      <td>06/23/19</td>\n",
       "      <td>Closed with non-monetary relief</td>\n",
       "      <td>Yes</td>\n",
       "      <td>NaN</td>\n",
       "      <td>3284279</td>\n",
       "    </tr>\n",
       "    <tr>\n",
       "      <th>44</th>\n",
       "      <td>08/13/19</td>\n",
       "      <td>Money transfer, virtual currency, or money ser...</td>\n",
       "      <td>Debt settlement</td>\n",
       "      <td>Fraud or scam</td>\n",
       "      <td>None</td>\n",
       "      <td>we hired and debt collection to handle collect...</td>\n",
       "      <td>None</td>\n",
       "      <td>ALLIED NATIONAL INC</td>\n",
       "      <td>NY</td>\n",
       "      <td>117XX</td>\n",
       "      <td>None</td>\n",
       "      <td>Consent provided</td>\n",
       "      <td>Web</td>\n",
       "      <td>08/13/19</td>\n",
       "      <td>Untimely response</td>\n",
       "      <td>No</td>\n",
       "      <td>NaN</td>\n",
       "      <td>3339246</td>\n",
       "    </tr>\n",
       "    <tr>\n",
       "      <th>52</th>\n",
       "      <td>07/31/19</td>\n",
       "      <td>Payday loan, title loan, or personal loan</td>\n",
       "      <td>Payday loan</td>\n",
       "      <td>Problem with the payoff process at the end of ...</td>\n",
       "      <td>None</td>\n",
       "      <td>i borrowed in an financial emergency from offi...</td>\n",
       "      <td>Company believes it acted appropriately as aut...</td>\n",
       "      <td>Harpeth Financial Services, LLC</td>\n",
       "      <td>TN</td>\n",
       "      <td>None</td>\n",
       "      <td>Servicemember</td>\n",
       "      <td>Consent provided</td>\n",
       "      <td>Web</td>\n",
       "      <td>08/02/19</td>\n",
       "      <td>Closed with explanation</td>\n",
       "      <td>Yes</td>\n",
       "      <td>NaN</td>\n",
       "      <td>3324772</td>\n",
       "    </tr>\n",
       "  </tbody>\n",
       "</table>\n",
       "</div>"
      ],
      "text/plain": [
       "       Date received                                            Product  \\\n",
       "Row No                                                                    \n",
       "9           06/15/19          Payday loan, title loan, or personal loan   \n",
       "12          07/25/19          Payday loan, title loan, or personal loan   \n",
       "38          06/23/19                              Vehicle loan or lease   \n",
       "44          08/13/19  Money transfer, virtual currency, or money ser...   \n",
       "52          07/31/19          Payday loan, title loan, or personal loan   \n",
       "\n",
       "             Sub-product                                              Issue  \\\n",
       "Row No                                                                        \n",
       "9       Installment loan  Problem with the payoff process at the end of ...   \n",
       "12      Installment loan         Charged fees or interest you didn't expect   \n",
       "38                  Loan           Problems at the end of the loan or lease   \n",
       "44       Debt settlement                                      Fraud or scam   \n",
       "52           Payday loan  Problem with the payoff process at the end of ...   \n",
       "\n",
       "                               Sub-issue  \\\n",
       "Row No                                     \n",
       "9                                   None   \n",
       "12                                  None   \n",
       "38      Problem with paying off the loan   \n",
       "44                                  None   \n",
       "52                                  None   \n",
       "\n",
       "                             Consumer complaint narrative  \\\n",
       "Row No                                                      \n",
       "9       they would not let me pay my loan off days bef...   \n",
       "12      service finance are liars and are charging me ...   \n",
       "38      on i signed a car loan agreement to finance my...   \n",
       "44      we hired and debt collection to handle collect...   \n",
       "52      i borrowed in an financial emergency from offi...   \n",
       "\n",
       "                                  Company public response  \\\n",
       "Row No                                                      \n",
       "9                                                    None   \n",
       "12                                                   None   \n",
       "38                                                   None   \n",
       "44                                                   None   \n",
       "52      Company believes it acted appropriately as aut...   \n",
       "\n",
       "                                Company State ZIP code           Tags  \\\n",
       "Row No                                                                  \n",
       "9                Big Picture Loans, LLC    IN    477XX           None   \n",
       "12        Service Finance Holdings, LLC    TX     None           None   \n",
       "38        HUNTINGTON NATIONAL BANK, THE    TX    750XX           None   \n",
       "44                  ALLIED NATIONAL INC    NY    117XX           None   \n",
       "52      Harpeth Financial Services, LLC    TN     None  Servicemember   \n",
       "\n",
       "       Consumer consent provided? Submitted via Date sent to company  \\\n",
       "Row No                                                                 \n",
       "9                Consent provided           Web             06/15/19   \n",
       "12               Consent provided           Web             07/25/19   \n",
       "38               Consent provided           Web             06/23/19   \n",
       "44               Consent provided           Web             08/13/19   \n",
       "52               Consent provided           Web             08/02/19   \n",
       "\n",
       "           Company response to consumer Timely response? Consumer disputed?  \\\n",
       "Row No                                                                        \n",
       "9               Closed with explanation              Yes                NaN   \n",
       "12      Closed with non-monetary relief              Yes                NaN   \n",
       "38      Closed with non-monetary relief              Yes                NaN   \n",
       "44                    Untimely response               No                NaN   \n",
       "52              Closed with explanation              Yes                NaN   \n",
       "\n",
       "        Complaint ID  \n",
       "Row No                \n",
       "9            3276316  \n",
       "12           3318533  \n",
       "38           3284279  \n",
       "44           3339246  \n",
       "52           3324772  "
      ]
     },
     "execution_count": 5,
     "metadata": {},
     "output_type": "execute_result"
    }
   ],
   "source": [
    "df.head()"
   ]
  },
  {
   "cell_type": "markdown",
   "metadata": {},
   "source": [
    "Example:"
   ]
  },
  {
   "cell_type": "code",
   "execution_count": 6,
   "metadata": {},
   "outputs": [
    {
     "data": {
      "text/plain": [
       "'i borrowed in an financial emergency from office in tn on then on at in tn i was told my payoff is so i paid however i have been charged much more than on i paid off the loan in person and my checking account was also double billed charged another in tn today i went into the office in tn and asked for the reimbursement of my overbilled monies and the clerk named refused to refund my over double billed charges! threatened to have me arrested if i did not let the office keep the monies my loan of was just for days i was forced to pay a total of i was overbilled double billed '"
      ]
     },
     "execution_count": 6,
     "metadata": {},
     "output_type": "execute_result"
    }
   ],
   "source": [
    "df[\"Consumer complaint narrative\"][52]"
   ]
  },
  {
   "cell_type": "markdown",
   "metadata": {},
   "source": [
    "## Additional preprocessing"
   ]
  },
  {
   "cell_type": "markdown",
   "metadata": {},
   "source": [
    "### Tokenize words, remove stop words and stem words "
   ]
  },
  {
   "cell_type": "markdown",
   "metadata": {},
   "source": [
    "Stemming reduces the variation in text data by converting words to their word stem. Applying stemming allows for LDA to focus much more finely on the base form of a word, rather than focusing on the differences in the various variations of a word. The code below is analagous to sprint 1's code in [<code>lemmatization.py</code>](lemmatization.py).\n",
    "\n",
    "Stop words include: \n",
    "* common English words;\n",
    "* state names;\n",
    "* other frequent words that add little to no value to the context."
   ]
  },
  {
   "cell_type": "code",
   "execution_count": 7,
   "metadata": {},
   "outputs": [
    {
     "name": "stdout",
     "output_type": "stream",
     "text": [
      "Length of extra list:  101\n",
      "Length of extra list:  143\n",
      "Length of my_stop_words list:  322\n"
     ]
    },
    {
     "name": "stderr",
     "output_type": "stream",
     "text": [
      "[nltk_data] Downloading package stopwords to\n",
      "[nltk_data]     C:\\Users\\bryan\\AppData\\Roaming\\nltk_data...\n",
      "[nltk_data]   Package stopwords is already up-to-date!\n"
     ]
    }
   ],
   "source": [
    "import nltk\n",
    "from nltk.tokenize import RegexpTokenizer\n",
    "from nltk.corpus import stopwords\n",
    "\n",
    "# use nltk.download('stopwords') to download the list of stop words if this is your first time using nltk\n",
    "nltk.download('stopwords')\n",
    "\n",
    "stop_words = nltk.corpus.stopwords.words('english')\n",
    "my_additional_stop_words = []\n",
    "\n",
    "# US states, capitalised and lower\n",
    "states_abbr = [\"AL\", \"AK\", \"AZ\", \"AR\", \"CA\", \"CO\", \"CT\", \"DC\", \"DE\", \"FL\", \"GA\", \n",
    "          \"HI\", \"ID\", \"IL\", \"IN\", \"IA\", \"KS\", \"KY\", \"LA\", \"ME\", \"MD\", \n",
    "          \"MA\", \"MI\", \"MN\", \"MS\", \"MO\", \"MT\", \"NE\", \"NV\", \"NH\", \"NJ\", \n",
    "          \"NM\", \"NY\", \"NC\", \"ND\", \"OH\", \"OK\", \"OR\", \"PA\", \"RI\", \"SC\", \n",
    "          \"SD\", \"TN\", \"TX\", \"UT\", \"VT\", \"VA\", \"WA\", \"WV\", \"WI\", \"WY\"]\n",
    "states = [\"Alabama\",\"Alaska\",\"Arizona\",\"Arkansas\",\"California\",\"Colorado\",\n",
    "  \"Connecticut\",\"Delaware\",\"Florida\",\"Georgia\",\"Hawaii\",\"Idaho\",\"Illinois\",\n",
    "  \"Indiana\",\"Iowa\",\"Kansas\",\"Kentucky\",\"Louisiana\",\"Maine\",\"Maryland\",\n",
    "  \"Massachusetts\",\"Michigan\",\"Minnesota\",\"Mississippi\",\"Missouri\",\"Montana\",\n",
    "  \"Nebraska\",\"Nevada\",\"New Hampshire\",\"New Jersey\",\"New Mexico\",\"New York\",\n",
    "  \"North Carolina\",\"North Dakota\",\"Ohio\",\"Oklahoma\",\"Oregon\",\"Pennsylvania\",\n",
    "  \"Rhode Island\",\"South Carolina\",\"South Dakota\",\"Tennessee\",\"Texas\",\"Utah\",\n",
    "  \"Vermont\",\"Virginia\",\"Washington\",\"West Virginia\",\"Wisconsin\",\"Wyoming\"]\n",
    "\n",
    "states_abbr = [item.lower() for item in states_abbr]\n",
    "states = [item.lower() for item in states]\n",
    "states.extend(states_abbr)\n",
    "\n",
    "# add to list of additional stop words\n",
    "my_additional_stop_words.extend(states)\n",
    "print(\"Length of extra list: \", len(my_additional_stop_words))\n",
    "\n",
    "# add other stop words\n",
    "my_additional_stop_words.extend(['from', 'subject', 're', 'edu', 'use', 'not', 'would', 'say', 'could', '_', 'be', 'know', 'good', 'go', 'get', 'do', 'done', 'try', 'many', 'some', 'nice', 'thank', 'think', 'see', 'rather', 'easy', 'easily', 'lot', 'lack', 'make', 'want', 'seem', 'run', 'need', 'even', 'right', 'line', 'even', 'also', 'may', 'take', 'come'])\n",
    "print(\"Length of extra list: \", len(my_additional_stop_words))\n",
    "\n",
    "# add nltk's stop words\n",
    "my_stop_words = stop_words + my_additional_stop_words\n",
    "print(\"Length of my_stop_words list: \", len(my_stop_words))"
   ]
  },
  {
   "cell_type": "code",
   "execution_count": 8,
   "metadata": {
    "scrolled": true
   },
   "outputs": [
    {
     "name": "stderr",
     "output_type": "stream",
     "text": [
      "C:\\Users\\bryan\\.conda\\envs\\ml\\lib\\site-packages\\ipykernel_launcher.py:18: SettingWithCopyWarning: \n",
      "A value is trying to be set on a copy of a slice from a DataFrame\n",
      "\n",
      "See the caveats in the documentation: https://pandas.pydata.org/pandas-docs/stable/user_guide/indexing.html#returning-a-view-versus-a-copy\n"
     ]
    },
    {
     "name": "stdout",
     "output_type": "stream",
     "text": [
      "1000\n",
      "2000\n",
      "3000\n",
      "4000\n",
      "5000\n",
      "6000\n",
      "7000\n",
      "8000\n",
      "9000\n",
      "10000\n",
      "11000\n",
      "12000\n",
      "13000\n",
      "14000\n",
      "15000\n",
      "16000\n",
      "17000\n",
      "18000\n",
      "19000\n",
      "20000\n",
      "21000\n",
      "22000\n",
      "23000\n",
      "24000\n",
      "25000\n",
      "26000\n",
      "27000\n",
      "28000\n",
      "29000\n",
      "30000\n",
      "31000\n",
      "32000\n",
      "33000\n",
      "34000\n",
      "35000\n",
      "36000\n",
      "37000\n",
      "38000\n",
      "39000\n",
      "40000\n",
      "41000\n",
      "42000\n",
      "43000\n",
      "44000\n",
      "45000\n",
      "46000\n",
      "47000\n",
      "48000\n",
      "49000\n",
      "50000\n",
      "51000\n",
      "52000\n",
      "53000\n",
      "54000\n",
      "55000\n",
      "56000\n",
      "57000\n",
      "58000\n",
      "59000\n",
      "60000\n",
      "61000\n",
      "62000\n",
      "63000\n",
      "64000\n",
      "65000\n",
      "66000\n",
      "67000\n",
      "68000\n",
      "69000\n",
      "70000\n",
      "71000\n",
      "72000\n",
      "73000\n",
      "74000\n",
      "75000\n",
      "76000\n",
      "77000\n",
      "78000\n",
      "79000\n",
      "80000\n",
      "81000\n",
      "82000\n",
      "83000\n",
      "84000\n",
      "85000\n",
      "86000\n",
      "87000\n",
      "88000\n",
      "89000\n",
      "90000\n",
      "91000\n",
      "92000\n",
      "93000\n",
      "94000\n",
      "95000\n",
      "96000\n",
      "97000\n",
      "98000\n",
      "99000\n",
      "100000\n",
      "101000\n",
      "102000\n",
      "103000\n",
      "104000\n",
      "105000\n",
      "106000\n",
      "107000\n",
      "108000\n",
      "109000\n",
      "110000\n",
      "111000\n",
      "112000\n",
      "113000\n",
      "114000\n",
      "115000\n",
      "116000\n",
      "117000\n",
      "118000\n",
      "119000\n",
      "120000\n",
      "121000\n",
      "122000\n",
      "123000\n",
      "124000\n",
      "125000\n",
      "126000\n"
     ]
    },
    {
     "data": {
      "text/plain": [
       "(126593, 18)"
      ]
     },
     "execution_count": 8,
     "metadata": {},
     "output_type": "execute_result"
    }
   ],
   "source": [
    "from nltk.stem import PorterStemmer\n",
    "from nltk.tokenize import word_tokenize \n",
    "from nltk.corpus import stopwords\n",
    "\n",
    "ps = PorterStemmer()\n",
    "\n",
    "i = 0\n",
    "\n",
    "for ind, complaint in df[\"Consumer complaint narrative\"].items():\n",
    "    i = i+1\n",
    "    # Tokenize the complaint and remove stop words\n",
    "    words = [word for word in complaint.split(' ')\n",
    "                            if word not in my_stop_words] \n",
    "    new_words = []\n",
    "    # Stem the words in the complaint\n",
    "    for word in words:\n",
    "        new_words.append(ps.stem(word))\n",
    "    df[\"Consumer complaint narrative\"][ind] = new_words\n",
    "    if (i % 1000) == 0:\n",
    "        print(i)\n",
    "\n",
    "# to csv for later use\n",
    "df.to_csv(\"corpus_sprint3_cleaned_and_stemmed_v1.csv\", index=False)\n",
    "\n",
    "df.shape"
   ]
  },
  {
   "cell_type": "markdown",
   "metadata": {},
   "source": [
    "Example:"
   ]
  },
  {
   "cell_type": "code",
   "execution_count": 9,
   "metadata": {
    "scrolled": true
   },
   "outputs": [
    {
     "data": {
      "text/plain": [
       "['borrow',\n",
       " 'financi',\n",
       " 'emerg',\n",
       " 'offic',\n",
       " 'told',\n",
       " 'payoff',\n",
       " 'paid',\n",
       " 'howev',\n",
       " 'charg',\n",
       " 'much',\n",
       " 'paid',\n",
       " 'loan',\n",
       " 'person',\n",
       " 'check',\n",
       " 'account',\n",
       " 'doubl',\n",
       " 'bill',\n",
       " 'charg',\n",
       " 'anoth',\n",
       " 'today',\n",
       " 'went',\n",
       " 'offic',\n",
       " 'ask',\n",
       " 'reimburs',\n",
       " 'overbil',\n",
       " 'moni',\n",
       " 'clerk',\n",
       " 'name',\n",
       " 'refus',\n",
       " 'refund',\n",
       " 'doubl',\n",
       " 'bill',\n",
       " 'charges!',\n",
       " 'threaten',\n",
       " 'arrest',\n",
       " 'let',\n",
       " 'offic',\n",
       " 'keep',\n",
       " 'moni',\n",
       " 'loan',\n",
       " 'day',\n",
       " 'forc',\n",
       " 'pay',\n",
       " 'total',\n",
       " 'overbil',\n",
       " 'doubl',\n",
       " 'bill',\n",
       " '']"
      ]
     },
     "execution_count": 9,
     "metadata": {},
     "output_type": "execute_result"
    }
   ],
   "source": [
    "df['Consumer complaint narrative'][52]"
   ]
  },
  {
   "cell_type": "code",
   "execution_count": 10,
   "metadata": {},
   "outputs": [
    {
     "data": {
      "text/plain": [
       "Row No\n",
       "9         [let, pay, loan, day, next, payment, plu, subs...\n",
       "12        [servic, financ, liar, charg, interest, hvac, ...\n",
       "38        [sign, car, loan, agreement, financ, car, loan...\n",
       "44        [hire, debt, collect, handl, collect, effort, ...\n",
       "52        [borrow, financi, emerg, offic, told, payoff, ...\n",
       "                                ...                        \n",
       "311078    [bank, sever, year, bank, trust, origin, husba...\n",
       "368588    [file, fraud, alert, bank, week, ago, call, ev...\n",
       "256815    [previou, trip, use, bank, america, atm, card,...\n",
       "193394    [account, td, bank, check, save, start, work, ...\n",
       "257330    [hello, receiv, promot, offer, code, citibank,...\n",
       "Name: Consumer complaint narrative, Length: 126593, dtype: object"
      ]
     },
     "execution_count": 10,
     "metadata": {},
     "output_type": "execute_result"
    }
   ],
   "source": [
    "df['Consumer complaint narrative']"
   ]
  },
  {
   "cell_type": "markdown",
   "metadata": {},
   "source": [
    "We have now turned every complaint into an array of its words."
   ]
  },
  {
   "cell_type": "markdown",
   "metadata": {},
   "source": [
    "### Creating the dictionary and corpus"
   ]
  },
  {
   "cell_type": "markdown",
   "metadata": {},
   "source": [
    "The two main inputs to our LDA topic model are the Dictionary (id2word) and the corpus. Let's create them ([source](https://www.machinelearningplus.com/nlp/topic-modeling-gensim-python/)).\n",
    "\n",
    "We remove rare words and common words based on their document frequency. Below we remove words that appear in less than 20 documents or in more than 50% of the documents."
   ]
  },
  {
   "cell_type": "code",
   "execution_count": 11,
   "metadata": {},
   "outputs": [],
   "source": [
    "from gensim.corpora import Dictionary\n",
    "\n",
    "# Create a dictionary representation of the documents.\n",
    "id2word = Dictionary(df['Consumer complaint narrative'])\n",
    "\n",
    "# Filter out words that occur less than 20 documents, or more than 50% of the documents.\n",
    "id2word.filter_extremes(no_below=20, no_above=0.5)"
   ]
  },
  {
   "cell_type": "markdown",
   "metadata": {},
   "source": [
    "Finally, we transform the documents to a vectorized form. We simply compute the frequency of each word."
   ]
  },
  {
   "cell_type": "code",
   "execution_count": 12,
   "metadata": {},
   "outputs": [],
   "source": [
    "# Bag-of-words representation of the documents.\n",
    "corpus = [id2word.doc2bow(doc) for doc in df['Consumer complaint narrative']]"
   ]
  },
  {
   "cell_type": "markdown",
   "metadata": {},
   "source": [
    "Let’s see how many tokens and documents we have to train on."
   ]
  },
  {
   "cell_type": "code",
   "execution_count": 13,
   "metadata": {},
   "outputs": [
    {
     "name": "stdout",
     "output_type": "stream",
     "text": [
      "Number of unique tokens: 6479\n",
      "Number of documents: 126593\n"
     ]
    }
   ],
   "source": [
    "print('Number of unique tokens: %d' % len(id2word))\n",
    "print('Number of documents: %d' % len(corpus))"
   ]
  },
  {
   "cell_type": "markdown",
   "metadata": {},
   "source": [
    "Each of the 126593 complaints is now represented as a 6378-dimensional vector, which means our vocabulary has 6378 words. The frequencies stated above (20 and 50% could be finetuned)."
   ]
  },
  {
   "cell_type": "markdown",
   "metadata": {},
   "source": [
    "We are now ready to apply LDA."
   ]
  },
  {
   "cell_type": "markdown",
   "metadata": {},
   "source": [
    "## LDA"
   ]
  },
  {
   "cell_type": "markdown",
   "metadata": {},
   "source": [
    "### Building the Topic Model"
   ]
  },
  {
   "cell_type": "markdown",
   "metadata": {},
   "source": [
    "**Parameters**"
   ]
  },
  {
   "cell_type": "markdown",
   "metadata": {},
   "source": [
    "Parameters ([source](https://radimrehurek.com/gensim/models/ldamulticore.html)):\n",
    "* alpha (α): Topic smoothing parameter; can be set to an 1D array of length equal to the number of expected topics that expresses our a-priori belief for the each topics’ probability\n",
    "* eta (η): Word/term smoothing parameter; a scalar for a symmetric prior over topic/word probability\n",
    "\n",
    "Most topic modeling analyses in the literature ([Blei et al, 2003](https://www.researchgate.net/publication/326505884_Latent_Dirichlet_Allocation_LDA_for_Topic_Modeling_of_the_CFPB_Consumer_Complaints); [Blei and Lafferty, 2009](https://citeseerx.ist.psu.edu/viewdoc/download?doi=10.1.1.463.1205&rep=rep1&type=pdf#page=96); [Kaplan and Vakili, 2015](https://onlinelibrary.wiley.com/doi/abs/10.1002/smj.2294); [Blei, 2012](https://dl.acm.org/doi/pdf/10.1145/2133806.2133826)) suggest a value of 0.1 for both of these hyperparameters. This results in semantically meaningful topics. However, these values can also be set to 'auto', meaning we would automatically learn these two parameters.\n",
    "\n",
    "Other parameters:\n",
    "\n",
    "* number of topics: The number of topics LDA has to attempt to identify\n",
    "* iterations: Maximum number of iterations through the corpus when inferring the topic distribution of a corpus\n",
    "* passes: Number of passes through the corpus during training"
   ]
  },
  {
   "cell_type": "markdown",
   "metadata": {},
   "source": [
    "([Source](https://radimrehurek.com/gensim/auto_examples/tutorials/run_lda.html)):\n",
    "\n",
    "<code>chunksize</code> controls how many documents are processed at a time in the training algorithm. Increasing chunksize will speed up training, at least as long as the chunk of documents easily fit into memory. Chunksize can however influence the quality of the model, as discussed in Hoffman and co-authors ([source](https://papers.nips.cc/paper/3902-online-learning-for-latent-dirichlet-allocation.pdf)).\n",
    "\n",
    "<code>passes</code> controls how often we train the model on the entire corpus. Another word for passes might be “epochs”. <code>iterations</code> is somewhat technical, but essentially it controls how often we repeat a particular loop over each document."
   ]
  },
  {
   "cell_type": "markdown",
   "metadata": {},
   "source": [
    "**Optimals number of topics**"
   ]
  },
  {
   "cell_type": "markdown",
   "metadata": {},
   "source": [
    "Finding the optimal number of topics can be done by building many LDA models with different values of number of topics (k) and pick the one that gives the highest coherence value.\n",
    "\n",
    "Choosing a ‘k’ that marks the end of a rapid growth of topic coherence usually offers meaningful and interpretable topics. Picking an even higher value can sometimes provide more granular sub-topics.\n",
    "\n",
    "Seeing the same keywords being repeated in multiple topics, probably indicates that the ‘k’ is too large.\n",
    "\n",
    "The compute_coherence_values() (see below) trains multiple LDA models and provides the models and their corresponding coherence scores."
   ]
  },
  {
   "cell_type": "markdown",
   "metadata": {},
   "source": [
    "**Keyswords and weightage**"
   ]
  },
  {
   "cell_type": "markdown",
   "metadata": {},
   "source": [
    "We will also look at the **keywords** for each topic and the **weightage** (importance) of each keyword using lda_model.print_topics(). The output below show us what the top 10 keywords are that contribute to a topic. The weights reflect how important a keyword is to that topic."
   ]
  },
  {
   "cell_type": "markdown",
   "metadata": {},
   "source": [
    "**Model Perplexity** and **Topic Coherence**"
   ]
  },
  {
   "cell_type": "markdown",
   "metadata": {},
   "source": [
    "Additionally, the **model perplexity** and **topic coherence** are printed. These provide a convenient measure to judge how good a given topic model is."
   ]
  },
  {
   "cell_type": "markdown",
   "metadata": {},
   "source": [
    "**LDA type**"
   ]
  },
  {
   "cell_type": "markdown",
   "metadata": {},
   "source": [
    "We use **parallelized Latent Dirichlet Allocation** which uses multiprocessing to speed up learning ([source](https://radimrehurek.com/gensim/models/ldamulticore.html))."
   ]
  },
  {
   "cell_type": "code",
   "execution_count": 19,
   "metadata": {
    "code_folding": [],
    "scrolled": true
   },
   "outputs": [
    {
     "name": "stdout",
     "output_type": "stream",
     "text": [
      "Start with number of topics: 6\n",
      "Saving the model...\n",
      "\n",
      "Perplexity:  -6.639231954413941\n",
      "Coherence Score:  0.42259311559519963\n",
      "\n",
      "Topic: 0 \n",
      "Words: 0.047*\"card\" + 0.027*\"credit\" + 0.017*\"charg\" + 0.015*\"receiv\" + 0.014*\"call\" + 0.010*\"one\" + 0.009*\"custom\" + 0.009*\"time\" + 0.008*\"told\" + 0.008*\"servic\"\n",
      "\n",
      "Topic: 1 \n",
      "Words: 0.055*\"bank\" + 0.032*\"check\" + 0.020*\"money\" + 0.013*\"fund\" + 0.013*\"deposit\" + 0.012*\"fee\" + 0.012*\"call\" + 0.011*\"day\" + 0.011*\"chase\" + 0.010*\"well\"\n",
      "\n",
      "Topic: 2 \n",
      "Words: 0.012*\"document\" + 0.010*\"request\" + 0.010*\"provid\" + 0.009*\"mortgag\" + 0.009*\"state\" + 0.008*\"inform\" + 0.008*\"servic\" + 0.007*\"complaint\" + 0.007*\"letter\" + 0.007*\"home\"\n",
      "\n",
      "Topic: 3 \n",
      "Words: 0.039*\"call\" + 0.018*\"told\" + 0.013*\"said\" + 0.013*\"back\" + 0.013*\"time\" + 0.012*\"ask\" + 0.011*\"car\" + 0.011*\"compani\" + 0.011*\"n\" + 0.010*\"phone\"\n",
      "\n",
      "Topic: 4 \n",
      "Words: 0.068*\"report\" + 0.067*\"credit\" + 0.023*\"inform\" + 0.021*\"debt\" + 0.016*\"disput\" + 0.015*\"collect\" + 0.015*\"remov\" + 0.012*\"file\" + 0.011*\"letter\" + 0.011*\"agenc\"\n",
      "\n",
      "Topic: 5 \n",
      "Words: 0.066*\"payment\" + 0.051*\"loan\" + 0.020*\"pay\" + 0.017*\"interest\" + 0.016*\"month\" + 0.013*\"late\" + 0.013*\"amount\" + 0.012*\"due\" + 0.012*\"time\" + 0.012*\"paid\"\n",
      "************************************************\n",
      "Start with number of topics: 8\n",
      "Saving the model...\n",
      "\n",
      "Perplexity:  -6.6232119335555435\n",
      "Coherence Score:  0.42744156417486767\n",
      "\n",
      "Topic: 0 \n",
      "Words: 0.066*\"card\" + 0.036*\"credit\" + 0.020*\"charg\" + 0.016*\"receiv\" + 0.013*\"call\" + 0.012*\"one\" + 0.011*\"open\" + 0.010*\"close\" + 0.009*\"time\" + 0.009*\"purchas\"\n",
      "\n",
      "Topic: 1 \n",
      "Words: 0.062*\"bank\" + 0.036*\"check\" + 0.022*\"money\" + 0.015*\"fund\" + 0.014*\"deposit\" + 0.014*\"chase\" + 0.013*\"fee\" + 0.012*\"day\" + 0.012*\"call\" + 0.011*\"transact\"\n",
      "\n",
      "Topic: 2 \n",
      "Words: 0.013*\"provid\" + 0.013*\"inform\" + 0.009*\"servic\" + 0.009*\"complaint\" + 0.008*\"request\" + 0.008*\"paypal\" + 0.008*\"claim\" + 0.007*\"consum\" + 0.007*\"email\" + 0.006*\"document\"\n",
      "\n",
      "Topic: 3 \n",
      "Words: 0.046*\"call\" + 0.022*\"told\" + 0.016*\"said\" + 0.015*\"back\" + 0.015*\"ask\" + 0.014*\"time\" + 0.012*\"phone\" + 0.012*\"n\" + 0.012*\"car\" + 0.011*\"compani\"\n",
      "\n",
      "Topic: 4 \n",
      "Words: 0.076*\"report\" + 0.073*\"credit\" + 0.024*\"inform\" + 0.018*\"disput\" + 0.017*\"remov\" + 0.015*\"debt\" + 0.013*\"collect\" + 0.012*\"letter\" + 0.012*\"request\" + 0.011*\"bureau\"\n",
      "\n",
      "Topic: 5 \n",
      "Words: 0.036*\"loan\" + 0.035*\"mortgag\" + 0.018*\"home\" + 0.013*\"document\" + 0.012*\"request\" + 0.012*\"receiv\" + 0.011*\"tax\" + 0.010*\"properti\" + 0.010*\"modif\" + 0.010*\"letter\"\n",
      "\n",
      "Topic: 6 \n",
      "Words: 0.073*\"payment\" + 0.046*\"loan\" + 0.023*\"pay\" + 0.019*\"interest\" + 0.018*\"month\" + 0.015*\"late\" + 0.013*\"due\" + 0.013*\"amount\" + 0.013*\"paid\" + 0.013*\"balanc\"\n",
      "\n",
      "Topic: 7 \n",
      "Words: 0.034*\"well\" + 0.028*\"fargo\" + 0.026*\"debt\" + 0.015*\"&\" + 0.013*\"collect\" + 0.012*\"year\" + 0.011*\"file\" + 0.010*\"court\" + 0.010*\"name\" + 0.010*\"state\"\n",
      "************************************************\n",
      "Start with number of topics: 10\n",
      "Saving the model...\n",
      "\n",
      "Perplexity:  -6.600104195468867\n",
      "Coherence Score:  0.4531780249703877\n",
      "\n",
      "Topic: 0 \n",
      "Words: 0.085*\"card\" + 0.045*\"credit\" + 0.020*\"charg\" + 0.014*\"one\" + 0.013*\"open\" + 0.013*\"receiv\" + 0.011*\"purchas\" + 0.011*\"close\" + 0.010*\"offer\" + 0.010*\"capit\"\n",
      "\n",
      "Topic: 1 \n",
      "Words: 0.074*\"bank\" + 0.041*\"check\" + 0.029*\"money\" + 0.018*\"fund\" + 0.018*\"chase\" + 0.017*\"deposit\" + 0.012*\"transact\" + 0.012*\"day\" + 0.011*\"fee\" + 0.011*\"america\"\n",
      "\n",
      "Topic: 2 \n",
      "Words: 0.014*\"provid\" + 0.013*\"inform\" + 0.010*\"servic\" + 0.009*\"paypal\" + 0.009*\"complaint\" + 0.008*\"disput\" + 0.008*\"request\" + 0.008*\"claim\" + 0.007*\"transact\" + 0.007*\"consum\"\n",
      "\n",
      "Topic: 3 \n",
      "Words: 0.026*\"car\" + 0.020*\"call\" + 0.016*\"vehicl\" + 0.015*\"compani\" + 0.014*\"told\" + 0.013*\"pay\" + 0.011*\"back\" + 0.011*\"said\" + 0.011*\"time\" + 0.010*\"n\"\n",
      "\n",
      "Topic: 4 \n",
      "Words: 0.077*\"report\" + 0.074*\"credit\" + 0.025*\"debt\" + 0.023*\"inform\" + 0.018*\"collect\" + 0.018*\"disput\" + 0.017*\"remov\" + 0.013*\"agenc\" + 0.012*\"bureau\" + 0.012*\"compani\"\n",
      "\n",
      "Topic: 5 \n",
      "Words: 0.041*\"mortgag\" + 0.027*\"loan\" + 0.020*\"home\" + 0.013*\"properti\" + 0.013*\"document\" + 0.012*\"tax\" + 0.012*\"modif\" + 0.011*\"state\" + 0.010*\"us\" + 0.009*\"insur\"\n",
      "\n",
      "Topic: 6 \n",
      "Words: 0.078*\"loan\" + 0.024*\"payment\" + 0.018*\"pay\" + 0.018*\"year\" + 0.014*\"student\" + 0.014*\"navient\" + 0.014*\"time\" + 0.012*\"month\" + 0.011*\"interest\" + 0.009*\"rate\"\n",
      "\n",
      "Topic: 7 \n",
      "Words: 0.040*\"well\" + 0.031*\"fargo\" + 0.020*\"name\" + 0.018*\"&\" + 0.018*\"fraud\" + 0.014*\"file\" + 0.013*\"number\" + 0.012*\"secur\" + 0.011*\"person\" + 0.009*\"social\"\n",
      "\n",
      "Topic: 8 \n",
      "Words: 0.057*\"call\" + 0.027*\"receiv\" + 0.024*\"told\" + 0.017*\"ask\" + 0.017*\"phone\" + 0.015*\"said\" + 0.015*\"inform\" + 0.014*\"time\" + 0.014*\"back\" + 0.013*\"email\"\n",
      "\n",
      "Topic: 9 \n",
      "Words: 0.098*\"payment\" + 0.029*\"fee\" + 0.027*\"balanc\" + 0.026*\"late\" + 0.026*\"charg\" + 0.024*\"pay\" + 0.023*\"paid\" + 0.022*\"interest\" + 0.022*\"month\" + 0.021*\"amount\"\n",
      "************************************************\n",
      "Start with number of topics: 12\n",
      "Saving the model...\n",
      "\n",
      "Perplexity:  -6.588590549169075\n",
      "Coherence Score:  0.47069913910663413\n",
      "\n",
      "Topic: 0 \n",
      "Words: 0.055*\"card\" + 0.018*\"one\" + 0.017*\"capit\" + 0.016*\"receiv\" + 0.016*\"open\" + 0.015*\"citi\" + 0.015*\"citibank\" + 0.015*\"offer\" + 0.014*\"credit\" + 0.013*\"promot\"\n",
      "\n",
      "Topic: 1 \n",
      "Words: 0.085*\"bank\" + 0.049*\"check\" + 0.026*\"money\" + 0.022*\"fund\" + 0.020*\"deposit\" + 0.014*\"transact\" + 0.014*\"day\" + 0.013*\"america\" + 0.013*\"transfer\" + 0.013*\"chase\"\n",
      "\n",
      "Topic: 2 \n",
      "Words: 0.067*\"credit\" + 0.054*\"card\" + 0.029*\"charg\" + 0.018*\"disput\" + 0.014*\"chase\" + 0.012*\"paypal\" + 0.012*\"purchas\" + 0.011*\"transact\" + 0.010*\"bank\" + 0.008*\"merchant\"\n",
      "\n",
      "Topic: 3 \n",
      "Words: 0.088*\"call\" + 0.030*\"phone\" + 0.024*\"number\" + 0.024*\"told\" + 0.020*\"ask\" + 0.015*\"inform\" + 0.015*\"contact\" + 0.014*\"time\" + 0.013*\"said\" + 0.013*\"back\"\n",
      "\n",
      "Topic: 4 \n",
      "Words: 0.080*\"report\" + 0.069*\"credit\" + 0.026*\"debt\" + 0.024*\"inform\" + 0.019*\"remov\" + 0.019*\"collect\" + 0.019*\"disput\" + 0.014*\"agenc\" + 0.013*\"bureau\" + 0.012*\"file\"\n",
      "\n",
      "Topic: 5 \n",
      "Words: 0.025*\"mortgag\" + 0.013*\"home\" + 0.010*\"state\" + 0.009*\"properti\" + 0.008*\"document\" + 0.008*\"modif\" + 0.008*\"law\" + 0.008*\"tax\" + 0.007*\"us\" + 0.007*\"servic\"\n",
      "\n",
      "Topic: 6 \n",
      "Words: 0.106*\"loan\" + 0.033*\"payment\" + 0.017*\"student\" + 0.017*\"navient\" + 0.017*\"year\" + 0.015*\"pay\" + 0.013*\"interest\" + 0.013*\"time\" + 0.012*\"rate\" + 0.011*\"month\"\n",
      "\n",
      "Topic: 7 \n",
      "Words: 0.047*\"well\" + 0.038*\"fargo\" + 0.033*\"fraud\" + 0.021*\"&\" + 0.021*\"name\" + 0.017*\"secur\" + 0.017*\"fraudul\" + 0.015*\"inform\" + 0.015*\"number\" + 0.014*\"report\"\n",
      "\n",
      "Topic: 8 \n",
      "Words: 0.043*\"receiv\" + 0.028*\"letter\" + 0.025*\"sent\" + 0.022*\"request\" + 0.020*\"email\" + 0.017*\"inform\" + 0.017*\"call\" + 0.015*\"mail\" + 0.015*\"state\" + 0.014*\"document\"\n",
      "\n",
      "Topic: 9 \n",
      "Words: 0.095*\"payment\" + 0.034*\"fee\" + 0.030*\"balanc\" + 0.030*\"charg\" + 0.026*\"pay\" + 0.025*\"late\" + 0.024*\"paid\" + 0.024*\"interest\" + 0.023*\"month\" + 0.022*\"amount\"\n",
      "\n",
      "Topic: 10 \n",
      "Words: 0.024*\"n\" + 0.020*\"told\" + 0.019*\"call\" + 0.019*\"said\" + 0.018*\"money\" + 0.017*\"back\" + 0.016*\"pay\" + 0.014*\"time\" + 0.012*\"help\" + 0.011*\"never\"\n",
      "\n",
      "Topic: 11 \n",
      "Words: 0.060*\"car\" + 0.036*\"vehicl\" + 0.032*\"payment\" + 0.021*\"financ\" + 0.018*\"loan\" + 0.018*\"credit\" + 0.016*\"leas\" + 0.014*\"insur\" + 0.013*\"financi\" + 0.013*\"day\"\n",
      "************************************************\n",
      "Start with number of topics: 14\n",
      "Saving the model...\n",
      "\n",
      "Perplexity:  -6.577042596147091\n",
      "Coherence Score:  0.47605688090808246\n",
      "\n",
      "Topic: 0 \n",
      "Words: 0.083*\"card\" + 0.035*\"credit\" + 0.024*\"charg\" + 0.013*\"one\" + 0.013*\"receiv\" + 0.013*\"purchas\" + 0.012*\"open\" + 0.011*\"offer\" + 0.011*\"citi\" + 0.010*\"citibank\"\n",
      "\n",
      "Topic: 1 \n",
      "Words: 0.063*\"bank\" + 0.052*\"check\" + 0.028*\"money\" + 0.024*\"chase\" + 0.023*\"fund\" + 0.023*\"deposit\" + 0.018*\"transact\" + 0.015*\"fee\" + 0.014*\"day\" + 0.013*\"transfer\"\n",
      "\n",
      "Topic: 2 \n",
      "Words: 0.032*\"inform\" + 0.026*\"credit\" + 0.026*\"report\" + 0.023*\"fraud\" + 0.022*\"inquiri\" + 0.020*\"paypal\" + 0.019*\"ident\" + 0.019*\"consum\" + 0.017*\"fraudul\" + 0.016*\"theft\"\n",
      "\n",
      "Topic: 3 \n",
      "Words: 0.087*\"call\" + 0.031*\"told\" + 0.029*\"phone\" + 0.024*\"number\" + 0.022*\"ask\" + 0.017*\"said\" + 0.016*\"inform\" + 0.016*\"back\" + 0.014*\"time\" + 0.014*\"contact\"\n",
      "\n",
      "Topic: 4 \n",
      "Words: 0.117*\"credit\" + 0.105*\"report\" + 0.027*\"remov\" + 0.027*\"disput\" + 0.023*\"inform\" + 0.017*\"bureau\" + 0.013*\"score\" + 0.012*\"compani\" + 0.011*\"file\" + 0.011*\"equifax\"\n",
      "\n",
      "Topic: 5 \n",
      "Words: 0.027*\"mortgag\" + 0.015*\"home\" + 0.011*\"servic\" + 0.010*\"properti\" + 0.009*\"modif\" + 0.008*\"sale\" + 0.007*\"financi\" + 0.007*\"complaint\" + 0.007*\"us\" + 0.007*\"foreclosur\"\n",
      "\n",
      "Topic: 6 \n",
      "Words: 0.114*\"loan\" + 0.029*\"payment\" + 0.021*\"student\" + 0.021*\"navient\" + 0.017*\"year\" + 0.014*\"pay\" + 0.013*\"time\" + 0.012*\"incom\" + 0.012*\"repay\" + 0.011*\"plan\"\n",
      "\n",
      "Topic: 7 \n",
      "Words: 0.055*\"debt\" + 0.032*\"collect\" + 0.016*\"law\" + 0.014*\"court\" + 0.013*\"state\" + 0.013*\"file\" + 0.012*\"valid\" + 0.011*\"violat\" + 0.011*\"bankruptci\" + 0.011*\"claim\"\n",
      "\n",
      "Topic: 8 \n",
      "Words: 0.049*\"receiv\" + 0.035*\"letter\" + 0.032*\"sent\" + 0.026*\"request\" + 0.024*\"email\" + 0.019*\"document\" + 0.019*\"mail\" + 0.018*\"state\" + 0.017*\"inform\" + 0.014*\"send\"\n",
      "\n",
      "Topic: 9 \n",
      "Words: 0.050*\"interest\" + 0.040*\"balanc\" + 0.037*\"charg\" + 0.036*\"fee\" + 0.031*\"amount\" + 0.030*\"loan\" + 0.026*\"pay\" + 0.026*\"payment\" + 0.026*\"paid\" + 0.022*\"rate\"\n",
      "\n",
      "Topic: 10 \n",
      "Words: 0.024*\"n\" + 0.018*\"money\" + 0.017*\"pay\" + 0.016*\"told\" + 0.016*\"call\" + 0.016*\"said\" + 0.015*\"back\" + 0.013*\"time\" + 0.013*\"help\" + 0.012*\"never\"\n",
      "\n",
      "Topic: 11 \n",
      "Words: 0.158*\"payment\" + 0.044*\"late\" + 0.030*\"due\" + 0.025*\"made\" + 0.022*\"month\" + 0.019*\"day\" + 0.019*\"pay\" + 0.016*\"time\" + 0.016*\"bill\" + 0.014*\"credit\"\n",
      "\n",
      "Topic: 12 \n",
      "Words: 0.107*\"bank\" + 0.063*\"well\" + 0.050*\"fargo\" + 0.031*\"america\" + 0.030*\"&\" + 0.021*\"us\" + 0.020*\"close\" + 0.013*\"usaa\" + 0.012*\"boa\" + 0.010*\"open\"\n",
      "\n",
      "Topic: 13 \n",
      "Words: 0.064*\"car\" + 0.038*\"vehicl\" + 0.022*\"financ\" + 0.022*\"insur\" + 0.017*\"leas\" + 0.015*\"loan\" + 0.014*\"purchas\" + 0.012*\"financi\" + 0.011*\"titl\" + 0.011*\"compani\"\n",
      "************************************************\n",
      "Start with number of topics: 16\n"
     ]
    },
    {
     "name": "stdout",
     "output_type": "stream",
     "text": [
      "Saving the model...\n",
      "\n",
      "Perplexity:  -6.568218492129259\n",
      "Coherence Score:  0.47365332031310975\n",
      "\n",
      "Topic: 0 \n",
      "Words: 0.104*\"card\" + 0.037*\"credit\" + 0.017*\"one\" + 0.016*\"charg\" + 0.015*\"open\" + 0.015*\"capit\" + 0.015*\"receiv\" + 0.014*\"offer\" + 0.014*\"citi\" + 0.013*\"citibank\"\n",
      "\n",
      "Topic: 1 \n",
      "Words: 0.098*\"bank\" + 0.057*\"check\" + 0.026*\"chase\" + 0.024*\"deposit\" + 0.020*\"fund\" + 0.017*\"money\" + 0.015*\"america\" + 0.014*\"fee\" + 0.013*\"branch\" + 0.013*\"day\"\n",
      "\n",
      "Topic: 2 \n",
      "Words: 0.156*\"credit\" + 0.060*\"report\" + 0.029*\"inquiri\" + 0.028*\"inform\" + 0.027*\"score\" + 0.022*\"consum\" + 0.012*\"remov\" + 0.012*\"author\" + 0.010*\"request\" + 0.009*\"agenc\"\n",
      "\n",
      "Topic: 3 \n",
      "Words: 0.094*\"call\" + 0.032*\"told\" + 0.029*\"phone\" + 0.023*\"ask\" + 0.022*\"number\" + 0.017*\"said\" + 0.016*\"back\" + 0.015*\"inform\" + 0.015*\"time\" + 0.015*\"contact\"\n",
      "\n",
      "Topic: 4 \n",
      "Words: 0.077*\"report\" + 0.061*\"credit\" + 0.036*\"debt\" + 0.030*\"disput\" + 0.027*\"collect\" + 0.021*\"remov\" + 0.021*\"inform\" + 0.014*\"agenc\" + 0.014*\"compani\" + 0.013*\"bureau\"\n",
      "\n",
      "Topic: 5 \n",
      "Words: 0.011*\"consum\" + 0.011*\"complaint\" + 0.010*\"law\" + 0.010*\"state\" + 0.010*\"servic\" + 0.009*\"provid\" + 0.008*\"violat\" + 0.008*\"feder\" + 0.008*\"practic\" + 0.008*\"action\"\n",
      "\n",
      "Topic: 6 \n",
      "Words: 0.113*\"loan\" + 0.028*\"payment\" + 0.020*\"student\" + 0.020*\"navient\" + 0.017*\"year\" + 0.015*\"pay\" + 0.013*\"time\" + 0.013*\"incom\" + 0.011*\"repay\" + 0.010*\"plan\"\n",
      "\n",
      "Topic: 7 \n",
      "Words: 0.031*\"name\" + 0.028*\"file\" + 0.022*\"inform\" + 0.022*\"fraud\" + 0.020*\"secur\" + 0.020*\"address\" + 0.019*\"number\" + 0.018*\"court\" + 0.017*\"bankruptci\" + 0.017*\"report\"\n",
      "\n",
      "Topic: 8 \n",
      "Words: 0.051*\"receiv\" + 0.037*\"letter\" + 0.030*\"sent\" + 0.027*\"request\" + 0.022*\"email\" + 0.021*\"mail\" + 0.020*\"document\" + 0.019*\"inform\" + 0.019*\"state\" + 0.013*\"send\"\n",
      "\n",
      "Topic: 9 \n",
      "Words: 0.051*\"interest\" + 0.050*\"charg\" + 0.047*\"fee\" + 0.045*\"balanc\" + 0.034*\"amount\" + 0.029*\"pay\" + 0.027*\"paid\" + 0.024*\"payment\" + 0.022*\"rate\" + 0.019*\"loan\"\n",
      "\n",
      "Topic: 10 \n",
      "Words: 0.027*\"n\" + 0.019*\"money\" + 0.018*\"said\" + 0.018*\"call\" + 0.017*\"told\" + 0.017*\"pay\" + 0.015*\"back\" + 0.014*\"time\" + 0.013*\"help\" + 0.012*\"never\"\n",
      "\n",
      "Topic: 11 \n",
      "Words: 0.169*\"payment\" + 0.046*\"late\" + 0.032*\"due\" + 0.026*\"made\" + 0.022*\"month\" + 0.020*\"day\" + 0.017*\"time\" + 0.017*\"pay\" + 0.017*\"credit\" + 0.013*\"date\"\n",
      "\n",
      "Topic: 12 \n",
      "Words: 0.060*\"mortgag\" + 0.049*\"well\" + 0.044*\"fargo\" + 0.031*\"home\" + 0.022*\"&\" + 0.017*\"modif\" + 0.017*\"us\" + 0.016*\"properti\" + 0.015*\"bank\" + 0.013*\"tax\"\n",
      "\n",
      "Topic: 13 \n",
      "Words: 0.049*\"insur\" + 0.027*\"leas\" + 0.020*\"financi\" + 0.017*\"financ\" + 0.017*\"vehicl\" + 0.016*\"alli\" + 0.015*\"contract\" + 0.013*\"car\" + 0.012*\"purchas\" + 0.011*\"return\"\n",
      "\n",
      "Topic: 14 \n",
      "Words: 0.023*\"transact\" + 0.019*\"money\" + 0.016*\"disput\" + 0.015*\"paypal\" + 0.014*\"transfer\" + 0.014*\"email\" + 0.012*\"claim\" + 0.011*\"charg\" + 0.011*\"refund\" + 0.010*\"bank\"\n",
      "\n",
      "Topic: 15 \n",
      "Words: 0.070*\"car\" + 0.038*\"loan\" + 0.034*\"vehicl\" + 0.017*\"titl\" + 0.016*\"financ\" + 0.015*\"compani\" + 0.013*\"pay\" + 0.012*\"purchas\" + 0.012*\"santand\" + 0.011*\"repossess\"\n",
      "************************************************\n",
      "Start with number of topics: 18\n",
      "Saving the model...\n",
      "\n",
      "Perplexity:  -6.5659478765751365\n",
      "Coherence Score:  0.4743348067021977\n",
      "\n",
      "Topic: 0 \n",
      "Words: 0.106*\"card\" + 0.031*\"credit\" + 0.016*\"offer\" + 0.016*\"open\" + 0.016*\"citi\" + 0.015*\"citibank\" + 0.015*\"receiv\" + 0.013*\"promot\" + 0.012*\"bonu\" + 0.011*\"custom\"\n",
      "\n",
      "Topic: 1 \n",
      "Words: 0.097*\"bank\" + 0.058*\"check\" + 0.026*\"chase\" + 0.025*\"deposit\" + 0.020*\"fund\" + 0.019*\"fee\" + 0.017*\"money\" + 0.014*\"america\" + 0.014*\"charg\" + 0.014*\"branch\"\n",
      "\n",
      "Topic: 2 \n",
      "Words: 0.048*\"inform\" + 0.041*\"consum\" + 0.017*\"report\" + 0.016*\"provid\" + 0.013*\"person\" + 0.012*\"applic\" + 0.011*\"request\" + 0.011*\"agenc\" + 0.011*\"block\" + 0.010*\"b\"\n",
      "\n",
      "Topic: 3 \n",
      "Words: 0.096*\"call\" + 0.033*\"told\" + 0.030*\"phone\" + 0.024*\"number\" + 0.023*\"ask\" + 0.018*\"said\" + 0.017*\"inform\" + 0.017*\"back\" + 0.015*\"time\" + 0.014*\"spoke\"\n",
      "\n",
      "Topic: 4 \n",
      "Words: 0.052*\"report\" + 0.033*\"disput\" + 0.028*\"credit\" + 0.025*\"inform\" + 0.018*\"request\" + 0.017*\"verifi\" + 0.016*\"valid\" + 0.016*\"provid\" + 0.015*\"file\" + 0.014*\"debt\"\n",
      "\n",
      "Topic: 5 \n",
      "Words: 0.012*\"complaint\" + 0.012*\"state\" + 0.012*\"servic\" + 0.011*\"law\" + 0.010*\"financi\" + 0.009*\"practic\" + 0.009*\"feder\" + 0.009*\"action\" + 0.008*\"compani\" + 0.008*\"violat\"\n",
      "\n",
      "Topic: 6 \n",
      "Words: 0.111*\"loan\" + 0.026*\"payment\" + 0.022*\"student\" + 0.022*\"navient\" + 0.017*\"year\" + 0.014*\"time\" + 0.013*\"incom\" + 0.013*\"pay\" + 0.012*\"repay\" + 0.011*\"plan\"\n",
      "\n",
      "Topic: 7 \n",
      "Words: 0.034*\"one\" + 0.033*\"capit\" + 0.031*\"name\" + 0.024*\"file\" + 0.022*\"secur\" + 0.021*\"bankruptci\" + 0.019*\"court\" + 0.017*\"number\" + 0.017*\"social\" + 0.016*\"address\"\n",
      "\n",
      "Topic: 8 \n",
      "Words: 0.054*\"receiv\" + 0.039*\"letter\" + 0.032*\"sent\" + 0.026*\"request\" + 0.023*\"email\" + 0.021*\"mail\" + 0.020*\"state\" + 0.019*\"document\" + 0.017*\"inform\" + 0.014*\"send\"\n",
      "\n",
      "Topic: 9 \n",
      "Words: 0.061*\"interest\" + 0.040*\"charg\" + 0.040*\"balanc\" + 0.036*\"amount\" + 0.034*\"fee\" + 0.031*\"loan\" + 0.029*\"pay\" + 0.028*\"rate\" + 0.025*\"payment\" + 0.024*\"paid\"\n",
      "\n",
      "Topic: 10 \n",
      "Words: 0.027*\"n\" + 0.020*\"money\" + 0.018*\"said\" + 0.018*\"told\" + 0.018*\"call\" + 0.016*\"pay\" + 0.015*\"back\" + 0.013*\"time\" + 0.013*\"help\" + 0.011*\"ask\"\n",
      "\n",
      "Topic: 11 \n",
      "Words: 0.176*\"payment\" + 0.039*\"late\" + 0.030*\"due\" + 0.026*\"made\" + 0.024*\"month\" + 0.022*\"pay\" + 0.018*\"day\" + 0.015*\"time\" + 0.015*\"bill\" + 0.014*\"fee\"\n",
      "\n",
      "Topic: 12 \n",
      "Words: 0.061*\"mortgag\" + 0.053*\"well\" + 0.046*\"fargo\" + 0.030*\"home\" + 0.025*\"&\" + 0.021*\"bank\" + 0.020*\"us\" + 0.017*\"modif\" + 0.015*\"properti\" + 0.013*\"escrow\"\n",
      "\n",
      "Topic: 13 \n",
      "Words: 0.043*\"insur\" + 0.024*\"leas\" + 0.019*\"vehicl\" + 0.017*\"contract\" + 0.016*\"financi\" + 0.015*\"purchas\" + 0.015*\"alli\" + 0.015*\"financ\" + 0.013*\"car\" + 0.010*\"return\"\n",
      "\n",
      "Topic: 14 \n",
      "Words: 0.024*\"transact\" + 0.020*\"money\" + 0.020*\"charg\" + 0.015*\"paypal\" + 0.015*\"fraud\" + 0.015*\"claim\" + 0.015*\"disput\" + 0.013*\"transfer\" + 0.012*\"email\" + 0.012*\"bank\"\n",
      "\n",
      "Topic: 15 \n",
      "Words: 0.075*\"car\" + 0.054*\"loan\" + 0.033*\"vehicl\" + 0.018*\"compani\" + 0.018*\"financ\" + 0.018*\"pay\" + 0.018*\"titl\" + 0.016*\"payment\" + 0.014*\"paid\" + 0.013*\"santand\"\n",
      "\n",
      "Topic: 16 \n",
      "Words: 0.083*\"credit\" + 0.075*\"debt\" + 0.062*\"collect\" + 0.053*\"report\" + 0.037*\"compani\" + 0.031*\"remov\" + 0.031*\"inquiri\" + 0.024*\"agenc\" + 0.018*\"owe\" + 0.015*\"contact\"\n",
      "\n",
      "Topic: 17 \n",
      "Words: 0.160*\"credit\" + 0.083*\"report\" + 0.023*\"score\" + 0.018*\"card\" + 0.018*\"balanc\" + 0.018*\"close\" + 0.015*\"bureau\" + 0.014*\"paid\" + 0.013*\"show\" + 0.012*\"charg\"\n",
      "************************************************\n",
      "Start with number of topics: 20\n",
      "Saving the model...\n",
      "\n",
      "Perplexity:  -6.557323916548349\n",
      "Coherence Score:  0.46491417399573487\n",
      "\n",
      "Topic: 0 \n",
      "Words: 0.084*\"card\" + 0.021*\"offer\" + 0.021*\"citi\" + 0.020*\"citibank\" + 0.018*\"open\" + 0.017*\"receiv\" + 0.017*\"promot\" + 0.015*\"bonu\" + 0.014*\"credit\" + 0.013*\"american\"\n",
      "\n",
      "Topic: 1 \n",
      "Words: 0.107*\"bank\" + 0.068*\"check\" + 0.032*\"chase\" + 0.029*\"deposit\" + 0.025*\"fund\" + 0.021*\"money\" + 0.018*\"america\" + 0.016*\"branch\" + 0.014*\"day\" + 0.013*\"close\"\n",
      "\n",
      "Topic: 2 \n",
      "Words: 0.040*\"inform\" + 0.031*\"consum\" + 0.020*\"provid\" + 0.013*\"request\" + 0.011*\"servic\" + 0.010*\"access\" + 0.009*\"block\" + 0.009*\"person\" + 0.008*\"complaint\" + 0.008*\"applic\"\n",
      "\n",
      "Topic: 3 \n",
      "Words: 0.099*\"call\" + 0.033*\"phone\" + 0.028*\"told\" + 0.026*\"number\" + 0.022*\"ask\" + 0.017*\"time\" + 0.016*\"inform\" + 0.015*\"contact\" + 0.015*\"back\" + 0.014*\"repres\"\n",
      "\n",
      "Topic: 4 \n",
      "Words: 0.051*\"letter\" + 0.050*\"debt\" + 0.041*\"collect\" + 0.032*\"sent\" + 0.031*\"compani\" + 0.029*\"receiv\" + 0.019*\"never\" + 0.018*\"owe\" + 0.016*\"bill\" + 0.015*\"proof\"\n",
      "\n",
      "Topic: 5 \n",
      "Words: 0.117*\"one\" + 0.099*\"capit\" + 0.064*\"tax\" + 0.037*\"titl\" + 0.028*\"lien\" + 0.027*\"releas\" + 0.021*\"state\" + 0.019*\"loan\" + 0.018*\"feder\" + 0.017*\"paid\"\n",
      "\n",
      "Topic: 6 \n",
      "Words: 0.096*\"loan\" + 0.025*\"student\" + 0.024*\"navient\" + 0.021*\"payment\" + 0.018*\"year\" + 0.015*\"incom\" + 0.014*\"pay\" + 0.013*\"repay\" + 0.013*\"time\" + 0.013*\"plan\"\n",
      "\n",
      "Topic: 7 \n",
      "Words: 0.041*\"fraud\" + 0.029*\"name\" + 0.023*\"secur\" + 0.022*\"number\" + 0.022*\"bank\" + 0.020*\"fraudul\" + 0.016*\"person\" + 0.015*\"social\" + 0.015*\"polic\" + 0.014*\"inform\"\n",
      "\n",
      "Topic: 8 \n",
      "Words: 0.053*\"receiv\" + 0.031*\"email\" + 0.027*\"request\" + 0.025*\"sent\" + 0.021*\"letter\" + 0.021*\"call\" + 0.020*\"mail\" + 0.018*\"inform\" + 0.018*\"day\" + 0.017*\"state\"\n",
      "\n",
      "Topic: 9 \n",
      "Words: 0.087*\"loan\" + 0.062*\"interest\" + 0.035*\"payment\" + 0.034*\"rate\" + 0.030*\"amount\" + 0.024*\"pay\" + 0.023*\"balanc\" + 0.018*\"paid\" + 0.016*\"month\" + 0.016*\"appli\"\n",
      "\n",
      "Topic: 10 \n",
      "Words: 0.032*\"n\" + 0.027*\"said\" + 0.026*\"told\" + 0.026*\"call\" + 0.021*\"money\" + 0.019*\"back\" + 0.015*\"ask\" + 0.013*\"pay\" + 0.013*\"time\" + 0.012*\"got\"\n",
      "\n",
      "Topic: 11 \n",
      "Words: 0.191*\"payment\" + 0.046*\"late\" + 0.034*\"due\" + 0.028*\"made\" + 0.026*\"month\" + 0.020*\"pay\" + 0.019*\"day\" + 0.016*\"time\" + 0.015*\"date\" + 0.014*\"paid\"\n",
      "\n",
      "Topic: 12 \n",
      "Words: 0.046*\"mortgag\" + 0.041*\"well\" + 0.037*\"fargo\" + 0.025*\"home\" + 0.018*\"&\" + 0.017*\"us\" + 0.015*\"modif\" + 0.014*\"properti\" + 0.012*\"bank\" + 0.010*\"sale\"\n",
      "\n",
      "Topic: 13 \n",
      "Words: 0.046*\"vehicl\" + 0.041*\"car\" + 0.037*\"insur\" + 0.031*\"financ\" + 0.024*\"leas\" + 0.018*\"purchas\" + 0.018*\"financi\" + 0.016*\"contract\" + 0.015*\"alli\" + 0.013*\"dealership\"\n",
      "\n",
      "Topic: 14 \n",
      "Words: 0.030*\"transact\" + 0.021*\"money\" + 0.021*\"paypal\" + 0.020*\"disput\" + 0.014*\"transfer\" + 0.014*\"email\" + 0.013*\"merchant\" + 0.013*\"claim\" + 0.012*\"refund\" + 0.012*\"purchas\"\n",
      "\n",
      "Topic: 15 \n",
      "Words: 0.031*\"car\" + 0.027*\"pay\" + 0.022*\"compani\" + 0.016*\"work\" + 0.014*\"time\" + 0.014*\"loan\" + 0.013*\"paid\" + 0.013*\"year\" + 0.011*\"month\" + 0.010*\"back\"\n",
      "\n",
      "Topic: 16 \n",
      "Words: 0.221*\"credit\" + 0.067*\"card\" + 0.040*\"report\" + 0.031*\"score\" + 0.027*\"inquiri\" + 0.015*\"close\" + 0.012*\"compani\" + 0.012*\"limit\" + 0.011*\"never\" + 0.011*\"appli\"\n",
      "\n",
      "Topic: 17 \n",
      "Words: 0.116*\"charg\" + 0.092*\"fee\" + 0.034*\"balanc\" + 0.021*\"card\" + 0.019*\"overdraft\" + 0.016*\"bank\" + 0.016*\"bill\" + 0.015*\"pay\" + 0.014*\"statement\" + 0.013*\"paid\"\n",
      "\n",
      "Topic: 18 \n",
      "Words: 0.026*\"debt\" + 0.022*\"law\" + 0.017*\"violat\" + 0.014*\"collect\" + 0.013*\"court\" + 0.013*\"act\" + 0.013*\"state\" + 0.013*\"legal\" + 0.010*\"claim\" + 0.010*\"action\"\n",
      "\n",
      "Topic: 19 \n",
      "Words: 0.123*\"report\" + 0.076*\"credit\" + 0.031*\"inform\" + 0.031*\"disput\" + 0.030*\"remov\" + 0.019*\"file\" + 0.019*\"bureau\" + 0.016*\"equifax\" + 0.013*\"verifi\" + 0.013*\"experian\"\n",
      "************************************************\n",
      "Start with number of topics: 22\n"
     ]
    },
    {
     "name": "stdout",
     "output_type": "stream",
     "text": [
      "Saving the model...\n",
      "\n",
      "Perplexity:  -6.557386798032939\n",
      "Coherence Score:  0.46580173649610795\n",
      "\n",
      "Topic: 0 \n",
      "Words: 0.078*\"card\" + 0.016*\"american\" + 0.016*\"express\" + 0.015*\"access\" + 0.015*\"custom\" + 0.013*\"servic\" + 0.013*\"issu\" + 0.013*\"onlin\" + 0.012*\"email\" + 0.010*\"time\"\n",
      "\n",
      "Topic: 1 \n",
      "Words: 0.082*\"check\" + 0.066*\"bank\" + 0.037*\"money\" + 0.037*\"chase\" + 0.033*\"fund\" + 0.033*\"deposit\" + 0.020*\"day\" + 0.019*\"transfer\" + 0.014*\"branch\" + 0.013*\"cash\"\n",
      "\n",
      "Topic: 2 \n",
      "Words: 0.036*\"offer\" + 0.029*\"citibank\" + 0.029*\"citi\" + 0.027*\"open\" + 0.025*\"promot\" + 0.023*\"bonu\" + 0.020*\"receiv\" + 0.018*\"requir\" + 0.017*\"point\" + 0.015*\"card\"\n",
      "\n",
      "Topic: 3 \n",
      "Words: 0.098*\"call\" + 0.040*\"phone\" + 0.032*\"number\" + 0.020*\"contact\" + 0.018*\"inform\" + 0.017*\"time\" + 0.017*\"ask\" + 0.016*\"repres\" + 0.016*\"told\" + 0.013*\"receiv\"\n",
      "\n",
      "Topic: 4 \n",
      "Words: 0.042*\"report\" + 0.028*\"debt\" + 0.027*\"compani\" + 0.025*\"fraudul\" + 0.024*\"fraud\" + 0.023*\"ident\" + 0.022*\"letter\" + 0.022*\"address\" + 0.022*\"collect\" + 0.021*\"theft\"\n",
      "\n",
      "Topic: 5 \n",
      "Words: 0.068*\"loan\" + 0.044*\"tax\" + 0.031*\"state\" + 0.024*\"paid\" + 0.024*\"titl\" + 0.019*\"compani\" + 0.019*\"releas\" + 0.019*\"husband\" + 0.018*\"lien\" + 0.016*\"feder\"\n",
      "\n",
      "Topic: 6 \n",
      "Words: 0.092*\"loan\" + 0.028*\"payment\" + 0.026*\"student\" + 0.025*\"navient\" + 0.018*\"year\" + 0.016*\"pay\" + 0.014*\"repay\" + 0.014*\"incom\" + 0.013*\"plan\" + 0.013*\"time\"\n",
      "\n",
      "Topic: 7 \n",
      "Words: 0.064*\"one\" + 0.052*\"secur\" + 0.050*\"capit\" + 0.035*\"inform\" + 0.033*\"number\" + 0.033*\"name\" + 0.026*\"social\" + 0.025*\"person\" + 0.015*\"address\" + 0.014*\"td\"\n",
      "\n",
      "Topic: 8 \n",
      "Words: 0.049*\"receiv\" + 0.035*\"letter\" + 0.034*\"request\" + 0.025*\"sent\" + 0.024*\"email\" + 0.022*\"inform\" + 0.022*\"document\" + 0.019*\"mail\" + 0.017*\"state\" + 0.016*\"provid\"\n",
      "\n",
      "Topic: 9 \n",
      "Words: 0.092*\"loan\" + 0.063*\"interest\" + 0.040*\"rate\" + 0.024*\"amount\" + 0.021*\"payment\" + 0.017*\"pay\" + 0.014*\"balanc\" + 0.014*\"princip\" + 0.013*\"appli\" + 0.012*\"year\"\n",
      "\n",
      "Topic: 10 \n",
      "Words: 0.020*\"money\" + 0.017*\"pay\" + 0.016*\"help\" + 0.015*\"time\" + 0.013*\"like\" + 0.012*\"work\" + 0.011*\"n\" + 0.011*\"tri\" + 0.010*\"year\" + 0.010*\"peopl\"\n",
      "\n",
      "Topic: 11 \n",
      "Words: 0.066*\"mortgag\" + 0.045*\"home\" + 0.022*\"properti\" + 0.019*\"modif\" + 0.017*\"hous\" + 0.016*\"sale\" + 0.015*\"foreclosur\" + 0.015*\"us\" + 0.009*\"time\" + 0.008*\"file\"\n",
      "\n",
      "Topic: 12 \n",
      "Words: 0.107*\"bank\" + 0.026*\"america\" + 0.021*\"&\" + 0.019*\"us\" + 0.012*\"complaint\" + 0.011*\"custom\" + 0.011*\"close\" + 0.009*\"usaa\" + 0.008*\"boa\" + 0.008*\"pnc\"\n",
      "\n",
      "Topic: 13 \n",
      "Words: 0.061*\"insur\" + 0.039*\"financ\" + 0.034*\"leas\" + 0.028*\"financi\" + 0.026*\"contract\" + 0.021*\"alli\" + 0.016*\"vehicl\" + 0.014*\"auto\" + 0.013*\"paid\" + 0.012*\"compani\"\n",
      "\n",
      "Topic: 14 \n",
      "Words: 0.035*\"transact\" + 0.032*\"disput\" + 0.029*\"claim\" + 0.028*\"charg\" + 0.023*\"paypal\" + 0.019*\"refund\" + 0.018*\"card\" + 0.016*\"purchas\" + 0.015*\"merchant\" + 0.015*\"fraud\"\n",
      "\n",
      "Topic: 15 \n",
      "Words: 0.097*\"car\" + 0.048*\"vehicl\" + 0.016*\"loan\" + 0.015*\"santand\" + 0.015*\"repossess\" + 0.014*\"purchas\" + 0.012*\"payment\" + 0.011*\"financ\" + 0.011*\"pay\" + 0.010*\"dealership\"\n",
      "\n",
      "Topic: 16 \n",
      "Words: 0.228*\"credit\" + 0.090*\"card\" + 0.031*\"report\" + 0.031*\"score\" + 0.029*\"inquiri\" + 0.016*\"close\" + 0.012*\"appli\" + 0.012*\"limit\" + 0.011*\"compani\" + 0.011*\"never\"\n",
      "\n",
      "Topic: 17 \n",
      "Words: 0.106*\"charg\" + 0.100*\"fee\" + 0.048*\"well\" + 0.042*\"fargo\" + 0.036*\"balanc\" + 0.022*\"overdraft\" + 0.013*\"card\" + 0.013*\"pay\" + 0.012*\"close\" + 0.012*\"interest\"\n",
      "\n",
      "Topic: 18 \n",
      "Words: 0.039*\"debt\" + 0.025*\"consum\" + 0.020*\"collect\" + 0.019*\"law\" + 0.016*\"violat\" + 0.013*\"act\" + 0.013*\"inform\" + 0.011*\"agenc\" + 0.011*\"provid\" + 0.010*\"legal\"\n",
      "\n",
      "Topic: 19 \n",
      "Words: 0.115*\"report\" + 0.079*\"credit\" + 0.031*\"disput\" + 0.029*\"remov\" + 0.029*\"inform\" + 0.019*\"bureau\" + 0.017*\"file\" + 0.016*\"equifax\" + 0.012*\"experian\" + 0.012*\"agenc\"\n",
      "\n",
      "Topic: 20 \n",
      "Words: 0.175*\"payment\" + 0.040*\"late\" + 0.032*\"due\" + 0.026*\"made\" + 0.024*\"month\" + 0.023*\"pay\" + 0.017*\"paid\" + 0.016*\"day\" + 0.015*\"date\" + 0.015*\"statement\"\n",
      "\n",
      "Topic: 21 \n",
      "Words: 0.059*\"call\" + 0.052*\"told\" + 0.043*\"said\" + 0.033*\"n\" + 0.026*\"back\" + 0.026*\"ask\" + 0.014*\"pay\" + 0.013*\"never\" + 0.012*\"time\" + 0.012*\"got\"\n",
      "************************************************\n"
     ]
    }
   ],
   "source": [
    "from gensim import corpora, models\n",
    "from gensim.models import CoherenceModel\n",
    "\n",
    "# Training parameters\n",
    "alpha = 0.1\n",
    "eta = 0.1\n",
    "#alpha = 'auto'\n",
    "#eta = 'auto'\n",
    "chunksize = 2000\n",
    "iterations = 69\n",
    "passes = 20\n",
    "\n",
    "######################\n",
    "# function that produces LDA models & computes coherence values\n",
    "def compute_coherence_values(dictionary, corpus, texts, limit, start=2, step=2):\n",
    "    \"\"\"\n",
    "    Compute c_v coherence for various number of topics\n",
    "\n",
    "    Parameters:\n",
    "    ----------\n",
    "    dictionary : Gensim dictionary\n",
    "    corpus : Gensim corpus\n",
    "    texts : List of input texts\n",
    "    limit : Max num of topics\n",
    "\n",
    "    Returns:\n",
    "    -------\n",
    "    model_list : List of LDA topic models\n",
    "    coherence_values : Coherence values corresponding to the LDA model with respective number of topics\n",
    "    \"\"\"\n",
    "    coherence_values = []\n",
    "    model_list = []\n",
    "    \n",
    "    # Run model for different values for number of topics\n",
    "    for num_topics in range(start, limit, step):\n",
    "        print(\"Start with number of topics:\", num_topics)\n",
    "        # train\n",
    "        lda_model = models.LdaMulticore(\n",
    "                    corpus = corpus,\n",
    "                    id2word = dictionary,\n",
    "                    num_topics = num_topics, \n",
    "                    passes = passes,\n",
    "                    iterations = iterations,\n",
    "                    alpha = alpha, \n",
    "                    eta = eta,\n",
    "                    random_state = 42\n",
    "                   )\n",
    "        # append to list of models\n",
    "        model_list.append(lda_model)\n",
    "        # save the trained model\n",
    "        print(\"Saving the model...\")\n",
    "        lda_model.save(\"models/v1/lda_model_\" + str(num_topics) + \"topics\")\n",
    "        # Compute Perplexity\n",
    "        print('\\nPerplexity: ', lda_model.log_perplexity(corpus))  # a measure of how good the model is. lower the better.\n",
    "        # Compute Coherence\n",
    "        coherence_model_lda = CoherenceModel(model=lda_model, texts=texts, dictionary=dictionary, coherence='c_v')\n",
    "        coherence_values.append(coherence_model_lda.get_coherence())\n",
    "        print('Coherence Score: ', coherence_model_lda.get_coherence())\n",
    "        # Print the 10 most prominent topics for a given model\n",
    "        for idx, topic in lda_model.print_topics(-1):\n",
    "            print('\\nTopic: {} \\nWords: {}'.format(idx, topic))\n",
    "        print(\"************************************************\")\n",
    "        \n",
    "    return model_list, coherence_values\n",
    "######################\n",
    "\n",
    "# Run function (this will take some time)\n",
    "model_list, coherence_values = compute_coherence_values(dictionary=id2word, \n",
    "                                                        corpus=corpus, \n",
    "                                                        texts=df['Consumer complaint narrative'].tolist(), \n",
    "                                                        start=6, \n",
    "                                                        step=2,\n",
    "                                                        limit=24)"
   ]
  },
  {
   "cell_type": "markdown",
   "metadata": {},
   "source": [
    "**Show the graph for Coherence Scores**"
   ]
  },
  {
   "cell_type": "code",
   "execution_count": 21,
   "metadata": {},
   "outputs": [
    {
     "data": {
      "image/png": "[encoded data removed]",
      "text/plain": [
       "<Figure size 432x288 with 1 Axes>"
      ]
     },
     "metadata": {
      "needs_background": "light"
     },
     "output_type": "display_data"
    }
   ],
   "source": [
    "# Show graph\n",
    "\n",
    "limit=24; start=6; step=2;\n",
    "x = range(start, limit, step)\n",
    "plt.plot(x, coherence_values)\n",
    "plt.xlabel(\"Num Topics\")\n",
    "plt.ylabel(\"Coherence score\")\n",
    "plt.legend((\"coherence_values\"), loc='best')\n",
    "plt.show()"
   ]
  },
  {
   "cell_type": "markdown",
   "metadata": {},
   "source": [
    "**Print the Coherence Scores**"
   ]
  },
  {
   "cell_type": "code",
   "execution_count": 22,
   "metadata": {},
   "outputs": [
    {
     "name": "stdout",
     "output_type": "stream",
     "text": [
      "Num Topics = 6  has Coherence Value of 0.4226\n",
      "Num Topics = 8  has Coherence Value of 0.4274\n",
      "Num Topics = 10  has Coherence Value of 0.4532\n",
      "Num Topics = 12  has Coherence Value of 0.4707\n",
      "Num Topics = 14  has Coherence Value of 0.4761\n",
      "Num Topics = 16  has Coherence Value of 0.4737\n",
      "Num Topics = 18  has Coherence Value of 0.4743\n",
      "Num Topics = 20  has Coherence Value of 0.4649\n",
      "Num Topics = 22  has Coherence Value of 0.4658\n"
     ]
    }
   ],
   "source": [
    "# Print the coherence scores\n",
    "for m, cv in zip(x, coherence_values):\n",
    "    print(\"Num Topics =\", m, \" has Coherence Value of\", round(cv, 4))"
   ]
  },
  {
   "cell_type": "markdown",
   "metadata": {},
   "source": [
    "### Visualize the topics-keywords"
   ]
  },
  {
   "cell_type": "markdown",
   "metadata": {},
   "source": [
    "#### PyLDAvis visualisation"
   ]
  },
  {
   "cell_type": "markdown",
   "metadata": {},
   "source": [
    "We can use the PyLDAvis package to visualize our topics."
   ]
  },
  {
   "cell_type": "markdown",
   "metadata": {},
   "source": [
    "[Source](https://www.machinelearningplus.com/nlp/topic-modeling-gensim-python/)\n",
    "\n",
    "Each bubble on the left-hand side plot represents a topic. The larger the bubble, the more prevalent is that topic. A good topic model will have fairly big, non-overlapping bubbles scattered throughout the chart instead of being clustered in one quadrant.\n",
    "\n",
    "A model with too many topics, will typically have many overlaps, small sized bubbles clustered in one region of the chart.\n",
    "\n",
    "If you move the cursor over one of the bubbles, the words and bars on the right-hand side will update. These words are the salient keywords that form the selected topic."
   ]
  },
  {
   "cell_type": "markdown",
   "metadata": {},
   "source": [
    "Use <code>conda install -c conda-forge pyldavis</code> to install the pyLDAvis package."
   ]
  },
  {
   "cell_type": "markdown",
   "metadata": {},
   "source": [
    "**Load the model with the highest coherence score**"
   ]
  },
  {
   "cell_type": "code",
   "execution_count": 25,
   "metadata": {},
   "outputs": [],
   "source": [
    "from gensim.test.utils import datapath\n",
    "\n",
    "# load some saved models\n",
    "lda_model14 = models.LdaMulticore.load(\"models/v1/lda_model_\" + str(14) +\"topics\")"
   ]
  },
  {
   "cell_type": "markdown",
   "metadata": {},
   "source": [
    "**Topics and keywords**"
   ]
  },
  {
   "cell_type": "code",
   "execution_count": 28,
   "metadata": {},
   "outputs": [
    {
     "name": "stdout",
     "output_type": "stream",
     "text": [
      "\n",
      "Topic: 0 \n",
      "Words: 0.083*\"card\" + 0.035*\"credit\" + 0.024*\"charg\" + 0.013*\"one\" + 0.013*\"receiv\" + 0.013*\"purchas\" + 0.012*\"open\" + 0.011*\"offer\" + 0.011*\"citi\" + 0.010*\"citibank\"\n",
      "\n",
      "Topic: 1 \n",
      "Words: 0.063*\"bank\" + 0.052*\"check\" + 0.028*\"money\" + 0.024*\"chase\" + 0.023*\"fund\" + 0.023*\"deposit\" + 0.018*\"transact\" + 0.015*\"fee\" + 0.014*\"day\" + 0.013*\"transfer\"\n",
      "\n",
      "Topic: 2 \n",
      "Words: 0.032*\"inform\" + 0.026*\"credit\" + 0.026*\"report\" + 0.023*\"fraud\" + 0.022*\"inquiri\" + 0.020*\"paypal\" + 0.019*\"ident\" + 0.019*\"consum\" + 0.017*\"fraudul\" + 0.016*\"theft\"\n",
      "\n",
      "Topic: 3 \n",
      "Words: 0.087*\"call\" + 0.031*\"told\" + 0.029*\"phone\" + 0.024*\"number\" + 0.022*\"ask\" + 0.017*\"said\" + 0.016*\"inform\" + 0.016*\"back\" + 0.014*\"time\" + 0.014*\"contact\"\n",
      "\n",
      "Topic: 4 \n",
      "Words: 0.117*\"credit\" + 0.105*\"report\" + 0.027*\"remov\" + 0.027*\"disput\" + 0.023*\"inform\" + 0.017*\"bureau\" + 0.013*\"score\" + 0.012*\"compani\" + 0.011*\"file\" + 0.011*\"equifax\"\n",
      "\n",
      "Topic: 5 \n",
      "Words: 0.027*\"mortgag\" + 0.015*\"home\" + 0.011*\"servic\" + 0.010*\"properti\" + 0.009*\"modif\" + 0.008*\"sale\" + 0.007*\"financi\" + 0.007*\"complaint\" + 0.007*\"us\" + 0.007*\"foreclosur\"\n",
      "\n",
      "Topic: 6 \n",
      "Words: 0.114*\"loan\" + 0.029*\"payment\" + 0.021*\"student\" + 0.021*\"navient\" + 0.017*\"year\" + 0.014*\"pay\" + 0.013*\"time\" + 0.012*\"incom\" + 0.012*\"repay\" + 0.011*\"plan\"\n",
      "\n",
      "Topic: 7 \n",
      "Words: 0.055*\"debt\" + 0.032*\"collect\" + 0.016*\"law\" + 0.014*\"court\" + 0.013*\"state\" + 0.013*\"file\" + 0.012*\"valid\" + 0.011*\"violat\" + 0.011*\"bankruptci\" + 0.011*\"claim\"\n",
      "\n",
      "Topic: 8 \n",
      "Words: 0.049*\"receiv\" + 0.035*\"letter\" + 0.032*\"sent\" + 0.026*\"request\" + 0.024*\"email\" + 0.019*\"document\" + 0.019*\"mail\" + 0.018*\"state\" + 0.017*\"inform\" + 0.014*\"send\"\n",
      "\n",
      "Topic: 9 \n",
      "Words: 0.050*\"interest\" + 0.040*\"balanc\" + 0.037*\"charg\" + 0.036*\"fee\" + 0.031*\"amount\" + 0.030*\"loan\" + 0.026*\"pay\" + 0.026*\"payment\" + 0.026*\"paid\" + 0.022*\"rate\"\n",
      "\n",
      "Topic: 10 \n",
      "Words: 0.024*\"n\" + 0.018*\"money\" + 0.017*\"pay\" + 0.016*\"told\" + 0.016*\"call\" + 0.016*\"said\" + 0.015*\"back\" + 0.013*\"time\" + 0.013*\"help\" + 0.012*\"never\"\n",
      "\n",
      "Topic: 11 \n",
      "Words: 0.158*\"payment\" + 0.044*\"late\" + 0.030*\"due\" + 0.025*\"made\" + 0.022*\"month\" + 0.019*\"day\" + 0.019*\"pay\" + 0.016*\"time\" + 0.016*\"bill\" + 0.014*\"credit\"\n",
      "\n",
      "Topic: 12 \n",
      "Words: 0.107*\"bank\" + 0.063*\"well\" + 0.050*\"fargo\" + 0.031*\"america\" + 0.030*\"&\" + 0.021*\"us\" + 0.020*\"close\" + 0.013*\"usaa\" + 0.012*\"boa\" + 0.010*\"open\"\n",
      "\n",
      "Topic: 13 \n",
      "Words: 0.064*\"car\" + 0.038*\"vehicl\" + 0.022*\"financ\" + 0.022*\"insur\" + 0.017*\"leas\" + 0.015*\"loan\" + 0.014*\"purchas\" + 0.012*\"financi\" + 0.011*\"titl\" + 0.011*\"compani\"\n"
     ]
    }
   ],
   "source": [
    "for idx, topic in lda_model14.print_topics(-1):\n",
    "            print('\\nTopic: {} \\nWords: {}'.format(idx, topic))"
   ]
  },
  {
   "cell_type": "markdown",
   "metadata": {},
   "source": [
    "**Visualize it**"
   ]
  },
  {
   "cell_type": "code",
   "execution_count": 27,
   "metadata": {
    "scrolled": false
   },
   "outputs": [
    {
     "data": {
      "text/html": [
       "\n",
       "<link rel=\"stylesheet\" type=\"text/css\" href=\"https://cdn.rawgit.com/bmabey/pyLDAvis/files/ldavis.v1.0.0.css\">\n",
       "\n",
       "\n",
       "<div id=\"ldavis_el1060818435085101528449708841\"></div>\n",
       "<script type=\"text/javascript\">\n",
       "\n",
       "var ldavis_el1060818435085101528449708841_data = {\"mdsDat\": {\"x\": [-0.16095442225915169, -0.02488613336176277, -0.0202766333276358, -0.01009441867075718, 0.06103334052392933, 0.06617450401166435, 0.16453728128223802, -0.14588722037844823, -0.1668662540770914, -0.1553741428805868, 0.21587572458427087, 0.2415707696327868, -0.11715265713185445, 0.052300262052399224], \"y\": [-0.12050406299267208, -0.19488941013588837, -0.14276710453703045, -0.04338159200834657, -0.07518309307697676, 0.08475591129926614, 0.06325786270008055, 0.0304038844462201, 0.18856184575486493, 0.11753813185984598, 0.11081379565365619, 0.017722500953706484, 0.06578493818625236, -0.10211360810297836], \"topics\": [1, 2, 3, 4, 5, 6, 7, 8, 9, 10, 11, 12, 13, 14], \"cluster\": [1, 1, 1, 1, 1, 1, 1, 1, 1, 1, 1, 1, 1, 1], \"Freq\": [11.630911827087402, 9.770657539367676, 9.586156845092773, 8.50320816040039, 8.028637886047363, 7.5134968757629395, 7.468101501464844, 6.799224853515625, 6.290137767791748, 5.951902866363525, 5.72144079208374, 4.902863025665283, 4.335693836212158, 3.497568130493164]}, \"tinfo\": {\"Term\": [\"payment\", \"bank\", \"report\", \"credit\", \"loan\", \"card\", \"call\", \"debt\", \"car\", \"interest\", \"check\", \"late\", \"well\", \"fee\", \"charg\", \"balanc\", \"money\", \"fargo\", \"receiv\", \"pay\", \"letter\", \"inform\", \"chase\", \"collect\", \"vehicl\", \"deposit\", \"mortgag\", \"disput\", \"phone\", \"sent\", \"stuff\", \"dog\", \"gon\", \"alot\", \"cop\", \"wan\", \"copay\", \"heater\", \"zale\", \"cuz\", \"me!!\", \"freak\", \"um\", \"suck\", \"sw\", \"baggag\", \"crown\", \"tub\", \"mouth\", \"blah\", \"grandma\", \"coat\", \"forclos\", \"it!!\", \"puppi\", \"planet\", \"yall\", \"awesom\", \"ppl\", \"diffrent\", \"sick\", \"cant\", \"castl\", \"medicin\", \"guy\", \"dad\", \"theyr\", \"dont\", \"im\", \"crazi\", \"that\", \"kid\", \"didnt\", \"cri\", \"wont\", \"funni\", \"girl\", \"witch\", \"realli\", \"couldnt\", \"wouldnt\", \"mom\", \"wo\", \"n\", \"got\", \"sad\", \"thing\", \"mess\", \"peopl\", \"wasnt\", \"someth\", \"everyth\", \"go\", \"ive\", \"help\", \"get\", \"anyth\", \"money\", \"tell\", \"tri\", \"said\", \"like\", \"let\", \"work\", \"put\", \"say\", \"went\", \"back\", \"pay\", \"keep\", \"care\", \"never\", \"told\", \"year\", \"time\", \"call\", \"compani\", \"ask\", \"give\", \"one\", \"month\", \"still\", \"bill\", \"paid\", \"voicemail\", \"caller\", \"callback\", \"landlin\", \"cmre\", \"dial\", \"disconnect\", \"cell\", \"abras\", \"belliger\", \"robocal\", \"calmli\", \"hung\", \"goodby\", \"deb\", \"receptionist\", \"accent\", \"dialer\", \"vm\", \"cowork\", \"tower\", \"recount\", \"voic\", \"supervisor\", \"workplac\", \"veil\", \"tone\", \"barrag\", \"badg\", \"ara\", \"speak\", \"condescend\", \"hang\", \"phone\", \"minut\", \"gentleman\", \"call\", \"spoke\", \"rep\", \"ext\", \"number\", \"rude\", \"messag\", \"hour\", \"answer\", \"repres\", \"agent\", \"ask\", \"manag\", \"told\", \"depart\", \"text\", \"said\", \"convers\", \"talk\", \"explain\", \"back\", \"contact\", \"advis\", \"someon\", \"inform\", \"name\", \"person\", \"time\", \"custom\", \"servic\", \"receiv\", \"state\", \"day\", \"work\", \"compani\", \"tri\", \"overdraft\", \"atm\", \"overdrawn\", \"td\", \"scottrad\", \"moneygram\", \"bbva\", \"tcf\", \"bmo\", \"flagstar\", \"comerica\", \"overdraw\", \"wu\", \"wire\", \"hsa\", \"chase\", \"venmo\", \"huntington\", \"chequ\", \"sapphir\", \"overdrew\", \"zell\", \"webster\", \"merril\", \"certegi\", \"lynch\", \"quickpay\", \"xoom\", \"tdbank\", \"remitli\", \"deposit\", \"jp\", \"teller\", \"jpmorgan\", \"withdraw\", \"cashier\", \"nsf\", \"fund\", \"check\", \"withdrew\", \"transact\", \"branch\", \"bank\", \"debit\", \"cash\", \"app\", \"mobil\", \"money\", \"morgan\", \"ach\", \"transfer\", \"pend\", \"save\", \"hold\", \"fee\", \"avail\", \"day\", \"refund\", \"return\", \"clear\", \"charg\", \"custom\", \"claim\", \"busi\", \"close\", \"went\", \"made\", \"amount\", \"told\", \"back\", \"time\", \"citibank\", \"bonu\", \"reward\", \"amex\", \"flight\", \"citigold\", \"mastercard\", \"netspend\", \"sear\", \"platinum\", \"bitcoin\", \"airlin\", \"kohl\", \"citicard\", \"membership\", \"bluebird\", \"cardmemb\", \"thankyou\", \"cardhold\", \"cashback\", \"barclaycard\", \"rebil\", \"btc\", \"elan\", \"fidel\", \"signup\", \"skymil\", \"litecoin\", \"eth\", \"delta\", \"citi\", \"coinbas\", \"visa\", \"maci\", \"promot\", \"promo\", \"card\", \"barclay\", \"gift\", \"hsbc\", \"merchant\", \"prepaid\", \"express\", \"capit\", \"american\", \"hotel\", \"mile\", \"ticket\", \"chat\", \"offer\", \"spend\", \"purchas\", \"advertis\", \"charg\", \"open\", \"point\", \"credit\", \"met\", \"one\", \"store\", \"cancel\", \"custom\", \"new\", \"use\", \"disput\", \"requir\", \"close\", \"receiv\", \"issu\", \"servic\", \"time\", \"day\", \"month\", \"onlin\", \"told\", \"ibr\", \"afni\", \"zion\", \"cashcal\", \"ln\", \"nexi\", \"wilshir\", \"unread\", \"banana\", \"refax\", \"wakefield\", \"addresse\", \"delbert\", \"greenski\", \"resend\", \"legibl\", \"subrog\", \"heartland\", \"address!\", \"prosper\", \"cit\", \"fedex\", \"usp\", \"undeliver\", \"fax\", \"cert\", \"submitt\", \"postal\", \"handler\", \"fwd\", \"western\", \"postmark\", \"upload\", \"packet\", \"ombudsman\", \"email\", \"letter\", \"sent\", \"mail\", \"form\", \"document\", \"receiv\", \"copi\", \"correspond\", \"submit\", \"packag\", \"request\", \"send\", \"resubmit\", \"repli\", \"via\", \"respond\", \"address\", \"certifi\", \"receipt\", \"respons\", \"confirm\", \"provid\", \"state\", \"attach\", \"e\", \"process\", \"contact\", \"inform\", \"date\", \"refund\", \"return\", \"day\", \"proof\", \"applic\", \"ask\", \"servic\", \"never\", \"call\", \"time\", \"told\", \"navi\", \"nfcu\", \"investor\", \"apprais\", \"penf\", \"bpo\", \"dual\", \"builder\", \"dodd\", \"nationstar\", \"arvest\", \"citifinanci\", \"parcel\", \"fha\", \"realtor\", \"occupi\", \"pentagon\", \"mitig\", \"dovenmuehl\", \"obstruct\", \"ar\", \"guardian\", \"ml\", \"acr\", \"reconvey\", \"npv\", \"firearm\", \"spoc\", \"durabl\", \"contractor\", \"foreclosur\", \"shellpoint\", \"hud\", \"sp\", \"properti\", \"homeown\", \"tree\", \"deed\", \"foreclos\", \"modif\", \"mortgag\", \"broker\", \"green\", \"sale\", \"mr\", \"ditech\", \"trial\", \"home\", \"freedom\", \"short\", \"tax\", \"lender\", \"valu\", \"market\", \"hous\", \"financi\", \"cfpb\", \"trust\", \"servic\", \"polici\", \"complaint\", \"us\", \"feder\", \"practic\", \"requir\", \"process\", \"busi\", \"document\", \"action\", \"provid\", \"consum\", \"state\", \"offer\", \"insur\", \"compani\", \"loan\", \"time\", \"issu\", \"experian\", \"transunion\", \"tran\", \"cra\", \"tradelin\", \"chexsystem\", \"erc\", \"chex\", \"bloomingdal\", \"tu\", \"astra\", \"hunter\", \"warfield\", \"cbna\", \"procollect\", \"reag\", \"syncb\", \"jefferson\", \"****\", \"cbr\", \"delet\", \"identitytheft\", \"tranunion\", \"inaccuraci\", \"innacur\", \"inaccur\", \"report!\", \"burea\", \"aver\", \"derogatori\", \"equifax\", \"bureau\", \"report\", \"score\", \"remov\", \"remark\", \"fcra\", \"fico\", \"unverifi\", \"credit\", \"disput\", \"creditor\", \"accur\", \"neg\", \"belong\", \"agenc\", \"incorrect\", \"accuraci\", \"item\", \"verifi\", \"mine\", \"updat\", \"show\", \"inform\", \"correct\", \"list\", \"file\", \"investig\", \"pleas\", \"collect\", \"compani\", \"date\", \"open\", \"request\", \"letter\", \"contact\", \"never\", \"time\", \"autopay\", \"carrington\", \"ecsi\", \"ua\", \"fortiva\", \"autodraft\", \"lion\", \"pennymac\", \"late\", \"forbar\", \"ebil\", \"bankrupti\", \"due!\", \"time!!\", \"loancar\", \"deadbeat\", \"paym\", \"reliant\", \"late!\", \"misappli\", \"overdu\", \"amer\", \"removed!\", \"fault!\", \"mortgage\", \"paperless\", \"payment\", \"grace\", \"stellar\", \"recurr\", \"setup\", \"automat\", \"due\", \"arrang\", \"auto\", \"miss\", \"past\", \"made\", \"set\", \"bill\", \"schedul\", \"delinqu\", \"month\", \"statement\", \"alway\", \"date\", \"monthli\", \"error\", \"day\", \"pay\", \"paid\", \"make\", \"fee\", \"time\", \"everi\", \"histori\", \"system\", \"chang\", \"onlin\", \"credit\", \"receiv\", \"call\", \"correct\", \"show\", \"one\", \"never\", \"issu\", \"bank\", \"amount\", \"ocwen\", \"pmi\", \"rushmor\", \"citimortgag\", \"costco\", \"ltv\", \"selen\", \"fay\", \"respa\", \"phh\", \"countrywid\", \"shortag\", \"resurg\", \"ameritech\", \"statebridg\", \"princip\", \"firstmark\", \"jc\", \"lakeview\", \"eo\", \"apr\", \"accrual\", \"collectioncharg\", \"misappl\", \"prepay\", \"annum\", \"overst\", \"postcard\", \"usuri\", \"paidsettl\", \"interest\", \"principl\", \"rate\", \"cashnetusa\", \"escrow\", \"amort\", \"alloc\", \"accru\", \"balanc\", \"percent\", \"increas\", \"forebear\", \"calcul\", \"=\", \"fee\", \"payoff\", \"amount\", \"charg\", \"paid\", \"monthli\", \"advanc\", \"higher\", \"extra\", \"total\", \"pay\", \"appli\", \"reduc\", \"loan\", \"full\", \"month\", \"statement\", \"minimum\", \"payment\", \"owe\", \"addit\", \"year\", \"lower\", \"term\", \"origin\", \"due\", \"date\", \"made\", \"compani\", \"time\", \"student\", \"navient\", \"forbear\", \"forgiv\", \"graduat\", \"fedloan\", \"mae\", \"salli\", \"pslf\", \"repay\", \"educ\", \"bayview\", \"aadvantag\", \"idr\", \"consolid\", \"quicken\", \"semest\", \"subsid\", \"unsubsid\", \"mohela\", \"pheaa\", \"teacher\", \"stafford\", \"recertif\", \"recertifi\", \"perkin\", \"salliema\", \"nsld\", \"collegi\", \"school\", \"forgiven\", \"colleg\", \"univers\", \"lake\", \"cosign\", \"degre\", \"incom\", \"loan\", \"program\", \"defer\", \"attend\", \"plan\", \"privat\", \"signer\", \"unemploy\", \"qualifi\", \"afford\", \"default\", \"option\", \"year\", \"enrol\", \"payment\", \"lower\", \"pay\", \"time\", \"month\", \"appli\", \"work\", \"borrow\", \"servic\", \"monthli\", \"interest\", \"current\", \"help\", \"told\", \"sinc\", \"inform\", \"amount\", \"judgment\", \"usc\", \"plaintiff\", \"midland\", \"bk\", \"debtor\", \"summon\", \"fdcpa\", \"transworld\", \"courthous\", \"claimant\", \"ch\", \"chapter\", \"pra\", \"docket\", \"lvnv\", \"ucc\", \"converg\", \"hipaa\", \"court\", \"metro\", \"adjud\", \"indebted\", \"suprem\", \"cm\", \"rico\", \"reaffirm\", \"assigne\", \"banco\", \"ecmc\", \"collector\", \"southwest\", \"alleg\", \"judgement\", \"debt\", \"statut\", \"desist\", \"bankruptci\", \"ceas\", \"garnish\", \"discharg\", \"collect\", \"law\", \"judg\", \"bond\", \"violat\", \"valid\", \"civil\", \"firm\", \"recoveri\", \"legal\", \"act\", \"attorney\", \"signatur\", \"u\", \"c\", \"parti\", \"right\", \"fair\", \"agenc\", \"contract\", \"owe\", \"file\", \"claim\", \"action\", \"state\", \"origin\", \"provid\", \"proof\", \"feder\", \"document\", \"notic\", \"record\", \"compani\", \"request\", \"letter\", \"inform\", \"consum\", \"paypal\", \"ebay\", \"soft\", \"theft\", \"aforesaid\", \"ident\", \"penney\", \"dofd\", \"sach\", \"goldman\", \"karma\", \"moreconfirm\", \"mustov\", \"pii\", \"prescreen\", \"erad\", \"compliantli\", \"inquri\", \"madeaccount\", \"credco\", \"wal\", \"cyber\", \"unvalid\", \"resel\", \"theftfraud\", \"ip\", \"removeddelet\", \"derelict\", \"malevol\", \"unfroz\", \"inquiri\", \"pant\", \"freez\", \"victim\", \"block\", \"subsect\", \"polic\", \"social\", \"pal\", \"birth\", \"unauthor\", \"driver\", \"seller\", \"user\", \"fraudul\", \"fraud\", \"secur\", \"breach\", \"identif\", \"ssn\", \"good\", \"thief\", \"author\", \"data\", \"consum\", \"synchroni\", \"alert\", \"stolen\", \"identifi\", \"hard\", \"inform\", \"b\", \"licens\", \"section\", \"person\", \"report\", \"item\", \"access\", \"use\", \"credit\", \"file\", \"name\", \"address\", \"investig\", \"number\", \"without\", \"provid\", \"request\", \"open\", \"vehicl\", \"leas\", \"car\", \"dealership\", \"repossess\", \"alli\", \"dealer\", \"santand\", \"gap\", \"warranti\", \"toyota\", \"repo\", \"motor\", \"tow\", \"gm\", \"honda\", \"bmw\", \"nissan\", \"ford\", \"westlak\", \"hyundai\", \"chrysler\", \"truck\", \"salesman\", \"vw\", \"exet\", \"kia\", \"vin\", \"lemon\", \"van\", \"dmv\", \"plate\", \"automobil\", \"financ\", \"coverag\", \"titl\", \"insur\", \"accid\", \"repair\", \"drive\", \"auto\", \"contract\", \"purchas\", \"financi\", \"trade\", \"price\", \"loan\", \"compani\", \"paid\", \"sold\", \"new\", \"return\", \"damag\", \"pay\", \"sale\", \"told\", \"payment\", \"time\", \"credit\", \"sign\", \"total\", \"back\", \"state\", \"month\", \"fargo\", \"usaa\", \"bb\", \"wf\", \"boa\", \"ira\", \"keybank\", \"schwab\", \"roundpoint\", \"bbt\", \"rma\", \"charl\", \"amerihom\", \"wachovia\", \"wfb\", \"bac\", \"sl\", \"pod\", \"mellon\", \"bancorp\", \"william\", \"umpqua\", \"champion\", \"fnb\", \"roth\", \"bofa\", \"bof\", \"executor\", \"cd\", \"poa\", \"nelnet\", \"heloc\", \"&\", \"america\", \"wellsfargo\", \"probat\", \"well\", \"pnc\", \"death\", \"suntrust\", \"bank\", \"joint\", \"deceas\", \"usbank\", \"sun\", \"us\", \"wife\", \"close\", \"mother\", \"father\", \"branch\", \"banker\", \"open\", \"husband\", \"year\", \"save\", \"claim\", \"complaint\", \"name\", \"issu\", \"depart\", \"without\", \"letter\", \"mortgag\", \"sinc\", \"time\", \"inform\"], \"Freq\": [159823.0, 120503.0, 103023.0, 165562.0, 110258.0, 85276.0, 140652.0, 40501.0, 30261.0, 39613.0, 73784.0, 34116.0, 36443.0, 52868.0, 68024.0, 43515.0, 56436.0, 19232.0, 92715.0, 72370.0, 47155.0, 86046.0, 25389.0, 31450.0, 17873.0, 24959.0, 27977.0, 36251.0, 41360.0, 45855.0, 499.8864440917969, 309.28302001953125, 254.84548950195312, 229.44195556640625, 88.62030792236328, 75.83635711669922, 70.02560424804688, 68.06105041503906, 63.83916091918945, 63.55331039428711, 60.06343078613281, 58.9915771484375, 55.9257698059082, 100.64637756347656, 52.36637878417969, 51.844600677490234, 48.62197494506836, 46.598567962646484, 109.01664733886719, 44.55166244506836, 44.34745788574219, 48.95085144042969, 81.66958618164062, 43.708213806152344, 146.30824279785156, 83.45199584960938, 38.950408935546875, 38.49241256713867, 38.437599182128906, 37.138885498046875, 799.2301025390625, 2722.361083984375, 94.56600189208984, 144.226806640625, 1627.647216796875, 694.4552612304688, 248.11343383789062, 3822.249267578125, 3760.864990234375, 438.479736328125, 1105.066650390625, 759.12353515625, 3363.345458984375, 223.52711486816406, 1099.5587158203125, 223.01837158203125, 301.522705078125, 142.2459259033203, 4131.15478515625, 1028.6807861328125, 563.6405639648438, 1114.8880615234375, 1570.443115234375, 30625.4140625, 13045.5048828125, 310.8077697753906, 6749.5546875, 1021.0984497070312, 8052.93017578125, 1044.8712158203125, 5177.35595703125, 4563.5166015625, 11066.541015625, 1850.313232421875, 16079.2119140625, 6729.2890625, 7406.728515625, 22878.634765625, 8685.8251953125, 13950.6796875, 20225.845703125, 10849.7548828125, 4818.20068359375, 11749.998046875, 8387.9814453125, 7731.29345703125, 9801.08203125, 18953.26953125, 22242.072265625, 6461.32080078125, 4315.63916015625, 15381.740234375, 20844.861328125, 12634.5263671875, 16942.197265625, 20380.9375, 12479.6630859375, 12025.5283203125, 7226.2685546875, 10522.7822265625, 11063.73828125, 7897.3046875, 7565.79345703125, 6942.47900390625, 2105.148681640625, 778.2091674804688, 177.30490112304688, 86.54118347167969, 82.67780303955078, 216.80364990234375, 1364.1519775390625, 2593.25439453125, 30.500951766967773, 77.85072326660156, 121.66502380371094, 25.423864364624023, 2934.68701171875, 22.228422164916992, 20.703235626220703, 86.68013000488281, 137.58984375, 101.8108139038086, 78.31119537353516, 130.00804138183594, 148.63221740722656, 50.08424758911133, 1517.9053955078125, 10585.7255859375, 107.74726867675781, 20.468164443969727, 299.9834899902344, 22.0211238861084, 89.31208038330078, 29.302734375, 10735.26171875, 231.3212127685547, 1264.61865234375, 30632.4296875, 4325.904296875, 562.9693603515625, 93174.1796875, 13184.1552734375, 7076.98291015625, 398.5740966796875, 25669.5625, 2384.65185546875, 6183.4951171875, 6878.953125, 7044.01953125, 12107.560546875, 5230.19921875, 23704.712890625, 9273.0283203125, 33243.234375, 8508.19921875, 1634.3223876953125, 18701.353515625, 2842.944091796875, 4953.1494140625, 7460.0068359375, 17022.044921875, 15061.10546875, 5753.1767578125, 5563.4609375, 17219.421875, 8389.5146484375, 8187.1201171875, 15284.6796875, 8783.033203125, 9996.869140625, 12735.599609375, 9444.453125, 9983.111328125, 6538.3955078125, 7448.96484375, 6381.91064453125, 10624.2353515625, 5648.77587890625, 1878.9241943359375, 3348.081787109375, 1123.7633056640625, 814.6550903320312, 857.4603881835938, 531.7137451171875, 389.4634704589844, 354.0528259277344, 305.9112854003906, 294.5915832519531, 341.08795166015625, 4513.77294921875, 285.991943359375, 25262.935546875, 246.6617889404297, 861.8217163085938, 227.03062438964844, 178.3673095703125, 160.94029235839844, 151.24008178710938, 132.8428497314453, 127.3623275756836, 113.5164794921875, 111.3251953125, 110.11746215820312, 107.18097686767578, 93.35249328613281, 91.11842346191406, 23929.921875, 665.5164184570312, 2242.403564453125, 290.8495788574219, 6564.02734375, 1609.6668701171875, 1287.5450439453125, 24661.359375, 54348.93359375, 1170.407470703125, 18604.958984375, 9741.0068359375, 66526.7109375, 9010.119140625, 8861.04296875, 2279.2705078125, 1647.7327880859375, 29954.77734375, 763.2988891601562, 1626.690673828125, 13825.365234375, 2785.0869140625, 4343.72900390625, 6562.60400390625, 15489.96484375, 5139.21337890625, 14881.884765625, 5930.7177734375, 6951.140625, 4059.0517578125, 11782.5830078125, 7799.95263671875, 6966.81640625, 6115.07080078125, 7941.958984375, 5682.349609375, 7010.20068359375, 7122.041015625, 6901.05810546875, 5928.8271484375, 5641.65771484375, 9672.4755859375, 7507.0498046875, 3581.170166015625, 3087.828857421875, 918.4590454101562, 911.6004028320312, 959.4307250976562, 683.9150390625, 670.1803588867188, 659.923828125, 654.4808959960938, 615.7208862304688, 526.0536499023438, 408.7923278808594, 1491.119873046875, 304.92529296875, 278.69244384765625, 234.00413513183594, 652.135009765625, 192.93698120117188, 359.14453125, 166.6461944580078, 163.63536071777344, 157.26368713378906, 152.68736267089844, 133.77392578125, 129.11231994628906, 124.09598541259766, 115.47628021240234, 313.4186096191406, 9816.2060546875, 3854.663330078125, 2279.528564453125, 1381.4522705078125, 7896.03662109375, 647.7913818359375, 77764.359375, 1833.0804443359375, 1592.9815673828125, 1819.178466796875, 5600.64306640625, 1065.7926025390625, 5861.50048828125, 9564.0458984375, 5833.9423828125, 1069.72607421875, 3233.008544921875, 2530.409423828125, 1646.8951416015625, 9944.4248046875, 2421.0537109375, 11785.5302734375, 2077.33984375, 21951.53515625, 11216.5859375, 6753.62158203125, 32438.365234375, 2169.5966796875, 12310.5693359375, 2916.47509765625, 5112.63037109375, 9322.0732421875, 7242.6318359375, 6647.64453125, 7809.28466796875, 5460.9931640625, 7977.560546875, 11852.7978515625, 6503.45751953125, 7129.23046875, 7120.5869140625, 6457.330078125, 6181.6552734375, 4485.994140625, 4967.55126953125, 1421.62451171875, 213.64588928222656, 93.31004333496094, 92.97046661376953, 66.07559967041016, 63.78786849975586, 59.08479690551758, 51.766990661621094, 48.6546630859375, 43.92273712158203, 39.210044860839844, 38.06459426879883, 37.057945251464844, 201.01181030273438, 333.6610107421875, 94.56951141357422, 23.67805290222168, 160.08627319335938, 23.05619239807129, 222.4427032470703, 126.70207214355469, 43.12903594970703, 946.1973266601562, 71.70751190185547, 6393.47119140625, 26.857669830322266, 35.882633209228516, 509.9991760253906, 20.535614013671875, 25.011150360107422, 1203.137451171875, 77.9350357055664, 1314.31591796875, 549.5390625, 276.6205139160156, 21505.712890625, 30394.798828125, 28506.638671875, 16578.65625, 6743.2080078125, 16916.501953125, 43470.30859375, 9039.44140625, 2640.2509765625, 8530.537109375, 1478.5592041015625, 23005.57421875, 12223.6298828125, 588.0330200195312, 2562.866455078125, 6236.06005859375, 4910.58251953125, 9591.369140625, 2445.46875, 3217.922119140625, 8793.7490234375, 5760.1455078125, 11752.349609375, 15474.0498046875, 5352.62548828125, 2753.632568359375, 7282.767578125, 11138.859375, 15103.67578125, 8692.0458984375, 5035.64990234375, 5822.66845703125, 9762.5966796875, 4272.9462890625, 4110.38232421875, 7149.16015625, 6968.146484375, 6490.37255859375, 8051.03955078125, 6929.0625, 5900.44580078125, 1673.962890625, 647.0560302734375, 993.0084228515625, 2776.0400390625, 310.8352355957031, 223.4327850341797, 270.4226989746094, 187.27105712890625, 182.6514434814453, 2085.008056640625, 168.33392333984375, 151.3121337890625, 138.0893096923828, 793.2401123046875, 565.703125, 151.75466918945312, 115.39043426513672, 849.5416259765625, 108.88128662109375, 98.84297180175781, 87.47432708740234, 83.00215911865234, 82.416259765625, 80.70628356933594, 80.44318389892578, 79.77156066894531, 78.17902374267578, 77.55217742919922, 75.72806549072266, 931.82763671875, 5360.74169921875, 528.2752075195312, 611.7888793945312, 1180.559814453125, 8461.6328125, 1472.058349609375, 573.4569702148438, 1624.041748046875, 1450.877197265625, 7156.37744140625, 22567.572265625, 592.6486206054688, 612.2221069335938, 6513.0302734375, 1803.109130859375, 1391.27978515625, 1039.2774658203125, 12326.3212890625, 855.2526245117188, 2568.47607421875, 5221.24365234375, 3862.043701171875, 2285.993408203125, 1653.43408203125, 3758.1240234375, 6040.96728515625, 3226.691162109375, 2045.6407470703125, 9299.810546875, 2716.690673828125, 5716.2470703125, 5680.56591796875, 3308.409423828125, 3231.460693359375, 3802.44287109375, 4090.490478515625, 3711.518310546875, 3931.06787109375, 2722.465576171875, 4142.74462890625, 3510.490966796875, 4571.64990234375, 3189.4814453125, 2987.423583984375, 3868.305419921875, 3285.858154296875, 3199.396484375, 2834.419921875, 7445.2451171875, 5386.66259765625, 936.3516845703125, 1030.144287109375, 349.6282653808594, 271.7309875488281, 152.59527587890625, 136.7131805419922, 117.31391143798828, 113.71268463134766, 111.9153823852539, 99.38030242919922, 93.66927337646484, 91.72205352783203, 89.24220275878906, 80.81814575195312, 67.42283630371094, 62.43157196044922, 97.86865997314453, 53.25468826293945, 7056.8447265625, 39.60793685913086, 37.76438522338867, 648.649169921875, 33.21208953857422, 4801.109375, 132.00917053222656, 48.29054641723633, 24.15547752380371, 1505.974853515625, 8937.5615234375, 14303.2314453125, 85933.28125, 10682.7451171875, 22233.9140625, 775.0637817382812, 3932.626708984375, 647.3002319335938, 847.2205200195312, 95542.3515625, 21819.423828125, 5233.9892578125, 2816.132568359375, 6383.390625, 2232.6484375, 8692.0498046875, 3330.995849609375, 705.9317626953125, 6417.1982421875, 7208.841796875, 3038.293701171875, 4115.08740234375, 8717.7958984375, 18826.79296875, 5464.6123046875, 4243.78759765625, 9182.060546875, 5646.326171875, 6036.92236328125, 6991.662109375, 9582.8955078125, 6167.2333984375, 5576.19384765625, 6302.49462890625, 6165.3203125, 5671.34619140625, 5538.93994140625, 5608.1103515625, 1139.303466796875, 584.4432373046875, 160.6915283203125, 153.49745178222656, 95.34725952148438, 84.04804992675781, 48.433509826660156, 353.284423828125, 33069.265625, 34.6793327331543, 43.32295608520508, 20.635278701782227, 52.76134490966797, 17.21977996826172, 536.9259033203125, 29.790782928466797, 32.57319259643555, 31.349456787109375, 56.01370620727539, 310.92987060546875, 512.4658203125, 21.69015884399414, 13.921140670776367, 19.52244758605957, 74.21904754638672, 376.6112365722656, 118136.8046875, 805.7319946289062, 224.4927978515625, 22.91451644897461, 680.9581298828125, 3790.61181640625, 22555.541015625, 2028.294189453125, 4738.033203125, 4143.5390625, 7105.61669921875, 18354.9765625, 4526.41455078125, 11698.3349609375, 2277.635986328125, 2672.75, 16322.7080078125, 8810.5771484375, 2471.760498046875, 9527.4248046875, 4938.27099609375, 3849.2744140625, 14388.990234375, 14228.76953125, 8983.873046875, 3923.781005859375, 9043.908203125, 11994.375, 3647.72509765625, 2397.8955078125, 3091.406494140625, 3793.368896484375, 3950.656005859375, 10543.8388671875, 7643.185546875, 7970.08642578125, 3431.84765625, 4098.78662109375, 4916.35693359375, 4863.4072265625, 4237.08837890625, 4862.77197265625, 3963.781005859375, 3499.126708984375, 1333.3704833984375, 384.4656066894531, 379.19732666015625, 373.8158264160156, 330.7810363769531, 309.1506652832031, 308.20361328125, 292.7707214355469, 479.21759033203125, 146.18133544921875, 629.5996704101562, 124.68739318847656, 120.43563842773438, 117.59386444091797, 6692.75390625, 107.72109985351562, 105.0169906616211, 102.52986907958984, 91.96189880371094, 2003.4302978515625, 74.0794906616211, 54.475738525390625, 52.51906967163086, 210.44471740722656, 41.10581970214844, 38.11417007446289, 34.54248046875, 351.4804992675781, 33.737613677978516, 34599.4765625, 1926.909912109375, 15495.158203125, 114.47960662841797, 4830.33984375, 414.2000427246094, 722.8008422851562, 2224.113037109375, 27484.056640625, 697.0614624023438, 4712.97607421875, 413.5838928222656, 1714.5694580078125, 748.6777954101562, 24897.982421875, 2796.2197265625, 21734.64453125, 25789.28125, 17794.7890625, 6781.48388671875, 1962.7943115234375, 2027.231201171875, 2212.03857421875, 5737.13916015625, 18011.06640625, 7728.201171875, 1799.145751953125, 20675.662109375, 5560.66796875, 12231.6337890625, 6992.42431640625, 2263.436279296875, 17957.876953125, 5445.509765625, 4597.22607421875, 6379.0087890625, 2519.139892578125, 2968.8427734375, 3271.316162109375, 3961.997314453125, 3525.40869140625, 3299.918701171875, 3288.116943359375, 3295.135498046875, 13882.474609375, 13539.79296875, 4816.27978515625, 2813.55126953125, 2254.85595703125, 1753.115234375, 1464.72900390625, 1440.0218505859375, 1380.4608154296875, 7613.30712890625, 3234.332275390625, 552.9682006835938, 478.69378662109375, 459.8620910644531, 3723.2880859375, 433.9740905761719, 364.0427551269531, 338.22021484375, 264.14544677734375, 235.18263244628906, 229.593994140625, 205.1249237060547, 202.8583984375, 266.2826232910156, 160.42591857910156, 124.4428939819336, 120.0915298461914, 101.75224304199219, 101.62623596191406, 5893.46435546875, 745.9708251953125, 2209.747802734375, 1591.0972900390625, 595.895751953125, 1238.25830078125, 968.1578979492188, 8125.30615234375, 74309.921875, 6408.05224609375, 3459.919189453125, 1613.854736328125, 6895.2373046875, 3037.516357421875, 1333.08154296875, 1136.68310546875, 4141.04345703125, 3055.111083984375, 3128.244140625, 3883.714599609375, 10912.5927734375, 1771.75146484375, 18971.431640625, 2778.793701171875, 9232.9296875, 8555.00390625, 6772.45947265625, 4420.28173828125, 4781.51953125, 2426.000244140625, 5482.3447265625, 3562.44482421875, 4289.44580078125, 3456.640869140625, 3903.17724609375, 4222.5546875, 3436.640625, 3396.206298828125, 3256.022216796875, 1681.1142578125, 874.08837890625, 632.8159790039062, 551.9054565429688, 491.1825866699219, 876.152099609375, 428.9007568359375, 1747.5970458984375, 274.5025939941406, 267.5179748535156, 248.4191436767578, 229.45257568359375, 2141.152099609375, 212.53594970703125, 192.2725372314453, 182.82354736328125, 178.40689086914062, 174.85263061523438, 184.63720703125, 8770.7373046875, 157.7425537109375, 134.6657257080078, 131.8848114013672, 128.50662231445312, 113.06729125976562, 110.70292663574219, 306.18133544921875, 110.51392364501953, 104.80815124511719, 210.45700073242188, 3551.370361328125, 180.4611053466797, 4113.916015625, 1407.3150634765625, 34415.890625, 1034.7666015625, 899.7694702148438, 6646.728515625, 1617.580322265625, 2174.23046875, 2153.03173828125, 20230.134765625, 9749.0107421875, 951.9318237304688, 508.67987060546875, 6980.02880859375, 7247.6796875, 1074.43994140625, 1543.9776611328125, 1801.3927001953125, 5781.9794921875, 5553.58349609375, 4732.55712890625, 3087.956298828125, 2226.25439453125, 2063.8828125, 2908.622314453125, 2299.67626953125, 3218.95068359375, 5517.1484375, 4182.0234375, 5858.77099609375, 7913.40576171875, 6636.30810546875, 3609.107421875, 8377.5927734375, 4536.96533203125, 6524.0546875, 3918.590576171875, 3387.57373046875, 4950.25390625, 4175.3359375, 3954.320556640625, 5634.90869140625, 5013.0087890625, 4525.56640625, 4407.9306640625, 3615.391357421875, 10954.0048828125, 540.3533935546875, 348.8626403808594, 8420.337890625, 128.4709014892578, 10463.7978515625, 88.70846557617188, 86.02906799316406, 85.5724105834961, 86.30720520019531, 78.76143646240234, 70.66189575195312, 70.66189575195312, 49.04885482788086, 46.62270736694336, 45.23738098144531, 44.90583038330078, 40.86448669433594, 35.92076873779297, 30.724624633789062, 70.42806243896484, 111.18964385986328, 29.913484573364258, 623.4115600585938, 27.24553108215332, 238.635986328125, 23.325902938842773, 65.64420318603516, 21.511857986450195, 21.138301849365234, 11688.84375, 47.795936584472656, 1838.1998291015625, 4449.037109375, 4606.935546875, 606.891845703125, 5225.28125, 5022.20654296875, 343.8504638671875, 780.9429321289062, 3750.9990234375, 1721.58544921875, 1773.5067138671875, 1544.104736328125, 9308.8447265625, 12230.7861328125, 8176.62109375, 1594.0264892578125, 929.6233520507812, 1075.721923828125, 651.4691162109375, 471.9197998046875, 6888.888671875, 1872.3262939453125, 10427.36328125, 2274.57958984375, 2497.07568359375, 2303.275390625, 1912.9891357421875, 3136.046875, 17448.123046875, 2132.821044921875, 1907.5390625, 2421.903564453125, 6518.4228515625, 13732.7880859375, 4009.397216796875, 3706.437744140625, 5481.63623046875, 13744.369140625, 6494.40576171875, 5623.31103515625, 4352.97705078125, 3785.25927734375, 4865.03125, 3766.549560546875, 4520.07666015625, 4108.73876953125, 3670.320068359375, 17872.005859375, 8114.619140625, 30255.482421875, 4508.97607421875, 4335.48876953125, 4962.6083984375, 3703.8681640625, 4359.32275390625, 1737.319580078125, 1650.1826171875, 1600.18310546875, 1308.5751953125, 1237.866455078125, 1211.588134765625, 1771.863037109375, 1080.72998046875, 872.1432495117188, 807.685791015625, 738.9353637695312, 690.16162109375, 663.476318359375, 619.3106079101562, 1957.121337890625, 606.8231201171875, 450.5332336425781, 413.4948425292969, 410.4264221191406, 339.9010925292969, 306.78167724609375, 269.3256530761719, 685.7592163085938, 428.7001037597656, 495.8870544433594, 10551.6796875, 1479.970947265625, 5383.705078125, 10480.71484375, 1363.7559814453125, 2597.443115234375, 1682.1695556640625, 4370.16796875, 4528.93017578125, 6800.658203125, 5743.2998046875, 1888.4776611328125, 1736.492919921875, 7298.43896484375, 5076.083984375, 4233.41748046875, 2185.925048828125, 3192.917724609375, 2967.413330078125, 2075.8115234375, 3750.36572265625, 2250.968017578125, 3464.10302734375, 3463.706298828125, 3154.9560546875, 3245.73583984375, 2417.385009765625, 2276.670166015625, 2487.636962890625, 2479.260986328125, 2460.237548828125, 19231.583984375, 4831.716796875, 1438.9373779296875, 1092.6119384765625, 4475.86376953125, 848.4080200195312, 436.24407958984375, 281.8875427246094, 269.48663330078125, 241.0850372314453, 152.2030487060547, 148.41802978515625, 139.19564819335938, 128.34039306640625, 123.18340301513672, 108.21040344238281, 904.285888671875, 89.12936401367188, 69.56361389160156, 61.646568298339844, 60.223087310791016, 59.424991607666016, 58.58915328979492, 55.09025955200195, 49.80000305175781, 1682.462646484375, 30.93076515197754, 196.11737060546875, 1276.83740234375, 316.0325927734375, 1892.085205078125, 672.889892578125, 11375.8369140625, 11707.3564453125, 469.8321228027344, 280.05169677734375, 24215.796875, 3240.870361328125, 854.118896484375, 2009.5655517578125, 41157.96875, 947.842041015625, 402.306640625, 367.6297607421875, 297.5699462890625, 8005.25048828125, 2193.414306640625, 7708.63525390625, 1655.5245361328125, 1129.3985595703125, 3313.050537109375, 1070.792724609375, 3999.0859375, 1713.74951171875, 3196.254638671875, 1530.1710205078125, 2547.960693359375, 2285.90625, 2166.497314453125, 2103.320068359375, 1725.727783203125, 1727.54736328125, 1917.926025390625, 1731.412109375, 1732.2188720703125, 1729.646240234375, 1659.396484375], \"Total\": [159823.0, 120503.0, 103023.0, 165562.0, 110258.0, 85276.0, 140652.0, 40501.0, 30261.0, 39613.0, 73784.0, 34116.0, 36443.0, 52868.0, 68024.0, 43515.0, 56436.0, 19232.0, 92715.0, 72370.0, 47155.0, 86046.0, 25389.0, 31450.0, 17873.0, 24959.0, 27977.0, 36251.0, 41360.0, 45855.0, 501.20458984375, 310.605224609375, 256.1595153808594, 231.8206787109375, 89.93785095214844, 77.15174865722656, 71.33983612060547, 69.37522888183594, 65.15351104736328, 64.86731719970703, 61.381004333496094, 60.305580139160156, 57.2398796081543, 103.16423034667969, 53.6806755065918, 53.15959548950195, 49.936180114746094, 47.91287612915039, 112.12051391601562, 45.8660888671875, 45.66305160522461, 50.4160041809082, 84.11614227294922, 45.02223205566406, 151.03175354003906, 86.18645477294922, 40.264408111572266, 39.80646896362305, 39.751625061035156, 38.45293426513672, 830.8933715820312, 2911.811279296875, 98.25482177734375, 150.74420166015625, 1753.8255615234375, 741.252197265625, 264.2379455566406, 4311.505859375, 4249.9384765625, 474.241943359375, 1230.242919921875, 840.9119262695312, 3965.720458984375, 239.25794982910156, 1263.2777099609375, 239.9578857421875, 329.18804931640625, 150.7436981201172, 5326.00927734375, 1216.79638671875, 645.5004272460938, 1342.4852294921875, 1941.712646484375, 47562.03125, 19193.716796875, 346.410888671875, 9677.50390625, 1249.8951416015625, 11808.4228515625, 1306.0540771484375, 7736.0791015625, 6830.740234375, 19340.47265625, 2565.587646484375, 30236.060546875, 12022.70703125, 13803.89453125, 56436.05859375, 17422.291015625, 31520.357421875, 50841.29296875, 24628.908203125, 8911.30078125, 28252.93359375, 18369.908203125, 16710.58203125, 23013.9375, 57220.8125, 72370.453125, 13767.4140625, 8173.77783203125, 53125.56640625, 85473.0703125, 46186.87890625, 90956.734375, 140652.28125, 60368.80078125, 56405.5859375, 18950.880859375, 48342.140625, 58746.515625, 35927.40234375, 30127.12890625, 45991.37109375, 2107.10498046875, 779.5220947265625, 178.6186981201172, 87.85404968261719, 83.99171447753906, 222.0716094970703, 1410.2249755859375, 2693.346923828125, 31.81439781188965, 81.21556854248047, 127.81412506103516, 26.7370548248291, 3096.9306640625, 23.541433334350586, 22.01770782470703, 93.63876342773438, 148.8306427001953, 110.6712875366211, 85.19661712646484, 141.4462432861328, 163.1905975341797, 55.39995574951172, 1718.5501708984375, 12015.1064453125, 122.79778289794922, 23.358999252319336, 344.0897521972656, 25.618478775024414, 104.31353759765625, 34.31172561645508, 12904.244140625, 271.43853759765625, 1539.7862548828125, 41360.0078125, 5546.21240234375, 685.092041015625, 140652.28125, 19073.5234375, 10671.12890625, 497.0697021484375, 43994.5234375, 3449.028564453125, 10333.9140625, 11653.13671875, 11987.3173828125, 24608.462890625, 9477.5390625, 56405.5859375, 19163.515625, 85473.0703125, 17738.6953125, 2629.423583984375, 50841.29296875, 5279.63134765625, 10891.4267578125, 18306.095703125, 57220.8125, 50937.06640625, 14949.609375, 14423.423828125, 86046.1875, 28810.810546875, 28322.525390625, 90956.734375, 36455.55859375, 52935.5234375, 92715.0, 57006.16015625, 69988.3515625, 28252.93359375, 60368.80078125, 31520.357421875, 10625.5625, 5650.1220703125, 1880.24462890625, 3350.522705078125, 1125.08349609375, 815.9813842773438, 859.3231811523438, 533.0338134765625, 390.86236572265625, 355.3731994628906, 307.2313537597656, 295.91156005859375, 342.61871337890625, 4535.36181640625, 287.42108154296875, 25389.345703125, 247.98178100585938, 866.648193359375, 228.35479736328125, 179.68753051757812, 162.26036071777344, 152.5661163330078, 134.16287231445312, 128.68240356445312, 114.8364486694336, 112.645263671875, 111.4374008178711, 108.54833221435547, 94.67253875732422, 92.4383773803711, 24959.0234375, 677.3156127929688, 2329.61962890625, 296.12530517578125, 7038.2724609375, 1683.398681640625, 1349.8021240234375, 28220.556640625, 73784.9453125, 1322.0572509765625, 26532.77734375, 13401.92578125, 120503.7265625, 13395.2880859375, 13549.8017578125, 2956.982666015625, 2048.443359375, 56436.05859375, 864.0650024414062, 2109.04638671875, 27342.654296875, 4043.791015625, 8316.0419921875, 15040.98828125, 52868.34375, 11213.2578125, 69988.3515625, 16735.720703125, 22068.677734375, 9615.8505859375, 68024.2421875, 36455.55859375, 29498.353515625, 22656.099609375, 39715.80859375, 23013.9375, 47322.27734375, 49617.3359375, 85473.0703125, 57220.8125, 90956.734375, 9673.9306640625, 7508.37255859375, 3582.492431640625, 3089.1513671875, 919.7814331054688, 912.922607421875, 960.8304443359375, 685.2373657226562, 671.5094604492188, 661.2462158203125, 655.810546875, 617.043212890625, 527.3832397460938, 410.33551025390625, 1497.175537109375, 306.2477111816406, 280.0149230957031, 235.32962036132812, 656.4686279296875, 194.25933837890625, 361.84326171875, 167.96861267089844, 164.95774841308594, 158.6005859375, 154.00997924804688, 135.0963134765625, 130.43463134765625, 125.41834259033203, 116.79866790771484, 317.0169372558594, 9987.8271484375, 3916.838134765625, 2305.736083984375, 1400.50341796875, 8226.216796875, 660.39990234375, 85276.03125, 1921.3341064453125, 1665.451904296875, 1937.240234375, 6228.14501953125, 1120.1861572265625, 6875.66015625, 11980.1708984375, 7092.61669921875, 1159.77490234375, 4254.9287109375, 3290.358642578125, 2062.649169921875, 20005.033203125, 3389.18408203125, 25599.9375, 2920.165283203125, 68024.2421875, 30571.8984375, 16305.4091796875, 165562.421875, 3226.601806640625, 48342.140625, 5107.3369140625, 12878.767578125, 36455.55859375, 27455.0546875, 25865.23046875, 36251.76953125, 18008.478515625, 39715.80859375, 92715.0, 36862.45703125, 52935.5234375, 90956.734375, 69988.3515625, 58746.515625, 20042.830078125, 85473.0703125, 1422.9393310546875, 214.9603271484375, 94.62445831298828, 94.28474426269531, 67.39009857177734, 65.10247039794922, 60.39934539794922, 53.15351867675781, 49.969234466552734, 45.237770080566406, 40.52461242675781, 39.37884521484375, 38.37218475341797, 208.16641235351562, 350.6029357910156, 99.71663665771484, 24.994232177734375, 169.1450958251953, 24.513248443603516, 238.21153259277344, 136.84060668945312, 46.77378845214844, 1034.627685546875, 79.91277313232422, 7413.0087890625, 31.407623291015625, 42.46491622924805, 606.1841430664062, 24.607698440551758, 30.030696868896484, 1489.3890380859375, 93.99730682373047, 1673.68017578125, 702.4483642578125, 347.44622802734375, 32604.5625, 47155.73828125, 45855.0390625, 25831.18359375, 10332.3837890625, 30802.388671875, 92715.0, 16589.017578125, 4241.04931640625, 15697.396484375, 2240.502197265625, 50507.859375, 25928.1953125, 816.4971313476562, 4507.49169921875, 12776.4267578125, 9880.798828125, 23114.275390625, 4709.103515625, 6641.201171875, 22996.623046875, 15047.41015625, 38781.40625, 57006.16015625, 14598.412109375, 5973.033203125, 24173.982421875, 50937.06640625, 86046.1875, 36912.96875, 16735.720703125, 22068.677734375, 69988.3515625, 13183.2734375, 12845.0048828125, 56405.5859375, 52935.5234375, 53125.56640625, 140652.28125, 90956.734375, 85473.0703125, 1675.2789306640625, 648.3720703125, 996.1541748046875, 2787.21923828125, 312.1527099609375, 224.76736450195312, 272.2401428222656, 188.58702087402344, 183.96739196777344, 2101.200439453125, 169.64996337890625, 152.6280517578125, 139.40538024902344, 800.9402465820312, 571.2208862304688, 153.3491668701172, 116.70645904541016, 859.2377319335938, 110.19721221923828, 100.1604232788086, 88.79074096679688, 84.31861114501953, 83.7322006225586, 82.0221939086914, 81.75904083251953, 81.08740997314453, 79.4948501586914, 78.86805725097656, 77.0440673828125, 948.5046997070312, 5475.60302734375, 538.635009765625, 625.245849609375, 1225.6544189453125, 8981.373046875, 1536.7978515625, 593.3172607421875, 1698.1051025390625, 1529.0, 8006.12841796875, 27977.59375, 635.787841796875, 670.7057495117188, 9009.6337890625, 2239.832763671875, 1714.577880859375, 1272.630126953125, 21023.26953125, 1044.3192138671875, 4138.64208984375, 10398.26171875, 7235.87548828125, 3876.57666015625, 2583.710205078125, 8254.9853515625, 21207.24609375, 8413.1953125, 4267.28076171875, 52935.5234375, 6911.00390625, 26231.806640625, 26409.98046875, 10959.1943359375, 10564.7578125, 18008.478515625, 24173.982421875, 22656.099609375, 30802.388671875, 10176.962890625, 38781.40625, 23570.646484375, 57006.16015625, 20005.033203125, 15812.6611328125, 60368.80078125, 110258.90625, 90956.734375, 36862.45703125, 7448.41796875, 5391.859375, 937.7625732421875, 1032.4952392578125, 350.9461364746094, 273.0484924316406, 153.91281127929688, 138.0307159423828, 118.6314697265625, 115.03018951416016, 113.23287200927734, 100.6982192993164, 94.98678588867188, 93.03951263427734, 90.55985260009766, 82.13569641113281, 68.74028015136719, 63.749263763427734, 99.9875717163086, 54.5745964050293, 7288.7275390625, 40.925907135009766, 39.081790924072266, 672.8050537109375, 34.5300407409668, 5035.4736328125, 138.5854949951172, 51.85129928588867, 26.101818084716797, 1642.2445068359375, 9863.537109375, 16201.3037109375, 103023.71875, 12892.4453125, 27802.119140625, 874.79443359375, 4781.86474609375, 742.7978515625, 995.8663330078125, 165562.421875, 36251.76953125, 8237.3798828125, 4207.9501953125, 10602.919921875, 3367.4990234375, 18145.064453125, 6051.67822265625, 983.1924438476562, 13628.142578125, 16287.4296875, 5929.43505859375, 9300.6806640625, 27596.00390625, 86046.1875, 15637.146484375, 11516.6552734375, 38018.85546875, 18327.658203125, 23223.818359375, 31450.841796875, 60368.80078125, 36912.96875, 30571.8984375, 50507.859375, 47155.73828125, 50937.06640625, 53125.56640625, 90956.734375, 1140.9478759765625, 586.1705932617188, 162.0043182373047, 154.810302734375, 96.65990447998047, 85.3606948852539, 49.746307373046875, 363.0016174316406, 34116.80859375, 35.99289321899414, 45.37821960449219, 21.950130462646484, 56.53567123413086, 18.534168243408203, 582.0196533203125, 32.952491760253906, 36.57250213623047, 35.24330520629883, 63.45158004760742, 356.48876953125, 591.957763671875, 25.091463088989258, 16.20340919494629, 22.73488998413086, 92.74109649658203, 501.0859069824219, 159823.671875, 1091.7750244140625, 304.5723876953125, 31.213533401489258, 949.61279296875, 5814.75732421875, 44274.59375, 3392.326416015625, 9321.373046875, 8126.32470703125, 14898.0166015625, 47322.27734375, 9810.640625, 30127.12890625, 4705.8203125, 5880.0888671875, 58746.515625, 27796.1875, 6438.59326171875, 36912.96875, 16226.5283203125, 11857.478515625, 69988.3515625, 72370.453125, 45991.37109375, 14605.5478515625, 52868.34375, 90956.734375, 15816.7138671875, 7838.01171875, 12485.7724609375, 18142.083984375, 20042.830078125, 165562.421875, 92715.0, 140652.28125, 15637.146484375, 27596.00390625, 48342.140625, 53125.56640625, 36862.45703125, 120503.7265625, 49617.3359375, 3500.44140625, 1334.6845703125, 385.77984619140625, 380.5115966796875, 375.130126953125, 332.0952453613281, 310.46490478515625, 309.5179138183594, 294.08538818359375, 482.21136474609375, 147.49603271484375, 635.3616943359375, 126.00199890136719, 121.74993133544922, 118.90802764892578, 6767.896484375, 109.03546142578125, 106.33135986328125, 103.84396362304688, 93.27628326416016, 2036.2412109375, 75.39529418945312, 55.796630859375, 53.83334732055664, 217.1661834716797, 42.41989517211914, 39.43259048461914, 35.85791015625, 365.0142822265625, 35.05189514160156, 39613.7265625, 2097.730224609375, 18833.76171875, 121.4022445678711, 5763.91650390625, 459.612060546875, 847.1243896484375, 2854.700927734375, 43515.71484375, 839.5850219726562, 7015.30712890625, 480.77581787109375, 2386.4423828125, 961.0160522460938, 52868.34375, 4496.44580078125, 49617.3359375, 68024.2421875, 45991.37109375, 16226.5283203125, 3493.5673828125, 3692.77978515625, 4193.7177734375, 15044.0654296875, 72370.453125, 22954.888671875, 3189.81787109375, 110258.90625, 17170.185546875, 58746.515625, 27796.1875, 4957.87109375, 159823.671875, 21646.119140625, 16735.025390625, 46186.87890625, 6195.04345703125, 9855.94921875, 17058.279296875, 44274.59375, 36912.96875, 47322.27734375, 60368.80078125, 90956.734375, 13883.8076171875, 13541.125, 4817.61279296875, 2814.8837890625, 2256.1884765625, 1754.4483642578125, 1466.0614013671875, 1441.354248046875, 1381.793212890625, 7623.84375, 3239.435791015625, 554.30078125, 480.0270080566406, 461.19451904296875, 3734.516845703125, 435.306640625, 365.37518310546875, 339.55279541015625, 265.4778747558594, 236.51513671875, 230.92645263671875, 206.4574737548828, 204.1907958984375, 268.1383361816406, 161.75930786132812, 125.77534484863281, 121.42396545410156, 103.08467102050781, 102.95867919921875, 5971.4951171875, 759.5576171875, 2325.189697265625, 1683.0555419921875, 619.13427734375, 1309.678466796875, 1057.7431640625, 10015.8369140625, 110258.90625, 8002.77978515625, 4433.5107421875, 1946.43896484375, 9956.015625, 4104.685546875, 1609.85205078125, 1357.4520263671875, 6542.03662109375, 4815.85595703125, 5271.5283203125, 9080.935546875, 46186.87890625, 2820.42919921875, 159823.671875, 6195.04345703125, 72370.453125, 90956.734375, 58746.515625, 22954.888671875, 28252.93359375, 5314.47265625, 52935.5234375, 16226.5283203125, 39613.7265625, 15702.361328125, 30236.060546875, 85473.0703125, 36608.75390625, 86046.1875, 49617.3359375, 1682.541748046875, 875.498046875, 634.1370239257812, 553.2225341796875, 492.4988708496094, 878.7239990234375, 430.2168273925781, 1754.959716796875, 275.8194580078125, 268.8341064453125, 249.73512268066406, 230.7687530517578, 2154.32421875, 213.8519287109375, 193.58859252929688, 184.1611785888672, 179.72288513183594, 176.16864013671875, 186.07872009277344, 8845.1123046875, 159.19247436523438, 135.98182678222656, 133.20094299316406, 129.82269287109375, 114.38645935058594, 112.01902770996094, 309.8222351074219, 111.82991790771484, 106.124267578125, 213.10401916503906, 3630.993896484375, 183.05943298339844, 4433.1669921875, 1495.4674072265625, 40501.46484375, 1104.4202880859375, 961.3992309570312, 7824.28271484375, 1872.8497314453125, 2659.205322265625, 2656.524658203125, 31450.841796875, 14177.9140625, 1113.4632568359375, 560.940673828125, 10448.255859375, 11076.6767578125, 1298.7476806640625, 1996.7657470703125, 2464.323974609375, 10576.5556640625, 10187.8798828125, 8533.7822265625, 5898.2470703125, 3797.49853515625, 3528.4990234375, 5986.27685546875, 4327.6826171875, 7411.501953125, 18145.064453125, 12048.0439453125, 21646.119140625, 38018.85546875, 29498.353515625, 10176.962890625, 57006.16015625, 17058.279296875, 38781.40625, 13183.2734375, 10959.1943359375, 30802.388671875, 20547.08984375, 17694.11328125, 60368.80078125, 50507.859375, 47155.73828125, 86046.1875, 23570.646484375, 10955.3173828125, 541.6638793945312, 350.1745300292969, 8469.51953125, 129.78150939941406, 10589.8828125, 90.01920318603516, 87.3399658203125, 86.88455200195312, 87.64342498779297, 80.0728988647461, 71.97240447998047, 71.97240447998047, 50.36012649536133, 47.93328857421875, 46.54840850830078, 46.2166748046875, 42.17511749267578, 37.23127746582031, 32.035186767578125, 73.43732452392578, 116.0418472290039, 31.225284576416016, 652.51708984375, 28.556129455566406, 252.04078674316406, 24.63736343383789, 69.44377899169922, 22.823139190673828, 22.4494571685791, 12691.2353515625, 51.34765625, 2151.645751953125, 5392.76953125, 5701.7666015625, 713.5032348632812, 7070.3251953125, 6951.15234375, 407.9178161621094, 986.5633544921875, 5392.408203125, 2361.38037109375, 2448.37255859375, 2162.24853515625, 16160.1396484375, 22402.828125, 14490.9765625, 2308.390869140625, 1265.7259521484375, 1528.104736328125, 865.0377197265625, 600.9482421875, 13771.8662109375, 3047.021484375, 23570.646484375, 3920.385498046875, 4447.18896484375, 4078.884033203125, 3329.71533203125, 6935.09130859375, 86046.1875, 4300.37158203125, 3760.1484375, 5556.75537109375, 28322.525390625, 103023.71875, 13628.142578125, 11874.5615234375, 25865.23046875, 165562.421875, 38018.85546875, 28810.810546875, 23114.275390625, 18327.658203125, 43994.5234375, 20862.23046875, 38781.40625, 50507.859375, 30571.8984375, 17873.283203125, 8115.97802734375, 30261.884765625, 4510.25390625, 4336.76708984375, 4964.0791015625, 3705.145751953125, 4360.83056640625, 1738.599609375, 1651.460205078125, 1601.467529296875, 1309.85400390625, 1239.14404296875, 1212.86572265625, 1773.8021240234375, 1082.007568359375, 873.421630859375, 808.9638671875, 740.2130126953125, 691.439453125, 664.7538452148438, 620.5881958007812, 1961.225830078125, 608.1270141601562, 451.8111267089844, 414.7727355957031, 411.7039794921875, 341.17864990234375, 308.0592041015625, 270.6033020019531, 689.1860961914062, 431.0272521972656, 499.3382873535156, 14072.244140625, 1723.6807861328125, 7407.95068359375, 15812.6611328125, 1595.796142578125, 3466.088134765625, 2395.996337890625, 9321.373046875, 12048.0439453125, 25599.9375, 21207.24609375, 3590.25927734375, 3277.611328125, 110258.90625, 60368.80078125, 45991.37109375, 7267.1943359375, 27455.0546875, 22068.677734375, 6363.8701171875, 72370.453125, 9009.6337890625, 85473.0703125, 159823.671875, 90956.734375, 165562.421875, 18562.66015625, 15044.0654296875, 57220.8125, 57006.16015625, 58746.515625, 19232.904296875, 4833.0380859375, 1440.2581787109375, 1093.9327392578125, 4481.537109375, 850.078857421875, 437.56494140625, 283.20831298828125, 270.8076477050781, 242.4058837890625, 153.52723693847656, 149.7388153076172, 140.51658630371094, 129.6611785888672, 124.50419616699219, 109.55772399902344, 917.527587890625, 90.45032501220703, 70.88450622558594, 62.967430114746094, 61.544097900390625, 60.74586868286133, 59.91015625, 56.4111442565918, 51.12168502807617, 1744.8314208984375, 32.25164031982422, 204.5746612548828, 1334.426513671875, 336.7307434082031, 2028.958984375, 732.392822265625, 14129.708984375, 14942.4814453125, 529.9299926757812, 312.7433166503906, 36443.83203125, 4270.7451171875, 1101.0751953125, 3054.890625, 120503.7265625, 1383.990478515625, 503.22161865234375, 455.1937255859375, 365.6943359375, 26409.98046875, 6382.6162109375, 39715.80859375, 4342.02294921875, 2497.08935546875, 13401.92578125, 2551.129150390625, 30571.8984375, 7083.09375, 46186.87890625, 8316.0419921875, 29498.353515625, 26231.806640625, 28810.810546875, 36862.45703125, 17738.6953125, 20862.23046875, 47155.73828125, 27977.59375, 36608.75390625, 90956.734375, 86046.1875], \"Category\": [\"Default\", \"Default\", \"Default\", \"Default\", \"Default\", \"Default\", \"Default\", \"Default\", \"Default\", \"Default\", \"Default\", \"Default\", \"Default\", \"Default\", \"Default\", \"Default\", \"Default\", \"Default\", \"Default\", \"Default\", \"Default\", \"Default\", \"Default\", \"Default\", \"Default\", \"Default\", \"Default\", \"Default\", \"Default\", \"Default\", \"Topic1\", \"Topic1\", \"Topic1\", \"Topic1\", \"Topic1\", \"Topic1\", \"Topic1\", \"Topic1\", \"Topic1\", \"Topic1\", \"Topic1\", \"Topic1\", \"Topic1\", \"Topic1\", \"Topic1\", \"Topic1\", \"Topic1\", \"Topic1\", \"Topic1\", \"Topic1\", \"Topic1\", \"Topic1\", \"Topic1\", \"Topic1\", \"Topic1\", \"Topic1\", \"Topic1\", \"Topic1\", \"Topic1\", \"Topic1\", \"Topic1\", \"Topic1\", \"Topic1\", \"Topic1\", \"Topic1\", \"Topic1\", \"Topic1\", \"Topic1\", \"Topic1\", \"Topic1\", \"Topic1\", \"Topic1\", \"Topic1\", \"Topic1\", \"Topic1\", \"Topic1\", \"Topic1\", \"Topic1\", \"Topic1\", \"Topic1\", \"Topic1\", \"Topic1\", \"Topic1\", \"Topic1\", \"Topic1\", \"Topic1\", \"Topic1\", \"Topic1\", \"Topic1\", \"Topic1\", \"Topic1\", \"Topic1\", \"Topic1\", \"Topic1\", \"Topic1\", \"Topic1\", \"Topic1\", \"Topic1\", \"Topic1\", \"Topic1\", \"Topic1\", \"Topic1\", \"Topic1\", \"Topic1\", \"Topic1\", \"Topic1\", \"Topic1\", \"Topic1\", \"Topic1\", \"Topic1\", \"Topic1\", \"Topic1\", \"Topic1\", \"Topic1\", \"Topic1\", \"Topic1\", \"Topic1\", \"Topic1\", \"Topic1\", \"Topic1\", \"Topic1\", \"Topic1\", \"Topic1\", \"Topic1\", \"Topic2\", \"Topic2\", \"Topic2\", \"Topic2\", \"Topic2\", \"Topic2\", \"Topic2\", \"Topic2\", \"Topic2\", \"Topic2\", \"Topic2\", \"Topic2\", \"Topic2\", \"Topic2\", \"Topic2\", \"Topic2\", \"Topic2\", \"Topic2\", \"Topic2\", \"Topic2\", \"Topic2\", \"Topic2\", \"Topic2\", \"Topic2\", \"Topic2\", \"Topic2\", \"Topic2\", \"Topic2\", \"Topic2\", \"Topic2\", \"Topic2\", \"Topic2\", \"Topic2\", \"Topic2\", \"Topic2\", \"Topic2\", \"Topic2\", \"Topic2\", \"Topic2\", \"Topic2\", \"Topic2\", \"Topic2\", \"Topic2\", \"Topic2\", \"Topic2\", \"Topic2\", \"Topic2\", \"Topic2\", \"Topic2\", \"Topic2\", \"Topic2\", \"Topic2\", \"Topic2\", \"Topic2\", \"Topic2\", \"Topic2\", \"Topic2\", \"Topic2\", \"Topic2\", \"Topic2\", \"Topic2\", \"Topic2\", \"Topic2\", \"Topic2\", \"Topic2\", \"Topic2\", \"Topic2\", \"Topic2\", \"Topic2\", \"Topic2\", \"Topic2\", \"Topic2\", \"Topic3\", \"Topic3\", \"Topic3\", \"Topic3\", \"Topic3\", \"Topic3\", \"Topic3\", \"Topic3\", \"Topic3\", \"Topic3\", \"Topic3\", \"Topic3\", \"Topic3\", \"Topic3\", \"Topic3\", \"Topic3\", \"Topic3\", \"Topic3\", \"Topic3\", \"Topic3\", \"Topic3\", \"Topic3\", \"Topic3\", \"Topic3\", \"Topic3\", \"Topic3\", \"Topic3\", \"Topic3\", \"Topic3\", \"Topic3\", \"Topic3\", \"Topic3\", \"Topic3\", \"Topic3\", \"Topic3\", \"Topic3\", \"Topic3\", \"Topic3\", \"Topic3\", \"Topic3\", \"Topic3\", \"Topic3\", \"Topic3\", \"Topic3\", \"Topic3\", \"Topic3\", \"Topic3\", \"Topic3\", \"Topic3\", \"Topic3\", \"Topic3\", \"Topic3\", \"Topic3\", \"Topic3\", \"Topic3\", \"Topic3\", \"Topic3\", \"Topic3\", \"Topic3\", \"Topic3\", \"Topic3\", \"Topic3\", \"Topic3\", \"Topic3\", \"Topic3\", \"Topic3\", \"Topic3\", \"Topic3\", \"Topic3\", \"Topic3\", \"Topic3\", \"Topic4\", \"Topic4\", \"Topic4\", \"Topic4\", \"Topic4\", \"Topic4\", \"Topic4\", \"Topic4\", \"Topic4\", \"Topic4\", \"Topic4\", \"Topic4\", \"Topic4\", \"Topic4\", \"Topic4\", \"Topic4\", \"Topic4\", \"Topic4\", \"Topic4\", \"Topic4\", \"Topic4\", \"Topic4\", \"Topic4\", \"Topic4\", \"Topic4\", \"Topic4\", \"Topic4\", \"Topic4\", \"Topic4\", \"Topic4\", \"Topic4\", \"Topic4\", \"Topic4\", \"Topic4\", \"Topic4\", \"Topic4\", \"Topic4\", \"Topic4\", \"Topic4\", \"Topic4\", \"Topic4\", \"Topic4\", \"Topic4\", \"Topic4\", \"Topic4\", \"Topic4\", \"Topic4\", \"Topic4\", \"Topic4\", \"Topic4\", \"Topic4\", \"Topic4\", \"Topic4\", \"Topic4\", \"Topic4\", \"Topic4\", \"Topic4\", \"Topic4\", \"Topic4\", \"Topic4\", \"Topic4\", \"Topic4\", \"Topic4\", \"Topic4\", \"Topic4\", \"Topic4\", \"Topic4\", \"Topic4\", \"Topic4\", \"Topic4\", \"Topic4\", \"Topic4\", \"Topic4\", \"Topic4\", \"Topic4\", \"Topic5\", \"Topic5\", \"Topic5\", \"Topic5\", \"Topic5\", \"Topic5\", \"Topic5\", \"Topic5\", \"Topic5\", \"Topic5\", \"Topic5\", \"Topic5\", \"Topic5\", \"Topic5\", \"Topic5\", \"Topic5\", \"Topic5\", \"Topic5\", \"Topic5\", \"Topic5\", \"Topic5\", \"Topic5\", \"Topic5\", \"Topic5\", \"Topic5\", \"Topic5\", \"Topic5\", \"Topic5\", \"Topic5\", \"Topic5\", \"Topic5\", \"Topic5\", \"Topic5\", \"Topic5\", \"Topic5\", \"Topic5\", \"Topic5\", \"Topic5\", \"Topic5\", \"Topic5\", \"Topic5\", \"Topic5\", \"Topic5\", \"Topic5\", \"Topic5\", \"Topic5\", \"Topic5\", \"Topic5\", \"Topic5\", \"Topic5\", \"Topic5\", \"Topic5\", \"Topic5\", \"Topic5\", \"Topic5\", \"Topic5\", \"Topic5\", \"Topic5\", \"Topic5\", \"Topic5\", \"Topic5\", \"Topic5\", \"Topic5\", \"Topic5\", \"Topic5\", \"Topic5\", \"Topic5\", \"Topic5\", \"Topic5\", \"Topic5\", \"Topic5\", \"Topic5\", \"Topic5\", \"Topic5\", \"Topic5\", \"Topic5\", \"Topic6\", \"Topic6\", \"Topic6\", \"Topic6\", \"Topic6\", \"Topic6\", \"Topic6\", \"Topic6\", \"Topic6\", \"Topic6\", \"Topic6\", \"Topic6\", \"Topic6\", \"Topic6\", \"Topic6\", \"Topic6\", \"Topic6\", \"Topic6\", \"Topic6\", \"Topic6\", \"Topic6\", \"Topic6\", \"Topic6\", \"Topic6\", \"Topic6\", \"Topic6\", \"Topic6\", \"Topic6\", \"Topic6\", \"Topic6\", \"Topic6\", \"Topic6\", \"Topic6\", \"Topic6\", \"Topic6\", \"Topic6\", \"Topic6\", \"Topic6\", \"Topic6\", \"Topic6\", \"Topic6\", \"Topic6\", \"Topic6\", \"Topic6\", \"Topic6\", \"Topic6\", \"Topic6\", \"Topic6\", \"Topic6\", \"Topic6\", \"Topic6\", \"Topic6\", \"Topic6\", \"Topic6\", \"Topic6\", \"Topic6\", \"Topic6\", \"Topic6\", \"Topic6\", \"Topic6\", \"Topic6\", \"Topic6\", \"Topic6\", \"Topic6\", \"Topic6\", \"Topic6\", \"Topic6\", \"Topic6\", \"Topic6\", \"Topic6\", \"Topic6\", \"Topic6\", \"Topic6\", \"Topic6\", \"Topic6\", \"Topic6\", \"Topic6\", \"Topic6\", \"Topic7\", \"Topic7\", \"Topic7\", \"Topic7\", \"Topic7\", \"Topic7\", \"Topic7\", \"Topic7\", \"Topic7\", \"Topic7\", \"Topic7\", \"Topic7\", \"Topic7\", \"Topic7\", \"Topic7\", \"Topic7\", \"Topic7\", \"Topic7\", \"Topic7\", \"Topic7\", \"Topic7\", \"Topic7\", \"Topic7\", \"Topic7\", \"Topic7\", \"Topic7\", \"Topic7\", \"Topic7\", \"Topic7\", \"Topic7\", \"Topic7\", \"Topic7\", \"Topic7\", \"Topic7\", \"Topic7\", \"Topic7\", \"Topic7\", \"Topic7\", \"Topic7\", \"Topic7\", \"Topic7\", \"Topic7\", \"Topic7\", \"Topic7\", \"Topic7\", \"Topic7\", \"Topic7\", \"Topic7\", \"Topic7\", \"Topic7\", \"Topic7\", \"Topic7\", \"Topic7\", \"Topic7\", \"Topic7\", \"Topic7\", \"Topic7\", \"Topic7\", \"Topic7\", \"Topic7\", \"Topic7\", \"Topic7\", \"Topic7\", \"Topic7\", \"Topic7\", \"Topic7\", \"Topic7\", \"Topic7\", \"Topic8\", \"Topic8\", \"Topic8\", \"Topic8\", \"Topic8\", \"Topic8\", \"Topic8\", \"Topic8\", \"Topic8\", \"Topic8\", \"Topic8\", \"Topic8\", \"Topic8\", \"Topic8\", \"Topic8\", \"Topic8\", \"Topic8\", \"Topic8\", \"Topic8\", \"Topic8\", \"Topic8\", \"Topic8\", \"Topic8\", \"Topic8\", \"Topic8\", \"Topic8\", \"Topic8\", \"Topic8\", \"Topic8\", \"Topic8\", \"Topic8\", \"Topic8\", \"Topic8\", \"Topic8\", \"Topic8\", \"Topic8\", \"Topic8\", \"Topic8\", \"Topic8\", \"Topic8\", \"Topic8\", \"Topic8\", \"Topic8\", \"Topic8\", \"Topic8\", \"Topic8\", \"Topic8\", \"Topic8\", \"Topic8\", \"Topic8\", \"Topic8\", \"Topic8\", \"Topic8\", \"Topic8\", \"Topic8\", \"Topic8\", \"Topic8\", \"Topic8\", \"Topic8\", \"Topic8\", \"Topic8\", \"Topic8\", \"Topic8\", \"Topic8\", \"Topic8\", \"Topic8\", \"Topic8\", \"Topic8\", \"Topic8\", \"Topic9\", \"Topic9\", \"Topic9\", \"Topic9\", \"Topic9\", \"Topic9\", \"Topic9\", \"Topic9\", \"Topic9\", \"Topic9\", \"Topic9\", \"Topic9\", \"Topic9\", \"Topic9\", \"Topic9\", \"Topic9\", \"Topic9\", \"Topic9\", \"Topic9\", \"Topic9\", \"Topic9\", \"Topic9\", \"Topic9\", \"Topic9\", \"Topic9\", \"Topic9\", \"Topic9\", \"Topic9\", \"Topic9\", \"Topic9\", \"Topic9\", \"Topic9\", \"Topic9\", \"Topic9\", \"Topic9\", \"Topic9\", \"Topic9\", \"Topic9\", \"Topic9\", \"Topic9\", \"Topic9\", \"Topic9\", \"Topic9\", \"Topic9\", \"Topic9\", \"Topic9\", \"Topic9\", \"Topic9\", \"Topic9\", \"Topic9\", \"Topic9\", \"Topic9\", \"Topic9\", \"Topic9\", \"Topic9\", \"Topic9\", \"Topic9\", \"Topic9\", \"Topic9\", \"Topic9\", \"Topic9\", \"Topic9\", \"Topic9\", \"Topic9\", \"Topic9\", \"Topic9\", \"Topic9\", \"Topic9\", \"Topic9\", \"Topic9\", \"Topic9\", \"Topic9\", \"Topic9\", \"Topic9\", \"Topic10\", \"Topic10\", \"Topic10\", \"Topic10\", \"Topic10\", \"Topic10\", \"Topic10\", \"Topic10\", \"Topic10\", \"Topic10\", \"Topic10\", \"Topic10\", \"Topic10\", \"Topic10\", \"Topic10\", \"Topic10\", \"Topic10\", \"Topic10\", \"Topic10\", \"Topic10\", \"Topic10\", \"Topic10\", \"Topic10\", \"Topic10\", \"Topic10\", \"Topic10\", \"Topic10\", \"Topic10\", \"Topic10\", \"Topic10\", \"Topic10\", \"Topic10\", \"Topic10\", \"Topic10\", \"Topic10\", \"Topic10\", \"Topic10\", \"Topic10\", \"Topic10\", \"Topic10\", \"Topic10\", \"Topic10\", \"Topic10\", \"Topic10\", \"Topic10\", \"Topic10\", \"Topic10\", \"Topic10\", \"Topic10\", \"Topic10\", \"Topic10\", \"Topic10\", \"Topic10\", \"Topic10\", \"Topic10\", \"Topic10\", \"Topic10\", \"Topic10\", \"Topic10\", \"Topic10\", \"Topic10\", \"Topic10\", \"Topic10\", \"Topic10\", \"Topic10\", \"Topic10\", \"Topic10\", \"Topic10\", \"Topic11\", \"Topic11\", \"Topic11\", \"Topic11\", \"Topic11\", \"Topic11\", \"Topic11\", \"Topic11\", \"Topic11\", \"Topic11\", \"Topic11\", \"Topic11\", \"Topic11\", \"Topic11\", \"Topic11\", \"Topic11\", \"Topic11\", \"Topic11\", \"Topic11\", \"Topic11\", \"Topic11\", \"Topic11\", \"Topic11\", \"Topic11\", \"Topic11\", \"Topic11\", \"Topic11\", \"Topic11\", \"Topic11\", \"Topic11\", \"Topic11\", \"Topic11\", \"Topic11\", \"Topic11\", \"Topic11\", \"Topic11\", \"Topic11\", \"Topic11\", \"Topic11\", \"Topic11\", \"Topic11\", \"Topic11\", \"Topic11\", \"Topic11\", \"Topic11\", \"Topic11\", \"Topic11\", \"Topic11\", \"Topic11\", \"Topic11\", \"Topic11\", \"Topic11\", \"Topic11\", \"Topic11\", \"Topic11\", \"Topic11\", \"Topic11\", \"Topic11\", \"Topic11\", \"Topic11\", \"Topic11\", \"Topic11\", \"Topic11\", \"Topic11\", \"Topic11\", \"Topic11\", \"Topic11\", \"Topic11\", \"Topic11\", \"Topic11\", \"Topic11\", \"Topic11\", \"Topic11\", \"Topic11\", \"Topic11\", \"Topic11\", \"Topic11\", \"Topic11\", \"Topic12\", \"Topic12\", \"Topic12\", \"Topic12\", \"Topic12\", \"Topic12\", \"Topic12\", \"Topic12\", \"Topic12\", \"Topic12\", \"Topic12\", \"Topic12\", \"Topic12\", \"Topic12\", \"Topic12\", \"Topic12\", \"Topic12\", \"Topic12\", \"Topic12\", \"Topic12\", \"Topic12\", \"Topic12\", \"Topic12\", \"Topic12\", \"Topic12\", \"Topic12\", \"Topic12\", \"Topic12\", \"Topic12\", \"Topic12\", \"Topic12\", \"Topic12\", \"Topic12\", \"Topic12\", \"Topic12\", \"Topic12\", \"Topic12\", \"Topic12\", \"Topic12\", \"Topic12\", \"Topic12\", \"Topic12\", \"Topic12\", \"Topic12\", \"Topic12\", \"Topic12\", \"Topic12\", \"Topic12\", \"Topic12\", \"Topic12\", \"Topic12\", \"Topic12\", \"Topic12\", \"Topic12\", \"Topic12\", \"Topic12\", \"Topic12\", \"Topic12\", \"Topic12\", \"Topic12\", \"Topic12\", \"Topic12\", \"Topic12\", \"Topic12\", \"Topic12\", \"Topic12\", \"Topic12\", \"Topic12\", \"Topic12\", \"Topic12\", \"Topic12\", \"Topic12\", \"Topic12\", \"Topic12\", \"Topic12\", \"Topic12\", \"Topic12\", \"Topic12\", \"Topic12\", \"Topic13\", \"Topic13\", \"Topic13\", \"Topic13\", \"Topic13\", \"Topic13\", \"Topic13\", \"Topic13\", \"Topic13\", \"Topic13\", \"Topic13\", \"Topic13\", \"Topic13\", \"Topic13\", \"Topic13\", \"Topic13\", \"Topic13\", \"Topic13\", \"Topic13\", \"Topic13\", \"Topic13\", \"Topic13\", \"Topic13\", \"Topic13\", \"Topic13\", \"Topic13\", \"Topic13\", \"Topic13\", \"Topic13\", \"Topic13\", \"Topic13\", \"Topic13\", \"Topic13\", \"Topic13\", \"Topic13\", \"Topic13\", \"Topic13\", \"Topic13\", \"Topic13\", \"Topic13\", \"Topic13\", \"Topic13\", \"Topic13\", \"Topic13\", \"Topic13\", \"Topic13\", \"Topic13\", \"Topic13\", \"Topic13\", \"Topic13\", \"Topic13\", \"Topic13\", \"Topic13\", \"Topic13\", \"Topic13\", \"Topic13\", \"Topic13\", \"Topic13\", \"Topic13\", \"Topic13\", \"Topic13\", \"Topic13\", \"Topic13\", \"Topic13\", \"Topic14\", \"Topic14\", \"Topic14\", \"Topic14\", \"Topic14\", \"Topic14\", \"Topic14\", \"Topic14\", \"Topic14\", \"Topic14\", \"Topic14\", \"Topic14\", \"Topic14\", \"Topic14\", \"Topic14\", \"Topic14\", \"Topic14\", \"Topic14\", \"Topic14\", \"Topic14\", \"Topic14\", \"Topic14\", \"Topic14\", \"Topic14\", \"Topic14\", \"Topic14\", \"Topic14\", \"Topic14\", \"Topic14\", \"Topic14\", \"Topic14\", \"Topic14\", \"Topic14\", \"Topic14\", \"Topic14\", \"Topic14\", \"Topic14\", \"Topic14\", \"Topic14\", \"Topic14\", \"Topic14\", \"Topic14\", \"Topic14\", \"Topic14\", \"Topic14\", \"Topic14\", \"Topic14\", \"Topic14\", \"Topic14\", \"Topic14\", \"Topic14\", \"Topic14\", \"Topic14\", \"Topic14\", \"Topic14\", \"Topic14\", \"Topic14\", \"Topic14\", \"Topic14\", \"Topic14\", \"Topic14\", \"Topic14\", \"Topic14\", \"Topic14\", \"Topic14\", \"Topic14\", \"Topic14\"], \"logprob\": [30.0, 29.0, 28.0, 27.0, 26.0, 25.0, 24.0, 23.0, 22.0, 21.0, 20.0, 19.0, 18.0, 17.0, 16.0, 15.0, 14.0, 13.0, 12.0, 11.0, 10.0, 9.0, 8.0, 7.0, 6.0, 5.0, 4.0, 3.0, 2.0, 1.0, -7.844799995422363, -8.324899673461914, -8.518500328063965, -8.623499870300293, -9.574799537658691, -9.730600357055664, -9.81029987335205, -9.838800430297852, -9.902799606323242, -9.907299995422363, -9.963800430297852, -9.981800079345703, -10.035099983215332, -9.447600364685059, -10.100899696350098, -10.110899925231934, -10.175100326538086, -10.217599868774414, -9.36769962310791, -10.262499809265137, -10.26710033416748, -10.168399810791016, -9.656499862670898, -10.281599998474121, -9.07349967956543, -9.634900093078613, -10.396900177001953, -10.408699989318848, -10.410099983215332, -10.444499969482422, -7.375500202178955, -6.149899959564209, -9.509900093078613, -9.087800025939941, -6.664299964904785, -7.515999794006348, -8.545299530029297, -5.8105998039245605, -5.8267998695373535, -7.975900173187256, -7.051499843597412, -7.427000045776367, -5.938499927520752, -8.6496000289917, -7.05649995803833, -8.651900291442871, -8.350299835205078, -9.10159969329834, -5.732900142669678, -7.1230998039245605, -7.724800109863281, -7.042699813842773, -6.700099945068359, -3.729599952697754, -4.583000183105469, -8.319999694824219, -5.2418999671936035, -7.130499839782715, -5.065400123596191, -7.107500076293945, -5.5071001052856445, -5.633299827575684, -4.747499942779541, -6.536099910736084, -4.373899936676025, -5.244900226593018, -5.14900016784668, -4.021200180053711, -4.989699840545654, -4.515900135040283, -4.144499778747559, -4.767300128936768, -5.578999996185303, -4.687600135803223, -5.024600028991699, -5.106100082397461, -4.868899822235107, -4.209400177001953, -4.0493998527526855, -5.285600185394287, -5.689199924468994, -4.4182000160217285, -4.114299774169922, -4.614999771118164, -4.321599960327148, -4.1367998123168945, -4.627299785614014, -4.664400100708008, -5.173699855804443, -4.797900199890137, -4.747700214385986, -5.08489990234375, -5.127799987792969, -5.213799953460693, -6.232699871063232, -7.22790002822876, -8.706999778747559, -9.424300193786621, -9.469900131225586, -8.505900382995605, -6.666600227355957, -6.024199962615967, -10.467100143432617, -9.530099868774414, -9.083600044250488, -10.649200439453125, -5.9004998207092285, -10.783499717712402, -10.854599952697754, -9.422699928283691, -8.960599899291992, -9.261799812316895, -9.524200439453125, -9.01729965209961, -8.883399963378906, -9.971199989318848, -6.559800148010254, -4.617599964141846, -9.205100059509277, -10.866000175476074, -8.18120002746582, -10.792900085449219, -9.3927001953125, -10.507200241088867, -4.603600025177002, -8.441100120544434, -6.742400169372559, -3.5550999641418457, -5.512499809265137, -7.551700115203857, -2.442699909210205, -4.398099899291992, -5.020299911499023, -7.896999835968018, -3.731800079345703, -6.108099937438965, -5.155200004577637, -5.048699855804443, -5.025000095367432, -4.48330020904541, -5.322700023651123, -3.811500072479248, -4.75, -3.473299980163574, -4.836100101470947, -6.485899925231934, -4.048500061035156, -5.932300090789795, -5.377099990844727, -4.967599868774414, -4.142600059509277, -4.264999866485596, -5.227399826049805, -5.260900020599365, -4.131100177764893, -4.850100040435791, -4.874599933624268, -4.25029993057251, -4.804299831390381, -4.674900054931641, -4.432700157165527, -4.7316999435424805, -4.676199913024902, -5.099400043487549, -4.969099998474121, -5.123700141906738, -4.594900131225586, -5.226600170135498, -6.327400207519531, -5.74970006942749, -6.841400146484375, -7.163099765777588, -7.111800193786621, -7.589700222015381, -7.901100158691406, -7.996399879455566, -8.142499923706055, -8.18019962310791, -8.033699989318848, -5.450900077819824, -8.20989990234375, -3.7286999225616455, -8.357799530029297, -7.106800079345703, -8.440699577331543, -8.682000160217285, -8.784799575805664, -8.847000122070312, -8.976699829101562, -9.018799781799316, -9.133899688720703, -9.153400421142578, -9.164299964904785, -9.191300392150879, -9.329400062561035, -9.353699684143066, -3.782900094985962, -7.365300178527832, -6.1504998207092285, -8.192999839782715, -5.076499938964844, -6.48199987411499, -6.7052998542785645, -3.7527999877929688, -2.962599992752075, -6.8007001876831055, -4.034599781036377, -4.681700229644775, -2.760499954223633, -4.759699821472168, -4.776400089263916, -6.134200096130371, -6.458700180053711, -3.5583999156951904, -7.2281999588012695, -6.471499919891357, -4.331600189208984, -5.933800220489502, -5.489299774169922, -5.076700210571289, -4.217899799346924, -5.321199893951416, -4.257900238037109, -5.1778998374938965, -5.019199848175049, -5.55709981918335, -4.491399765014648, -4.903900146484375, -5.016900062561035, -5.147299766540527, -4.885900020599365, -5.220699787139893, -5.010700225830078, -4.994900226593018, -5.026400089263916, -5.178199768066406, -5.22790002822876, -4.568900108337402, -4.822299957275391, -5.5625, -5.710700035095215, -6.9232001304626465, -6.930699825286865, -6.8796000480651855, -7.218100070953369, -7.238399982452393, -7.253799915313721, -7.2621002197265625, -7.323200225830078, -7.480500221252441, -7.732699871063232, -6.438700199127197, -8.025899887084961, -8.115799903869629, -8.290599822998047, -7.265699863433838, -8.483599662780762, -7.862199783325195, -8.63010025024414, -8.648300170898438, -8.687999725341797, -8.717599868774414, -8.849800109863281, -8.885299682617188, -8.92490005493164, -8.996899604797363, -7.9984002113342285, -4.554200172424316, -5.488900184631348, -6.014200210571289, -6.515100002288818, -4.7718000411987305, -7.27239990234375, -2.484499931335449, -6.2322001457214355, -6.372600078582764, -6.239799976348877, -5.115300178527832, -6.774499893188477, -5.069799900054932, -4.5802001953125, -5.07450008392334, -6.7708001136779785, -5.66480016708374, -5.909800052642822, -6.339300155639648, -4.541200160980225, -5.953999996185303, -4.371300220489502, -6.107100009918213, -3.7493999004364014, -4.42080020904541, -4.928100109100342, -3.358799934387207, -6.063600063323975, -4.327700138092041, -5.7677998542785645, -5.206500053405762, -4.605800151824951, -4.8582000732421875, -4.943900108337402, -4.782899856567383, -5.140600204467773, -4.761600017547607, -4.365600109100342, -4.96589994430542, -4.874000072479248, -4.875199794769287, -4.9730000495910645, -5.016600131988525, -5.337200164794922, -5.235300064086914, -6.428999900817871, -8.324199676513672, -9.152600288391113, -9.156200408935547, -9.497699737548828, -9.532999992370605, -9.60949993133545, -9.741800308227539, -9.803799629211426, -9.906100273132324, -10.019599914550781, -10.049200057983398, -10.076000213623047, -8.385199546813965, -7.878399848937988, -9.139200210571289, -10.52400016784668, -8.612799644470215, -10.550600051879883, -8.28380012512207, -8.846699714660645, -9.924300193786621, -6.836100101470947, -9.415900230407715, -4.92549991607666, -10.39799976348877, -10.10830020904541, -7.454100131988525, -10.666399955749512, -10.469200134277344, -6.595799922943115, -9.332599639892578, -6.507400035858154, -7.37939977645874, -8.065899848937988, -3.712399959564209, -3.366499900817871, -3.4305999279022217, -3.972599983215332, -4.872200012207031, -3.952500104904175, -3.008699893951416, -4.57919979095459, -5.809899806976318, -4.6371002197265625, -6.389699935913086, -3.6449999809265137, -4.277400016784668, -7.311699867248535, -5.839600086212158, -4.950399875640869, -5.1894001960754395, -4.519899845123291, -5.886499881744385, -5.611999988555908, -4.6066999435424805, -5.029799938201904, -4.316699981689453, -4.041600227355957, -5.1031999588012695, -5.7677998542785645, -4.795300006866455, -4.370299816131592, -4.065800189971924, -4.6184000968933105, -5.1641998291015625, -5.019000053405762, -4.502200126647949, -5.328499794006348, -5.367199897766113, -4.813799858093262, -4.839399814605713, -4.910399913787842, -4.695000171661377, -4.84499979019165, -5.00570011138916, -6.1992998123168945, -7.149799823760986, -6.721499919891357, -5.693399906158447, -7.882900238037109, -8.21310043334961, -8.022199630737305, -8.389599800109863, -8.414600372314453, -5.979700088500977, -8.496299743652344, -8.602899551391602, -8.694299697875977, -6.946100234985352, -7.28410005569458, -8.599900245666504, -8.873900413513184, -6.877500057220459, -8.931900024414062, -9.02869987487793, -9.150899887084961, -9.203300476074219, -9.210399627685547, -9.231399536132812, -9.234700202941895, -9.243000030517578, -9.263199806213379, -9.271300315856934, -9.295100212097168, -6.785099983215332, -5.035299777984619, -7.35260009765625, -7.2058000564575195, -6.548500061035156, -4.57889986038208, -6.3277997970581055, -7.270500183105469, -6.229499816894531, -6.342299938201904, -4.746399879455566, -3.597899913787842, -7.237599849700928, -7.205100059509277, -4.84060001373291, -6.124899864196777, -6.384200096130371, -6.675899982452393, -4.202700138092041, -6.870800018310547, -5.771100044250488, -5.061699867248535, -5.36329984664917, -5.887599945068359, -6.211599826812744, -5.390500068664551, -4.915900230407715, -5.543000221252441, -5.998700141906738, -4.484499931335449, -5.715000152587891, -4.971099853515625, -4.977399826049805, -5.51800012588501, -5.541500091552734, -5.378799915313721, -5.305799961090088, -5.4029998779296875, -5.3454999923706055, -5.712900161743164, -5.293099880218506, -5.458700180053711, -5.1946001052856445, -5.554599761962891, -5.619999885559082, -5.361599922180176, -5.524799823760986, -5.551499843597412, -5.672599792480469, -4.700799942016602, -5.024499893188477, -6.774199962615967, -6.678699970245361, -7.759300231933594, -8.011300086975098, -8.588399887084961, -8.6983003616333, -8.851300239562988, -8.882499694824219, -8.89840030670166, -9.017200469970703, -9.076399803161621, -9.097399711608887, -9.124799728393555, -9.223899841308594, -9.405200004577637, -9.482099533081055, -9.032500267028809, -9.64109992980957, -4.75439977645874, -9.937100410461426, -9.984800338745117, -7.141300201416016, -10.113200187683105, -5.139500141143799, -8.73330020904541, -9.738900184631348, -10.431599617004395, -6.298900127410889, -4.518099784851074, -4.047900199890137, -2.2548000812530518, -4.339799880981445, -3.606800079345703, -6.963200092315674, -5.339099884033203, -7.1433000564575195, -6.874199867248535, -2.1487998962402344, -3.6256000995635986, -5.053199768066406, -5.672999858856201, -4.854700088500977, -5.905200004577637, -4.546000003814697, -5.505099773406982, -7.056600093841553, -4.849400043487549, -4.733099937438965, -5.597099781036377, -5.293700218200684, -4.543000221252441, -3.773099899291992, -5.0100998878479, -5.262899875640869, -4.491099834442139, -4.977399826049805, -4.9105000495910645, -4.763700008392334, -4.448400020599365, -4.889100074768066, -4.9899001121521, -4.867400169372559, -4.889400005340576, -4.9730000495910645, -4.996600151062012, -4.9842000007629395, -6.484099864959717, -7.151700019836426, -8.44279956817627, -8.48859977722168, -8.964799880981445, -9.090900421142578, -9.64210033416748, -7.65500020980835, -3.115999937057495, -9.976200103759766, -9.753600120544434, -10.49530029296875, -9.556500434875488, -10.676300048828125, -7.236400127410889, -10.128100395202637, -10.038800239562988, -10.077099800109863, -9.496700286865234, -7.782700061798096, -7.283100128173828, -10.445500373840332, -10.888899803161621, -10.550700187683105, -9.215299606323242, -7.591100215911865, -1.8427000045776367, -6.830599784851074, -8.108499526977539, -10.39050006866455, -6.998799800872803, -5.2820000648498535, -3.4986000061035156, -5.907400131225586, -5.058899879455566, -5.192999839782715, -4.65369987487793, -3.704699993133545, -5.104599952697754, -4.155099868774414, -5.791399955749512, -5.631400108337402, -3.822000026702881, -4.438600063323975, -5.70959997177124, -4.360400199890137, -5.017499923706055, -5.26669979095459, -3.9481000900268555, -3.9593000411987305, -4.419099807739258, -5.247499942779541, -4.412499904632568, -4.130099773406982, -5.320499897003174, -5.739999771118164, -5.485899925231934, -5.281300067901611, -5.240699768066406, -4.258999824523926, -4.580699920654297, -4.538899898529053, -5.381499767303467, -5.20389986038208, -5.021999835968018, -5.032800197601318, -5.1707000732421875, -5.032899856567383, -5.237400054931641, -5.284200191497803, -6.249000072479248, -7.492599964141846, -7.506400108337402, -7.520699977874756, -7.64300012588501, -7.710700035095215, -7.713699817657471, -7.765100002288818, -7.272299766540527, -8.459600448608398, -6.9994001388549805, -8.61870002746582, -8.653400421142578, -8.677200317382812, -4.635700225830078, -8.764900207519531, -8.790399551391602, -8.814299583435059, -8.923100471496582, -5.841899871826172, -9.139300346374512, -9.446700096130371, -9.48330020904541, -8.09529972076416, -9.728300094604492, -9.803899765014648, -9.902299880981445, -7.582300186157227, -9.92590045928955, -2.9928998947143555, -5.880799770355225, -3.7962000370025635, -8.704099655151367, -4.9618000984191895, -7.418099880218506, -6.861400127410889, -5.737400054931641, -3.223099946975708, -6.897600173950195, -4.986400127410889, -7.419600009918213, -5.997600078582764, -6.826200008392334, -3.321899890899658, -5.508500099182129, -3.4577999114990234, -3.286799907684326, -3.6577999591827393, -4.622499942779541, -5.862400054931641, -5.830100059509277, -5.742800235748291, -4.78980016708374, -3.645699977874756, -4.4918999671936035, -5.949399948120117, -3.5078001022338867, -4.821000099182129, -4.032700061798096, -4.591899871826172, -5.719799995422363, -3.648699998855591, -4.841899871826172, -5.011300086975098, -4.683700084686279, -5.612800121307373, -5.448599815368652, -5.351500034332275, -5.159999847412109, -5.276700019836426, -5.342800140380859, -5.346399784088135, -5.344299793243408, -3.850800037384033, -3.8757998943328857, -4.9095001220703125, -5.447000026702881, -5.668399810791016, -5.920100212097168, -6.099800109863281, -6.116799831390381, -6.158999919891357, -4.451600074768066, -5.307600021362305, -7.07390022277832, -7.218200206756592, -7.258299827575684, -5.166800022125244, -7.316199779510498, -7.4918999671936035, -7.565499782562256, -7.812699794769287, -7.928800106048584, -7.952899932861328, -8.065600395202637, -8.076700210571289, -7.804699897766113, -8.311400413513184, -8.565400123596191, -8.60099983215332, -8.76669979095459, -8.767900466918945, -4.707600116729736, -6.774499893188477, -5.688600063323975, -6.017000198364258, -6.999100208282471, -6.2677998542785645, -6.513800144195557, -4.386499881744385, -2.1731998920440674, -4.623899936676025, -5.240200042724609, -6.002799987792969, -4.550600051879883, -5.3703999519348145, -6.193999767303467, -6.353300094604492, -5.060500144958496, -5.36460018157959, -5.341000080108643, -5.12470006942749, -4.0914998054504395, -5.9095001220703125, -3.5385000705718994, -5.459400177001953, -4.258699893951416, -4.33489990234375, -4.568600177764893, -4.995299816131592, -4.9166998863220215, -5.595200061798096, -4.779900074005127, -5.210999965667725, -5.025300025939941, -5.241199970245361, -5.119699954986572, -5.040999889373779, -5.247000217437744, -5.258800029754639, -5.301000118255615, -5.922500133514404, -6.576499938964844, -6.899499893188477, -7.036300182342529, -7.152900218963623, -6.57420015335083, -7.28849983215332, -5.883699893951416, -7.734799861907959, -7.760499954223633, -7.83459997177124, -7.914000034332275, -5.680600166320801, -7.990600109100342, -8.090800285339355, -8.141200065612793, -8.16569995880127, -8.185799598693848, -8.13129997253418, -4.270500183105469, -8.288800239562988, -8.446900367736816, -8.46780014038086, -8.49370002746582, -8.621700286865234, -8.642900466918945, -7.625500202178955, -8.644599914550781, -8.697600364685059, -8.000399589538574, -5.174600124359131, -8.154199600219727, -5.027599811553955, -6.100299835205078, -2.90339994430542, -6.407800197601318, -6.547599792480469, -4.547800064086914, -5.960999965667725, -5.665299892425537, -5.675099849700928, -3.434799909591675, -4.16480016708374, -6.491199970245361, -7.1178998947143555, -4.498899936676025, -4.461299896240234, -6.370200157165527, -6.007599830627441, -5.853400230407715, -4.68720006942749, -4.727499961853027, -4.887499809265137, -5.314499855041504, -5.641600131988525, -5.717400074005127, -5.374300003051758, -5.6092000007629395, -5.272900104522705, -4.734099864959717, -5.011199951171875, -4.673999786376953, -4.3734002113342285, -4.5493998527526855, -5.1585001945495605, -4.316400051116943, -4.929699897766113, -4.566500186920166, -5.076200008392334, -5.22189998626709, -4.84250020980835, -5.012800216674805, -5.067200183868408, -4.7129998207092285, -4.829899787902832, -4.932199954986572, -4.958600044250488, -5.156799793243408, -3.893899917602539, -6.90310001373291, -7.34060001373291, -4.156899929046631, -8.339599609375, -3.9395999908447266, -8.710000038146973, -8.740599632263184, -8.746000289916992, -8.73740005493164, -8.828900337219238, -8.937399864196777, -8.937399864196777, -9.302499771118164, -9.35319995880127, -9.383399963378906, -9.390800476074219, -9.485099792480469, -9.61400032043457, -9.770299911499023, -8.940699577331543, -8.484100341796875, -9.79699993133545, -6.7600998878479, -9.890399932861328, -7.720399856567383, -10.04580020904541, -9.011099815368652, -10.126700401306152, -10.144200325012207, -3.828900098800659, -9.328399658203125, -5.678800106048584, -4.794899940490723, -4.760000228881836, -6.7870001792907715, -4.634099960327148, -4.673699855804443, -7.355100154876709, -6.534800052642822, -4.9654998779296875, -5.74429988861084, -5.714600086212158, -5.853099822998047, -4.056600093841553, -3.783600091934204, -4.186299800872803, -5.821300029754639, -6.360499858856201, -6.214600086212158, -6.716100215911865, -7.03849983215332, -4.357699871063232, -5.660399913787842, -3.9430999755859375, -5.465799808502197, -5.372399806976318, -5.453199863433838, -5.638899803161621, -5.144599914550781, -3.428299903869629, -5.530099868774414, -5.6417999267578125, -5.4029998779296875, -4.412899971008301, -3.667799949645996, -4.898900032043457, -4.977499961853027, -4.58620023727417, -3.6668999195098877, -4.416600227355957, -4.5605998039245605, -4.816699981689453, -4.956500053405762, -4.70550012588501, -4.961400032043457, -4.7789998054504395, -4.8744001388549805, -4.987299919128418, -3.281399965286255, -4.071000099182129, -2.755000114440918, -4.658599853515625, -4.697800159454346, -4.562699794769287, -4.855299949645996, -4.692299842834473, -5.612299919128418, -5.663700103759766, -5.694499969482422, -5.895699977874756, -5.951200008392334, -5.972700119018555, -5.592599868774414, -6.086999893188477, -6.301400184631348, -6.378200054168701, -6.467199802398682, -6.5355000495910645, -6.574900150299072, -6.643799781799316, -5.493199825286865, -6.664100170135498, -6.961999893188477, -7.047699928283691, -7.055200099945068, -7.24370002746582, -7.346199989318848, -7.476500034332275, -6.541900157928467, -7.011600017547607, -6.866000175476074, -3.808300018310547, -5.772600173950195, -4.481299877166748, -3.8150999546051025, -5.854400157928467, -5.210100173950195, -5.644499778747559, -4.689799785614014, -4.654099941253662, -4.247600078582764, -4.416600227355957, -5.528900146484375, -5.612800121307373, -4.177000045776367, -4.54010009765625, -4.72160005569458, -5.382599830627441, -5.003699779510498, -5.076900005340576, -5.434299945831299, -4.842800140380859, -5.353300094604492, -4.9222002029418945, -4.922299861907959, -5.015699863433838, -4.987299919128418, -5.281899929046631, -5.341899871826172, -5.253300189971924, -5.256700038909912, -5.264400005340576, -2.993299961090088, -4.374599933624268, -5.585899829864502, -5.861199855804443, -4.451099872589111, -6.114200115203857, -6.779399871826172, -7.216100215911865, -7.261099815368652, -7.372399806976318, -7.832399845123291, -7.857500076293945, -7.9217000007629395, -8.002900123596191, -8.043899536132812, -8.173500061035156, -6.0503997802734375, -8.367500305175781, -8.615300178527832, -8.736200332641602, -8.759499549865723, -8.772899627685547, -8.786999702453613, -8.848600387573242, -8.949600219726562, -5.429599761962891, -9.425800323486328, -7.57889986038208, -5.705399990081787, -7.1016998291015625, -5.312099933624268, -6.3460001945495605, -3.5183000564575195, -3.4895999431610107, -6.7052001953125, -7.222599983215332, -2.7627999782562256, -4.77400016784668, -6.107500076293945, -5.2519001960754395, -2.2323999404907227, -6.003399848937988, -6.860400199890137, -6.950500011444092, -7.161900043487549, -3.8696999549865723, -5.164400100708008, -3.9075000286102295, -5.445700168609619, -5.828100204467773, -4.7519001960754395, -5.881400108337402, -4.563700199127197, -5.411099910736084, -4.787799835205078, -5.524400234222412, -5.014500141143799, -5.1230998039245605, -5.176700115203857, -5.206299781799316, -5.404200077056885, -5.40310001373291, -5.298600196838379, -5.400899887084961, -5.400400161743164, -5.401899814605713, -5.443399906158447], \"loglift\": [30.0, 29.0, 28.0, 27.0, 26.0, 25.0, 24.0, 23.0, 22.0, 21.0, 20.0, 19.0, 18.0, 17.0, 16.0, 15.0, 14.0, 13.0, 12.0, 11.0, 10.0, 9.0, 8.0, 7.0, 6.0, 5.0, 4.0, 3.0, 2.0, 1.0, 2.148900032043457, 2.147200107574463, 2.146399974822998, 2.141200065612793, 2.136699914932251, 2.1342999935150146, 2.1328999996185303, 2.1324000358581543, 2.1310999393463135, 2.13100004196167, 2.1298000812530518, 2.129499912261963, 2.1282999515533447, 2.126800060272217, 2.126699924468994, 2.126499891281128, 2.124799966812134, 2.123699903488159, 2.1233999729156494, 2.1224000453948975, 2.122299909591675, 2.121999979019165, 2.121999979019165, 2.1219000816345215, 2.1196999549865723, 2.11929988861084, 2.118299961090088, 2.1178998947143555, 2.1178998947143555, 2.1166999340057373, 2.1126999855041504, 2.084199905395508, 2.1131999492645264, 2.107300043106079, 2.0768001079559326, 2.0862998962402344, 2.0885000228881836, 2.031100034713745, 2.0292000770568848, 2.0731000900268555, 2.0441999435424805, 2.0492000579833984, 1.986799955368042, 2.0834999084472656, 2.012700080871582, 2.0782999992370605, 2.063699960708618, 2.0934998989105225, 1.8975000381469727, 1.9836000204086304, 2.015899896621704, 1.9657000303268433, 1.9392999410629272, 1.711300015449524, 1.7654000520706177, 2.043100118637085, 1.791200041770935, 1.9493000507354736, 1.7687000036239624, 1.9284000396728516, 1.749899983406067, 1.7482000589370728, 1.5931999683380127, 1.8246999979019165, 1.5199999809265137, 1.5712000131607056, 1.5289000272750854, 1.2486000061035156, 1.455399990081787, 1.336400032043457, 1.2297999858856201, 1.3316999673843384, 1.5365999937057495, 1.2741999626159668, 1.3675999641418457, 1.3806999921798706, 1.2978999614715576, 1.0465999841690063, 0.9717000126838684, 1.3949999809265137, 1.5127999782562256, 0.9120000004768372, 0.7404000163078308, 0.8551999926567078, 0.4708999991416931, 0.21979999542236328, 0.5751000046730042, 0.6060000061988831, 1.187399983406067, 0.6266999840736389, 0.48190000653266907, 0.6365000009536743, 0.7696999907493591, 0.260699987411499, 2.324899911880493, 2.3241000175476074, 2.3183999061584473, 2.310699939727783, 2.309999942779541, 2.301800012588501, 2.29259991645813, 2.287899971008301, 2.283600091934204, 2.2834999561309814, 2.2764999866485596, 2.275399923324585, 2.2720000743865967, 2.268399953842163, 2.26419997215271, 2.2486000061035156, 2.247299909591675, 2.242300033569336, 2.241499900817871, 2.241499900817871, 2.232300043106079, 2.224900007247925, 2.2016000747680664, 2.1991000175476074, 2.194999933242798, 2.193700075149536, 2.1886000633239746, 2.174499988555908, 2.1705000400543213, 2.1679999828338623, 2.1417999267578125, 2.1658999919891357, 2.1289000511169434, 2.0255000591278076, 2.0773000717163086, 2.129499912261963, 1.9140000343322754, 1.9565000534057617, 1.9150999784469604, 2.1048998832702637, 1.7869999408721924, 1.9566999673843384, 1.8121999502182007, 1.798699975013733, 1.794100046157837, 1.6165000200271606, 1.7312999963760376, 1.458899974822998, 1.5999000072479248, 1.3813999891281128, 1.5910999774932861, 1.8502000570297241, 1.325700044631958, 1.7067999839782715, 1.5377999544143677, 1.4280999898910522, 1.1133999824523926, 1.107300043106079, 1.37090003490448, 1.3732000589370728, 0.7168999910354614, 1.0920000076293945, 1.0846999883651733, 0.5422999858856201, 0.9024999737739563, 0.6589999794960022, 0.3407000005245209, 0.5281000137329102, 0.3783999979496002, 0.8622999787330627, 0.23340000212192535, 0.728600025177002, 2.3447000980377197, 2.344599962234497, 2.344099998474121, 2.344099998474121, 2.3436999320983887, 2.3431999683380127, 2.3427000045776367, 2.342400074005127, 2.3413000106811523, 2.341099977493286, 2.3405001163482666, 2.340399980545044, 2.340399980545044, 2.340100049972534, 2.339900016784668, 2.339900016784668, 2.3394999504089355, 2.3392999172210693, 2.3389999866485596, 2.3375000953674316, 2.336699962615967, 2.3361001014709473, 2.3350000381469727, 2.3345000743865967, 2.3333001136779785, 2.3331000804901123, 2.332900047302246, 2.332200050354004, 2.3308000564575195, 2.3304998874664307, 2.3027000427246094, 2.3273000717163086, 2.3066999912261963, 2.326900005340576, 2.275099992752075, 2.300100088119507, 2.297600030899048, 2.2100000381469727, 2.039099931716919, 2.2230000495910645, 1.98989999294281, 2.0257999897003174, 1.7508000135421753, 1.9483000040054321, 1.9200999736785889, 2.0845000743865967, 2.12719988822937, 1.711400032043457, 2.220900058746338, 2.085200071334839, 1.6628999710083008, 1.9718999862670898, 1.6953999996185303, 1.5154999494552612, 1.1172000169754028, 1.5647000074386597, 0.7967000007629395, 1.3073999881744385, 1.1895999908447266, 1.4823999404907227, 0.5916000008583069, 0.8029000163078308, 0.9017000198364258, 1.0351999998092651, 0.7353000044822693, 0.9460999965667725, 0.4352000057697296, 0.40369999408721924, -0.17170000076293945, 0.07779999822378159, -0.43540000915527344, 2.464600086212158, 2.464600086212158, 2.464400053024292, 2.4642999172210693, 2.4632999897003174, 2.4632999897003174, 2.4632999897003174, 2.4628000259399414, 2.4626998901367188, 2.4626998901367188, 2.4626998901367188, 2.462599992752075, 2.4621999263763428, 2.4609999656677246, 2.460700035095215, 2.460400104522705, 2.4600000381469727, 2.4591000080108643, 2.4581000804901123, 2.457900047302246, 2.457200050354004, 2.4567999839782715, 2.456700086593628, 2.4563000202178955, 2.4560999870300293, 2.454900026321411, 2.4544999599456787, 2.4540998935699463, 2.4532999992370605, 2.4532999992370605, 2.4474000930786133, 2.448699951171875, 2.4532999992370605, 2.4509999752044678, 2.423799991607666, 2.4453999996185303, 2.372499942779541, 2.4177000522613525, 2.4202001094818115, 2.4017999172210693, 2.3585000038146973, 2.4149999618530273, 2.3050999641418457, 2.239500045776367, 2.269399881362915, 2.3838999271392822, 2.1900999546051025, 2.2021000385284424, 2.2395999431610107, 1.7657999992370605, 2.1282999515533447, 1.6890000104904175, 2.1242001056671143, 1.3336999416351318, 1.4620000123977661, 1.583299994468689, 0.8346999883651733, 2.0678000450134277, 1.0968999862670898, 1.9043999910354614, 1.5408999919891357, 1.1009999513626099, 1.132200002670288, 1.1060999631881714, 0.9296000003814697, 1.2714999914169312, 0.8596000075340271, 0.40779998898506165, 0.7299000024795532, 0.45989999175071716, -0.08269999921321869, 0.08160000294446945, 0.21310000121593475, 0.9678000211715698, -0.3804999887943268, 2.521199941635132, 2.5160000324249268, 2.50819993019104, 2.5081000328063965, 2.502500057220459, 2.501800060272217, 2.500200033187866, 2.495699882507324, 2.495500087738037, 2.4927000999450684, 2.4892001152038574, 2.4881999492645264, 2.487299919128418, 2.4872000217437744, 2.472599983215332, 2.4691998958587646, 2.468100070953369, 2.467099905014038, 2.460900068283081, 2.453700065612793, 2.445199966430664, 2.440999984741211, 2.432800054550171, 2.413800001144409, 2.3742001056671143, 2.3657000064849854, 2.3536999225616455, 2.349400043487549, 2.3413000106811523, 2.3392999172210693, 2.3087000846862793, 2.3348000049591064, 2.280400037765503, 2.276700019836426, 2.2941999435424805, 2.1059999465942383, 2.0829999446868896, 2.046799898147583, 2.078700065612793, 2.095400094985962, 1.9228999614715576, 1.7647000551223755, 1.9149999618530273, 2.0481998920440674, 1.9122999906539917, 2.1064999103546143, 1.73580002784729, 1.7702000141143799, 2.1939001083374023, 1.9574999809265137, 1.804900050163269, 1.8229999542236328, 1.6426000595092773, 1.8668999671936035, 1.7976000308990479, 1.5607999563217163, 1.561900019645691, 1.3282999992370605, 1.2181999683380127, 1.5188000202178955, 1.7477999925613403, 1.3223999738693237, 1.0019999742507935, 0.7821999788284302, 1.0759999752044678, 1.3212000131607056, 1.1898000240325928, 0.5523999929428101, 1.3954999446868896, 1.382699966430664, 0.45660001039505005, 0.4943999946117401, 0.4198000133037567, -0.3382999897003174, -0.05249999836087227, -0.1509999930858612, 2.5876998901367188, 2.586400032043457, 2.5852999687194824, 2.5845000743865967, 2.584199905395508, 2.5824999809265137, 2.5817999839782715, 2.5815000534057617, 2.5813000202178955, 2.580699920654297, 2.580699920654297, 2.5797998905181885, 2.5789999961853027, 2.5787999629974365, 2.5787999629974365, 2.578000068664551, 2.5771000385284424, 2.5771000385284424, 2.5764999389648438, 2.575200080871582, 2.573499917984009, 2.572700023651123, 2.5725998878479004, 2.5722999572753906, 2.572200059890747, 2.5720999240875244, 2.5717999935150146, 2.5715999603271484, 2.571199893951416, 2.57069993019104, 2.5673000812530518, 2.569000005722046, 2.566699981689453, 2.5510001182556152, 2.528899908065796, 2.5453999042510986, 2.5543999671936035, 2.5439000129699707, 2.5360000133514404, 2.476300001144409, 2.3736000061035156, 2.518199920654297, 2.4972000122070312, 2.2639999389648438, 2.3715999126434326, 2.379499912261963, 2.3859000205993652, 2.0546000003814697, 2.388700008392334, 2.1113998889923096, 1.8996000289916992, 1.9606000185012817, 2.06030011177063, 2.1421000957489014, 1.8015999794006348, 1.3327000141143799, 1.6301000118255615, 1.8531999588012695, 0.849399983882904, 1.6548000574111938, 1.0648000240325928, 1.051800012588501, 1.3907999992370605, 1.4039000272750854, 1.0333000421524048, 0.8119000196456909, 0.7795000076293945, 0.5297999978065491, 1.2698999643325806, 0.35190001130104065, 0.6841999888420105, 0.06520000100135803, 0.7523000240325928, 0.9221000075340271, -0.15919999778270721, -0.9247000217437744, -0.7590000033378601, 0.023099999874830246, 2.594099998474121, 2.593600034713745, 2.5929999351501465, 2.5922000408172607, 2.5908000469207764, 2.5896999835968018, 2.585900068283081, 2.58489990234375, 2.583400011062622, 2.5829999446868896, 2.5827999114990234, 2.581399917602539, 2.5806000232696533, 2.5803000926971436, 2.579900026321411, 2.578399896621704, 2.575200080871582, 2.5736000537872314, 2.5731000900268555, 2.569999933242798, 2.5622000694274902, 2.561800003051758, 2.5601999759674072, 2.558000087738037, 2.5555999279022217, 2.5469000339508057, 2.5459001064300537, 2.523400068283081, 2.5169999599456787, 2.5078999996185303, 2.4958999156951904, 2.469899892807007, 2.413100004196167, 2.4065001010894775, 2.371000051498413, 2.4735000133514404, 2.3989999294281006, 2.456899881362915, 2.4328999519348145, 2.044800043106079, 2.0868000984191895, 2.1410000324249268, 2.1928999423980713, 2.087100028991699, 2.183500051498413, 1.8585000038146973, 1.997499942779541, 2.263200044631958, 1.8414000272750854, 1.7793999910354614, 1.9258999824523926, 1.779099941253662, 1.442199945449829, 1.0749000310897827, 1.5432000160217285, 1.5961999893188477, 1.173699975013733, 1.417099952697754, 1.2472000122070312, 1.0908000469207764, 0.7540000081062317, 0.8051999807357788, 0.8930000066757202, 0.5133000016212463, 0.5600000023841858, 0.399399995803833, 0.3337000012397766, -0.1915999948978424, 2.6868999004364014, 2.6854000091552734, 2.6802000999450684, 2.679800033569336, 2.6747000217437744, 2.6728999614715576, 2.661600112915039, 2.6612000465393066, 2.6572000980377197, 2.65120005607605, 2.6419999599456787, 2.6266000270843506, 2.61929988861084, 2.614799976348877, 2.6077001094818115, 2.5875000953674316, 2.5725998878479004, 2.5713000297546387, 2.563699960708618, 2.5515999794006348, 2.5441999435424805, 2.5427000522613525, 2.5364999771118164, 2.5360000133514404, 2.46560001373291, 2.4028000831604004, 2.3861000537872314, 2.3845999240875244, 2.3833000659942627, 2.379300117492676, 2.355799913406372, 2.260499954223633, 2.0139000415802, 2.1740000247955322, 2.011699914932251, 2.0148000717163086, 1.9479999542236328, 1.7412999868392944, 1.9148000478744507, 1.742400050163269, 1.9627000093460083, 1.899899959564209, 1.4076999425888062, 1.5393999814987183, 1.7309999465942383, 1.3339999914169312, 1.4987000226974487, 1.5633000135421753, 1.1065000295639038, 1.0618000030517578, 1.055299997329712, 1.3739999532699585, 0.9225999712944031, 0.6624000072479248, 1.2214000225067139, 1.503999948501587, 1.2924000024795532, 1.1233999729156494, 1.0643999576568604, -0.06539999693632126, 0.19259999692440033, -0.18219999969005585, 1.1718000173568726, 0.7814000248908997, 0.4025999903678894, 0.29739999771118164, 0.5249999761581421, -0.5217000246047974, 0.16120000183582306, 2.7657999992370605, 2.765199899673462, 2.7627999782562256, 2.762700080871582, 2.762700080871582, 2.762200117111206, 2.761899948120117, 2.761899948120117, 2.761699914932251, 2.759999990463257, 2.757200002670288, 2.7571001052856445, 2.75570011138916, 2.7553000450134277, 2.7551000118255615, 2.755000114440918, 2.7541000843048096, 2.753700017929077, 2.753499984741211, 2.752000093460083, 2.7499001026153564, 2.7486000061035156, 2.7421998977661133, 2.741499900817871, 2.7346999645233154, 2.7346999645233154, 2.7321999073028564, 2.728800058364868, 2.7283999919891357, 2.7279999256134033, 2.6308000087738037, 2.6812000274658203, 2.5710999965667725, 2.7074999809265137, 2.5894999504089355, 2.6621999740600586, 2.6075000762939453, 2.5165998935699463, 2.3066999912261963, 2.580199956893921, 2.3684000968933105, 2.615600109100342, 2.435499906539917, 2.5164999961853027, 2.013200044631958, 2.2911999225616455, 1.9407999515533447, 1.7963000535964966, 1.81659996509552, 1.8937000036239624, 2.1895999908447266, 2.1665000915527344, 2.126499891281128, 1.8021999597549438, 1.3753999471664429, 1.6775000095367432, 2.19350004196167, 1.0923000574111938, 1.638700008392334, 1.1970000267028809, 1.3861000537872314, 1.982100009918213, 0.5800999999046326, 1.386199951171875, 1.4740999937057495, 0.7864999771118164, 1.8664000034332275, 1.5663000345230103, 1.1146999597549438, 0.35249999165534973, 0.41760000586509705, 0.1031000018119812, -0.14399999380111694, -0.5516999959945679, 2.8213999271392822, 2.8213999271392822, 2.821199893951416, 2.821000099182129, 2.8208999633789062, 2.82069993019104, 2.8206000328063965, 2.820499897003174, 2.820499897003174, 2.8201000690460205, 2.8199000358581543, 2.8190999031066895, 2.818700075149536, 2.8185999393463135, 2.8183999061584473, 2.8183999061584473, 2.8178000450134277, 2.817500114440918, 2.8164000511169434, 2.8157999515533447, 2.815700054168701, 2.815000057220459, 2.8148999214172363, 2.814500093460083, 2.813199996948242, 2.810800075531006, 2.8104000091552734, 2.8083999156951904, 2.8083999156951904, 2.808300018310547, 2.8034000396728516, 2.7704999446868896, 2.7653000354766846, 2.7832000255584717, 2.765399932861328, 2.7330000400543213, 2.612299919128418, 2.4268999099731445, 2.5992000102996826, 2.573499917984009, 2.6340999603271484, 2.4540998935699463, 2.520400047302246, 2.6328001022338867, 2.6440000534057617, 2.3642001152038574, 2.3664000034332275, 2.2995998859405518, 1.972100019454956, 1.3787000179290771, 2.3564999103546143, 0.6902999877929688, 2.019700050354004, 0.7623999714851379, 0.4575999975204468, 0.6610999703407288, 1.1741000413894653, 1.0449999570846558, 2.0373001098632812, 0.5539000034332275, 1.305299997329712, 0.5983999967575073, 1.3078999519348145, 0.7742000222206116, -0.18629999458789825, 0.45570001006126404, -0.4108000099658966, 0.09759999811649323, 2.860100030899048, 2.859299898147583, 2.8589000701904297, 2.858599901199341, 2.858299970626831, 2.8580000400543213, 2.8578999042510986, 2.8566999435424805, 2.8561999797821045, 2.8559999465942383, 2.8557000160217285, 2.8552000522613525, 2.85479998588562, 2.85479998588562, 2.854099988937378, 2.8536999225616455, 2.853600025177002, 2.8534998893737793, 2.8531999588012695, 2.8524999618530273, 2.851799964904785, 2.8512001037597656, 2.8510000705718994, 2.850800037384033, 2.849400043487549, 2.849100112915039, 2.849100112915039, 2.849100112915039, 2.8485000133514404, 2.8485000133514404, 2.8387999534606934, 2.8466999530792236, 2.7862000465393066, 2.8001999855041504, 2.6981000900268555, 2.795799970626831, 2.7946999073028564, 2.6977999210357666, 2.714400053024292, 2.659600019454956, 2.6507999897003174, 2.4196999073028564, 2.4863998889923096, 2.704200029373169, 2.763200044631958, 2.4576001167297363, 2.436800003051758, 2.671299934387207, 2.603800058364868, 2.547600030899048, 2.2571001052856445, 2.254199981689453, 2.271399974822998, 2.2137999534606934, 2.326900005340576, 2.324700117111206, 2.13919997215271, 2.2286999225616455, 2.0269999504089355, 1.6704000234603882, 1.8028000593185425, 1.5541000366210938, 1.2913999557495117, 1.3691999912261963, 1.8243000507354736, 0.9434000253677368, 1.5365999937057495, 1.0785000324249268, 1.6476999521255493, 1.686900019645691, 1.0327999591827393, 1.2674000263214111, 1.3624999523162842, 0.4894999861717224, 0.5508999824523926, 0.5171999931335449, -0.11050000041723251, 0.9861000180244446, 3.015199899673462, 3.0129001140594482, 3.0116000175476074, 3.009500026702881, 3.005199909210205, 3.0034000873565674, 3.000699996948242, 3.000200033187866, 3.0000998973846436, 3.0, 2.998800039291382, 2.996999979019165, 2.996999979019165, 2.989000082015991, 2.987600088119507, 2.986799955368042, 2.986599922180176, 2.983799934387207, 2.9795000553131104, 2.973599910736084, 2.9735000133514404, 2.972599983215332, 2.972399950027466, 2.9697000980377197, 2.968400001525879, 2.960700035095215, 2.960700035095215, 2.9591000080108643, 2.956199884414673, 2.955199956893921, 2.9330999851226807, 2.943700075149536, 2.8578999042510986, 2.822999954223633, 2.8020999431610107, 2.8534998893737793, 2.7130000591278076, 2.6902999877929688, 2.8445000648498535, 2.781599998474121, 2.652400016784668, 2.699399948120117, 2.6928999423980713, 2.6786000728607178, 2.4637999534606934, 2.410099983215332, 2.4430999755859375, 2.6451001167297363, 2.706700086593628, 2.664299964904785, 2.731800079345703, 2.773699998855591, 2.3225998878479004, 2.52839994430542, 2.1998000144958496, 2.4709999561309814, 2.438199996948242, 2.4439001083374023, 2.4611001014709473, 2.2216999530792236, 1.419700026512146, 2.3141000270843506, 2.336699962615967, 2.1849000453948975, 1.5463000535964966, 1.0002000331878662, 1.7919000387191772, 1.8509999513626099, 1.4638999700546265, 0.5266000032424927, 1.2482000589370728, 1.381500005722046, 1.3458000421524048, 1.438099980354309, 0.8133999705314636, 1.3035999536514282, 0.8658999800682068, 0.5062999725341797, 0.8955000042915344, 3.138200044631958, 3.1380999088287354, 3.1380999088287354, 3.138000011444092, 3.138000011444092, 3.138000011444092, 3.1379001140594482, 3.1379001140594482, 3.1375999450683594, 3.137500047683716, 3.137500047683716, 3.1373000144958496, 3.1373000144958496, 3.137200117111206, 3.137200117111206, 3.1370999813079834, 3.1368000507354736, 3.136699914932251, 3.1366000175476074, 3.136399984359741, 3.136399984359741, 3.136199951171875, 3.136199951171875, 3.1361000537872314, 3.135499954223633, 3.135200023651123, 3.135200023651123, 3.134500026702881, 3.1340999603271484, 3.1335999965667725, 3.1333000659942627, 3.1328999996185303, 3.1314001083374023, 2.850399971008301, 2.98580002784729, 2.8190999031066895, 2.7269999980926514, 2.9811999797821045, 2.8498001098632812, 2.784600019454956, 2.3808000087738037, 2.159899950027466, 1.8127000331878662, 1.8320000171661377, 2.495800018310547, 2.503000020980835, 0.42309999465942383, 0.6624000072479248, 0.7527999877929688, 1.937000036239624, 0.9866999983787537, 1.1318000555038452, 2.0179998874664307, 0.17829999327659607, 1.7513999938964844, -0.06750000268220901, -0.6934000253677368, -0.22310000658035278, -0.7936999797821045, 1.0997999906539917, 1.25, 0.0027000000700354576, 0.003100000089034438, -0.034699998795986176, 3.3529999256134033, 3.352799892425537, 3.3522000312805176, 3.351900100708008, 3.351799964904785, 3.351099967956543, 3.350100040435791, 3.348400115966797, 3.3482000827789307, 3.347599983215332, 3.344399929046631, 3.3441998958587646, 3.3436999320983887, 3.342900037765503, 3.342400074005127, 3.3406999111175537, 3.338599920272827, 3.338399887084961, 3.3343000411987305, 3.331899881362915, 3.331399917602539, 3.3310999870300293, 3.3308000564575195, 3.329400062561035, 3.326900005340576, 3.316699981689453, 3.311300039291382, 3.3108999729156494, 3.309000015258789, 3.2897000312805176, 3.2832999229431152, 3.268399953842163, 3.1363000869750977, 3.109100103378296, 3.2327001094818115, 3.2427000999450684, 2.9442999362945557, 3.077199935913086, 3.099100112915039, 2.934299945831299, 2.2788000106811523, 2.974600076675415, 3.129300117492676, 3.1394999027252197, 3.1470000743865967, 2.1594998836517334, 2.2850000858306885, 1.7137000560760498, 2.3889000415802, 2.5597000122070312, 1.9556000232696533, 2.484999895095825, 1.319100022315979, 1.9341000318527222, 0.6823999881744385, 1.6603000164031982, 0.9041000008583069, 0.9128999710083008, 0.765500009059906, 0.4893999993801117, 1.0230000019073486, 0.8618999719619751, 0.1509000062942505, 0.5705999732017517, 0.30219998955726624, -0.6093999743461609, -0.595300018787384]}, \"token.table\": {\"Topic\": [1, 2, 3, 4, 5, 6, 7, 8, 9, 10, 11, 12, 13, 14, 4, 7, 3, 4, 5, 6, 9, 12, 13, 10, 2, 1, 2, 3, 13, 1, 2, 3, 4, 5, 6, 7, 8, 9, 10, 11, 12, 14, 1, 2, 3, 8, 13, 14, 4, 5, 8, 9, 10, 14, 9, 2, 3, 4, 5, 6, 7, 8, 9, 10, 11, 12, 13, 14, 7, 11, 12, 3, 5, 6, 8, 9, 6, 1, 2, 3, 4, 6, 7, 8, 9, 10, 11, 12, 13, 14, 1, 2, 3, 4, 5, 6, 7, 8, 9, 10, 11, 12, 13, 14, 1, 2, 3, 4, 5, 6, 7, 8, 9, 10, 11, 12, 13, 14, 1, 2, 3, 4, 5, 6, 7, 8, 9, 11, 12, 13, 14, 5, 5, 11, 1, 2, 3, 4, 5, 6, 7, 8, 9, 10, 11, 12, 13, 14, 1, 3, 4, 6, 9, 10, 12, 13, 1, 2, 3, 4, 5, 6, 7, 8, 9, 10, 11, 12, 13, 14, 1, 3, 6, 8, 9, 10, 11, 13, 14, 5, 12, 1, 2, 5, 6, 7, 8, 9, 10, 11, 12, 13, 1, 2, 3, 4, 5, 6, 8, 9, 10, 11, 12, 13, 14, 4, 1, 2, 3, 4, 7, 8, 10, 12, 13, 14, 6, 7, 11, 12, 13, 3, 6, 8, 9, 10, 1, 10, 1, 2, 3, 4, 5, 6, 7, 8, 9, 10, 12, 13, 14, 8, 12, 3, 14, 1, 2, 4, 6, 7, 8, 9, 10, 11, 12, 13, 14, 9, 4, 9, 10, 1, 2, 3, 4, 5, 6, 7, 8, 9, 10, 11, 12, 13, 14, 9, 1, 2, 3, 4, 5, 6, 7, 8, 9, 10, 11, 12, 13, 14, 1, 2, 3, 4, 5, 6, 7, 8, 9, 10, 11, 12, 13, 14, 1, 2, 3, 4, 5, 8, 11, 12, 1, 2, 4, 5, 6, 7, 8, 9, 10, 11, 12, 13, 14, 1, 4, 5, 6, 9, 10, 11, 12, 14, 6, 9, 13, 14, 4, 9, 13, 6, 1, 2, 1, 2, 3, 5, 6, 8, 9, 10, 11, 13, 6, 1, 2, 3, 4, 5, 6, 7, 8, 9, 10, 11, 12, 13, 14, 11, 7, 3, 2, 3, 4, 5, 6, 7, 8, 9, 10, 11, 12, 13, 14, 1, 2, 3, 4, 6, 10, 11, 13, 1, 2, 5, 6, 7, 9, 10, 11, 13, 14, 1, 2, 3, 4, 5, 6, 7, 8, 9, 11, 12, 13, 14, 2, 5, 7, 8, 9, 10, 12, 13, 14, 8, 1, 2, 3, 4, 5, 6, 8, 9, 10, 11, 12, 14, 6, 13, 8, 1, 2, 3, 4, 5, 6, 7, 8, 9, 10, 11, 12, 13, 14, 7, 12, 1, 3, 5, 6, 7, 8, 9, 10, 11, 12, 14, 14, 1, 2, 3, 4, 5, 6, 7, 8, 9, 10, 11, 12, 13, 14, 2, 3, 6, 11, 1, 1, 2, 3, 4, 5, 7, 8, 9, 10, 11, 12, 13, 14, 5, 11, 14, 1, 2, 3, 4, 5, 6, 7, 8, 9, 10, 11, 12, 13, 14, 3, 14, 7, 10, 11, 8, 4, 12, 4, 12, 1, 2, 10, 14, 14, 3, 8, 2, 6, 1, 2, 3, 6, 7, 11, 12, 13, 14, 1, 2, 3, 4, 5, 6, 7, 8, 9, 10, 11, 12, 13, 14, 1, 2, 5, 7, 10, 11, 12, 4, 11, 1, 1, 2, 3, 4, 6, 12, 7, 4, 3, 13, 3, 14, 14, 3, 14, 6, 11, 4, 1, 5, 6, 9, 10, 11, 6, 1, 2, 3, 14, 4, 6, 11, 12, 13, 14, 5, 6, 9, 14, 4, 6, 7, 13, 5, 6, 7, 8, 9, 10, 11, 12, 13, 14, 1, 2, 3, 4, 5, 6, 7, 8, 9, 10, 11, 12, 13, 14, 3, 4, 5, 6, 7, 9, 11, 12, 13, 14, 5, 6, 7, 9, 10, 11, 1, 2, 3, 4, 5, 6, 7, 8, 9, 10, 11, 12, 13, 14, 2, 2, 2, 1, 2, 3, 4, 5, 6, 7, 8, 9, 10, 11, 12, 13, 14, 1, 2, 3, 7, 8, 10, 11, 12, 13, 1, 2, 4, 5, 6, 7, 8, 9, 10, 11, 13, 1, 13, 1, 2, 3, 4, 7, 8, 9, 11, 12, 14, 4, 12, 4, 1, 2, 3, 4, 5, 6, 7, 8, 9, 10, 11, 12, 13, 14, 8, 9, 1, 2, 3, 4, 5, 6, 8, 9, 11, 13, 14, 4, 5, 1, 3, 4, 5, 6, 11, 1, 5, 9, 1, 5, 7, 7, 3, 5, 6, 14, 2, 6, 7, 11, 1, 2, 3, 4, 6, 12, 5, 11, 3, 5, 6, 7, 10, 11, 12, 13, 2, 3, 4, 5, 6, 7, 8, 9, 10, 11, 12, 14, 11, 14, 1, 2, 3, 4, 5, 6, 7, 8, 9, 10, 11, 12, 13, 14, 10, 11, 1, 2, 3, 4, 5, 6, 7, 8, 9, 10, 11, 12, 13, 14, 14, 3, 4, 1, 2, 3, 4, 5, 8, 1, 2, 3, 4, 5, 6, 7, 8, 9, 10, 11, 12, 13, 14, 3, 7, 7, 13, 4, 5, 1, 2, 4, 6, 9, 11, 4, 4, 6, 4, 9, 6, 11, 12, 13, 1, 2, 3, 4, 5, 6, 7, 8, 9, 10, 11, 12, 13, 14, 11, 1, 2, 3, 4, 5, 6, 7, 8, 9, 10, 11, 12, 13, 14, 1, 2, 3, 4, 5, 6, 7, 8, 9, 10, 11, 12, 13, 14, 11, 2, 1, 3, 4, 1, 2, 3, 5, 6, 7, 8, 9, 10, 11, 13, 9, 2, 7, 11, 1, 3, 10, 10, 3, 1, 2, 3, 4, 5, 6, 7, 8, 9, 10, 11, 12, 13, 14, 1, 2, 3, 4, 5, 6, 7, 8, 9, 10, 11, 12, 13, 14, 12, 1, 2, 3, 8, 14, 2, 3, 4, 5, 6, 7, 8, 9, 10, 11, 12, 13, 14, 10, 11, 1, 2, 3, 4, 5, 6, 7, 8, 9, 10, 11, 12, 13, 14, 1, 2, 3, 4, 5, 6, 7, 8, 9, 10, 11, 12, 13, 14, 1, 2, 4, 5, 6, 7, 9, 10, 11, 12, 13, 1, 6, 13, 14, 11, 1, 2, 3, 4, 5, 6, 8, 9, 10, 11, 12, 13, 14, 1, 1, 1, 2, 3, 4, 5, 6, 7, 8, 9, 11, 12, 13, 14, 1, 2, 3, 4, 5, 6, 7, 8, 9, 10, 11, 12, 13, 14, 2, 3, 4, 5, 6, 7, 8, 9, 10, 11, 12, 13, 14, 10, 13, 9, 1, 2, 3, 5, 8, 10, 11, 13, 9, 1, 6, 11, 11, 3, 6, 9, 13, 1, 2, 3, 13, 7, 12, 1, 3, 8, 9, 10, 12, 1, 2, 3, 4, 5, 6, 7, 8, 9, 10, 11, 12, 13, 14, 7, 8, 11, 12, 1, 10, 1, 1, 2, 3, 4, 5, 6, 7, 8, 9, 10, 11, 12, 13, 14, 1, 2, 3, 4, 5, 6, 8, 9, 10, 12, 13, 14, 1, 3, 12, 1, 10, 14, 1, 2, 3, 4, 6, 7, 8, 10, 11, 12, 13, 14, 2, 4, 5, 6, 7, 10, 11, 12, 14, 1, 2, 3, 4, 5, 6, 7, 8, 9, 10, 11, 12, 13, 14, 1, 2, 3, 4, 5, 6, 7, 8, 9, 10, 11, 12, 13, 14, 8, 13, 13, 13, 1, 6, 10, 11, 13, 14, 2, 1, 2, 3, 4, 5, 8, 9, 10, 12, 14, 1, 2, 6, 7, 9, 10, 11, 7, 11, 1, 2, 6, 10, 11, 14, 6, 11, 14, 1, 5, 6, 7, 8, 9, 10, 11, 13, 8, 9, 10, 1, 6, 10, 11, 13, 5, 2, 4, 7, 11, 12, 5, 6, 7, 8, 9, 10, 11, 14, 2, 4, 1, 2, 3, 4, 5, 6, 7, 8, 9, 10, 11, 12, 13, 14, 1, 3, 4, 6, 11, 14, 12, 13, 7, 8, 11, 2, 11, 2, 4, 2, 8, 1, 2, 3, 4, 5, 7, 8, 10, 12, 13, 1, 7, 10, 11, 1, 2, 4, 8, 1, 2, 3, 4, 5, 6, 7, 8, 9, 11, 12, 13, 14, 5, 6, 8, 9, 5, 13, 11, 1, 2, 3, 4, 5, 6, 7, 8, 9, 10, 11, 12, 13, 14, 6, 12, 1, 1, 2, 3, 4, 5, 6, 7, 8, 10, 11, 12, 13, 14, 6, 1, 2, 3, 6, 10, 13, 1, 2, 3, 4, 5, 11, 12, 13, 6, 14, 1, 2, 3, 4, 5, 6, 7, 8, 9, 10, 11, 12, 13, 14, 8, 9, 6, 1, 2, 3, 4, 5, 6, 7, 8, 9, 10, 11, 12, 13, 14, 12, 4, 8, 2, 11, 8, 6, 10, 11, 4, 1, 2, 3, 4, 5, 6, 8, 9, 10, 11, 12, 13, 14, 3, 4, 8, 9, 10, 9, 7, 12, 12, 7, 1, 2, 3, 4, 5, 6, 7, 8, 9, 10, 11, 12, 13, 14, 5, 6, 9, 14, 4, 1, 2, 3, 4, 5, 6, 7, 8, 9, 10, 11, 12, 13, 14, 1, 2, 3, 4, 5, 6, 7, 8, 9, 10, 13, 14, 6, 14, 13, 7, 12, 1, 2, 3, 4, 5, 6, 7, 8, 9, 10, 11, 12, 13, 14, 1, 2, 3, 4, 5, 6, 8, 9, 10, 11, 12, 13, 1, 2, 5, 6, 11, 13, 14, 1, 3, 4, 5, 8, 9, 10, 13, 1, 2, 3, 4, 6, 7, 8, 9, 10, 11, 12, 13, 14, 14, 1, 2, 3, 6, 10, 11, 13, 14, 8, 10, 1, 2, 4, 5, 6, 7, 11, 12, 13, 14, 9, 7, 11, 12, 7, 11, 2, 3, 5, 6, 7, 9, 10, 11, 12, 14, 2, 5, 10, 1, 3, 4, 5, 6, 8, 9, 11, 13, 14, 6, 9, 10, 4, 7, 8, 9, 10, 12, 13, 4, 1, 2, 3, 4, 5, 6, 7, 8, 9, 10, 11, 12, 13, 14, 1, 2, 5, 6, 7, 8, 9, 10, 11, 12, 13, 1, 2, 3, 4, 5, 6, 7, 8, 9, 10, 11, 12, 13, 14, 6, 1, 2, 3, 6, 11, 12, 14, 9, 3, 4, 14, 8, 10, 1, 9, 13, 1, 9, 1, 6, 9, 11, 14, 6, 9, 11, 14, 10, 9, 10, 11, 1, 2, 3, 4, 5, 6, 7, 8, 9, 10, 11, 12, 13, 14, 8, 1, 2, 3, 4, 6, 7, 11, 12, 13, 14, 1, 2, 3, 4, 6, 7, 9, 10, 11, 12, 13, 14, 1, 4, 5, 6, 8, 9, 1, 3, 4, 11, 12, 1, 2, 3, 4, 5, 6, 7, 8, 9, 10, 11, 12, 13, 14, 1, 2, 3, 4, 5, 6, 8, 9, 10, 11, 12, 13, 14, 1, 2, 4, 9, 2, 5, 14, 13, 1, 10, 11, 1, 2, 3, 8, 11, 13, 1, 2, 3, 4, 5, 6, 7, 8, 9, 10, 11, 12, 13, 14, 1, 4, 6, 1, 2, 10, 13, 1, 2, 3, 4, 5, 6, 7, 8, 9, 10, 11, 12, 13, 14, 8, 13, 1, 2, 3, 4, 5, 6, 7, 8, 9, 10, 11, 12, 13, 14, 12, 1, 1, 4, 6, 11, 12, 13, 2, 1, 2, 3, 4, 5, 7, 8, 9, 10, 11, 12, 13, 14, 1, 5, 8, 9, 10, 10, 1, 1, 4, 5, 6, 9, 5, 13, 6, 1, 2, 3, 11, 13, 5, 11, 1, 2, 1, 2, 3, 4, 5, 6, 7, 8, 9, 10, 12, 13, 14, 5, 6, 1, 9, 14, 1, 2, 3, 4, 5, 6, 7, 8, 9, 10, 11, 12, 13, 14, 1, 2, 3, 4, 5, 6, 7, 8, 9, 10, 12, 13, 14, 11, 1, 2, 3, 4, 5, 6, 7, 8, 9, 10, 11, 12, 13, 14, 1, 2, 3, 4, 5, 6, 7, 8, 9, 10, 11, 12, 13, 14, 1, 2, 3, 4, 5, 6, 7, 8, 9, 10, 11, 13, 14, 6, 9, 14, 13, 1, 4, 1, 2, 3, 4, 5, 6, 8, 10, 12, 13, 14, 1, 2, 5, 6, 7, 8, 9, 10, 11, 13, 14, 3, 3, 4, 6, 6, 9, 14, 1, 2, 7, 3, 6, 1, 2, 3, 4, 5, 6, 7, 8, 10, 11, 13, 14, 13, 5, 7, 11, 12, 2, 3, 5, 6, 7, 11, 12, 2, 3, 4, 5, 6, 7, 9, 11, 12, 14, 7, 10, 1, 2, 3, 4, 5, 6, 7, 8, 10, 11, 12, 13, 5, 6, 7, 8, 9, 10, 11, 12, 6, 7, 11, 1, 2, 3, 5, 6, 9, 10, 11, 12, 13, 14, 2, 3, 4, 5, 6, 7, 8, 9, 10, 11, 12, 13, 14, 1, 2, 4, 5, 6, 7, 8, 9, 10, 12, 13, 14, 11, 1, 2, 3, 4, 5, 6, 7, 8, 9, 10, 11, 12, 13, 14, 7, 4, 7, 12, 12, 1, 2, 3, 5, 6, 7, 9, 11, 13, 14, 1, 3, 4, 5, 6, 8, 9, 10, 11, 13, 14, 1, 2, 3, 4, 5, 6, 7, 8, 9, 10, 11, 12, 13, 14, 6, 14, 3, 4, 12, 14, 1, 2, 3, 4, 5, 6, 7, 8, 9, 10, 11, 12, 13, 14, 1, 1, 2, 3, 4, 5, 6, 7, 9, 11, 12, 13, 14, 1, 2, 3, 4, 5, 6, 7, 8, 9, 10, 11, 12, 13, 14, 9, 7, 1, 3, 4, 6, 7, 10, 11, 12, 13, 14, 3, 6, 3, 5, 6, 1, 6, 10, 11, 14, 1, 7, 11, 11, 12, 1, 2, 3, 4, 5, 6, 7, 8, 9, 10, 11, 12, 13, 14, 14, 13, 1, 3, 10, 13, 4, 10, 13, 9, 2, 1, 4, 5, 6, 7, 8, 9, 10, 13, 14, 1, 8, 13, 1, 2, 3, 5, 6, 7, 9, 10, 11, 12, 13, 14, 13, 1, 2, 3, 4, 5, 6, 7, 8, 9, 10, 11, 12, 13, 14, 5, 11, 12, 13, 1, 5, 6, 7, 8, 9, 10, 13, 1, 2, 3, 4, 5, 6, 7, 8, 9, 10, 11, 12, 13, 14, 1, 2, 3, 4, 5, 6, 7, 8, 9, 10, 11, 12, 13, 14, 1, 2, 3, 4, 5, 6, 7, 11, 12, 13, 1, 2, 3, 4, 5, 6, 7, 8, 9, 10, 11, 12, 13, 14, 8, 1, 2, 3, 4, 5, 6, 7, 8, 9, 10, 11, 12, 13, 14, 4, 5, 1, 2, 5, 6, 7, 8, 9, 10, 11, 13, 14, 5, 8, 9, 1, 4, 6, 7, 8, 9, 10, 12, 13, 9, 11, 3, 4, 7, 8, 1, 2, 3, 4, 5, 6, 7, 8, 9, 10, 11, 12, 13, 14, 12, 10, 1, 2, 3, 4, 5, 6, 7, 8, 9, 11, 12, 13, 14, 1, 2, 3, 4, 5, 6, 7, 8, 9, 10, 11, 12, 13, 14, 12, 1, 2, 3, 4, 5, 6, 7, 8, 9, 10, 11, 13, 14, 1, 3, 4, 6, 9, 10, 13, 14, 4, 1, 1, 3, 10, 14, 4, 6, 3, 4, 12, 3, 1, 3, 4, 5, 8, 9, 10, 13, 14, 1, 2, 3, 4, 5, 6, 8, 12, 14, 1, 2, 3, 4, 5, 6, 9, 10, 11, 13, 14, 11, 11, 1, 3, 4, 13, 1, 2, 3, 4, 5, 7, 10, 11, 12, 13, 14, 2, 3, 4, 6, 8, 9, 10, 11, 12, 14, 1, 2, 3, 4, 5, 6, 8, 13, 14, 9, 8, 9, 1, 2, 3, 4, 5, 6, 7, 8, 9, 10, 11, 12, 13, 14, 5, 6, 14, 6, 1, 2, 3, 4, 6, 8, 14, 5, 6, 9, 10, 14, 10, 1, 2, 3, 10, 14, 1, 2, 3, 4, 5, 6, 8, 9, 10, 11, 12, 13, 14, 3, 1, 2, 3, 4, 5, 6, 7, 8, 9, 10, 11, 12, 13, 14, 1, 3, 4, 5, 6, 8, 9, 10, 13, 14, 12, 3, 6, 1, 5, 6, 7, 8, 9, 10, 11, 14, 1, 8, 12, 13, 1, 2, 3, 6, 10, 11, 13, 14, 13, 1, 13, 14, 1, 2, 4, 5, 6, 11, 13, 14, 12, 1, 2, 3, 4, 5, 6, 7, 8, 9, 10, 11, 12, 13, 14, 1, 2, 3, 4, 5, 6, 7, 10, 11, 12, 13, 14, 6, 9, 6, 10, 1, 3, 4, 6, 7, 8, 9, 10, 11, 12, 13, 14, 5, 14, 4, 1, 2, 3, 4, 5, 6, 7, 8, 9, 10, 11, 12, 13, 14, 1, 2, 3, 4, 5, 6, 7, 8, 9, 10, 11, 12, 13, 14, 5, 6, 13, 1, 2, 3, 4, 5, 6, 7, 8, 9, 10, 11, 12, 13, 14, 6, 3, 8, 9, 10, 1, 2, 3, 4, 5, 6, 7, 8, 9, 10, 11, 12, 13, 14, 6, 6, 9, 1, 2, 3, 4, 5, 6, 8, 9, 10, 11, 12, 13, 14, 5, 6, 9, 11, 1, 2, 3, 4, 5, 6, 7, 8, 9, 10, 11, 12, 13, 14, 1, 2, 3, 4, 5, 6, 7, 8, 9, 10, 11, 12, 14, 1, 2, 3, 4, 5, 6, 7, 8, 9, 11, 12, 13, 14, 1, 2, 3, 4, 5, 6, 8, 9, 10, 11, 12, 13, 14, 1, 2, 3, 4, 5, 6, 7, 8, 9, 10, 11, 12, 13, 14, 3, 3, 3, 3, 1, 2, 4, 5, 8, 9, 10, 9, 1, 2, 3, 4, 5, 7, 8, 9, 10, 11, 13, 1, 2, 4, 5, 6, 10, 12, 13, 14, 1, 5, 6, 10, 14, 1, 2, 3, 4, 5, 6, 7, 8, 9, 10, 11, 13, 14, 9, 1, 12, 3, 7, 12, 4, 5, 8, 9, 6, 1, 2, 3, 4, 5, 6, 7, 8, 10, 11, 12, 13, 14, 1, 2, 3, 4, 5, 6, 7, 8, 9, 10, 11, 12, 13, 14, 1, 2, 3, 4, 5, 6, 7, 8, 9, 10, 11, 12, 13, 14, 8, 13, 1, 2, 3, 4, 5, 6, 7, 8, 9, 10, 11, 12, 13, 14, 5, 9, 13, 12, 1, 2, 3, 4, 5, 6, 7, 8, 9, 10, 11, 12, 13, 14, 6, 12, 8, 11, 6, 1, 2, 3, 4, 5, 6, 8, 9, 10, 11, 12, 13, 14, 1, 6, 9, 10, 13, 10, 1, 2, 3, 4, 5, 6, 7, 8, 9, 10, 11, 12, 13, 14, 10, 5, 9, 1, 2, 3, 4, 5, 6, 7, 8, 9, 10, 11, 12, 13, 14, 12, 11, 1, 2, 3, 4, 5, 6, 8, 9, 10, 11, 12, 13, 14, 1, 11, 1, 13, 4, 1, 2, 3, 4, 5, 6, 7, 8, 9, 10, 11, 12, 13, 14, 9, 3, 14, 1, 5, 6, 14, 14, 1, 2, 3, 4, 5, 6, 7, 8, 9, 10, 11, 12, 13, 14, 1, 2, 3, 7, 11, 12, 13, 14, 1, 2, 3, 4, 5, 6, 7, 8, 9, 11, 12, 13, 14, 2, 3, 4, 5, 6, 7, 11, 12, 14, 9, 5, 8, 11, 1, 11, 1, 2, 3, 4, 5, 6, 7, 8, 9, 10, 11, 12, 13, 14, 1, 2, 4, 5, 6, 9, 6, 9, 12, 1, 4, 5, 6, 9, 10, 12, 13, 9, 10, 11, 6, 9, 10, 11, 2, 3, 4, 5, 6, 10, 11, 12, 13, 1, 6, 11, 14, 1, 2, 3, 4, 5, 6, 7, 8, 9, 10, 11, 12, 13, 14, 7, 1, 4, 5, 6, 8, 9, 10, 13, 14, 4, 9, 4, 9, 1, 2, 3, 4, 5, 6, 7, 8, 9, 10, 11, 12, 13, 14, 1, 5, 6, 9, 11, 13, 14, 5, 9, 10, 11, 1, 2, 3, 4, 5, 6, 7, 8, 9, 10, 11, 12, 13, 14, 10, 1, 2, 1, 2, 3, 4, 5, 6, 7, 8, 9, 10, 11, 12, 13, 14, 1, 2, 3, 4, 5, 6, 7, 8, 9, 10, 11, 12, 13, 14, 4, 5, 6, 9, 10, 11, 13, 10, 3, 1, 5, 6, 9, 10, 12, 13, 14, 10, 11, 7, 1, 2, 3, 4, 5, 6, 7, 8, 9, 10, 11, 12, 13, 14, 1, 6, 14, 4, 1, 2, 3, 4, 5, 6, 7, 8, 9, 11, 12, 13, 14, 1, 2, 3, 4, 5, 6, 7, 8, 9, 10, 11, 12, 13, 14, 1, 2, 5, 10, 10, 6, 1, 2, 3, 4, 5, 6, 7, 8, 9, 10, 11, 12, 13, 14, 2, 6, 1, 2, 6, 7, 11, 13, 14, 8, 12, 1, 4, 6, 8, 9, 10, 12, 13, 5, 1, 2, 3, 4, 5, 6, 8, 9, 12, 13, 14, 8, 13, 1, 2, 6, 7, 8, 10, 13, 14, 3, 1, 2, 3, 4, 5, 6, 7, 8, 9, 10, 11, 12, 13, 14, 8, 13, 12, 1, 2, 3, 4, 5, 8, 9, 10, 13, 14, 1, 6, 7, 10, 12, 13, 14, 9, 10, 1, 2, 3, 4, 5, 6, 7, 8, 9, 11, 12, 13, 14, 13, 1, 2, 3, 4, 5, 6, 7, 8, 10, 11, 12, 13, 14, 1, 7, 13, 13, 1, 2, 3, 4, 5, 6, 7, 8, 9, 10, 11, 12, 13, 14, 1, 2, 3, 4, 5, 6, 7, 8, 9, 10, 11, 12, 13, 14, 2, 3, 4, 5, 6, 7, 8, 9, 10, 11, 12, 13, 14, 12, 13, 1, 2, 3, 5, 9, 1, 2, 3, 4, 5, 6, 7, 8, 9, 11, 12, 13, 14, 1, 2, 3, 4, 5, 6, 7, 8, 9, 10, 11, 12, 13, 14, 2, 3, 4, 5, 6, 7, 8, 10, 14, 9, 1, 2, 3, 4, 5, 6, 7, 8, 9, 10, 11, 12, 13, 14, 4, 11, 1, 2, 3, 4, 5, 6, 7, 9, 10, 11, 12, 13, 14, 14, 2, 8, 14, 14, 1, 2, 3, 8, 13, 14, 9, 12, 1, 3, 6, 10, 1, 2, 3, 4, 5, 6, 7, 8, 9, 10, 11, 12, 13, 14, 1, 2, 4, 5, 6, 9, 11, 12, 13, 14, 13, 10, 10, 13, 3, 1, 2, 3, 4, 5, 6, 8, 9, 10, 14, 1, 2, 3, 4, 5, 6, 7, 8, 9, 10, 11, 12, 13, 14, 1, 2, 3, 4, 5, 6, 8, 9, 10, 11, 13, 14, 1, 10, 14, 1, 4, 7, 8, 9, 10, 12, 13, 3, 4, 5, 6, 7, 9, 11, 12, 1, 2, 3, 4, 5, 6, 7, 10, 11, 12, 13, 14, 9, 1, 3, 5, 6, 12, 13, 10, 1, 2, 3, 4, 5, 6, 7, 8, 9, 10, 11, 12, 13, 14, 1, 2, 3, 4, 5, 6, 7, 8, 9, 10, 11, 12, 13, 14, 1, 2, 3, 4, 5, 6, 7, 8, 9, 10, 11, 12, 13, 14, 1, 2, 3, 4, 5, 6, 8, 9, 10, 11, 12, 13, 14, 1, 2, 3, 4, 6, 8, 9, 10, 14, 6, 9, 1, 2, 3, 4, 5, 6, 8, 9, 10, 13, 14, 9, 14, 1, 2, 3, 4, 5, 6, 7, 8, 9, 10, 11, 12, 13, 14, 1, 2, 6, 8, 10, 1, 2, 3, 4, 5, 6, 7, 8, 9, 10, 11, 12, 13, 14, 1, 3, 4, 5, 6, 7, 10, 11, 12, 13, 14, 3, 6, 10, 11, 13, 14, 4, 1, 2, 3, 4, 5, 6, 7, 8, 9, 10, 11, 12, 13, 14, 4, 9, 14, 1, 2, 3, 4, 6, 7, 10, 11, 12, 14, 12, 1, 2, 3, 4, 5, 6, 7, 8, 9, 10, 11, 12, 13, 14, 1, 2, 3, 4, 5, 6, 7, 8, 9, 10, 11, 12, 13, 14, 1, 2, 3, 4, 5, 6, 7, 8, 9, 10, 11, 12, 13, 14, 11, 13, 2, 5, 6, 9, 11, 1, 2, 3, 4, 5, 6, 8, 9, 10, 11, 13, 14, 1, 2, 3, 4, 5, 6, 8, 9, 10, 12, 13, 14, 6, 1, 2, 3, 4, 5, 6, 7, 8, 9, 10, 11, 13, 14, 1, 2, 4, 7, 11, 12, 10, 1, 2, 3, 4, 5, 6, 7, 8, 9, 10, 11, 12, 13, 14, 9, 1, 2, 3, 4, 5, 6, 7, 8, 9, 11, 12, 13, 14, 6, 7, 11, 7, 8, 11, 12, 1, 2, 3, 4, 5, 6, 7, 8, 9, 10, 11, 12, 13, 14, 1, 2, 3, 4, 7, 11, 12, 13, 14, 1, 2, 3, 4, 5, 6, 8, 9, 11, 12, 13, 10, 1, 1, 2, 3, 4, 5, 6, 7, 8, 9, 10, 11, 12, 13, 14, 5, 14, 5, 11, 12, 10, 1, 13, 11, 3, 5, 13, 14, 3, 14, 1, 2, 3, 4, 5, 8, 9, 14, 11, 1, 7, 8, 9, 12, 1, 2, 3, 4, 5, 6, 7, 8, 9, 10, 11, 12, 13, 14, 1, 2, 3, 4, 5, 8, 9, 10, 13, 14, 1, 2, 3, 5, 6, 7, 9, 10, 11, 13, 14, 3, 3, 13, 3, 10, 1, 2, 3, 4, 5, 6, 7, 8, 9, 10, 11, 12, 13, 14, 3, 14, 4, 5, 6, 7, 8, 9, 10, 11, 12, 13, 1, 2, 3, 4, 5, 6, 8, 12, 13, 4, 1, 2, 3, 6, 7, 10, 11, 12, 13, 3, 7, 11, 12, 12, 1, 3, 6, 7, 12, 1, 3, 11, 12, 14, 1, 2, 3, 4, 5, 6, 7, 8, 9, 10, 11, 12, 13, 14, 2, 3, 4, 5, 13, 1, 2, 3, 4, 5, 6, 7, 8, 9, 10, 11, 12, 13, 14, 8, 5, 6, 11, 12, 13, 1, 2, 3, 4, 5, 6, 7, 8, 9, 10, 11, 12, 13, 14, 1, 2, 6, 1, 2, 3, 4, 5, 6, 7, 8, 9, 10, 11, 12, 13, 14, 13, 1, 2, 13, 3, 4, 5, 6, 7, 11, 12, 13, 7, 7, 2, 3, 4, 5, 6, 8, 9, 11, 12, 13, 14, 1, 2, 3, 4, 5, 6, 7, 8, 9, 10, 11, 12, 13, 14, 7, 12, 11, 7, 1, 6, 1, 2, 3, 4, 5, 6, 7, 8, 9, 10, 11, 12, 13, 14, 1, 4, 5, 6, 9, 10, 11, 12, 14, 1, 13, 1, 2, 3, 4, 5, 6, 8, 9, 10, 11, 12, 13, 14, 7, 1, 1, 3, 4, 5, 6, 7, 10, 11, 12, 13, 14, 8, 11, 1, 14, 3, 4, 7, 12, 14, 5, 7, 1, 8, 10, 11, 13, 12, 3, 4, 6, 7, 10, 11, 5, 10, 12, 7, 11, 12, 1, 2, 3, 4, 5, 6, 7, 8, 9, 10, 11, 12, 13, 14, 1, 2, 4, 5, 6, 7, 10, 12, 14, 1, 2, 3, 4, 5, 6, 7, 8, 9, 10, 11, 12, 13, 14, 14, 3, 4, 14, 11, 1, 2, 3, 4, 5, 6, 7, 8, 9, 10, 11, 12, 13, 14, 2, 3, 4, 8, 12, 3, 5, 7, 11, 12, 14, 6, 9, 2, 3, 4, 5, 6, 7, 11, 12, 14, 1, 3, 4, 6, 9, 12, 13, 14, 13, 13, 2, 9, 3, 1, 2, 3, 4, 5, 6, 7, 8, 10, 11, 12, 14, 2, 3, 4, 5, 6, 7, 8, 9, 10, 11, 12, 13, 14, 1, 3, 6, 7, 10, 11, 12, 13, 14, 13, 2, 4, 6, 7, 9, 11, 12, 14, 4, 14, 1, 2, 1, 2, 3, 5, 6, 10, 13, 14, 2, 5, 13, 14, 5, 1, 12, 1, 7, 13, 1, 2, 3, 5, 8, 10, 13, 3, 1, 2, 3, 4, 5, 6, 7, 8, 9, 10, 11, 12, 13, 14, 3, 14, 1, 2, 3, 4, 5, 6, 7, 8, 9, 10, 11, 12, 13, 14, 3, 5, 13, 14, 14, 1, 2, 3, 4, 5, 6, 7, 8, 9, 10, 11, 12, 13, 14, 14, 5, 3, 5, 6, 13, 1, 7, 1, 3, 4, 5, 6, 8, 9, 10, 11, 14, 3, 5, 6, 9, 10, 14, 1, 2, 3, 4, 5, 6, 7, 8, 9, 10, 11, 12, 13, 14, 1, 2, 3, 4, 5, 6, 7, 8, 9, 10, 11, 13, 1, 3, 4, 7, 8, 10, 13, 1, 2, 3, 4, 5, 6, 7, 8, 9, 10, 11, 12, 13, 14, 2, 3, 11, 1, 2, 3, 8, 10, 13, 3, 3, 1, 1, 2, 3, 4, 5, 6, 7, 8, 9, 10, 11, 12, 13, 14, 1, 3, 5], \"Freq\": [0.009483563713729382, 0.003609416075050831, 0.00028309147455729544, 0.013800708577036858, 0.0036801891401410103, 0.0010615929495543242, 0.034961797297000885, 0.0004954100586473942, 0.00962510984390974, 0.0007785015041008592, 0.09568491578102112, 0.006794195156544447, 0.014720756560564041, 0.8051121234893799, 0.010001243092119694, 0.9801217913627625, 0.052028268575668335, 0.08844805508852005, 0.005202826578170061, 0.03954148292541504, 0.7793834209442139, 0.004162261262536049, 0.030176395550370216, 0.9978604912757874, 0.974401593208313, 0.05375237017869949, 0.9272283911705017, 0.006719046272337437, 0.006719046272337437, 0.01178990863263607, 0.13112063705921173, 0.26417818665504456, 0.15882691740989685, 0.007410800084471703, 0.021221837028861046, 8.421363600064069e-05, 0.0352012999355793, 0.00016842727200128138, 0.010695131495594978, 0.0004210681654512882, 0.3120957314968109, 0.04673856869339943, 0.12971581518650055, 0.006266464479267597, 0.004386525135487318, 0.0012532928958535194, 0.8547457456588745, 0.0031332322396337986, 0.01401197537779808, 0.0028023950289934874, 0.015062874183058739, 0.7790658473968506, 0.18811076879501343, 0.0003502993786241859, 0.9814935922622681, 0.00451526278629899, 0.019724568352103233, 0.00047529078437946737, 0.028279801830649376, 0.06059957668185234, 0.6692094206809998, 0.05632195994257927, 0.07319477945566177, 0.02899273857474327, 0.045865561813116074, 0.0097434613853693, 0.00023764539218973368, 0.0023764539510011673, 0.7180689573287964, 0.2502053380012512, 0.030512847006320953, 0.771438717842102, 0.006163923069834709, 0.00047414793516509235, 0.18823672831058502, 0.03319035470485687, 0.9875376224517822, 0.014036286622285843, 0.0008834026521071792, 0.008441402576863766, 0.003828078042715788, 0.18031229078769684, 0.10129683464765549, 0.0014723377535119653, 0.01501784473657608, 0.0007852467824704945, 0.5451576113700867, 0.1214187815785408, 0.0017668053042143583, 0.005496727768331766, 0.0067800190299749374, 0.040385328233242035, 0.06701409816741943, 0.03842010721564293, 0.00953133124858141, 0.26746684312820435, 0.04195750877261162, 0.021224407479166985, 0.007762630470097065, 0.025154853239655495, 0.3546244502067566, 0.06701409816741943, 0.00943306926637888, 0.04323490336537361, 5.9754915127996355e-05, 0.02019716054201126, 0.06883765757083893, 0.0763070285320282, 0.17430508136749268, 0.13259615004062653, 0.02198980748653412, 0.06154756247997284, 0.2746933400630951, 0.027068976312875748, 0.03722731024026871, 0.05132947117090225, 0.03537490963935852, 0.01846426911652088, 0.005494439974427223, 0.1316935122013092, 0.004542647395282984, 0.015877634286880493, 0.41493839025497437, 0.01064277347177267, 0.13753405213356018, 0.0005624229670502245, 4.326330599724315e-05, 0.07199013978242874, 0.1883251816034317, 0.0001730532239889726, 0.018170589581131935, 0.9382681250572205, 0.9649851322174072, 0.9927797317504883, 0.06268663704395294, 0.01202209573239088, 0.09302812069654465, 0.114496149122715, 0.006297287996858358, 0.04035989195108414, 0.013453297317028046, 0.0397874116897583, 0.5618898272514343, 0.014598258771002293, 0.007728490047156811, 0.01488449890166521, 0.0014312018174678087, 0.017460662871599197, 0.0030820174142718315, 0.030477726832032204, 0.7112610936164856, 0.13937567174434662, 0.0376690998673439, 0.028423048555850983, 0.014382747933268547, 0.034587081521749496, 0.0002675655123312026, 0.38482609391212463, 0.045686811208724976, 0.016655953601002693, 0.21886859834194183, 0.028763294219970703, 0.04608815908432007, 0.061272505670785904, 0.014247863553464413, 0.027291683480143547, 0.05960021913051605, 0.01003370713442564, 0.05960021913051605, 0.02675655111670494, 0.23713333904743195, 0.00020764740474987775, 0.05855656787753105, 0.0026994163636118174, 0.029278283938765526, 0.6343628168106079, 0.0010382370091974735, 0.03633829578757286, 0.00020764740474987775, 0.9955325126647949, 0.9862729907035828, 0.0033617957960814238, 0.008542267605662346, 0.000606225454248488, 0.007880930788815022, 0.4790283441543579, 0.0009920053416863084, 0.00011022281250916421, 0.020942334085702896, 0.30404961109161377, 0.1723884791135788, 0.0020942334085702896, 0.0018992271507158875, 0.5518310070037842, 0.007807934191077948, 0.08377702534198761, 0.08071715384721756, 0.16618238389492035, 0.02869943343102932, 0.012556002475321293, 0.0013716641115024686, 0.03988377004861832, 0.00010551261948421597, 0.014455229043960571, 0.01065677497535944, 0.998309314250946, 0.003148056101053953, 0.017988892272114754, 0.1868596076965332, 0.03282972797751427, 0.1378398835659027, 0.05868875980377197, 0.00022486114175990224, 0.5614782571792603, 0.00022486114175990224, 0.0006745834252797067, 0.005864881910383701, 0.008797322399914265, 0.9280047416687012, 0.057295382022857666, 0.9997826218605042, 0.00118046416901052, 0.00472185667604208, 0.046038102358579636, 0.8534756302833557, 0.09325666725635529, 0.9878324866294861, 0.0043136789463460445, 0.32382848858833313, 0.029975492507219315, 0.03354769945144653, 0.05311719328165054, 0.0015531342942267656, 0.022675760090351105, 0.012891015037894249, 0.38393479585647583, 0.0650763288140297, 0.05327250808477402, 0.0026403283700346947, 0.005591283552348614, 0.011959133669734001, 0.8767922520637512, 0.07970838248729706, 0.2164299190044403, 0.7834709286689758, 0.011984293349087238, 0.00014099168765824288, 0.8225455284118652, 0.07387964427471161, 0.0018328919541090727, 0.00042297507752664387, 0.0018328919541090727, 0.05907551571726799, 0.0035247921478003263, 0.00014099168765824288, 0.02495552785694599, 0.9892070889472961, 0.9856268167495728, 0.9996272921562195, 0.9007596373558044, 0.0957329124212265, 0.03214602172374725, 0.005602880381047726, 0.14353853464126587, 0.025636201724410057, 0.09813102334737778, 0.0011689462698996067, 0.021585198119282722, 0.07989142835140228, 0.43805253505706787, 0.0656222254037857, 0.04784617945551872, 0.00016123396926559508, 0.03768844157457352, 0.002942519960924983, 0.9665276408195496, 0.17960649728775024, 0.5876210331916809, 0.021522747352719307, 0.01876983791589737, 0.07900016009807587, 0.05038658529520035, 0.0014181655133143067, 0.0028363310266286135, 0.018269307911396027, 0.009760315530002117, 0.012846911326050758, 0.0029197526164352894, 0.00033368600998073816, 0.014682183973491192, 0.5365877151489258, 0.14908835291862488, 0.03810518980026245, 0.031150629743933678, 0.10489793121814728, 0.00036221661139279604, 0.06708251684904099, 0.007027002517133951, 0.003911939449608326, 0.018545491620898247, 0.01724151149392128, 0.0028252897318452597, 0.018617933616042137, 0.004636372905224562, 0.056138306856155396, 0.021643685176968575, 0.7707180976867676, 0.08691292256116867, 0.013865485787391663, 0.03449462354183197, 0.0050727385096251965, 0.010821842588484287, 0.011675072833895683, 0.0003049459483008832, 0.18823876976966858, 0.052102189511060715, 0.005532590672373772, 0.00339796906337142, 0.09144021570682526, 0.33666032552719116, 0.19255158305168152, 0.0001306911144638434, 0.11030329763889313, 0.001481165993027389, 0.0061860461719334126, 7.785127672832459e-05, 0.11070451140403748, 0.31996873021125793, 0.13514980673789978, 0.001557025476358831, 0.19190339744091034, 0.017282983288168907, 0.21580372750759125, 0.007473722565919161, 0.9959747791290283, 0.001793902600184083, 0.0003587805258575827, 0.0010763416066765785, 0.003437706734985113, 0.9836751818656921, 0.01227752398699522, 0.979831874370575, 0.11657822132110596, 0.8451921343803406, 0.03950091451406479, 0.12115579098463058, 0.0032426125835627317, 0.005306093022227287, 0.022698286920785904, 0.5978198051452637, 0.005895658861845732, 0.06603138148784637, 0.05188180133700371, 0.08607662469148636, 0.9902743101119995, 0.21320582926273346, 0.4202598035335541, 0.043506328016519547, 0.025848504155874252, 0.12674276530742645, 0.0033684608060866594, 0.0444459542632103, 0.024642949923872948, 0.022090010344982147, 0.029447438195347786, 0.008882098831236362, 0.015299903228878975, 0.014218449592590332, 0.008048848249018192, 0.9925787448883057, 0.9891120791435242, 0.9998013973236084, 0.0004110035952180624, 0.02281069941818714, 0.10514841973781586, 0.3666837215423584, 0.09083179384469986, 0.20920082926750183, 0.013426117599010468, 0.034524302929639816, 0.0004110035952180624, 0.07747417688369751, 0.030688269063830376, 0.011576601304113865, 0.0367848239839077, 0.034935593605041504, 0.014385243877768517, 0.02209162525832653, 0.05599969998002052, 0.024146659299731255, 0.8292065858840942, 0.018495313823223114, 0.0010275174863636494, 0.06773081421852112, 0.004921616055071354, 0.020623914897441864, 0.2703373432159424, 0.00035154400393366814, 0.00011718133464455605, 0.0011718133464455605, 0.5546192526817322, 0.010194776579737663, 0.06995725631713867, 0.004138872493058443, 0.0157567597925663, 0.17172691226005554, 0.06927165389060974, 0.024833235889673233, 0.036088064312934875, 0.010020428337156773, 0.02425234206020832, 0.0010891769779846072, 0.10833680629730225, 0.5002226829528809, 0.0007261179853230715, 0.033546652644872665, 0.00021456067042890936, 0.002038326347246766, 0.005149455741047859, 0.5082942247390747, 0.0034329707268625498, 0.001823765691369772, 0.009977070614695549, 0.46881505846977234, 0.00021456067042890936, 0.9840594530105591, 0.002751619555056095, 0.00842683482915163, 0.09544680267572403, 0.08444032818078995, 0.004471381660550833, 0.00550323911011219, 0.6519618630409241, 0.0932111144065857, 0.02889200486242771, 0.0010318573331460357, 0.0020637146662920713, 0.02201295644044876, 0.004005300812423229, 0.9933145642280579, 0.9982927441596985, 0.0031213052570819855, 0.11013748496770859, 0.4582967758178711, 0.1157558336853981, 0.028448468074202538, 0.07491132616996765, 0.04771137982606888, 0.029340269044041634, 0.025416342541575432, 0.05796709656715393, 0.010077356360852718, 0.02131405472755432, 0.0077586728148162365, 0.009809816256165504, 0.9194761514663696, 0.03831150755286217, 0.9546186923980713, 0.02046334743499756, 0.0020928424783051014, 0.0706915631890297, 0.009301521815359592, 0.0006976141594350338, 0.01674273982644081, 0.003953146748244762, 0.31020575761795044, 0.496003657579422, 0.06976141035556793, 0.985781729221344, 0.3312256336212158, 0.29747918248176575, 0.1036161482334137, 0.04772739112377167, 0.0896352156996727, 0.0016252828063443303, 0.026319095864892006, 0.01413821242749691, 0.010573076084256172, 0.026546284556388855, 0.0031631847377866507, 0.00013980927178636193, 0.043480683118104935, 0.004334087483584881, 0.8531970381736755, 0.07669186592102051, 0.019172966480255127, 0.038345932960510254, 0.9781865477561951, 0.005078624933958054, 0.0009651685832068324, 0.11287876218557358, 0.07190506160259247, 0.001355831976979971, 0.09902169555425644, 0.05689898505806923, 0.6315879225730896, 0.0036998128052800894, 0.0006664259126409888, 6.894061516504735e-05, 0.015304815955460072, 0.0005745050730183721, 0.9806033968925476, 0.9894061088562012, 0.9846360087394714, 0.01572565548121929, 0.0003568354295566678, 0.5520741939544678, 0.02576683834195137, 0.0017426847480237484, 0.007120111957192421, 4.9790989578468725e-05, 0.04035559669137001, 0.002472952473908663, 2.4895494789234363e-05, 0.00024895495153032243, 0.011841957457363605, 0.0006638799095526338, 0.3415496051311493, 0.5797432661056519, 0.4198141098022461, 0.07387258857488632, 0.07655654102563858, 0.8495347499847412, 0.9567141532897949, 0.954024612903595, 0.04528103768825531, 0.9921422600746155, 0.0027636275626719, 0.07806865125894547, 0.8587551116943359, 0.9976533055305481, 0.9991264343261719, 0.9942002892494202, 0.9972965121269226, 0.0011637065326794982, 0.960407018661499, 0.02462582103908062, 0.054343000054359436, 0.038604315370321274, 0.027319978922605515, 0.0017817376647144556, 0.6631034016609192, 0.06770603358745575, 0.10957686603069305, 0.037119533866643906, 0.00029695627745240927, 0.25113576650619507, 0.020380303263664246, 0.0055763693526387215, 0.12068856507539749, 0.026919258758425713, 0.00036511942744255066, 0.042652588337659836, 0.38828790187835693, 0.07873302698135376, 0.0021243311930447817, 0.043681561946868896, 0.0002323487278772518, 0.018023623153567314, 0.0011949363397434354, 0.0020272391848266125, 0.1216343566775322, 0.0010136195924133062, 0.0395311675965786, 0.006081718020141125, 0.0375039279460907, 0.7916369438171387, 0.9972392320632935, 0.9969565868377686, 0.9811170101165771, 0.008769212290644646, 0.13434432446956635, 0.04296913743019104, 0.005612295586615801, 0.00017538423708174378, 0.8079952001571655, 0.9862475991249084, 0.995925784111023, 0.9952352643013, 0.9983723163604736, 0.0008925509173423052, 0.9987644553184509, 0.9611914157867432, 0.03496039658784866, 0.9639899730682373, 0.09091870486736298, 0.907404363155365, 0.9998171925544739, 0.038573913276195526, 0.003198812250047922, 0.23426595330238342, 0.2617380917072296, 0.45648932456970215, 0.005833128001540899, 0.9921368956565857, 0.00014923227718099952, 0.025667952373623848, 0.7268358469009399, 0.2472032755613327, 0.009530448354780674, 0.15941840410232544, 0.11176616698503494, 0.6905242800712585, 0.027724940329790115, 0.00043320219265297055, 0.04403984919190407, 0.932701051235199, 0.0015728516736999154, 0.02044707164168358, 0.994193971157074, 0.9915846586227417, 0.9257241487503052, 0.03857183828949928, 0.000617234269157052, 0.03610820695757866, 0.8828302025794983, 0.014751899056136608, 6.172342546051368e-05, 0.000308617134578526, 0.032034460455179214, 0.03005930967628956, 0.002468937076628208, 0.0007406811346299946, 0.08876197040081024, 0.133650541305542, 0.2699052393436432, 0.10350413620471954, 0.04718376323580742, 0.16384108364582062, 0.01076972670853138, 0.008871782571077347, 0.006709009874612093, 0.0007944880053400993, 0.03147055208683014, 0.08708471804857254, 0.014830443076789379, 0.032618146389722824, 0.00028340661083348095, 0.00028340661083348095, 0.0017004397232085466, 0.08785605430603027, 0.0068017588928341866, 0.005101319402456284, 0.5849512815475464, 0.3057957589626312, 0.004534505773335695, 0.002550659701228142, 0.013409080915153027, 0.002933236537501216, 0.0004190337785985321, 0.7186429500579834, 0.19987912476062775, 0.06495023518800735, 0.14490345120429993, 0.662442147731781, 0.02198329009115696, 0.03243459761142731, 0.057240452617406845, 0.00011375571193639189, 0.00012086544302292168, 0.056664563715457916, 0.005510041955858469, 0.005303859710693359, 0.0025452841073274612, 6.398758705472574e-05, 0.00816908199340105, 0.00250262557528913, 0.9909377098083496, 0.998047411441803, 0.9350319504737854, 0.049538902938365936, 0.03144710883498192, 0.13611550629138947, 0.39701002836227417, 0.2633015811443329, 0.033776525408029556, 7.764717884128913e-05, 0.03323299437761307, 0.008541190065443516, 0.0013200021348893642, 0.0018635323503986, 0.00015529435768257827, 0.041541241109371185, 0.002096473937854171, 0.9348133206367493, 0.0017171442741528153, 0.03365602716803551, 0.011676580645143986, 0.0020605730824172497, 0.006525148171931505, 0.0072120060212910175, 0.0013737153494730592, 0.0006868576747365296, 0.0002504137810319662, 0.0004173563211224973, 0.7983191609382629, 0.0018363677663728595, 0.0008347126422449946, 0.0007512413430958986, 0.08898036926984787, 0.014440528117120266, 0.03497445955872536, 0.009348781779408455, 0.04983234405517578, 0.00016522433725185692, 0.9997724890708923, 0.022526845335960388, 0.00012899287685286254, 0.02080303244292736, 0.9119092226028442, 0.0009381299605593085, 0.0002228058729087934, 3.517987352097407e-05, 1.1726624506991357e-05, 0.04281390458345413, 0.000598057871684432, 0.9931929111480713, 0.004569906275719404, 0.9963754415512085, 0.5280300378799438, 0.13445435464382172, 0.03107498213648796, 0.030218584463000298, 0.022388668730854988, 0.033399488776922226, 0.02960687316954136, 0.06471915543079376, 0.01272361446171999, 0.021654613316059113, 0.01712794229388237, 0.013457669876515865, 0.032420750707387924, 0.02899516001343727, 0.9962970018386841, 0.0017059879610314965, 0.09608996659517288, 0.0003690090961754322, 0.6539579033851624, 0.1142452135682106, 0.009889443404972553, 0.00797059666365385, 7.380182069027796e-05, 0.1091528907418251, 7.380182069027796e-05, 0.007527785375714302, 0.0006642163498327136, 0.9935172200202942, 0.986373782157898, 0.005346327088773251, 0.9563984870910645, 0.01722705364227295, 0.019009163603186607, 0.0005940363625995815, 0.0005940363625995815, 0.008237079717218876, 0.0411854013800621, 0.9390271306037903, 0.9668736457824707, 0.020355235785245895, 0.9888271689414978, 0.9711478352546692, 0.03297296538949013, 0.008243241347372532, 0.001498771132901311, 0.9569653868675232, 0.11906988173723221, 0.014950478449463844, 0.0021357827354222536, 0.8639240860939026, 0.03230181708931923, 0.9627426862716675, 0.0022277114912867546, 0.00037128524854779243, 0.0011138557456433773, 0.00037128524854779243, 0.8596639037132263, 0.09551820904016495, 0.9927161931991577, 0.5192071199417114, 0.0012741278624162078, 0.12146685272455215, 0.008494186215102673, 0.33743152022361755, 0.00021235464373603463, 0.011679504998028278, 0.03482624515891075, 0.004873297177255154, 0.0610945038497448, 0.10531076043844223, 0.38356414437294006, 0.14667434990406036, 0.0020206354092806578, 0.023534458130598068, 0.010340898297727108, 0.0975847989320755, 0.016521666198968887, 0.11363102495670319, 0.9923353791236877, 0.9848079681396484, 0.09265749156475067, 0.07496382296085358, 0.040623776614665985, 0.05776624009013176, 0.0941457450389862, 0.046025581657886505, 0.05605750530958176, 0.20907190442085266, 0.15731379389762878, 0.06950689852237701, 0.00016536137263756245, 0.01565421000123024, 0.01973312348127365, 0.06630991399288177, 0.005570192355662584, 0.9938151240348816, 0.025829026475548744, 0.00048512115608900785, 0.17321765422821045, 0.32270848751068115, 7.350320811383426e-05, 0.00014700641622766852, 0.026461154222488403, 0.03132706880569458, 0.3791148364543915, 2.9401282517937943e-05, 0.008732181042432785, 0.003983873873949051, 0.023976746946573257, 0.003925071097910404, 0.9883877038955688, 0.9950236678123474, 0.004923325031995773, 0.00048481341218575835, 0.08290309458971024, 0.03345212712883949, 0.7984877228736877, 0.04314839467406273, 0.04169395565986633, 0.05013217777013779, 0.0034424366895109415, 0.7365865707397461, 0.039994608610868454, 0.07387685775756836, 0.00014908189768902957, 0.0018296415219083428, 0.04370810464024544, 0.005001020152121782, 0.00012197610340081155, 0.0016534538008272648, 0.014162780717015266, 0.0083079282194376, 0.021034101024270058, 0.9940671324729919, 0.9925327301025391, 0.9961600303649902, 0.9974408149719238, 0.06576994806528091, 0.9280871152877808, 0.002402924932539463, 0.0001001218770397827, 0.9827963709831238, 0.013115965761244297, 0.0001001218770397827, 0.0014017062494531274, 0.999800443649292, 0.9967453479766846, 0.9893332123756409, 0.9989894032478333, 0.9960274696350098, 0.17016392946243286, 0.8269504904747009, 0.001539945020340383, 0.0007699725101701915, 0.013085476122796535, 0.04823997989296913, 0.23618267476558685, 0.05518952012062073, 0.1238374188542366, 0.02617095224559307, 0.02105202153325081, 0.0038985225837677717, 0.005966434720903635, 0.0038985225837677717, 0.22496171295642853, 0.09702236205339432, 0.05410471558570862, 0.08637770265340805, 0.9930521249771118, 0.034318335354328156, 0.03088650293648243, 0.4221155345439911, 0.042533937841653824, 0.06374891102313995, 0.08589983731508255, 0.06135702505707741, 0.08205202221870422, 0.03879012167453766, 0.01507926918566227, 0.06042107194662094, 0.018095122650265694, 0.028182635083794594, 0.016327207908034325, 0.12277226895093918, 0.007629204075783491, 0.19997075200080872, 0.20087718963623047, 0.05894378200173378, 0.061713460832834244, 0.09907893091440201, 0.006143649108707905, 0.04338322952389717, 0.003222897881641984, 0.0001762522297212854, 0.0010826922953128815, 0.0009064400801435113, 0.19410406053066254, 0.9878791570663452, 0.9881927371025085, 0.9719135761260986, 0.015573786571621895, 0.9842122197151184, 0.01176439132541418, 0.06422721594572067, 3.179565101163462e-05, 0.0019077390898019075, 0.0007630956242792308, 0.22231519222259521, 0.0360562689602375, 0.010079221799969673, 0.0057868086732923985, 0.6432260274887085, 0.0038790693506598473, 0.9678003787994385, 0.019278468564152718, 0.0022032535634934902, 0.9779691696166992, 0.004730796907097101, 0.044297460466623306, 0.9504600763320923, 0.990688681602478, 0.995992124080658, 0.20672930777072906, 0.12339155375957489, 0.0007288532797247171, 0.01898331567645073, 0.07659585773944855, 0.06407283246517181, 0.15874093770980835, 0.050771258771419525, 0.054465219378471375, 0.022345980629324913, 0.09334291517734528, 0.045718979090452194, 0.08408316969871521, 3.312969420221634e-05, 0.020013870671391487, 0.12107439339160919, 0.052798498421907425, 0.052950985729694366, 0.17200492322444916, 0.21790340542793274, 0.10555887222290039, 0.010330969467759132, 0.024702835828065872, 0.007281236816197634, 0.08268588036298752, 0.032632142305374146, 0.012961364351212978, 0.08714611083269119, 0.9736745357513428, 0.07368150353431702, 0.851021409034729, 0.029472602531313896, 0.018420375883579254, 0.022104451432824135, 0.16055919229984283, 0.05662103742361069, 0.20255976915359497, 0.38279011845588684, 0.006645661778748035, 0.029107999056577682, 0.0727035403251648, 0.00033228308893740177, 0.0001329132355749607, 0.025785168632864952, 0.05004183575510979, 0.001329132355749607, 0.011297625489532948, 0.9969161152839661, 0.0026777226012200117, 0.0003394052037037909, 0.0011030669556930661, 0.0034789033234119415, 0.02358866110444069, 0.0019091542344540358, 0.14891403913497925, 0.07496612519025803, 0.012006458826363087, 0.08111784607172012, 0.00038183084689080715, 0.1533687263727188, 0.44237226247787476, 0.05438968166708946, 0.00199400563724339, 0.03785062953829765, 0.29567858576774597, 0.059760019183158875, 0.07312946021556854, 0.21868161857128143, 0.014429571107029915, 0.1113334596157074, 0.03830216825008392, 0.004024574067443609, 0.03266776353120804, 0.02917325496673584, 0.019906917586922646, 0.0366334393620491, 0.02840760350227356, 0.026643328368663788, 8.300102490466088e-05, 0.00041500513907521963, 0.05486367642879486, 0.1104743629693985, 0.01568719372153282, 0.06673282384872437, 0.0003320040996186435, 0.3471103012561798, 0.0017430215375497937, 0.3759116530418396, 0.009488618932664394, 0.9825992584228516, 0.004217164125293493, 0.0021085820626467466, 0.9933663606643677, 0.009849172085523605, 0.5384845733642578, 0.01401613000780344, 0.07178531587123871, 0.09773409366607666, 0.13220620155334473, 0.03826024755835533, 0.012311466038227081, 0.021024195477366447, 0.0032199218403548002, 0.00018940716108772904, 0.0104173943400383, 0.050382304936647415, 0.9895722270011902, 0.9812189340591431, 0.0048827482387423515, 0.0025317955296486616, 0.008499599061906338, 0.0033154464326798916, 0.5448785424232483, 0.007173420395702124, 0.12671034038066864, 6.028084681020118e-05, 0.002953761490061879, 0.1807822585105896, 0.08662357181310654, 0.011754765175282955, 0.0197721179574728, 0.002238260116428137, 0.08396672457456589, 0.028393927961587906, 0.01624337211251259, 0.15412019193172455, 0.011447100900113583, 0.3494883179664612, 0.21947738528251648, 0.06183992698788643, 0.010551797226071358, 0.011830803006887436, 0.012406355701386929, 0.005243923515081406, 0.032870449125766754, 0.015797976404428482, 0.001650534919463098, 0.02640855871140957, 0.622487485408783, 0.06743614375591278, 0.07474565505981445, 0.00282948836684227, 0.00943162851035595, 0.003301069838926196, 0.13793756067752838, 0.003301069838926196, 0.001650534919463098, 0.0327749066054821, 0.9452701807022095, 0.053448233753442764, 0.9969874024391174, 0.8456632494926453, 0.09697595983743668, 0.03780419006943703, 0.003287320723757148, 0.001643660361878574, 0.001643660361878574, 0.010683792643249035, 0.001643660361878574, 0.9898571372032166, 0.006444237194955349, 0.0018089086515828967, 0.9916210770606995, 0.9968973398208618, 0.040610767900943756, 0.09804599732160568, 0.002320615341886878, 0.8586276769638062, 0.0424189418554306, 0.9190770983695984, 0.007069823797792196, 0.0212094709277153, 0.997583270072937, 0.000968527456279844, 0.923579216003418, 0.008434513583779335, 0.012651770375669003, 0.03795531019568443, 0.014760398305952549, 0.9676859378814697, 0.030375249683856964, 0.00019932059512939304, 0.0011476033832877874, 0.19592610001564026, 0.0005798417259939015, 0.0005556816468015313, 0.5770754218101501, 0.06368594616651535, 0.015069845132529736, 0.008292945101857185, 0.0030260488856583834, 0.08301400393247604, 0.01960589736700058, 0.0014435643097385764, 0.6353962421417236, 0.001820967416279018, 0.3624939024448395, 0.00012139782484155148, 0.9362280368804932, 0.05851425230503082, 0.9812524914741516, 0.0060500456020236015, 0.04292348027229309, 0.017704343423247337, 0.029868118464946747, 0.03725554421544075, 0.1320820450782776, 0.12494935840368271, 0.18334822356700897, 0.1269235908985138, 0.22015796601772308, 0.01795908249914646, 0.014711163006722927, 0.025410190224647522, 0.02057015523314476, 0.014538249000906944, 0.24092347919940948, 0.21395914256572723, 0.25570860505104065, 0.035001520067453384, 0.04778420925140381, 0.1007528081536293, 0.030146295204758644, 0.0027704965323209763, 0.008832672610878944, 0.009518438950181007, 0.04007619246840477, 0.9866293668746948, 0.0344703234732151, 0.9565514922142029, 0.936253547668457, 0.01483975350856781, 0.04721739888191223, 0.017599353566765785, 0.0006285483250394464, 0.0014142338186502457, 0.0029856045730412006, 0.23743413388729095, 0.25833335518836975, 0.010999595746397972, 0.0028284676373004913, 0.10968168824911118, 0.020113546401262283, 0.32621657848358154, 0.011628144420683384, 0.001640946720726788, 0.0006563786882907152, 0.0006563786882907152, 0.0741707906126976, 0.2632078528404236, 0.0003281893441453576, 0.043649181723594666, 0.6143704652786255, 0.0009845680324360728, 0.0018421709537506104, 0.006041237153112888, 0.01441227924078703, 0.034432344138622284, 0.23547279834747314, 0.054614949971437454, 0.16706866025924683, 0.25809356570243835, 0.09549489617347717, 0.00154417275916785, 0.06723923981189728, 0.04348065331578255, 0.004876335151493549, 0.01538754627108574, 0.08477124571800232, 0.14263802766799927, 0.21263538300991058, 0.09225820749998093, 0.1394946426153183, 0.004072105977684259, 0.045407555997371674, 0.2055913507938385, 0.003986377734690905, 0.0005429474986158311, 0.018117301166057587, 0.017588641494512558, 0.030562229454517365, 0.002343247178941965, 0.9104015827178955, 0.06069343909621239, 0.9996907711029053, 0.9997220039367676, 0.09445313364267349, 0.06902344524860382, 0.04359375312924385, 0.0009082031901925802, 0.01634765788912773, 0.7756054997444153, 0.9537777304649353, 0.0029861247166991234, 0.00022395934502128512, 0.6726245880126953, 0.22030134499073029, 0.0025382060557603836, 0.09264452010393143, 0.0032100840471684933, 0.003359390189871192, 0.00029861246002838016, 0.0017170216888189316, 0.0005431902245618403, 0.0027159510646015406, 2.4690465579624288e-05, 0.08557715266942978, 0.0001975237246369943, 0.06118297204375267, 0.8497470617294312, 0.0011380137875676155, 0.9969000220298767, 0.023846352472901344, 0.00993597973138094, 0.06359027326107025, 0.025833548977971077, 0.07750064134597778, 0.798852801322937, 0.9563601016998291, 0.03651128709316254, 0.006477808579802513, 0.00018969830125570297, 0.0017072847113013268, 0.06999867409467697, 0.00018969830125570297, 0.11723355203866959, 0.024091685190796852, 0.5933762788772583, 0.18704253435134888, 0.006070345640182495, 0.10533413290977478, 0.11390521377325058, 0.7804198861122131, 0.02647145465016365, 0.053888317197561264, 0.9151560068130493, 0.0018908181227743626, 0.0018908181227743626, 0.9642401337623596, 0.001234783441759646, 0.0002743963268585503, 0.9682074189186096, 0.008094691671431065, 0.022088903933763504, 0.0005101963761262596, 0.00867333821952343, 0.40645644068717957, 0.4545849561691284, 0.00782301090657711, 0.07908044010400772, 0.04251636564731598, 0.0005101963761262596, 0.006308811251074076, 0.9873289465904236, 0.003664305666461587, 0.47962939739227295, 0.11449545621871948, 0.026664869859814644, 0.1016421988606453, 0.036924924701452255, 0.010034560225903988, 0.003889801213517785, 0.00022549572167918086, 0.05022917315363884, 0.02023824118077755, 0.038672517985105515, 0.016461187973618507, 0.0973014086484909, 8.013134356588125e-05, 0.9587714672088623, 0.03774186223745346, 0.0003605910169426352, 0.0002003283443627879, 0.002804596908390522, 0.9504091143608093, 0.04320041462779045, 0.9170376062393188, 0.0054803043603897095, 0.07672426104545593, 0.06240903586149216, 0.9361355304718018, 0.9771623015403748, 0.018012207001447678, 0.9216482639312744, 0.07228613644838333, 0.8480173945426941, 0.04463249444961548, 0.022190166637301445, 0.007060507778078318, 0.043371688574552536, 0.0007564830011688173, 0.00579970283433795, 0.0015129660023376346, 0.00025216100038960576, 0.026224743574857712, 0.96221524477005, 0.001129294978454709, 0.18821583688259125, 0.8104573488235474, 0.014891240745782852, 0.9672215580940247, 0.015600347891449928, 0.0014182134764268994, 0.002455052686855197, 0.005516971927136183, 0.014206202700734138, 0.21541017293930054, 0.036770619451999664, 0.00019309401977807283, 0.601874053478241, 5.516971941688098e-05, 2.758485970844049e-05, 0.057238586246967316, 0.06510026752948761, 0.0005516972159966826, 0.0005516972159966826, 0.04490901157259941, 0.8112784028053284, 0.037910204380750656, 0.10498210787773132, 0.0029019739013165236, 0.9953770041465759, 0.9917939901351929, 0.0015907856868579984, 0.001363530638627708, 0.00012986005458515137, 0.00035711517557501793, 0.5492106676101685, 0.12761996686458588, 0.07496172189712524, 3.2465013646287844e-05, 0.002791991224512458, 0.009901829063892365, 0.16070182621479034, 0.03392593935132027, 0.009252529591321945, 0.028179632499814034, 0.9947414994239807, 0.9846580624580383, 0.994831919670105, 0.8864652514457703, 0.005102625582367182, 0.01739531382918358, 0.0016235626535490155, 0.015539813786745071, 0.001855500158853829, 0.03479062765836716, 0.008349751122295856, 0.003247125307098031, 0.011133001185953617, 0.009509438648819923, 0.004174875561147928, 0.0009277500794269145, 0.9891357421875, 0.1352255791425705, 0.05300508812069893, 0.09390665590763092, 0.009599346667528152, 0.005843080580234528, 0.7020044326782227, 0.017362724989652634, 0.02075057476758957, 0.004658292513340712, 0.0038113300688564777, 0.011010508984327316, 0.0008469622116535902, 0.7292344570159912, 0.21174055337905884, 0.9917714595794678, 0.0036732275038957596, 0.02412218600511551, 0.025138569995760918, 0.03317929804325104, 0.025612883269786835, 0.04636970907449722, 0.04512746259570122, 0.05468147248029709, 0.5094569325447083, 0.0894869863986969, 0.0650034174323082, 0.013393686152994633, 0.008763491176068783, 0.03948087990283966, 0.020192166790366173, 0.937461256980896, 0.03537589684128761, 0.9864484667778015, 0.0068641840480268, 0.01590481773018837, 0.049221221357584, 0.09509406238794327, 0.46107226610183716, 0.08387698233127594, 0.0015067721251398325, 0.019922876730561256, 0.02310383878648281, 0.010882243514060974, 0.10597630590200424, 0.10313018411397934, 0.0028461250476539135, 0.020592551678419113, 0.9969282150268555, 0.022037003189325333, 0.9475911855697632, 0.004692544229328632, 0.9854342341423035, 0.993800699710846, 0.0009260872029699385, 0.9983220100402832, 0.00030869574402458966, 0.9899080991744995, 0.037111371755599976, 0.16776792705059052, 0.03287883475422859, 0.07922203838825226, 0.6596009135246277, 0.002821690868586302, 0.012820291332900524, 6.134111026767641e-05, 0.00033737608464434743, 3.0670555133838207e-05, 0.006256793159991503, 9.201166540151462e-05, 0.0010427988599985838, 0.011700347065925598, 0.2588258683681488, 0.10033933818340302, 0.0003545559593476355, 0.6282731890678406, 0.9863171577453613, 0.9061657786369324, 0.09377974271774292, 0.9667355418205261, 0.9940692782402039, 8.43349625938572e-05, 0.012059899978339672, 0.14767052233219147, 0.04756492003798485, 0.14109238982200623, 0.040143441408872604, 0.1804768145084381, 0.324605256319046, 0.009951525367796421, 8.43349625938572e-05, 0.0015180293703451753, 0.05034797266125679, 0.0001686699251877144, 0.04410718381404877, 0.00537828728556633, 0.13792705535888672, 0.8379718661308289, 0.01856376603245735, 0.9846002459526062, 0.34830242395401, 0.08693335205316544, 0.01915694959461689, 0.02952572889626026, 0.011633263900876045, 0.014604803174734116, 0.015932513400912285, 0.23064209520816803, 0.1187983825802803, 0.0840882658958435, 0.016375083476305008, 0.005310837645083666, 0.010684899985790253, 0.008029480464756489, 0.6681559681892395, 0.06412189453840256, 0.031768154352903366, 0.012004555203020573, 0.12970775365829468, 0.00717345392331481, 0.004099116660654545, 0.023716317489743233, 0.0011711760889738798, 0.023569919168949127, 0.025473080575466156, 0.008930218406021595, 0.034217335283756256, 0.9580854177474976, 0.9957259893417358, 0.9995411038398743, 0.000268513394985348, 0.14962229132652283, 0.4075145423412323, 0.06522417813539505, 0.04413830488920212, 0.08068350702524185, 0.009013391099870205, 0.011471589095890522, 0.07451070100069046, 0.05916061997413635, 0.0410245843231678, 0.005899674259126186, 0.006118180695921183, 0.028678972274065018, 0.016988877207040787, 0.005090420134365559, 0.07868335396051407, 0.00014544058649335057, 0.8525726795196533, 0.02123432420194149, 0.023852255195379257, 0.00014544058649335057, 0.00043632174492813647, 0.0052358610555529594, 0.01207156851887703, 0.00029088117298670113, 0.00043632174492813647, 0.0020117901731282473, 0.8027043342590332, 0.06638907641172409, 0.018106112256646156, 0.008047160692512989, 0.034200433641672134, 0.06840086728334427, 0.16858549416065216, 0.027183517813682556, 0.021460670977830887, 0.008584268391132355, 0.18909236788749695, 0.5274556279182434, 0.007868913002312183, 0.049836449325084686, 0.05842270702123642, 0.00013492541620507836, 0.0045874640345573425, 0.008095525205135345, 0.06611345708370209, 0.22775410115718842, 0.010794033296406269, 0.05990688502788544, 0.01497672125697136, 0.4343249201774597, 0.09404301643371582, 0.02064358815550804, 0.00013492541620507836, 0.9999529719352722, 0.24708767235279083, 0.10772541910409927, 0.002002331195399165, 0.006407459732145071, 0.1621888279914856, 0.014416784979403019, 0.007608858868479729, 0.4521263837814331, 0.8797051310539246, 0.08797051757574081, 0.010522043332457542, 0.09159573912620544, 0.0002697959716897458, 0.8624028563499451, 0.0002697959716897458, 0.007554287556558847, 0.0010791838867589831, 0.0017536738887429237, 0.0017536738887429237, 0.02266286313533783, 0.9950958490371704, 0.8224824666976929, 0.1664622575044632, 0.011083542369306087, 0.0034188819117844105, 0.9960342645645142, 9.124758071266115e-05, 0.043616343289613724, 0.0001824951614253223, 0.30184701085090637, 0.02710053138434887, 9.124758071266115e-05, 0.2629755437374115, 0.30914682149887085, 0.05410981550812721, 0.0008212282555177808, 0.042758990079164505, 0.9193183183670044, 0.9991744756698608, 0.004350429400801659, 0.29299196600914, 0.051505301147699356, 5.674473140970804e-05, 0.001891491119749844, 0.17106644809246063, 0.4709434509277344, 1.891491046990268e-05, 0.006355409976094961, 0.0008322560461238027, 0.9900863170623779, 0.0012485325569286942, 0.006242663133889437, 0.06865932792425156, 0.8710310459136963, 0.01750139705836773, 0.01480887457728386, 0.01077008992433548, 0.013462613336741924, 0.00269252248108387, 0.9934421181678772, 0.03603475168347359, 0.07172756642103195, 0.04347842559218407, 0.011783626861870289, 0.0907970517873764, 0.06362632662057877, 0.2415117472410202, 0.0002630273811519146, 0.00028933011344633996, 0.01741241291165352, 0.20813356339931488, 0.17080998420715332, 0.0044451626017689705, 0.039664529263973236, 0.010588218457996845, 0.002771412953734398, 0.0017765468219295144, 0.03617049381136894, 0.0011369899148121476, 0.02856687270104885, 0.16152364015579224, 0.005613887682557106, 0.0011369899148121476, 0.0008527424652129412, 0.7498448491096497, 0.010373813100159168, 0.04531469941139221, 0.03281897306442261, 0.0012259960640221834, 0.015796488150954247, 0.284855455160141, 0.02409553714096546, 0.0699760839343071, 0.01772978901863098, 0.1381603181362152, 0.03824164718389511, 0.033431969583034515, 0.27080366015434265, 0.017069637775421143, 0.9811956286430359, 0.0015024296008050442, 0.005008098669350147, 0.0005008098669350147, 0.19932232797145844, 0.7732504606246948, 0.0165267251431942, 0.004006478935480118, 0.9905034303665161, 0.9961358904838562, 0.9980632066726685, 0.9749846458435059, 0.9724141955375671, 0.9996652007102966, 0.9748426079750061, 0.011888324283063412, 0.9983612895011902, 0.13727812469005585, 0.8611081838607788, 0.0006540222093462944, 0.948986291885376, 0.0006540222093462944, 0.004578155465424061, 0.04447351396083832, 0.979070246219635, 0.0003652565646916628, 0.00237416778691113, 0.017897572368383408, 0.9996860027313232, 0.010532446205615997, 0.9821506142616272, 0.005266223102807999, 0.03377729654312134, 0.02438933774828911, 0.02845422737300396, 0.017420955002307892, 0.652608335018158, 0.05487601086497307, 0.003580974182114005, 0.001258180127479136, 0.00029034927138127387, 0.05090790241956711, 0.060295864939689636, 0.04568161815404892, 0.0006774815847165883, 0.025744300335645676, 0.982827365398407, 0.029014194384217262, 0.015132018364965916, 0.21965976059436798, 0.07824905216693878, 0.010266561061143875, 0.007722239475697279, 0.04383375123143196, 0.5459578633308411, 0.0007141955429688096, 0.04941340535879135, 0.0004950452130287886, 0.00012376130325719714, 0.13038253784179688, 0.09888528287410736, 0.030197758227586746, 0.0844670906662941, 0.0016707776812836528, 0.0024133455008268356, 0.04529663920402527, 0.5760470032691956, 0.00346531649120152, 0.02648491971194744, 0.9783505797386169, 0.07564736902713776, 0.008618054911494255, 0.8187152147293091, 0.01436342392116785, 0.08235029876232147, 0.02370278723537922, 0.1208377331495285, 0.00046476052375510335, 0.00046476052375510335, 0.8542298078536987, 0.0589393749833107, 0.016074374318122864, 0.00611525122076273, 0.036516785621643066, 0.07769281417131424, 0.02085009589791298, 0.09318478405475616, 0.157249316573143, 0.323875367641449, 0.059172336012125015, 0.07437310367822647, 0.0032614674419164658, 0.06517110764980316, 0.007454782724380493, 0.0003897867863997817, 0.0007795735727995634, 0.8738665580749512, 0.0018071932718157768, 0.042132407426834106, 0.04780203476548195, 0.0023387207183986902, 0.010701418854296207, 0.002409591106697917, 0.0016654526116326451, 0.006555505096912384, 0.00014174064563121647, 0.00939031783491373, 0.9293297529220581, 0.012502193450927734, 0.033339183777570724, 0.02083699032664299, 0.03329925984144211, 0.8324815034866333, 0.09989777952432632, 0.9990799427032471, 0.003760521998628974, 0.17824873328208923, 0.8175374865531921, 0.09633742272853851, 0.821787416934967, 0.018975552171468735, 0.008757947012782097, 0.0014596579130738974, 0.05108802765607834, 0.5596909523010254, 0.1429794430732727, 0.026034070178866386, 0.05098685249686241, 0.028362996876239777, 0.0014139910927042365, 0.03742917627096176, 0.03218908980488777, 0.016884716227650642, 0.06412865221500397, 0.00016635189240332693, 0.0004158797091804445, 0.031939562410116196, 0.00731948297470808, 0.04203063249588013, 0.9564971327781677, 0.0012008752673864365, 0.9174087643623352, 0.06379332393407822, 0.0030377772636711597, 0.015188886784017086, 0.38130152225494385, 0.2562941610813141, 0.0772523432970047, 0.06506294012069702, 0.024220509454607964, 0.01699129492044449, 0.022637469694018364, 0.0048018875531852245, 0.008917790837585926, 0.027703197672963142, 0.02939177304506302, 0.03340214118361473, 0.032505083829164505, 0.01957692578434944, 0.0005637607537209988, 0.9989840388298035, 0.572219729423523, 0.13898316025733948, 0.050981175154447556, 0.014012066647410393, 0.030867911875247955, 0.003257417818531394, 0.002792072482407093, 0.046948179602622986, 0.04865444824099541, 0.05294596403837204, 0.002119906712323427, 0.0003102302725892514, 0.02621445804834366, 0.009772253222763538, 0.9812487363815308, 0.9954734444618225, 0.0011560189304873347, 0.16762274503707886, 0.016184264793992043, 0.0531768724322319, 0.7525683641433716, 0.008092132396996021, 0.9345225095748901, 0.6797016263008118, 0.13410638272762299, 0.026779597625136375, 0.05527850612998009, 0.02261156588792801, 0.0003647026896942407, 0.02709219977259636, 0.0016151118325069547, 0.014900709502398968, 0.0001042007643263787, 5.210038216318935e-05, 0.03673077002167702, 0.0006773049826733768, 0.0009159396286122501, 0.0036637585144490004, 0.7382473349571228, 0.1657850742340088, 0.09067802131175995, 0.9994732141494751, 0.9635799527168274, 0.059638671576976776, 0.01192773412913084, 0.01043676771223545, 0.9124716520309448, 0.00298193353228271, 0.9655736088752747, 0.028823094442486763, 0.9843615889549255, 0.9282565116882324, 0.05359711870551109, 0.0017105464357882738, 0.0022807284258306026, 0.01368437148630619, 0.8533914685249329, 0.12191306799650192, 0.1779467761516571, 0.8215426206588745, 0.3932175934314728, 0.001441942062228918, 0.00461421487852931, 0.0008651652606204152, 0.0018745247507467866, 0.007498099002987146, 0.05767768248915672, 0.009949400089681149, 0.0011535537196323276, 0.060561567544937134, 0.4521930515766144, 0.007930681109428406, 0.0011535537196323276, 0.9459334015846252, 0.0472966730594635, 0.9801769256591797, 0.07919247448444366, 0.9189057946205139, 0.5317822694778442, 0.11036490648984909, 0.06674149632453918, 0.03449523448944092, 0.015246694907546043, 0.011310997419059277, 0.02788061648607254, 0.015478206798434258, 0.003208089852705598, 0.1290842741727829, 3.30730908899568e-05, 0.005258621647953987, 0.012237044051289558, 0.036909569054841995, 0.05524293705821037, 0.03466223552823067, 0.00270798709243536, 0.022205494344234467, 0.0024371882900595665, 0.09261316061019897, 0.0005415974301286042, 0.0008123961160890758, 0.5489090085029602, 0.21447257697582245, 0.003249584464356303, 0.021393097937107086, 0.0008123961160890758, 0.9942029118537903, 0.004337834659963846, 0.00012758337834384292, 0.021306423470377922, 0.05294710025191307, 0.006379168946295977, 0.05230918526649475, 0.3326098620891571, 0.30594494938850403, 0.09989778697490692, 0.04541968181729317, 0.00995150301605463, 0.037637095898389816, 0.012375587597489357, 0.018754756078124046, 0.07865174859762192, 0.36467018723487854, 0.4363410174846649, 0.019413618370890617, 0.011568388901650906, 0.04195202887058258, 0.001928064739331603, 0.008310624398291111, 0.0016621248796582222, 0.0047869193367660046, 0.015424517914652824, 0.0065155294723808765, 0.003191279713064432, 0.005584739614278078, 0.2172354757785797, 0.043285369873046875, 4.756634007208049e-05, 9.513268014416099e-05, 0.01479313150048256, 0.5863026976585388, 0.018503306433558464, 0.0034247764851897955, 0.012938044965267181, 0.022165914997458458, 0.0018550872337073088, 0.006659287493675947, 0.07263380289077759, 0.9578357934951782, 0.034487295895814896, 0.00715774018317461, 0.9990687966346741, 0.07673902809619904, 0.92259281873703, 0.11353166401386261, 0.5903131365776062, 0.14940182864665985, 0.06187175214290619, 0.028747623786330223, 0.008323939517140388, 0.014073464088141918, 0.009267890825867653, 8.58138082548976e-05, 0.01947973296046257, 0.004891386721283197, 0.4745011329650879, 0.0047244178131222725, 0.002665056148543954, 0.45524007081985474, 0.0014536670641973615, 0.001332528074271977, 0.0007268335320986807, 0.017201727256178856, 0.012477308511734009, 0.0044821398332715034, 0.02531803399324417, 0.9950557351112366, 0.0010323964525014162, 0.9389646053314209, 0.05936279892921448, 0.978814959526062, 0.0015993708511814475, 0.017593080177903175, 0.05198695510625839, 0.9477125406265259, 0.9831355810165405, 0.994636595249176, 0.004615482874214649, 0.38514244556427, 0.1303102970123291, 0.009741505607962608, 0.0018353562336415052, 0.006494337227195501, 0.04249555617570877, 0.0002823624818120152, 0.0031059873290359974, 0.0933208018541336, 0.026118529960513115, 0.05901376157999039, 0.24198465049266815, 0.9973616600036621, 0.9993398785591125, 0.005854644346982241, 0.005949074402451515, 0.9881129264831543, 0.0339725986123085, 0.11929912865161896, 0.015801208093762398, 0.008690664544701576, 0.05372411012649536, 0.0323924794793129, 0.7347562313079834, 0.21953828632831573, 0.004204563796520233, 0.0003003259771503508, 0.0021022818982601166, 0.057662587612867355, 0.0036039117258042097, 0.0006006519543007016, 0.13334473967552185, 0.5745235681533813, 0.004504889715462923, 0.9773760437965393, 0.9974099397659302, 0.8849539756774902, 0.0030588677618652582, 0.005882438272237778, 0.00023529752797912806, 0.00023529752797912806, 0.014353148639202118, 0.03952998295426369, 0.011058983393013477, 0.01717671938240528, 0.007529520895332098, 0.007529520895332098, 0.008706008084118366, 0.006354913581162691, 0.002184501616284251, 0.9534356594085693, 0.0017873194301500916, 0.010326734744012356, 0.008738006465137005, 0.016681648790836334, 0.0003971820988226682, 0.016349460929632187, 0.9646182060241699, 0.019322089850902557, 0.04832347109913826, 9.98418836388737e-05, 0.026158573105931282, 0.0037939914036542177, 0.09115564078092575, 0.0022963632363826036, 0.8112152814865112, 9.98418836388737e-05, 9.98418836388737e-05, 0.0001996837672777474, 0.016573753207921982, 0.08410889655351639, 0.014706664718687534, 0.00694022374227643, 0.1740013211965561, 0.0001652434148127213, 0.5504258275032043, 0.08609182387590408, 0.053208380937576294, 0.010740822181105614, 0.0018176776356995106, 0.002809138037264347, 0.0016524342354387045, 0.013384716585278511, 0.001425454393029213, 0.0002850908786058426, 0.04390399530529976, 0.0001425454393029213, 0.057160720229148865, 0.000997818075120449, 0.001995636150240898, 0.6718166470527649, 0.19343414902687073, 0.02580072358250618, 0.0011403635144233704, 0.001853090594522655, 0.9909839630126953, 0.0038583928253501654, 0.2001134604215622, 0.028345242142677307, 0.014341135509312153, 0.17553363740444183, 0.018315745517611504, 0.2188010960817337, 0.009099763818085194, 0.0089719258248806, 0.03946717455983162, 0.051228299736976624, 0.20277482271194458, 0.009855172596871853, 0.019280342385172844, 0.955689549446106, 0.000551561766769737, 0.07832176983356476, 0.9210293292999268, 0.9721372127532959, 0.04097982123494148, 0.0003794427611865103, 6.324046262307093e-05, 0.0037311872001737356, 0.18889926373958588, 0.002656099386513233, 0.06621276587247849, 0.015557154081761837, 0.6628232598304749, 0.018592696636915207, 0.004872048739343882, 7.573132461402565e-05, 0.0007825570064596832, 0.0006563381757587194, 0.008330445736646652, 5.048754974268377e-05, 0.8734093904495239, 0.1082705482840538, 2.5243774871341884e-05, 0.0033321783412247896, 0.0001767064240993932, 0.005892733111977577, 0.02826329506933689, 0.1785825490951538, 0.13089506328105927, 0.026135362684726715, 0.026626424863934517, 0.3080590069293976, 0.000818435160908848, 0.004092175979167223, 0.0018005573656409979, 0.04408637434244156, 0.20651847124099731, 0.003164615947753191, 0.03502902388572693, 0.9968336224555969, 0.002007721457630396, 0.04761134088039398, 0.003967611584812403, 0.9482592344284058, 0.9975545406341553, 0.031061412766575813, 0.13487978279590607, 0.11952540278434753, 0.17641255259513855, 0.10623274743556976, 0.07688038796186447, 0.05401159077882767, 0.11494079232215881, 0.007921338081359863, 0.021539529785513878, 0.007758571300655603, 0.030301831662654877, 0.06144462898373604, 0.057049915194511414, 0.977294921875, 0.006016960833221674, 0.0001467551483074203, 0.12092623859643936, 0.024067843332886696, 0.00858517549932003, 0.014675513841211796, 0.47086387872695923, 0.022233404219150543, 0.015996310859918594, 0.29417067766189575, 0.021866515278816223, 0.0002935102966148406, 0.7210823893547058, 0.019098937511444092, 0.010523905046284199, 0.026504648849368095, 0.01598074473440647, 0.0007795484852977097, 0.10134130716323853, 0.027284197509288788, 0.019878486171364784, 0.02767397090792656, 0.012862550094723701, 0.00701593654230237, 0.008964807726442814, 0.0007795484852977097, 0.9874791502952576, 0.9725602269172668, 0.0014450966846197844, 0.15823808312416077, 0.007948031648993492, 0.036849964410066605, 0.06575189530849457, 0.01661861129105091, 0.012283321470022202, 0.0007225483423098922, 0.015173514373600483, 0.684975802898407, 0.9832934141159058, 0.01624058187007904, 0.9826921224594116, 0.003376948880031705, 0.010130846872925758, 0.07274600118398666, 0.020656272768974304, 0.007184790447354317, 0.8549900650978088, 0.0440068393945694, 0.038783859461545944, 0.019391929730772972, 0.9408429861068726, 0.9990836977958679, 0.9866009950637817, 0.46929654479026794, 0.09166572242975235, 0.039586227387189865, 0.05680079013109207, 0.014599692076444626, 0.023098019883036613, 0.09159308671951294, 0.03246797248721123, 0.04793928563594818, 0.08491064608097076, 0.004793928470462561, 0.0013074351008981466, 0.02150004357099533, 0.020555784925818443, 0.9964235424995422, 0.9958611726760864, 0.9025915265083313, 0.005945926066488028, 0.07729703933000565, 0.011891852132976055, 0.9973771572113037, 0.9626345038414001, 0.03553348779678345, 0.9918727874755859, 0.9902787804603577, 0.004367348738014698, 2.9311064281500876e-05, 2.9311064281500876e-05, 2.9311064281500876e-05, 0.003927682526409626, 0.969287633895874, 0.018026305362582207, 0.0001172442571260035, 0.004132860340178013, 5.862212856300175e-05, 0.0788002461194992, 0.8825627565383911, 0.01576004922389984, 0.012484205886721611, 0.0006347901653498411, 0.00014106447633821517, 7.053223816910759e-05, 0.15206749737262726, 0.051135871559381485, 0.018056252971291542, 0.0003526611835695803, 0.6876187920570374, 0.06340847909450531, 0.013824318535625935, 0.00014106447633821517, 0.9998794794082642, 0.05171816051006317, 0.034604839980602264, 0.015884188935160637, 0.0006618411862291396, 0.005956570617854595, 0.17321328818798065, 0.014371408149600029, 0.0007563899271190166, 0.06760235130786896, 0.0025528159458190203, 0.5466808080673218, 0.022880794480443, 0.02193530835211277, 0.04103415086865425, 0.952699601650238, 0.010028417222201824, 0.02005683444440365, 0.9965617060661316, 0.00013820028107147664, 0.01796603575348854, 0.5337294936180115, 0.013681827113032341, 0.0035932071041315794, 0.11664103716611862, 0.22609564661979675, 0.08789537847042084, 0.5406618118286133, 0.1403835415840149, 0.07215557247400284, 0.03882710263133049, 0.03748049959540367, 0.011782791465520859, 0.01167057454586029, 0.026371009647846222, 0.0023565583396703005, 0.03074747510254383, 0.010548403486609459, 0.03557280823588371, 0.022892281413078308, 0.018628032878041267, 0.03070676140487194, 0.023072483018040657, 0.0004029202100355178, 0.010030592791736126, 0.6445662975311279, 0.008737006224691868, 0.13073700666427612, 0.005619676783680916, 0.001823744154535234, 0.0009754910133779049, 0.09597983211278915, 0.0014632365200668573, 0.00519555015489459, 0.04067373648285866, 0.02712658792734146, 0.024999013170599937, 0.0018616286106407642, 0.0010637878440320492, 0.047604504972696304, 0.0643591582775116, 0.0010637878440320492, 0.24600093066692352, 0.5074267983436584, 0.07818840444087982, 0.4405392110347748, 0.04381030425429344, 0.07133892923593521, 0.05359555408358574, 0.009907057508826256, 0.059036314487457275, 0.07872862368822098, 0.033700235188007355, 0.06504551321268082, 0.06175669655203819, 0.011206342838704586, 0.04555622115731239, 0.014616969041526318, 0.011125138029456139, 0.9648957252502441, 0.0034732306376099586, 0.1162663921713829, 0.013892922550439835, 0.03629526123404503, 0.10497839748859406, 0.10958042740821838, 0.36850976943969727, 0.00373372295871377, 0.022836491465568542, 0.024573106318712234, 0.09160646051168442, 0.0733719989657402, 0.016497844830155373, 0.014327076263725758, 0.9886910915374756, 0.9793723821640015, 0.0025757555849850178, 9.976518049370497e-05, 0.018656089901924133, 0.029802581295371056, 1.8139124222216196e-05, 0.021050453186035156, 0.1875222623348236, 0.6739591360092163, 7.255649688886479e-05, 0.06618966162204742, 3.627824844443239e-05, 0.0635717362165451, 0.9226492643356323, 0.012027084827423096, 0.024697164073586464, 0.0017756130546331406, 0.0016141936648637056, 0.06779613345861435, 0.0024212906137108803, 0.40661537647247314, 0.4485844373703003, 0.003551226109266281, 0.04293755069375038, 0.9967020153999329, 0.9936947822570801, 0.985394299030304, 0.9860739707946777, 0.0014280579052865505, 0.010710434056818485, 0.033388081938028336, 0.03032398410141468, 0.14813318848609924, 0.0816740095615387, 0.03801592066884041, 0.021047169342637062, 0.011305457912385464, 0.38787227869033813, 0.0697345957159996, 0.04779989644885063, 0.024998797103762627, 0.04674331098794937, 0.029584374278783798, 0.029330793768167496, 0.9669289588928223, 0.9992760419845581, 0.04188735783100128, 0.09716937690973282, 0.01285268273204565, 0.054352909326553345, 0.6418211460113525, 0.0006968321977183223, 0.03224784508347511, 0.03913874179124832, 0.0008903966518118978, 0.050326768308877945, 0.017614368349313736, 0.0004258418921381235, 0.010568621568381786, 0.16616973280906677, 0.020745541900396347, 0.05340436473488808, 0.049707140773534775, 0.0015062768943607807, 0.05210348963737488, 0.006983647588640451, 0.26866504549980164, 0.10667179524898529, 0.1851351261138916, 0.027592254802584648, 0.025332840159535408, 0.0268391165882349, 0.009106128476560116, 0.9639340043067932, 0.08062195032835007, 0.4838882386684418, 0.16479231417179108, 0.012419433332979679, 0.028074180707335472, 0.07806500792503357, 0.00010436498268973082, 0.011949790641665459, 0.010906141251325607, 0.01262816321104765, 0.005061701871454716, 0.061836253851652145, 0.049677733331918716, 0.004257443360984325, 0.057669006288051605, 0.24190019071102142, 0.639777660369873, 0.020513135939836502, 0.0038704031612724066, 0.026705780997872353, 0.004644483793526888, 0.998094916343689, 0.9775010943412781, 0.9552606344223022, 0.006633754353970289, 0.033168770372867584, 0.9875218868255615, 0.9958751797676086, 0.00333962170407176, 0.06374289840459824, 0.8993046879768372, 0.03692913427948952, 0.9869258999824524, 0.8168685436248779, 0.004000335466116667, 0.00240020127967, 0.0032002683728933334, 0.12001007050275803, 0.0032002683728933334, 0.02960248291492462, 0.00480040255934, 0.016001341864466667, 0.0011612250236794353, 0.5983211994171143, 0.034256137907505035, 0.1688614785671234, 0.18724754452705383, 0.0020321437623351812, 0.004838437773287296, 0.002128912601619959, 0.0009676875779405236, 0.016425950452685356, 0.008058013394474983, 0.03409159556031227, 0.672534167766571, 0.02479388751089573, 0.10754348337650299, 0.00030992357642389834, 0.03657098487019539, 0.031922128051519394, 0.017045797780156136, 0.05051754415035248, 0.9925092458724976, 0.9977901577949524, 0.00047004313091747463, 0.00023502156545873731, 0.7598246932029724, 0.23925195634365082, 0.1850091964006424, 0.050257738679647446, 0.04300578311085701, 0.013660660944879055, 0.002698402153328061, 0.512359082698822, 0.009613057598471642, 0.09309487044811249, 0.08280721306800842, 0.0028670523315668106, 0.004553553648293018, 0.0006050984375178814, 0.0024203937500715256, 0.1772938370704651, 0.0008067978778854012, 0.3083984851837158, 0.4564459025859833, 0.03388551250100136, 0.01774955354630947, 0.0002016994694713503, 0.002016994869336486, 0.052828844636678696, 0.7799917459487915, 0.11142739653587341, 0.0490424782037735, 0.003966670949012041, 0.0005409097066149116, 0.001442425767891109, 0.00036060644197277725, 0.00036060644197277725, 0.9845198392868042, 0.8723977208137512, 0.12342604994773865, 0.12527188658714294, 0.02534971386194229, 0.06509707868099213, 0.03876291215419769, 0.08146364241838455, 0.007875639013946056, 0.0017227960051968694, 0.5099475979804993, 0.012305686250329018, 0.05783672258257866, 0.009475378319621086, 0.00024611371918581426, 0.03076421469449997, 0.033840637654066086, 0.004655288998037577, 0.9892489314079285, 0.005819111131131649, 0.9793125987052917, 0.0029290535021573305, 0.1186266615986824, 0.8045133352279663, 0.04149492457509041, 0.029290534555912018, 0.0004881755739916116, 0.0029290535021573305, 0.008368588984012604, 0.893815279006958, 0.01361457072198391, 0.05233490839600563, 0.031725697219371796, 0.9935939311981201, 0.8305491805076599, 0.0022346614859998226, 0.004469322971999645, 0.06852962076663971, 0.09385578334331512, 0.40539684891700745, 0.0026755942963063717, 0.5307776927947998, 0.0018782317638397217, 0.013643759302794933, 0.0014175333781167865, 0.0014175333781167865, 0.013891827315092087, 0.010294836945831776, 0.004217161796987057, 0.008381166495382786, 0.0043589151464402676, 0.0016656017396599054, 0.9987972974777222, 0.18833456933498383, 0.005208819638937712, 0.005055618938058615, 0.10523176938295364, 0.02309924177825451, 0.0013788051437586546, 0.01664779521524906, 0.2778547704219818, 0.2082166075706482, 0.11527492105960846, 0.00027235658490099013, 0.00018724515393842012, 0.04187482222914696, 0.011387909762561321, 0.0027116090059280396, 0.0019104517996311188, 0.030936993658542633, 0.0024034716188907623, 0.0002465099096298218, 0.3043164908885956, 0.4178959131240845, 0.2195170670747757, 0.017070811241865158, 0.0029581189155578613, 0.9864891767501831, 0.88303542137146, 0.11573203653097153, 0.000428914645453915, 0.005432919133454561, 0.8066455125808716, 0.002609230810776353, 0.04156897962093353, 0.07942070066928864, 0.0019301159773021936, 7.148577424231917e-05, 0.061870940029621124, 0.10782705992460251, 0.797920286655426, 0.010782706551253796, 0.0754789412021637, 0.27936285734176636, 0.1391056627035141, 0.013127521611750126, 0.02763688750565052, 0.143020898103714, 0.003915225621312857, 0.012436599470674992, 0.3813890516757965, 0.9990767240524292, 0.9721682071685791, 0.008918974548578262, 0.008918974548578262, 0.00044646189780905843, 0.1468859612941742, 0.0008929237956181169, 0.00625046668574214, 0.8049708008766174, 0.00044646189780905843, 0.0013393857516348362, 0.03884218633174896, 0.9864891767501831, 0.6438959836959839, 0.08952519297599792, 0.053803421556949615, 0.049892738461494446, 0.014149942435324192, 0.0009040824952535331, 0.030591629445552826, 0.03799248859286308, 0.017829347401857376, 0.03784531354904175, 0.005655772052705288, 0.0026701970491558313, 0.009965932928025723, 0.0052773188799619675, 0.12693151831626892, 0.2912101447582245, 0.04401125758886337, 0.006351782474666834, 0.022560976445674896, 0.015757974237203598, 0.10867448151111603, 0.0032626641914248466, 0.10468292981386185, 0.19516979157924652, 0.0061782365664839745, 0.07518011331558228, 0.9922899007797241, 0.0071387761272490025, 0.9992365837097168, 0.9999169111251831, 0.004338427446782589, 0.2682279944419861, 9.431364014744759e-05, 0.004998622927814722, 0.6020039916038513, 0.05724838003516197, 0.018579788506031036, 0.019994491711258888, 0.00028294092044234276, 0.003678231965750456, 0.01131763681769371, 0.009148423559963703, 0.0670294463634491, 0.9324979186058044, 0.9981942772865295, 0.28954043984413147, 0.07632859796285629, 0.04867712780833244, 0.08229559659957886, 0.12216340005397797, 0.005646998528391123, 0.10426241904497147, 0.09153784811496735, 0.03149142861366272, 0.04035721719264984, 0.02753853052854538, 0.021364478394389153, 0.03408904746174812, 0.02469620667397976, 0.10744833946228027, 0.026406794786453247, 0.07721710950136185, 0.26381298899650574, 0.08446531742811203, 0.08675997704267502, 0.039264172315597534, 0.03318150341510773, 0.05095600709319115, 0.04516472667455673, 0.0056455908343195915, 0.0056455908343195915, 0.11629916727542877, 0.05773071572184563, 0.9830656051635742, 0.9978837966918945, 0.9988085031509399, 0.034554772078990936, 0.006375598721206188, 0.08716563135385513, 0.046575937420129776, 0.13836508989334106, 0.03134263679385185, 0.07061827182769775, 0.16557088494300842, 0.08210408687591553, 0.00180074165109545, 0.20319178700447083, 0.07869727909564972, 0.0300772525370121, 0.02355564758181572, 0.9865896701812744, 0.9542139172554016, 0.04000586271286011, 0.005185945425182581, 0.9894778728485107, 0.01266066636890173, 0.5834817290306091, 0.05164279043674469, 0.04050504043698311, 0.06393977999687195, 0.007205442525446415, 0.06857671588659286, 0.007637314032763243, 0.0011819653445854783, 0.0012956158025190234, 0.032731346786022186, 0.11058194935321808, 0.0005455224309116602, 0.018047701567411423, 0.9884143471717834, 0.9912019968032837, 0.9995882511138916, 0.03774050250649452, 0.020444855093955994, 0.0031492074485868216, 0.4970749020576477, 0.03424138203263283, 0.15940988063812256, 0.0014996225945651531, 0.07997987419366837, 0.11057217419147491, 0.004748804960399866, 0.004548855125904083, 0.0407397486269474, 0.00579854054376483, 0.7972456812858582, 0.1554197371006012, 0.03453771770000458, 0.008634429425001144, 0.21767757833003998, 0.1291213035583496, 0.06371252983808517, 0.25466394424438477, 0.03814477473497391, 0.03560040891170502, 0.029870418831706047, 0.10169181227684021, 0.020975487306714058, 0.04544689133763313, 0.010715289041399956, 0.014831780456006527, 0.02972561866044998, 0.007839950732886791, 0.029885999858379364, 0.11719901859760284, 0.18829676508903503, 0.22382068634033203, 0.08821109682321548, 0.0004490383726079017, 0.004789742641150951, 0.19712784886360168, 0.03233076259493828, 0.006086964625865221, 9.978630987461656e-05, 0.10482551902532578, 0.006935148499906063, 0.027999570593237877, 0.003990592900663614, 0.16439934074878693, 0.3669055700302124, 0.0006869053468108177, 0.0007523248787038028, 0.18238972127437592, 6.541955372085795e-05, 0.0005560662248171866, 0.0008504542056471109, 0.12004488706588745, 0.0005560662248171866, 0.13080640137195587, 0.01167280599474907, 0.12377579510211945, 0.03424757346510887, 0.06585224717855453, 0.030062980949878693, 0.10219211131334305, 0.05450980365276337, 0.06926599144935608, 0.4277092218399048, 0.006166765466332436, 0.025437908247113228, 0.04702158644795418, 0.0019821745809167624, 0.004338069353252649, 0.010903796181082726, 0.026380151510238647, 0.03329761326313019, 0.16631220281124115, 0.05750873312354088, 0.12961448729038239, 0.00046898049185983837, 0.19175440073013306, 0.0676504373550415, 0.2659705579280853, 0.00041035792673937976, 0.028666431084275246, 0.016824673861265182, 0.9998529553413391, 0.9969195127487183, 0.9993380308151245, 0.9922325015068054, 0.033786192536354065, 0.0033786194398999214, 0.025339646264910698, 0.033786192536354065, 0.8649265766143799, 0.006757238879799843, 0.028718264773488045, 0.9636698961257935, 0.24734225869178772, 0.016677353531122208, 9.239531209459528e-05, 4.619765604729764e-05, 0.009701508097350597, 0.06398375332355499, 0.04240944981575012, 0.2515924572944641, 0.0228678397834301, 0.270672082901001, 0.07460922002792358, 0.01160454098135233, 0.0008926570299081504, 0.15130536258220673, 0.660119891166687, 0.14907371997833252, 0.0004463285149540752, 0.0035706281196326017, 0.012497197836637497, 0.010711884126067162, 0.01708310656249523, 0.7829756736755371, 0.13524125516414642, 0.03843699023127556, 0.02420106716454029, 0.15094135701656342, 0.0028266170993447304, 0.007240488659590483, 0.016655297949910164, 0.027570389211177826, 0.0034789135679602623, 0.09053872525691986, 0.19534099102020264, 0.38692039251327515, 0.020786507055163383, 0.004131209570914507, 0.09203900396823883, 0.0015002813888713717, 0.9699903726577759, 0.15444287657737732, 0.8433071374893188, 0.01947508566081524, 0.01947508566081524, 0.9348040819168091, 0.08581362664699554, 0.09579195827245712, 0.7523660063743591, 0.06386130303144455, 0.9899187684059143, 0.0005011461907997727, 0.07116276025772095, 0.09404844045639038, 0.003340974682942033, 0.04911233112215996, 0.17139200866222382, 0.01236160658299923, 0.00016704873996786773, 0.0026727798394858837, 0.4859447777271271, 0.06113983690738678, 0.03942350298166275, 0.008686534129083157, 0.03698479011654854, 0.06027647852897644, 0.02939988672733307, 0.04665050655603409, 0.01993553899228573, 0.02087526209652424, 0.16183362901210785, 0.4769762456417084, 0.03282316029071808, 0.07920517772436142, 0.005302719306200743, 0.0018123218324035406, 0.0055040884763002396, 0.0225533377379179, 0.30733537673950195, 0.005775837693363428, 0.012201111763715744, 0.015973370522260666, 0.004656596574932337, 0.00131269043777138, 0.0005665295757353306, 0.1966133862733841, 0.2488722801208496, 0.1275796890258789, 0.026626888662576675, 1.3817793842463288e-05, 0.051816727966070175, 0.0006632541189901531, 0.9023172855377197, 0.0820288434624672, 0.0021836564410477877, 0.00015016549150459468, 2.502758252376225e-05, 6.256895630940562e-06, 0.0043360283598303795, 0.00015642237849533558, 6.256895630940562e-06, 0.7391708493232727, 0.11236132681369781, 0.1186995655298233, 0.00011262411862844601, 0.0010073601733893156, 0.021673886105418205, 0.00011262411862844601, 0.15345454216003418, 0.6218244433403015, 0.22439946234226227, 0.999879777431488, 0.0007418781169690192, 0.01310651283711195, 0.6887101531028748, 0.07863907516002655, 0.06676902621984482, 0.04055600240826607, 0.006924195680767298, 0.025223854929208755, 0.003214805154129863, 0.005440439563244581, 0.06355422735214233, 0.0002472926862537861, 0.0017310489201918244, 0.004698561504483223, 0.9963072538375854, 0.9886779189109802, 0.9724474549293518, 0.02479327842593193, 0.9853782057762146, 0.6819708347320557, 0.12372524291276932, 0.03624531626701355, 0.036329999566078186, 0.0004234265652485192, 0.05690853297710419, 0.006520769093185663, 0.007706363685429096, 0.03057139925658703, 0.002540559507906437, 0.012448741123080254, 0.0020324476063251495, 0.002455874113366008, 0.01667490415275097, 0.06074429303407669, 0.8301720023155212, 0.0738460049033165, 0.017865968868136406, 0.9858847856521606, 0.11340796947479248, 0.2890632152557373, 0.12763692438602448, 0.01500572357326746, 0.011263119988143444, 0.05864590033888817, 0.015923721715807915, 0.002895222045481205, 0.0008826896664686501, 0.009850816801190376, 0.05744544416666031, 0.23013484477996826, 0.017724407836794853, 0.05013677105307579, 0.995988130569458, 0.004147558938711882, 0.9933403134346008, 0.062113139778375626, 0.7406188249588013, 0.016972918063402176, 0.032011598348617554, 0.07458896189928055, 0.0025628621224313974, 0.0027562857139855623, 0.04869438335299492, 0.0015232105506584048, 0.0018617017194628716, 0.0027562857139855623, 0.004521275870501995, 0.0006528045050799847, 0.008365568704903126, 0.9729920029640198, 0.9982069730758667, 0.06468451023101807, 0.01145036332309246, 0.0010044178925454617, 0.02199675142765045, 0.02360381931066513, 0.030936069786548615, 0.09813162684440613, 0.04379262030124664, 0.6925461292266846, 0.00321413716301322, 0.00020088357268832624, 0.006729599554091692, 0.0017075103241950274, 0.9630283713340759, 0.023205501958727837, 0.002320038853213191, 0.9952967166900635, 0.9981153607368469, 0.20888037979602814, 0.02389787882566452, 0.035954467952251434, 0.05511583015322685, 0.13008196651935577, 0.05623536929488182, 0.25994864106178284, 0.016233334317803383, 0.03582528978586197, 0.025361893698573112, 0.07100468873977661, 0.05550336092710495, 0.007363130338490009, 0.018601592630147934, 0.9987378716468811, 0.24094156920909882, 0.7588839530944824, 0.0029697318095713854, 0.0029697318095713854, 0.0534551739692688, 0.9384352564811707, 0.9839655160903931, 0.11266200244426727, 0.11358194053173065, 0.021710585802793503, 0.41421836614608765, 0.04225591570138931, 0.08727165311574936, 0.055135078728199005, 0.04072268307209015, 0.017724178731441498, 0.054767102003097534, 0.0010425987420603633, 0.0008586107869632542, 0.027107568457722664, 0.011039281263947487, 0.05233139917254448, 0.009900534525513649, 0.12729258835315704, 0.03535905107855797, 0.006647502072155476, 0.7390041947364807, 0.027014316990971565, 0.002262979280203581, 0.0007234839140437543, 0.03776586055755615, 0.19403837621212006, 0.08262185752391815, 0.03704237565398216, 0.39314115047454834, 0.00014469677989836782, 0.019244670867919922, 0.05368250608444214, 0.004485600162297487, 0.03212268650531769, 0.09767032414674759, 0.047315847128629684, 0.003299327567219734, 0.024744955822825432, 0.001649663783609867, 0.841328501701355, 0.009897982701659203, 0.001649663783609867, 0.03959193080663681, 0.05608856678009033, 0.021445628255605698, 0.976074755191803, 0.8298110365867615, 0.09574742615222931, 0.06383161246776581, 0.9559357762336731, 0.996016263961792, 0.0005679259193129838, 0.002461012452840805, 0.04780043289065361, 0.04988282918930054, 0.0002839629596564919, 0.30582812428474426, 0.007288382854312658, 0.037104494869709015, 0.22698107361793518, 0.024326160550117493, 0.2695755064487457, 0.00908681470900774, 0.01637519709765911, 0.002366358181461692, 0.018746884539723396, 0.0008927087765187025, 0.9516275525093079, 0.00357083510607481, 0.004463543649762869, 0.019639592617750168, 0.02302384190261364, 0.9670013785362244, 0.9805294275283813, 0.05583334341645241, 0.12936250865459442, 0.0003051002277061343, 0.2633014917373657, 0.02044171653687954, 0.0006102004554122686, 0.0003051002277061343, 0.5296540260314941, 0.9889335632324219, 0.010786216706037521, 0.0001477563928347081, 0.01859152317047119, 0.9186119437217712, 0.061495039612054825, 0.0004767057253047824, 0.049942925572395325, 0.000974496069829911, 0.000730872037820518, 0.00024362401745747775, 0.1062200739979744, 0.7401297688484192, 0.0713818371295929, 0.028260385617613792, 0.002436240203678608, 0.0031975102610886097, 0.03517261520028114, 0.06395021080970764, 0.8953028917312622, 0.010713998228311539, 0.053569991141557693, 0.14834129810333252, 0.03433443233370781, 0.3012743294239044, 0.1691901683807373, 0.006618686020374298, 0.12869207561016083, 0.007363288197666407, 0.07392244786024094, 0.006039550993591547, 0.02841898240149021, 0.00740465521812439, 0.024116836488246918, 0.9827754497528076, 0.0012495658593252301, 0.10883717983961105, 0.00012495658302213997, 0.08359595388174057, 0.00037486973451450467, 0.004123567137867212, 0.8007217645645142, 0.0004998263320885599, 0.0004998263320885599, 0.9812236428260803, 0.016656573861837387, 0.9598580002784729, 0.03999408334493637, 0.03716830909252167, 0.0049304901622235775, 0.019115131348371506, 0.010164394974708557, 0.3241228461265564, 0.0004551221791189164, 0.1992676556110382, 0.006371710449457169, 7.585369166918099e-05, 0.0006068295333534479, 0.29727062582969666, 0.07274369150400162, 0.019873667508363724, 0.00796463806182146, 0.00011134154920000583, 0.00022268309840001166, 0.9421722292900085, 0.0010020739864557981, 0.02293635904788971, 0.012915619648993015, 0.020709527656435966, 0.9319447875022888, 0.02098974771797657, 0.037781547755002975, 0.004197949543595314, 2.5785553589230403e-05, 0.07065241783857346, 0.021298866719007492, 0.051287464797496796, 0.3030318021774292, 0.10682954639196396, 0.09891337901353836, 0.0014697765000164509, 0.012480207718908787, 0.022149790078401566, 0.16822494566440582, 0.11655069887638092, 0.005647036246955395, 0.021453579887747765, 0.9987022280693054, 0.9666841626167297, 0.026484496891498566, 0.026054751127958298, 0.0006250014994293451, 0.03863290697336197, 0.4603917598724365, 0.0033593832049518824, 0.07136736065149307, 0.006406265776604414, 0.001289065694436431, 0.07914081960916519, 3.906259371433407e-05, 0.008359394967556, 0.03632821515202522, 0.2656646966934204, 0.002343755681067705, 0.4566163122653961, 0.14550970494747162, 0.1324993073940277, 0.01790972426533699, 0.009417575784027576, 0.016276618465781212, 0.025966379791498184, 0.03342422842979431, 0.01339146587997675, 0.07381637394428253, 0.004082764033228159, 0.019978325814008713, 0.03984777629375458, 0.011213991791009903, 0.2815636992454529, 0.0022928640246391296, 0.07719308882951736, 0.0003057151916436851, 0.6329833269119263, 0.0053500160574913025, 0.00015285759582184255, 0.9969983696937561, 0.9871012568473816, 0.00042476909584365785, 0.0003185768146067858, 0.033025797456502914, 0.8227246403694153, 0.13173151016235352, 0.00021238454792182893, 0.011521861888468266, 5.309613698045723e-05, 0.006455314811319113, 0.9876631498336792, 0.9861729145050049, 0.775627613067627, 0.018775783479213715, 0.03266986459493637, 0.012204259634017944, 0.0009387892205268145, 0.0015020627761259675, 0.006759282201528549, 0.025535065680742264, 0.018588026985526085, 0.04881703853607178, 0.0003755156940314919, 0.05031910166144371, 0.00488170376047492, 0.0026286097709089518, 0.005251908674836159, 0.990860104560852, 0.0017506362637504935, 0.9942333698272705, 0.017316143959760666, 0.006023006979376078, 0.19168218970298767, 0.0709209069609642, 0.4845508933067322, 0.0016563269309699535, 0.01340118981897831, 0.0018069020006805658, 0.0009034510003402829, 0.12934407591819763, 0.060531217604875565, 0.02077937312424183, 0.0012046013725921512, 0.010149382054805756, 0.13736720383167267, 0.04086717218160629, 0.12784339487552643, 0.46885618567466736, 0.0063528018072247505, 0.029466645792126656, 0.08243542164564133, 0.021733269095420837, 0.013223318383097649, 0.03005986101925373, 0.0032249365467578173, 0.013557677157223225, 0.014862751588225365, 0.0640760287642479, 0.9291024208068848, 0.0037294181529432535, 0.9920252561569214, 0.9891239404678345, 0.9784850478172302, 0.009099071845412254, 0.2387799769639969, 0.015767956152558327, 0.01848072186112404, 0.07211437821388245, 0.0870911106467247, 0.13241691887378693, 0.1034807413816452, 0.0050864373333752155, 0.007629656232893467, 0.22346414625644684, 0.030857719480991364, 0.0030518623534590006, 0.05272940173745155, 0.9025278091430664, 0.07220222055912018, 0.00040579080814495683, 0.16434527933597565, 0.00040579080814495683, 0.0896797701716423, 0.7308292388916016, 0.01379688736051321, 0.00040579080814495683, 0.7368598580360413, 0.22426170110702515, 0.0006269950536079705, 0.02131783217191696, 0.05674305185675621, 0.029782265424728394, 0.5639820694923401, 0.3216484487056732, 0.0006269950536079705, 0.004702462814748287, 0.9726385474205017, 0.019061025232076645, 0.0020913351327180862, 0.3543916642665863, 0.21409295499324799, 0.3009132444858551, 0.000836534018162638, 0.006214252673089504, 0.06040970981121063, 0.0018523253966122866, 0.03507467731833458, 0.0050192042253911495, 0.8795996904373169, 0.08512254804372787, 0.012574383057653904, 0.0342937707901001, 0.03315064683556557, 0.8859224319458008, 0.005715628620237112, 0.011431257240474224, 0.01600375957787037, 0.001143125700764358, 0.9844396114349365, 0.004783807788044214, 0.03312697261571884, 0.012552999891340733, 0.00881227757781744, 0.0025897305458784103, 0.010071175172924995, 0.799723207950592, 0.04974440857768059, 0.01373996026813984, 0.002158108865842223, 0.002266014227643609, 0.03787481039762497, 0.006726106163114309, 0.015826132148504257, 0.8640156984329224, 0.06171540915966034, 0.933541476726532, 0.05875667184591293, 0.6631913185119629, 0.024739651009440422, 0.06934598833322525, 0.03523525968194008, 0.12594731152057648, 0.009371079504489899, 0.0018742159008979797, 0.004872961435467005, 0.0066534667275846004, 0.03375563398003578, 0.18031854927539825, 0.034332651644945145, 0.00028850967646576464, 0.0008655290585011244, 0.7492596507072449, 0.0008655290585011244, 0.0011805068934336305, 0.9985776543617249, 0.03904610499739647, 0.1373269259929657, 0.0317249596118927, 0.13111504912376404, 0.5686089396476746, 0.030171990394592285, 0.030171990394592285, 0.0006655586184933782, 0.0015529701486229897, 0.012423761188983917, 0.003993351943790913, 0.0037714987993240356, 0.009095967747271061, 0.9993480443954468, 0.0002620755694806576, 2.9119508326402865e-05, 0.00024266257241833955, 9.706503078632522e-06, 9.706503078632522e-06, 9.706503078632522e-06, 0.8341088891029358, 0.020480720326304436, 1.9413006157265045e-05, 0.008124343119561672, 0.13329939544200897, 0.003309917403385043, 8.735852316021919e-05, 0.021647287532687187, 0.9524806141853333, 0.021647287532687187, 0.9995925426483154, 0.00024381856201216578, 0.49202585220336914, 0.04571598023176193, 0.10939326137304306, 0.09716169536113739, 0.04929198697209358, 0.0008533649379387498, 0.09760870039463043, 0.027754679322242737, 0.027714043855667114, 0.023528490215539932, 0.00048763712402433157, 0.003657278371974826, 0.024503765627741814, 3.9597798604518175e-05, 0.060842014849185944, 0.016947858035564423, 0.02140261046588421, 0.4554934799671173, 0.052665069699287415, 0.12477266043424606, 0.013463251292705536, 0.02821343019604683, 0.020571056753396988, 0.0992518812417984, 0.08135367184877396, 0.0027124490588903427, 0.022293560206890106, 0.001610352541320026, 0.0037204697728157043, 0.30324605107307434, 0.13265973329544067, 0.2111227810382843, 0.05730634182691574, 0.0036649403627961874, 0.031318582594394684, 0.049532223492860794, 0.14060044288635254, 0.04253552109003067, 0.010050821118056774, 0.01266070269048214, 0.9547642469406128, 0.042910754680633545, 0.019965605810284615, 0.022817835211753845, 0.0028522294014692307, 0.9526446461677551, 0.9963092803955078, 0.0058699706569314, 0.06133107468485832, 0.01821715012192726, 0.06082504242658615, 0.4970245957374573, 0.04959113150835037, 0.12569834291934967, 0.00020241278980392963, 0.0007084447424858809, 0.16020971536636353, 0.006477209273725748, 0.0019229213939979672, 0.011942354030907154, 0.008957836776971817, 0.043180253356695175, 0.05635610222816467, 0.09684030711650848, 0.3824039697647095, 0.1155821904540062, 0.11545173078775406, 0.007131482008844614, 0.006522696930915117, 0.01752431131899357, 0.05983487144112587, 0.028656382113695145, 0.024177463725209236, 0.03739679604768753, 0.009797952137887478, 0.057562969624996185, 0.008573208004236221, 0.7201495170593262, 0.034292832016944885, 0.03306809067726135, 0.028169112280011177, 0.07225989550352097, 0.034292832016944885, 0.9920477271080017, 0.033848877996206284, 0.08976523578166962, 0.31497129797935486, 0.05899764597415924, 0.2638581395149231, 0.020662769675254822, 0.001268766587600112, 0.03720204904675484, 0.0014047058066353202, 0.0073860338889062405, 0.008654800243675709, 0.0024469068739563227, 0.13444393873214722, 0.025103451684117317, 0.9995834231376648, 0.9909030795097351, 0.02264491468667984, 0.012939950451254845, 0.00439034029841423, 0.011091385968029499, 0.0013864232460036874, 0.22321414947509766, 0.09681855887174606, 0.00023107054585125297, 0.0006932116230018437, 0.5314622521400452, 0.08249218761920929, 0.002310705604031682, 0.01039817463606596, 0.990052342414856, 0.9545111060142517, 0.039119306951761246, 0.9780585169792175, 0.9933249950408936, 0.2844279110431671, 0.6914990544319153, 0.0026094303466379642, 0.008408164605498314, 0.0115974685177207, 0.0014496835647150874, 0.9953863620758057, 0.9898192286491394, 0.897777795791626, 0.02020721696317196, 0.05196141451597214, 0.028867453336715698, 0.397826224565506, 0.36783093214035034, 0.06180015951395035, 0.04040023311972618, 0.05408989265561104, 0.0005900715477764606, 0.0017898837104439735, 0.030428022146224976, 0.007474239449948072, 0.004563219845294952, 0.012155474163591862, 0.0002360286162002012, 0.0184495709836483, 0.002379955258220434, 0.010322283953428268, 0.00011099230323452502, 0.0012209153501316905, 0.00865739956498146, 0.7228928804397583, 0.0004439692129381001, 0.0026638151612132788, 0.0011099230032414198, 0.24984367191791534, 0.0027748076245188713, 0.9981467723846436, 0.9990604519844055, 0.9882727861404419, 0.9995802044868469, 0.9906085133552551, 0.08405441045761108, 0.0020442416425794363, 0.5223639011383057, 0.08910489082336426, 0.00048099804553203285, 0.056878019124269485, 0.00024049902276601642, 0.012024951167404652, 0.048821303993463516, 0.1839817613363266, 0.4626409709453583, 0.12351454794406891, 0.06636513024568558, 0.07282810658216476, 0.11501693725585938, 0.0002992115914821625, 0.04649748280644417, 0.0637919157743454, 0.016217269003391266, 0.011968463659286499, 0.0033511698711663485, 0.0007181078544817865, 0.012447202578186989, 0.004188962280750275, 0.0029750391840934753, 0.03442545235157013, 0.016362715512514114, 0.0006375084049068391, 0.07267595827579498, 0.1961400806903839, 0.4840813875198364, 0.14875195920467377, 0.029962895438075066, 0.0019125251565128565, 0.009562626481056213, 0.0025500336196273565, 0.012894593179225922, 0.9868550300598145, 0.9957334995269775, 0.028233589604496956, 0.014271924272179604, 0.8286247849464417, 0.04591836407780647, 0.000542953610420227, 0.05002930015325546, 0.01597834937274456, 0.016366174444556236, 0.999036967754364, 0.9977521300315857, 0.0019795724656432867, 0.01223735697567463, 0.14810802042484283, 0.013317123986780643, 0.38853609561920166, 0.4358658790588379, 0.04582161828875542, 0.10289161652326584, 0.051480311900377274, 0.09440357238054276, 0.004071499221026897, 0.05368858203291893, 0.001035126973874867, 0.010282260365784168, 0.04644269496202469, 0.5642821788787842, 0.0021392623893916607, 0.023393869400024414, 0.9952815771102905, 0.0024506074842065573, 0.0024506074842065573, 0.008577126078307629, 0.24669447541236877, 0.72456294298172, 0.015112078748643398, 0.996236264705658, 0.24066464602947235, 0.09884992241859436, 0.04161492735147476, 0.010876190848648548, 0.4714558720588684, 0.00038568052696064115, 0.04412185400724411, 0.03158723562955856, 0.0029697399586439133, 0.00019284026348032057, 0.03513549640774727, 0.014501587487757206, 0.0038182372227311134, 0.0038568051531910896, 0.10101398080587387, 0.03600476682186127, 0.0462762676179409, 0.017097357660531998, 0.621676504611969, 0.0008505063015036285, 0.08262995630502701, 0.019496221095323563, 0.0019408990629017353, 0.00043615707545541227, 0.04612361267209053, 0.001134008402004838, 0.012277822010219097, 0.013041096739470959, 0.006479580886662006, 0.18885238468647003, 0.05608709901571274, 0.13467326760292053, 0.13163183629512787, 0.17568542063236237, 0.012071289122104645, 0.06625040620565414, 0.04686833918094635, 0.1035599485039711, 0.014300416223704815, 0.03196341171860695, 0.021611196920275688, 0.009936616756021976, 0.10886139422655106, 0.05534806847572327, 0.0847039520740509, 0.05239209160208702, 0.011416176334023476, 0.08837343752384186, 0.46133583784103394, 0.020997609943151474, 0.06686617434024811, 0.005300367251038551, 0.00631966907531023, 0.002038602950051427, 0.03577747941017151, 0.021061215549707413, 0.0336979441344738, 0.1347917765378952, 0.06213058531284332, 0.005265303887426853, 0.717134416103363, 0.0031591823790222406, 0.006318364758044481, 0.014742851257324219, 0.9802556037902832, 0.01670890301465988, 0.14062583446502686, 0.026337141171097755, 0.021504638716578484, 0.0137726329267025, 0.01715538464486599, 0.6204933524131775, 0.010148256085813046, 0.09713330864906311, 0.02053813822567463, 0.004107627552002668, 0.028028516098856926, 0.9915611743927002, 0.007869533263146877, 0.06776343286037445, 0.008225828409194946, 0.11505288630723953, 0.047398168593645096, 0.11128422617912292, 0.005073198117315769, 0.3159153163433075, 0.14853599667549133, 0.09479633718729019, 0.0078996941447258, 0.03174372762441635, 0.0033700531348586082, 0.029714446514844894, 0.013262789696455002, 0.9616155624389648, 0.002407047664746642, 0.001203523832373321, 0.009628190658986568, 0.02527400106191635, 0.18348662555217743, 0.0004309727228246629, 0.01050496008247137, 0.1421671211719513, 0.22022706270217896, 0.06060553714632988, 0.01007398683577776, 0.00016161476378329098, 0.026935795322060585, 0.07288826256990433, 0.11124483495950699, 0.01847795583307743, 0.1302076280117035, 0.012552080675959587, 0.0032212960068136454, 0.07019034773111343, 0.028313497081398964, 0.2146400362253189, 0.002712670248001814, 0.02356632426381111, 0.002712670248001814, 0.5235453844070435, 0.09155262261629105, 0.0010172514012083411, 0.03814692795276642, 0.006211751140654087, 0.006211751140654087, 0.8280264139175415, 0.014287027530372143, 0.07578336447477341, 0.06895043700933456, 0.9918849468231201, 0.15250450372695923, 0.08937752991914749, 0.08730152249336243, 0.1018608808517456, 0.09402123093605042, 0.03616621345281601, 0.06992863118648529, 0.09940245747566223, 0.06738825142383575, 0.09388464689254761, 0.015679309144616127, 0.004288591910153627, 0.04091917350888252, 0.04731108993291855, 0.9890011548995972, 0.013078626245260239, 0.9852564930915833, 0.09926411509513855, 0.10545013844966888, 0.017407186329364777, 0.0012947493232786655, 0.000431583117460832, 0.0015824714209884405, 0.007049190811812878, 0.04243900626897812, 0.7224701642990112, 0.0024456377141177654, 0.9966458678245544, 0.1158631443977356, 0.001788860885426402, 0.0002752093714661896, 0.0008256281143985689, 0.023530401289463043, 0.24493634700775146, 0.07361850887537003, 0.0034401172306388617, 0.05407864227890968, 0.05559229478240013, 0.11696398258209229, 0.002614489058032632, 0.3008038401603699, 0.005641791969537735, 0.35366082191467285, 0.3856920599937439, 0.07369956374168396, 0.009221111424267292, 0.00963710155338049, 0.0009013116359710693, 0.011578388512134552, 0.003951904829591513, 6.933166878297925e-05, 0.007695815060287714, 0.0019412866095080972, 0.12978887557983398, 0.004853216465562582, 0.007210493087768555, 0.6692020297050476, 0.08596085757017136, 0.032833170145750046, 0.032833170145750046, 0.019777460023760796, 0.023913923650979996, 0.02275054343044758, 0.023784657940268517, 0.011892328970134258, 0.05196430906653404, 0.004653519950807095, 0.006333957891911268, 0.012926444411277771, 0.0011633799877017736, 0.9832872152328491, 0.005462706554681063, 0.0008158906712196767, 0.0024476719554513693, 0.9635668992996216, 0.008158906362950802, 0.025292610749602318, 0.04083927720785141, 0.8318968415260315, 0.021388312801718712, 0.009919216856360435, 0.02828526683151722, 0.012321527116000652, 0.022085756063461304, 0.002557298168540001, 0.006974449381232262, 7.74938816903159e-05, 0.006819461937993765, 0.016893666237592697, 0.15519960224628448, 0.019178656861186028, 0.04691394791007042, 0.7143312096595764, 0.004425844177603722, 0.016228094696998596, 0.01416270062327385, 0.00029505626298487186, 0.012392363511025906, 0.0026555063668638468, 0.007966519333422184, 0.006196181755512953, 0.9889935255050659, 0.03371165320277214, 0.6912199258804321, 0.046242110431194305, 0.021443337202072144, 0.09185507893562317, 0.00010485739767318591, 0.0017825757386162877, 0.07109331339597702, 0.010433310642838478, 0.009804166853427887, 5.242869883659296e-05, 0.011901314370334148, 0.010328453965485096, 0.0006544053903780878, 0.15705730020999908, 0.0013088107807561755, 0.0935799703001976, 0.04253635182976723, 0.7041402459144592, 0.994168221950531, 0.012402168475091457, 0.16566631197929382, 0.04850352928042412, 0.045626647770404816, 0.2714443504810333, 0.08020185679197311, 0.06616828590631485, 0.03324202075600624, 0.03659253567457199, 0.012454794719815254, 0.1469665765762329, 0.014138822443783283, 0.04348652809858322, 0.02312030829489231, 0.9923636317253113, 0.0017988078761845827, 0.001439046231098473, 0.013994725421071053, 0.12386590987443924, 0.17189407348632812, 0.00428116274997592, 0.006079970393329859, 0.3169859051704407, 0.2515452802181244, 0.04425067454576492, 0.025399167090654373, 7.195231592049822e-05, 0.038350582122802734, 0.009054523892700672, 0.05342169106006622, 0.9371432065963745, 0.23968029022216797, 0.7354573607444763, 0.00984987523406744, 0.00984987523406744, 0.21980437636375427, 0.08781597763299942, 0.09758567810058594, 0.07406602799892426, 0.12887099385261536, 0.0015308649744838476, 0.12508557736873627, 0.06930643320083618, 0.06009340658783913, 0.06159643828868866, 0.0033400689717382193, 0.0001948373537743464, 0.059536729007959366, 0.011105729267001152, 0.05172983556985855, 0.000490330217871815, 0.27679139375686646, 0.05736863240599632, 0.001716155675239861, 0.001716155675239861, 0.5646151900291443, 0.04339422285556793, 0.002206485951319337, 0.22320830821990967, 0.07029103487730026, 0.04150891304016113, 0.5709433555603027, 0.0005873902700841427, 0.0005873902700841427, 0.004503325559198856, 0.0007831870461814106, 0.0011747805401682854, 0.07714392244815826, 0.009398244321346283, 0.9998698234558105, 0.9975966215133667, 0.00031852416577748954, 0.011594279669225216, 0.018920335918664932, 0.03121536783874035, 0.5434659123420715, 0.1020551398396492, 0.11237532645463943, 0.02809383161365986, 0.0019748497288674116, 0.05408540368080139, 0.01751882955431938, 0.04624970629811287, 0.0016563256504014134, 0.03057831898331642, 0.8477586507797241, 0.11774425953626633, 0.960221529006958, 0.14716121554374695, 0.8507319688796997, 0.9954269528388977, 0.9790214896202087, 0.009693282656371593, 0.9971715807914734, 0.13399168848991394, 0.013672620989382267, 0.0382833369076252, 0.8148881793022156, 0.34174710512161255, 0.657961368560791, 0.0017477998044341803, 0.8810575008392334, 0.009404826909303665, 0.038534823805093765, 0.026633139699697495, 0.039367109537124634, 0.002580085303634405, 0.0005825998960062861, 0.99366295337677, 0.9686912298202515, 0.9746832251548767, 0.3287942111492157, 0.09055232256650925, 0.5803000926971436, 0.030034184455871582, 0.282401442527771, 0.10507959872484207, 0.05478235334157944, 0.02098388411104679, 0.06167019158601761, 0.07312323153018951, 0.24756178259849548, 0.0019221878610551357, 0.0021624614018946886, 0.04116685688495636, 0.07120104134082794, 0.0033638286404311657, 0.004485105164349079, 0.4525578022003174, 0.4547613561153412, 0.025432847440242767, 0.013405038975179195, 0.0084470110014081, 0.021852049976587296, 0.0020199373830109835, 0.006702519487589598, 0.004315320868045092, 0.010375132784247398, 0.025773538276553154, 9.616991883376613e-05, 0.00019233983766753227, 0.16050758957862854, 0.5021031498908997, 0.000288509763777256, 0.15608377754688263, 0.052220266312360764, 0.01836845465004444, 0.034717340022325516, 0.04952750727534294, 0.9980605244636536, 0.9992470741271973, 0.0002984608872793615, 0.9823334217071533, 0.9929405450820923, 0.4985567033290863, 0.2796417474746704, 0.05550360679626465, 0.030879979953169823, 0.0348404236137867, 0.0004017841420136392, 0.004419625271111727, 0.03834168612957001, 0.012397910468280315, 0.02514020726084709, 0.0010331592056900263, 0.0009757614461705089, 0.009241035208106041, 0.008609659969806671, 0.9623888731002808, 0.03691589832305908, 0.3178790807723999, 0.01887185126543045, 0.15909172594547272, 0.0004058462509419769, 0.0006087693618610501, 0.30123937129974365, 0.11992756277322769, 0.01613238826394081, 0.0007102309609763324, 0.06503686308860779, 0.0768229216337204, 0.6214289665222168, 0.2061288207769394, 0.03232647478580475, 0.03879177197813988, 0.015973081812262535, 0.0019015574362128973, 0.0019015574362128973, 0.004944049287587404, 0.9943499565124512, 0.8981965780258179, 0.0008128475747071207, 0.01625695265829563, 0.004877085797488689, 0.047145161777734756, 0.0032513902988284826, 0.014631256461143494, 0.0024385428987443447, 0.012192714028060436, 0.00011807044938905165, 0.003187902271747589, 0.0024794794153422117, 0.9941532015800476, 0.9455062747001648, 0.9385480284690857, 0.0075689353980124, 0.011353403329849243, 0.03406020998954773, 0.0037844676990062, 0.02995266206562519, 0.17139579355716705, 0.003328073536977172, 0.7854253649711609, 0.008320184424519539, 0.6974939107894897, 0.10002579540014267, 0.04370961710810661, 0.018496505916118622, 0.02118314802646637, 0.02004649117588997, 0.016016526147723198, 0.028623083606362343, 0.006923272740095854, 0.025936439633369446, 0.0015499864239245653, 0.0028933079447597265, 0.010333242826163769, 0.006716608069837093, 0.051362182945013046, 0.1534787118434906, 0.7689131498336792, 0.004558773711323738, 0.020970357581973076, 0.18626438081264496, 0.16804693639278412, 0.06202949211001396, 0.07828997075557709, 0.07617907971143723, 0.03517056629061699, 0.061655689030885696, 0.13186489045619965, 0.03622601553797722, 0.09405570477247238, 0.01004873402416706, 0.006464612204581499, 0.034686822444200516, 0.01902003213763237, 0.9172248840332031, 0.02996780164539814, 0.14484438300132751, 0.06425528973340988, 0.03401750326156616, 0.7267866730690002, 0.24387797713279724, 0.3889295160770416, 0.08073887974023819, 0.058123569935560226, 0.06902758777141571, 0.00010529631981626153, 0.0001754938712110743, 0.04076137766242027, 0.0200881976634264, 0.04940737411379814, 1.169959159597056e-05, 4.679836638388224e-05, 0.04052738472819328, 0.008178014308214188, 0.058124370872974396, 0.8718655705451965, 0.06684302538633347, 0.05424065887928009, 0.0077771530486643314, 0.15547658503055573, 0.08927108347415924, 0.029313884675502777, 0.008043038658797741, 0.006846553646028042, 0.024129116907715797, 0.38134637475013733, 0.06800023466348648, 0.01050247997045517, 0.0025259130634367466, 0.15135537087917328, 0.01110072247684002, 0.9992862343788147, 0.07966145128011703, 0.9130427837371826, 0.9990836381912231, 0.001114125712774694, 0.06183397397398949, 0.001392657053656876, 0.13926570117473602, 0.09470067918300629, 0.15152108669281006, 0.02367516979575157, 0.5258673429489136, 0.9973040223121643, 0.9981204271316528, 3.76892312488053e-05, 0.7012081742286682, 0.1473272144794464, 0.0004899600171484053, 0.012852028012275696, 3.76892312488053e-05, 0.0033166524954140186, 0.0008291631238535047, 0.13202537596225739, 0.0011306769447401166, 0.0007537846104241908, 0.000658312113955617, 0.21007470786571503, 0.5056202411651611, 0.06378312408924103, 0.05120205134153366, 0.026661640033125877, 3.6572895623976365e-05, 0.005266496911644936, 0.06370998173952103, 0.03415908291935921, 0.007278006058186293, 0.011739899404346943, 0.00021943736646790057, 0.019566498696804047, 0.9990987777709961, 0.0007418590830639005, 0.9970290064811707, 0.9723198413848877, 0.032023340463638306, 0.9657564759254456, 0.44260284304618835, 0.20247232913970947, 0.04330534487962723, 0.047302763909101486, 0.018369080498814583, 0.005425065290182829, 0.053267162293195724, 0.06376831233501434, 0.005361614283174276, 0.06881266832351685, 0.00916867796331644, 0.00532988877967, 0.01982845552265644, 0.015006175264716148, 0.004714645445346832, 0.05814729630947113, 0.0031430970411747694, 0.8164194822311401, 0.044003359973430634, 0.002357322722673416, 0.018072808161377907, 0.003928871359676123, 0.047932229936122894, 0.0015296555357053876, 0.9978452920913696, 0.15630562603473663, 0.0018747302237898111, 0.10943737626075745, 0.005858531687408686, 0.0011717063607648015, 0.47946223616600037, 0.0004686825559474528, 0.007264579646289349, 0.0201533492654562, 0.009373650886118412, 0.0007030238048173487, 0.0002343412779737264, 0.2076263725757599, 0.9910441637039185, 0.9809471368789673, 0.056089553982019424, 0.07188943028450012, 0.048979610204696655, 0.0007899937336333096, 0.07057277113199234, 0.006319949869066477, 0.010269918479025364, 0.5861753225326538, 0.10612248629331589, 0.0007899937336333096, 0.041869666427373886, 0.9883063435554504, 0.9904136657714844, 0.978338897228241, 0.9712594747543335, 0.2256876677274704, 0.07028399407863617, 0.00018544589693192393, 0.695607602596283, 0.007974173873662949, 0.9009823799133301, 0.08759550750255585, 0.12597130239009857, 0.00515672005712986, 0.8375986814498901, 0.008103417232632637, 0.022836903110146523, 0.9354346394538879, 0.004159102216362953, 0.0005941574345342815, 0.009506518952548504, 0.014259778894484043, 0.9453045129776001, 0.025548771023750305, 0.9782983660697937, 0.9944331645965576, 0.9607598781585693, 0.8505157232284546, 0.14560186862945557, 0.003012452507391572, 0.0017203042516484857, 0.15869806706905365, 0.012149648740887642, 0.018600789830088615, 0.285893052816391, 0.004838355351239443, 0.4424407482147217, 0.06451141089200974, 0.0008601521258242428, 0.0008601521258242428, 0.00010751901572803035, 0.0010751901427283883, 0.0007526330882683396, 0.007741368841379881, 0.004779885523021221, 0.008962285704910755, 0.004779885523021221, 0.7850962281227112, 0.0011949713807553053, 0.0746857151389122, 0.002987428568303585, 0.11650971323251724, 0.0005974856903776526, 0.2082546055316925, 0.020787596702575684, 0.06489970535039902, 0.025142010301351547, 0.0802348181605339, 0.21510806679725647, 7.572894537588581e-05, 0.002764106495305896, 0.011018562130630016, 0.01923515275120735, 0.003900040639564395, 0.0018174947472289205, 0.04365773871541023, 0.30310511589050293, 0.9997851848602295, 0.18233995139598846, 0.008787467144429684, 0.808447003364563, 0.9982889294624329, 0.09796936064958572, 0.038932573050260544, 0.16222549974918365, 0.2570245862007141, 0.007075135130435228, 0.049409959465265274, 0.03823665902018547, 0.0073457686230540276, 0.022771883755922318, 0.021534699946641922, 0.033287931233644485, 0.21194475889205933, 0.03394518420100212, 0.01828709803521633, 0.0009249630384147167, 0.016649335622787476, 0.26592686772346497, 0.0018499260768294334, 0.7140714526176453, 0.00869878102093935, 0.9143385887145996, 0.0038661251310259104, 0.03576165810227394, 0.03576165810227394, 0.0009665312827564776, 0.0328754261136055, 0.9616062045097351, 0.0035209115594625473, 0.04613297060132027, 0.05055667832493782, 0.023924143984913826, 0.002979232929646969, 0.20349062979221344, 0.6543478965759277, 0.014986444264650345, 9.027978376252577e-05, 0.000257959560258314, 0.002579595660790801, 0.1171136423945427, 0.5896955728530884, 0.04643271863460541, 0.005933069624006748, 0.2246827781200409, 0.013155937194824219, 0.9940750598907471, 0.9999281764030457, 0.8562010526657104, 0.08562010526657104, 0.996040940284729, 0.0005525733577087522, 0.1782970130443573, 0.07029961049556732, 0.024558816105127335, 0.08239483088254929, 0.0006753674824722111, 0.4426112771034241, 0.00012279408110771328, 6.139704055385664e-05, 0.1097165122628212, 0.08988527208566666, 0.0007367645157501101, 0.07498183846473694, 0.13430985808372498, 0.08656567335128784, 0.48808640241622925, 0.02128920704126358, 0.027863815426826477, 0.05948454886674881, 0.0010174989001825452, 0.0011740372283384204, 0.032716501504182816, 0.06731146574020386, 0.0005478840321302414, 0.004617879632860422, 0.03653039410710335, 0.032265424728393555, 0.07065015286207199, 0.008159073069691658, 0.010013408027589321, 0.0072319055907428265, 0.8249935507774353, 0.005933871027082205, 0.004079536534845829, 0.9965453743934631, 0.0012442268198356032, 0.004019809886813164, 0.15323132276535034, 0.14624451100826263, 0.0008613878162577748, 0.6680541038513184, 0.02612876333296299, 9.57097508944571e-05, 0.988838255405426, 0.010842524468898773, 0.07042533159255981, 0.9155293107032776, 0.023275433108210564, 0.8833026885986328, 0.0023275434505194426, 0.006982630118727684, 0.048296526074409485, 0.005236972589045763, 0.0023275434505194426, 0.02851240523159504, 0.9990010261535645, 0.0004745848127640784, 0.9982047080993652, 0.9871883392333984, 0.9623780846595764, 0.02723410725593567, 0.9531937837600708, 0.9850716590881348, 0.9896113276481628, 0.9991158246994019, 0.8001199960708618, 0.043642908334732056, 0.04900256544351578, 0.03904891759157181, 0.006125320680439472, 0.020672956481575966, 0.040580250322818756, 0.9913324117660522, 0.1019376888871193, 0.026945574209094048, 0.017533831298351288, 0.016271615400910378, 0.008314164355397224, 0.011552023701369762, 0.04464404284954071, 0.01789054460823536, 0.0138020608574152, 0.020497296005487442, 0.025354085490107536, 0.006009247153997421, 0.02480529434978962, 0.664474606513977, 0.11133546382188797, 0.8869096040725708, 0.4258723556995392, 0.0628749430179596, 0.24689386785030365, 0.025723543018102646, 0.020161695778369904, 0.0006083270418457687, 0.00404102960601449, 0.043365027755498886, 0.03102467767894268, 0.04897032678127289, 0.002042240696027875, 0.00013035579468123615, 0.05900771915912628, 0.029199697077274323, 0.19135363399982452, 0.8077137470245361, 0.9979181885719299, 0.999147355556488, 0.987918496131897, 0.2104152888059616, 0.12972736358642578, 0.026948196813464165, 0.02945500612258911, 0.012377369217574596, 0.07912115752696991, 0.0007833778508938849, 0.016920961439609528, 0.0007833778508938849, 0.07034733146429062, 0.010967289097607136, 0.00031335113453678787, 0.06815387308597565, 0.34358951449394226, 0.9749107360839844, 0.9768317937850952, 0.9952899217605591, 0.0015434270026162267, 0.0008819582872092724, 0.002204895718023181, 0.9419962763786316, 0.04643643647432327, 0.000568321265745908, 0.9326152205467224, 0.00042624096386134624, 0.011224345304071903, 0.008666899055242538, 0.03935625031590462, 0.000142080316436477, 0.003836168674752116, 0.0015628834953531623, 0.001704963855445385, 0.8849843740463257, 0.01210235059261322, 0.013615144416689873, 0.0007563969120383263, 0.06429373472929001, 0.02344830334186554, 0.06950359046459198, 0.022816352546215057, 0.13622704148292542, 0.10804213583469391, 0.0135651845484972, 0.08484231680631638, 0.030581582337617874, 0.03916168212890625, 0.042612891644239426, 0.05646567791700363, 0.08604065328836441, 0.18056555092334747, 0.04683104157447815, 0.08282911032438278, 0.8085645437240601, 0.030385546386241913, 0.05768103897571564, 0.05253094434738159, 0.0005150092765688896, 0.0010300185531377792, 0.0010300185531377792, 0.01236022263765335, 0.0005150092765688896, 0.030900556594133377, 0.0005150092765688896, 0.0036050649359822273, 0.8707507252693176, 0.020581381395459175, 0.0023747747763991356, 0.06807687878608704, 0.018206605687737465, 0.008707507513463497, 0.010290690697729588, 0.4158860146999359, 0.23140959441661835, 0.016139917075634003, 0.011467835865914822, 0.01617531105875969, 0.06052468717098236, 0.00021236733300611377, 0.01656465232372284, 0.00042473466601222754, 0.1692567616701126, 0.0013449931284412742, 0.00028315643430687487, 0.05185302346944809, 0.008530087769031525, 0.8794947266578674, 0.0325738787651062, 0.0814346969127655, 0.8737407326698303, 0.006196742411702871, 0.04492638260126114, 0.03718045726418495, 0.012393484823405743, 0.026336155831813812, 0.9952754378318787, 0.9857360124588013, 0.9685973525047302, 0.27356255054473877, 0.004741606302559376, 0.010522468946874142, 0.042349688708782196, 0.0015372331254184246, 0.05189785733819008, 0.10351424664258957, 0.021326404064893723, 0.13811281323432922, 0.2362792193889618, 0.01974586769938469, 0.0029229079373180866, 0.024314263835549355, 0.0691971406340599, 0.9822955131530762, 0.9897348284721375, 0.9828325510025024], \"Term\": [\"&\", \"&\", \"&\", \"&\", \"&\", \"&\", \"&\", \"&\", \"&\", \"&\", \"&\", \"&\", \"&\", \"&\", \"****\", \"****\", \"=\", \"=\", \"=\", \"=\", \"=\", \"=\", \"=\", \"aadvantag\", \"abras\", \"accent\", \"accent\", \"accent\", \"accent\", \"access\", \"access\", \"access\", \"access\", \"access\", \"access\", \"access\", \"access\", \"access\", \"access\", \"access\", \"access\", \"access\", \"accid\", \"accid\", \"accid\", \"accid\", \"accid\", \"accid\", \"accru\", \"accru\", \"accru\", \"accru\", \"accru\", \"accru\", \"accrual\", \"accur\", \"accur\", \"accur\", \"accur\", \"accur\", \"accur\", \"accur\", \"accur\", \"accur\", \"accur\", \"accur\", \"accur\", \"accur\", \"accuraci\", \"accuraci\", \"accuraci\", \"ach\", \"ach\", \"ach\", \"ach\", \"ach\", \"acr\", \"act\", \"act\", \"act\", \"act\", \"act\", \"act\", \"act\", \"act\", \"act\", \"act\", \"act\", \"act\", \"act\", \"action\", \"action\", \"action\", \"action\", \"action\", \"action\", \"action\", \"action\", \"action\", \"action\", \"action\", \"action\", \"action\", \"action\", \"addit\", \"addit\", \"addit\", \"addit\", \"addit\", \"addit\", \"addit\", \"addit\", \"addit\", \"addit\", \"addit\", \"addit\", \"addit\", \"addit\", \"address\", \"address\", \"address\", \"address\", \"address\", \"address\", \"address\", \"address\", \"address\", \"address\", \"address\", \"address\", \"address\", \"address!\", \"addresse\", \"adjud\", \"advanc\", \"advanc\", \"advanc\", \"advanc\", \"advanc\", \"advanc\", \"advanc\", \"advanc\", \"advanc\", \"advanc\", \"advanc\", \"advanc\", \"advanc\", \"advanc\", \"advertis\", \"advertis\", \"advertis\", \"advertis\", \"advertis\", \"advertis\", \"advertis\", \"advertis\", \"advis\", \"advis\", \"advis\", \"advis\", \"advis\", \"advis\", \"advis\", \"advis\", \"advis\", \"advis\", \"advis\", \"advis\", \"advis\", \"advis\", \"afford\", \"afford\", \"afford\", \"afford\", \"afford\", \"afford\", \"afford\", \"afford\", \"afford\", \"afni\", \"aforesaid\", \"agenc\", \"agenc\", \"agenc\", \"agenc\", \"agenc\", \"agenc\", \"agenc\", \"agenc\", \"agenc\", \"agenc\", \"agenc\", \"agent\", \"agent\", \"agent\", \"agent\", \"agent\", \"agent\", \"agent\", \"agent\", \"agent\", \"agent\", \"agent\", \"agent\", \"agent\", \"airlin\", \"alert\", \"alert\", \"alert\", \"alert\", \"alert\", \"alert\", \"alert\", \"alert\", \"alert\", \"alert\", \"alleg\", \"alleg\", \"alleg\", \"alleg\", \"alli\", \"alloc\", \"alloc\", \"alloc\", \"alloc\", \"alloc\", \"alot\", \"alot\", \"alway\", \"alway\", \"alway\", \"alway\", \"alway\", \"alway\", \"alway\", \"alway\", \"alway\", \"alway\", \"alway\", \"alway\", \"alway\", \"amer\", \"amer\", \"america\", \"america\", \"american\", \"american\", \"american\", \"american\", \"american\", \"american\", \"american\", \"american\", \"american\", \"american\", \"american\", \"amerihom\", \"ameritech\", \"amex\", \"amort\", \"amort\", \"amount\", \"amount\", \"amount\", \"amount\", \"amount\", \"amount\", \"amount\", \"amount\", \"amount\", \"amount\", \"amount\", \"amount\", \"amount\", \"amount\", \"annum\", \"answer\", \"answer\", \"answer\", \"answer\", \"answer\", \"answer\", \"answer\", \"answer\", \"answer\", \"answer\", \"answer\", \"answer\", \"answer\", \"answer\", \"anyth\", \"anyth\", \"anyth\", \"anyth\", \"anyth\", \"anyth\", \"anyth\", \"anyth\", \"anyth\", \"anyth\", \"anyth\", \"anyth\", \"anyth\", \"anyth\", \"app\", \"app\", \"app\", \"app\", \"app\", \"app\", \"app\", \"app\", \"appli\", \"appli\", \"appli\", \"appli\", \"appli\", \"appli\", \"appli\", \"appli\", \"appli\", \"appli\", \"appli\", \"appli\", \"appli\", \"applic\", \"applic\", \"applic\", \"applic\", \"applic\", \"applic\", \"applic\", \"applic\", \"applic\", \"apprais\", \"apprais\", \"apprais\", \"apprais\", \"apr\", \"apr\", \"apr\", \"ar\", \"ara\", \"ara\", \"arrang\", \"arrang\", \"arrang\", \"arrang\", \"arrang\", \"arrang\", \"arrang\", \"arrang\", \"arrang\", \"arrang\", \"arvest\", \"ask\", \"ask\", \"ask\", \"ask\", \"ask\", \"ask\", \"ask\", \"ask\", \"ask\", \"ask\", \"ask\", \"ask\", \"ask\", \"ask\", \"assigne\", \"astra\", \"atm\", \"attach\", \"attach\", \"attach\", \"attach\", \"attach\", \"attach\", \"attach\", \"attach\", \"attach\", \"attach\", \"attach\", \"attach\", \"attach\", \"attend\", \"attend\", \"attend\", \"attend\", \"attend\", \"attend\", \"attend\", \"attend\", \"attorney\", \"attorney\", \"attorney\", \"attorney\", \"attorney\", \"attorney\", \"attorney\", \"attorney\", \"attorney\", \"attorney\", \"author\", \"author\", \"author\", \"author\", \"author\", \"author\", \"author\", \"author\", \"author\", \"author\", \"author\", \"author\", \"author\", \"auto\", \"auto\", \"auto\", \"auto\", \"auto\", \"auto\", \"auto\", \"auto\", \"auto\", \"autodraft\", \"automat\", \"automat\", \"automat\", \"automat\", \"automat\", \"automat\", \"automat\", \"automat\", \"automat\", \"automat\", \"automat\", \"automat\", \"automobil\", \"automobil\", \"autopay\", \"avail\", \"avail\", \"avail\", \"avail\", \"avail\", \"avail\", \"avail\", \"avail\", \"avail\", \"avail\", \"avail\", \"avail\", \"avail\", \"avail\", \"aver\", \"aver\", \"awesom\", \"b\", \"b\", \"b\", \"b\", \"b\", \"b\", \"b\", \"b\", \"b\", \"b\", \"bac\", \"back\", \"back\", \"back\", \"back\", \"back\", \"back\", \"back\", \"back\", \"back\", \"back\", \"back\", \"back\", \"back\", \"back\", \"badg\", \"badg\", \"badg\", \"badg\", \"baggag\", \"balanc\", \"balanc\", \"balanc\", \"balanc\", \"balanc\", \"balanc\", \"balanc\", \"balanc\", \"balanc\", \"balanc\", \"balanc\", \"balanc\", \"balanc\", \"banana\", \"banco\", \"bancorp\", \"bank\", \"bank\", \"bank\", \"bank\", \"bank\", \"bank\", \"bank\", \"bank\", \"bank\", \"bank\", \"bank\", \"bank\", \"bank\", \"bank\", \"banker\", \"banker\", \"bankruptci\", \"bankruptci\", \"bankruptci\", \"bankrupti\", \"barclay\", \"barclay\", \"barclaycard\", \"barclaycard\", \"barrag\", \"barrag\", \"bayview\", \"bb\", \"bbt\", \"bbva\", \"bbva\", \"belliger\", \"belliger\", \"belong\", \"belong\", \"belong\", \"belong\", \"belong\", \"belong\", \"belong\", \"belong\", \"belong\", \"bill\", \"bill\", \"bill\", \"bill\", \"bill\", \"bill\", \"bill\", \"bill\", \"bill\", \"bill\", \"bill\", \"bill\", \"bill\", \"bill\", \"birth\", \"birth\", \"birth\", \"birth\", \"birth\", \"birth\", \"birth\", \"bitcoin\", \"bk\", \"blah\", \"block\", \"block\", \"block\", \"block\", \"block\", \"block\", \"bloomingdal\", \"bluebird\", \"bmo\", \"bmw\", \"boa\", \"boa\", \"bof\", \"bofa\", \"bofa\", \"bond\", \"bond\", \"bonu\", \"borrow\", \"borrow\", \"borrow\", \"borrow\", \"borrow\", \"borrow\", \"bpo\", \"branch\", \"branch\", \"branch\", \"branch\", \"breach\", \"breach\", \"breach\", \"breach\", \"breach\", \"breach\", \"broker\", \"broker\", \"broker\", \"broker\", \"btc\", \"builder\", \"burea\", \"burea\", \"bureau\", \"bureau\", \"bureau\", \"bureau\", \"bureau\", \"bureau\", \"bureau\", \"bureau\", \"bureau\", \"bureau\", \"busi\", \"busi\", \"busi\", \"busi\", \"busi\", \"busi\", \"busi\", \"busi\", \"busi\", \"busi\", \"busi\", \"busi\", \"busi\", \"busi\", \"c\", \"c\", \"c\", \"c\", \"c\", \"c\", \"c\", \"c\", \"c\", \"c\", \"calcul\", \"calcul\", \"calcul\", \"calcul\", \"calcul\", \"calcul\", \"call\", \"call\", \"call\", \"call\", \"call\", \"call\", \"call\", \"call\", \"call\", \"call\", \"call\", \"call\", \"call\", \"call\", \"callback\", \"caller\", \"calmli\", \"cancel\", \"cancel\", \"cancel\", \"cancel\", \"cancel\", \"cancel\", \"cancel\", \"cancel\", \"cancel\", \"cancel\", \"cancel\", \"cancel\", \"cancel\", \"cancel\", \"cant\", \"cant\", \"cant\", \"cant\", \"cant\", \"cant\", \"cant\", \"cant\", \"cant\", \"capit\", \"capit\", \"capit\", \"capit\", \"capit\", \"capit\", \"capit\", \"capit\", \"capit\", \"capit\", \"capit\", \"car\", \"car\", \"card\", \"card\", \"card\", \"card\", \"card\", \"card\", \"card\", \"card\", \"card\", \"card\", \"cardhold\", \"cardhold\", \"cardmemb\", \"care\", \"care\", \"care\", \"care\", \"care\", \"care\", \"care\", \"care\", \"care\", \"care\", \"care\", \"care\", \"care\", \"care\", \"carrington\", \"carrington\", \"cash\", \"cash\", \"cash\", \"cash\", \"cash\", \"cash\", \"cash\", \"cash\", \"cash\", \"cash\", \"cash\", \"cashback\", \"cashcal\", \"cashier\", \"cashier\", \"cashier\", \"cashier\", \"cashier\", \"cashier\", \"cashnetusa\", \"cashnetusa\", \"cashnetusa\", \"castl\", \"castl\", \"cbna\", \"cbr\", \"cd\", \"cd\", \"cd\", \"cd\", \"ceas\", \"ceas\", \"ceas\", \"ceas\", \"cell\", \"cell\", \"cell\", \"cell\", \"cell\", \"cell\", \"cert\", \"cert\", \"certegi\", \"certifi\", \"certifi\", \"certifi\", \"certifi\", \"certifi\", \"certifi\", \"certifi\", \"cfpb\", \"cfpb\", \"cfpb\", \"cfpb\", \"cfpb\", \"cfpb\", \"cfpb\", \"cfpb\", \"cfpb\", \"cfpb\", \"cfpb\", \"cfpb\", \"ch\", \"champion\", \"chang\", \"chang\", \"chang\", \"chang\", \"chang\", \"chang\", \"chang\", \"chang\", \"chang\", \"chang\", \"chang\", \"chang\", \"chang\", \"chang\", \"chapter\", \"chapter\", \"charg\", \"charg\", \"charg\", \"charg\", \"charg\", \"charg\", \"charg\", \"charg\", \"charg\", \"charg\", \"charg\", \"charg\", \"charg\", \"charg\", \"charl\", \"chase\", \"chase\", \"chat\", \"chat\", \"chat\", \"chat\", \"chat\", \"chat\", \"check\", \"check\", \"check\", \"check\", \"check\", \"check\", \"check\", \"check\", \"check\", \"check\", \"check\", \"check\", \"check\", \"check\", \"chequ\", \"chex\", \"chexsystem\", \"chrysler\", \"cit\", \"cit\", \"citi\", \"citi\", \"citi\", \"citi\", \"citi\", \"citi\", \"citibank\", \"citicard\", \"citifinanci\", \"citigold\", \"citimortgag\", \"civil\", \"civil\", \"civil\", \"civil\", \"claim\", \"claim\", \"claim\", \"claim\", \"claim\", \"claim\", \"claim\", \"claim\", \"claim\", \"claim\", \"claim\", \"claim\", \"claim\", \"claim\", \"claimant\", \"clear\", \"clear\", \"clear\", \"clear\", \"clear\", \"clear\", \"clear\", \"clear\", \"clear\", \"clear\", \"clear\", \"clear\", \"clear\", \"clear\", \"close\", \"close\", \"close\", \"close\", \"close\", \"close\", \"close\", \"close\", \"close\", \"close\", \"close\", \"close\", \"close\", \"close\", \"cm\", \"cmre\", \"coat\", \"coinbas\", \"coinbas\", \"collect\", \"collect\", \"collect\", \"collect\", \"collect\", \"collect\", \"collect\", \"collect\", \"collect\", \"collect\", \"collect\", \"collectioncharg\", \"collector\", \"collector\", \"collector\", \"colleg\", \"colleg\", \"colleg\", \"collegi\", \"comerica\", \"compani\", \"compani\", \"compani\", \"compani\", \"compani\", \"compani\", \"compani\", \"compani\", \"compani\", \"compani\", \"compani\", \"compani\", \"compani\", \"compani\", \"complaint\", \"complaint\", \"complaint\", \"complaint\", \"complaint\", \"complaint\", \"complaint\", \"complaint\", \"complaint\", \"complaint\", \"complaint\", \"complaint\", \"complaint\", \"complaint\", \"compliantli\", \"condescend\", \"condescend\", \"condescend\", \"condescend\", \"condescend\", \"confirm\", \"confirm\", \"confirm\", \"confirm\", \"confirm\", \"confirm\", \"confirm\", \"confirm\", \"confirm\", \"confirm\", \"confirm\", \"confirm\", \"confirm\", \"consolid\", \"consolid\", \"consum\", \"consum\", \"consum\", \"consum\", \"consum\", \"consum\", \"consum\", \"consum\", \"consum\", \"consum\", \"consum\", \"consum\", \"consum\", \"consum\", \"contact\", \"contact\", \"contact\", \"contact\", \"contact\", \"contact\", \"contact\", \"contact\", \"contact\", \"contact\", \"contact\", \"contact\", \"contact\", \"contact\", \"contract\", \"contract\", \"contract\", \"contract\", \"contract\", \"contract\", \"contract\", \"contract\", \"contract\", \"contract\", \"contract\", \"contractor\", \"contractor\", \"contractor\", \"contractor\", \"converg\", \"convers\", \"convers\", \"convers\", \"convers\", \"convers\", \"convers\", \"convers\", \"convers\", \"convers\", \"convers\", \"convers\", \"convers\", \"convers\", \"cop\", \"copay\", \"copi\", \"copi\", \"copi\", \"copi\", \"copi\", \"copi\", \"copi\", \"copi\", \"copi\", \"copi\", \"copi\", \"copi\", \"copi\", \"correct\", \"correct\", \"correct\", \"correct\", \"correct\", \"correct\", \"correct\", \"correct\", \"correct\", \"correct\", \"correct\", \"correct\", \"correct\", \"correct\", \"correspond\", \"correspond\", \"correspond\", \"correspond\", \"correspond\", \"correspond\", \"correspond\", \"correspond\", \"correspond\", \"correspond\", \"correspond\", \"correspond\", \"correspond\", \"cosign\", \"cosign\", \"costco\", \"couldnt\", \"couldnt\", \"couldnt\", \"couldnt\", \"couldnt\", \"couldnt\", \"couldnt\", \"couldnt\", \"countrywid\", \"court\", \"court\", \"court\", \"courthous\", \"coverag\", \"coverag\", \"coverag\", \"coverag\", \"cowork\", \"cowork\", \"cowork\", \"cowork\", \"cra\", \"cra\", \"crazi\", \"crazi\", \"crazi\", \"crazi\", \"crazi\", \"credco\", \"credit\", \"credit\", \"credit\", \"credit\", \"credit\", \"credit\", \"credit\", \"credit\", \"credit\", \"credit\", \"credit\", \"credit\", \"credit\", \"credit\", \"creditor\", \"creditor\", \"creditor\", \"creditor\", \"cri\", \"cri\", \"crown\", \"current\", \"current\", \"current\", \"current\", \"current\", \"current\", \"current\", \"current\", \"current\", \"current\", \"current\", \"current\", \"current\", \"current\", \"custom\", \"custom\", \"custom\", \"custom\", \"custom\", \"custom\", \"custom\", \"custom\", \"custom\", \"custom\", \"custom\", \"custom\", \"cuz\", \"cyber\", \"cyber\", \"dad\", \"dad\", \"dad\", \"damag\", \"damag\", \"damag\", \"damag\", \"damag\", \"damag\", \"damag\", \"damag\", \"damag\", \"damag\", \"damag\", \"damag\", \"data\", \"data\", \"data\", \"data\", \"data\", \"data\", \"data\", \"data\", \"data\", \"date\", \"date\", \"date\", \"date\", \"date\", \"date\", \"date\", \"date\", \"date\", \"date\", \"date\", \"date\", \"date\", \"date\", \"day\", \"day\", \"day\", \"day\", \"day\", \"day\", \"day\", \"day\", \"day\", \"day\", \"day\", \"day\", \"day\", \"day\", \"deadbeat\", \"deadbeat\", \"dealer\", \"dealership\", \"death\", \"death\", \"death\", \"death\", \"death\", \"death\", \"deb\", \"debit\", \"debit\", \"debit\", \"debit\", \"debit\", \"debit\", \"debit\", \"debit\", \"debit\", \"debit\", \"debt\", \"debt\", \"debt\", \"debt\", \"debt\", \"debt\", \"debt\", \"debtor\", \"debtor\", \"deceas\", \"deceas\", \"deceas\", \"deceas\", \"deceas\", \"deceas\", \"deed\", \"deed\", \"deed\", \"default\", \"default\", \"default\", \"default\", \"default\", \"default\", \"default\", \"default\", \"default\", \"defer\", \"defer\", \"defer\", \"degre\", \"degre\", \"degre\", \"degre\", \"degre\", \"delbert\", \"delet\", \"delet\", \"delet\", \"delet\", \"delet\", \"delinqu\", \"delinqu\", \"delinqu\", \"delinqu\", \"delinqu\", \"delinqu\", \"delinqu\", \"delinqu\", \"delta\", \"delta\", \"depart\", \"depart\", \"depart\", \"depart\", \"depart\", \"depart\", \"depart\", \"depart\", \"depart\", \"depart\", \"depart\", \"depart\", \"depart\", \"depart\", \"deposit\", \"deposit\", \"deposit\", \"deposit\", \"deposit\", \"deposit\", \"derelict\", \"derelict\", \"derogatori\", \"derogatori\", \"derogatori\", \"desist\", \"desist\", \"dial\", \"dial\", \"dialer\", \"dialer\", \"didnt\", \"didnt\", \"didnt\", \"didnt\", \"didnt\", \"didnt\", \"didnt\", \"didnt\", \"didnt\", \"didnt\", \"diffrent\", \"discharg\", \"discharg\", \"discharg\", \"disconnect\", \"disconnect\", \"disconnect\", \"disconnect\", \"disput\", \"disput\", \"disput\", \"disput\", \"disput\", \"disput\", \"disput\", \"disput\", \"disput\", \"disput\", \"disput\", \"disput\", \"disput\", \"ditech\", \"ditech\", \"ditech\", \"ditech\", \"dmv\", \"dmv\", \"docket\", \"document\", \"document\", \"document\", \"document\", \"document\", \"document\", \"document\", \"document\", \"document\", \"document\", \"document\", \"document\", \"document\", \"document\", \"dodd\", \"dofd\", \"dog\", \"dont\", \"dont\", \"dont\", \"dont\", \"dont\", \"dont\", \"dont\", \"dont\", \"dont\", \"dont\", \"dont\", \"dont\", \"dont\", \"dovenmuehl\", \"drive\", \"drive\", \"drive\", \"drive\", \"drive\", \"drive\", \"driver\", \"driver\", \"driver\", \"driver\", \"driver\", \"driver\", \"driver\", \"driver\", \"dual\", \"dual\", \"due\", \"due\", \"due\", \"due\", \"due\", \"due\", \"due\", \"due\", \"due\", \"due\", \"due\", \"due\", \"due\", \"due\", \"due!\", \"due!\", \"durabl\", \"e\", \"e\", \"e\", \"e\", \"e\", \"e\", \"e\", \"e\", \"e\", \"e\", \"e\", \"e\", \"e\", \"e\", \"ebay\", \"ebil\", \"ebil\", \"ecmc\", \"ecmc\", \"ecsi\", \"educ\", \"educ\", \"educ\", \"elan\", \"email\", \"email\", \"email\", \"email\", \"email\", \"email\", \"email\", \"email\", \"email\", \"email\", \"email\", \"email\", \"email\", \"enrol\", \"enrol\", \"enrol\", \"enrol\", \"enrol\", \"eo\", \"equifax\", \"equifax\", \"erad\", \"erc\", \"error\", \"error\", \"error\", \"error\", \"error\", \"error\", \"error\", \"error\", \"error\", \"error\", \"error\", \"error\", \"error\", \"error\", \"escrow\", \"escrow\", \"escrow\", \"escrow\", \"eth\", \"everi\", \"everi\", \"everi\", \"everi\", \"everi\", \"everi\", \"everi\", \"everi\", \"everi\", \"everi\", \"everi\", \"everi\", \"everi\", \"everi\", \"everyth\", \"everyth\", \"everyth\", \"everyth\", \"everyth\", \"everyth\", \"everyth\", \"everyth\", \"everyth\", \"everyth\", \"everyth\", \"everyth\", \"executor\", \"executor\", \"exet\", \"experian\", \"experian\", \"explain\", \"explain\", \"explain\", \"explain\", \"explain\", \"explain\", \"explain\", \"explain\", \"explain\", \"explain\", \"explain\", \"explain\", \"explain\", \"explain\", \"express\", \"express\", \"express\", \"express\", \"express\", \"express\", \"express\", \"express\", \"express\", \"express\", \"express\", \"express\", \"ext\", \"ext\", \"ext\", \"ext\", \"ext\", \"ext\", \"ext\", \"extra\", \"extra\", \"extra\", \"extra\", \"extra\", \"extra\", \"extra\", \"extra\", \"fair\", \"fair\", \"fair\", \"fair\", \"fair\", \"fair\", \"fair\", \"fair\", \"fair\", \"fair\", \"fair\", \"fair\", \"fair\", \"fargo\", \"father\", \"father\", \"father\", \"father\", \"father\", \"father\", \"father\", \"father\", \"fault!\", \"fault!\", \"fax\", \"fax\", \"fax\", \"fax\", \"fax\", \"fax\", \"fax\", \"fax\", \"fax\", \"fax\", \"fay\", \"fcra\", \"fcra\", \"fcra\", \"fdcpa\", \"fdcpa\", \"feder\", \"feder\", \"feder\", \"feder\", \"feder\", \"feder\", \"feder\", \"feder\", \"feder\", \"feder\", \"fedex\", \"fedex\", \"fedloan\", \"fee\", \"fee\", \"fee\", \"fee\", \"fee\", \"fee\", \"fee\", \"fee\", \"fee\", \"fee\", \"fha\", \"fha\", \"fha\", \"fico\", \"fico\", \"fico\", \"fico\", \"fico\", \"fico\", \"fico\", \"fidel\", \"file\", \"file\", \"file\", \"file\", \"file\", \"file\", \"file\", \"file\", \"file\", \"file\", \"file\", \"file\", \"file\", \"file\", \"financ\", \"financ\", \"financ\", \"financ\", \"financ\", \"financ\", \"financ\", \"financ\", \"financ\", \"financ\", \"financ\", \"financi\", \"financi\", \"financi\", \"financi\", \"financi\", \"financi\", \"financi\", \"financi\", \"financi\", \"financi\", \"financi\", \"financi\", \"financi\", \"financi\", \"firearm\", \"firm\", \"firm\", \"firm\", \"firm\", \"firm\", \"firm\", \"firm\", \"firstmark\", \"flagstar\", \"flight\", \"fnb\", \"forbar\", \"forbear\", \"forclos\", \"forclos\", \"ford\", \"forebear\", \"forebear\", \"foreclos\", \"foreclos\", \"foreclos\", \"foreclos\", \"foreclos\", \"foreclosur\", \"foreclosur\", \"foreclosur\", \"foreclosur\", \"forgiv\", \"forgiven\", \"forgiven\", \"forgiven\", \"form\", \"form\", \"form\", \"form\", \"form\", \"form\", \"form\", \"form\", \"form\", \"form\", \"form\", \"form\", \"form\", \"form\", \"fortiva\", \"fraud\", \"fraud\", \"fraud\", \"fraud\", \"fraud\", \"fraud\", \"fraud\", \"fraud\", \"fraud\", \"fraud\", \"fraudul\", \"fraudul\", \"fraudul\", \"fraudul\", \"fraudul\", \"fraudul\", \"fraudul\", \"fraudul\", \"fraudul\", \"fraudul\", \"fraudul\", \"fraudul\", \"freak\", \"freedom\", \"freedom\", \"freedom\", \"freedom\", \"freedom\", \"freez\", \"freez\", \"freez\", \"freez\", \"freez\", \"full\", \"full\", \"full\", \"full\", \"full\", \"full\", \"full\", \"full\", \"full\", \"full\", \"full\", \"full\", \"full\", \"full\", \"fund\", \"fund\", \"fund\", \"fund\", \"fund\", \"fund\", \"fund\", \"fund\", \"fund\", \"fund\", \"fund\", \"fund\", \"fund\", \"funni\", \"funni\", \"funni\", \"funni\", \"fwd\", \"fwd\", \"fwd\", \"gap\", \"garnish\", \"garnish\", \"garnish\", \"gentleman\", \"gentleman\", \"gentleman\", \"gentleman\", \"gentleman\", \"gentleman\", \"get\", \"get\", \"get\", \"get\", \"get\", \"get\", \"get\", \"get\", \"get\", \"get\", \"get\", \"get\", \"get\", \"get\", \"gift\", \"gift\", \"gift\", \"girl\", \"girl\", \"girl\", \"girl\", \"give\", \"give\", \"give\", \"give\", \"give\", \"give\", \"give\", \"give\", \"give\", \"give\", \"give\", \"give\", \"give\", \"give\", \"gm\", \"gm\", \"go\", \"go\", \"go\", \"go\", \"go\", \"go\", \"go\", \"go\", \"go\", \"go\", \"go\", \"go\", \"go\", \"go\", \"goldman\", \"gon\", \"good\", \"good\", \"good\", \"good\", \"good\", \"good\", \"goodby\", \"got\", \"got\", \"got\", \"got\", \"got\", \"got\", \"got\", \"got\", \"got\", \"got\", \"got\", \"got\", \"got\", \"grace\", \"grace\", \"grace\", \"grace\", \"grace\", \"graduat\", \"grandma\", \"green\", \"green\", \"green\", \"green\", \"green\", \"greenski\", \"greenski\", \"guardian\", \"guy\", \"guy\", \"guy\", \"guy\", \"guy\", \"handler\", \"handler\", \"hang\", \"hang\", \"hard\", \"hard\", \"hard\", \"hard\", \"hard\", \"hard\", \"hard\", \"hard\", \"hard\", \"hard\", \"hard\", \"hard\", \"hard\", \"heartland\", \"heartland\", \"heater\", \"heloc\", \"heloc\", \"help\", \"help\", \"help\", \"help\", \"help\", \"help\", \"help\", \"help\", \"help\", \"help\", \"help\", \"help\", \"help\", \"help\", \"higher\", \"higher\", \"higher\", \"higher\", \"higher\", \"higher\", \"higher\", \"higher\", \"higher\", \"higher\", \"higher\", \"higher\", \"higher\", \"hipaa\", \"histori\", \"histori\", \"histori\", \"histori\", \"histori\", \"histori\", \"histori\", \"histori\", \"histori\", \"histori\", \"histori\", \"histori\", \"histori\", \"histori\", \"hold\", \"hold\", \"hold\", \"hold\", \"hold\", \"hold\", \"hold\", \"hold\", \"hold\", \"hold\", \"hold\", \"hold\", \"hold\", \"hold\", \"home\", \"home\", \"home\", \"home\", \"home\", \"home\", \"home\", \"home\", \"home\", \"home\", \"home\", \"home\", \"home\", \"homeown\", \"homeown\", \"homeown\", \"honda\", \"hotel\", \"hotel\", \"hour\", \"hour\", \"hour\", \"hour\", \"hour\", \"hour\", \"hour\", \"hour\", \"hour\", \"hour\", \"hour\", \"hous\", \"hous\", \"hous\", \"hous\", \"hous\", \"hous\", \"hous\", \"hous\", \"hous\", \"hous\", \"hous\", \"hsa\", \"hsbc\", \"hsbc\", \"hsbc\", \"hud\", \"hud\", \"hud\", \"hung\", \"hung\", \"hunter\", \"huntington\", \"huntington\", \"husband\", \"husband\", \"husband\", \"husband\", \"husband\", \"husband\", \"husband\", \"husband\", \"husband\", \"husband\", \"husband\", \"husband\", \"hyundai\", \"ibr\", \"ident\", \"ident\", \"ident\", \"identif\", \"identif\", \"identif\", \"identif\", \"identif\", \"identif\", \"identif\", \"identifi\", \"identifi\", \"identifi\", \"identifi\", \"identifi\", \"identifi\", \"identifi\", \"identifi\", \"identifi\", \"identifi\", \"identitytheft\", \"idr\", \"im\", \"im\", \"im\", \"im\", \"im\", \"im\", \"im\", \"im\", \"im\", \"im\", \"im\", \"im\", \"inaccur\", \"inaccur\", \"inaccur\", \"inaccur\", \"inaccur\", \"inaccur\", \"inaccur\", \"inaccur\", \"inaccuraci\", \"inaccuraci\", \"inaccuraci\", \"incom\", \"incom\", \"incom\", \"incom\", \"incom\", \"incom\", \"incom\", \"incom\", \"incom\", \"incom\", \"incom\", \"incorrect\", \"incorrect\", \"incorrect\", \"incorrect\", \"incorrect\", \"incorrect\", \"incorrect\", \"incorrect\", \"incorrect\", \"incorrect\", \"incorrect\", \"incorrect\", \"incorrect\", \"increas\", \"increas\", \"increas\", \"increas\", \"increas\", \"increas\", \"increas\", \"increas\", \"increas\", \"increas\", \"increas\", \"increas\", \"indebted\", \"inform\", \"inform\", \"inform\", \"inform\", \"inform\", \"inform\", \"inform\", \"inform\", \"inform\", \"inform\", \"inform\", \"inform\", \"inform\", \"inform\", \"innacur\", \"inquiri\", \"inquiri\", \"inquiri\", \"inquri\", \"insur\", \"insur\", \"insur\", \"insur\", \"insur\", \"insur\", \"insur\", \"insur\", \"insur\", \"insur\", \"interest\", \"interest\", \"interest\", \"interest\", \"interest\", \"interest\", \"interest\", \"interest\", \"interest\", \"interest\", \"interest\", \"investig\", \"investig\", \"investig\", \"investig\", \"investig\", \"investig\", \"investig\", \"investig\", \"investig\", \"investig\", \"investig\", \"investig\", \"investig\", \"investig\", \"investor\", \"investor\", \"ip\", \"ip\", \"ip\", \"ira\", \"issu\", \"issu\", \"issu\", \"issu\", \"issu\", \"issu\", \"issu\", \"issu\", \"issu\", \"issu\", \"issu\", \"issu\", \"issu\", \"issu\", \"it!!\", \"item\", \"item\", \"item\", \"item\", \"item\", \"item\", \"item\", \"item\", \"item\", \"item\", \"item\", \"item\", \"ive\", \"ive\", \"ive\", \"ive\", \"ive\", \"ive\", \"ive\", \"ive\", \"ive\", \"ive\", \"ive\", \"ive\", \"ive\", \"ive\", \"jc\", \"jefferson\", \"joint\", \"joint\", \"joint\", \"joint\", \"joint\", \"joint\", \"joint\", \"joint\", \"joint\", \"joint\", \"jp\", \"jp\", \"jpmorgan\", \"jpmorgan\", \"jpmorgan\", \"judg\", \"judg\", \"judg\", \"judg\", \"judg\", \"judgement\", \"judgement\", \"judgement\", \"judgment\", \"karma\", \"keep\", \"keep\", \"keep\", \"keep\", \"keep\", \"keep\", \"keep\", \"keep\", \"keep\", \"keep\", \"keep\", \"keep\", \"keep\", \"keep\", \"keybank\", \"kia\", \"kid\", \"kid\", \"kid\", \"kid\", \"kohl\", \"lake\", \"lake\", \"lakeview\", \"landlin\", \"late\", \"late\", \"late\", \"late\", \"late\", \"late\", \"late\", \"late\", \"late\", \"late\", \"late!\", \"late!\", \"late!\", \"law\", \"law\", \"law\", \"law\", \"law\", \"law\", \"law\", \"law\", \"law\", \"law\", \"law\", \"law\", \"leas\", \"legal\", \"legal\", \"legal\", \"legal\", \"legal\", \"legal\", \"legal\", \"legal\", \"legal\", \"legal\", \"legal\", \"legal\", \"legal\", \"legal\", \"legibl\", \"legibl\", \"legibl\", \"lemon\", \"lender\", \"lender\", \"lender\", \"lender\", \"lender\", \"lender\", \"lender\", \"lender\", \"let\", \"let\", \"let\", \"let\", \"let\", \"let\", \"let\", \"let\", \"let\", \"let\", \"let\", \"let\", \"let\", \"let\", \"letter\", \"letter\", \"letter\", \"letter\", \"letter\", \"letter\", \"letter\", \"letter\", \"letter\", \"letter\", \"letter\", \"letter\", \"letter\", \"letter\", \"licens\", \"licens\", \"licens\", \"licens\", \"licens\", \"licens\", \"licens\", \"licens\", \"licens\", \"licens\", \"like\", \"like\", \"like\", \"like\", \"like\", \"like\", \"like\", \"like\", \"like\", \"like\", \"like\", \"like\", \"like\", \"like\", \"lion\", \"list\", \"list\", \"list\", \"list\", \"list\", \"list\", \"list\", \"list\", \"list\", \"list\", \"list\", \"list\", \"list\", \"list\", \"litecoin\", \"ln\", \"loan\", \"loan\", \"loan\", \"loan\", \"loan\", \"loan\", \"loan\", \"loan\", \"loan\", \"loan\", \"loan\", \"loancar\", \"loancar\", \"loancar\", \"lower\", \"lower\", \"lower\", \"lower\", \"lower\", \"lower\", \"lower\", \"lower\", \"lower\", \"ltv\", \"lvnv\", \"lynch\", \"maci\", \"maci\", \"maci\", \"made\", \"made\", \"made\", \"made\", \"made\", \"made\", \"made\", \"made\", \"made\", \"made\", \"made\", \"made\", \"made\", \"made\", \"madeaccount\", \"mae\", \"mail\", \"mail\", \"mail\", \"mail\", \"mail\", \"mail\", \"mail\", \"mail\", \"mail\", \"mail\", \"mail\", \"mail\", \"mail\", \"make\", \"make\", \"make\", \"make\", \"make\", \"make\", \"make\", \"make\", \"make\", \"make\", \"make\", \"make\", \"make\", \"make\", \"malevol\", \"manag\", \"manag\", \"manag\", \"manag\", \"manag\", \"manag\", \"manag\", \"manag\", \"manag\", \"manag\", \"manag\", \"manag\", \"manag\", \"market\", \"market\", \"market\", \"market\", \"market\", \"market\", \"market\", \"market\", \"mastercard\", \"me!!\", \"medicin\", \"medicin\", \"medicin\", \"mellon\", \"membership\", \"membership\", \"merchant\", \"merchant\", \"merchant\", \"merril\", \"mess\", \"mess\", \"mess\", \"mess\", \"mess\", \"mess\", \"mess\", \"mess\", \"mess\", \"messag\", \"messag\", \"messag\", \"messag\", \"messag\", \"messag\", \"messag\", \"messag\", \"messag\", \"met\", \"met\", \"met\", \"met\", \"met\", \"met\", \"met\", \"met\", \"met\", \"met\", \"met\", \"metro\", \"midland\", \"mile\", \"mile\", \"mile\", \"mile\", \"mine\", \"mine\", \"mine\", \"mine\", \"mine\", \"mine\", \"mine\", \"mine\", \"mine\", \"mine\", \"mine\", \"minimum\", \"minimum\", \"minimum\", \"minimum\", \"minimum\", \"minimum\", \"minimum\", \"minimum\", \"minimum\", \"minimum\", \"minut\", \"minut\", \"minut\", \"minut\", \"minut\", \"minut\", \"minut\", \"minut\", \"minut\", \"misappl\", \"misappli\", \"misappli\", \"miss\", \"miss\", \"miss\", \"miss\", \"miss\", \"miss\", \"miss\", \"miss\", \"miss\", \"miss\", \"miss\", \"miss\", \"miss\", \"miss\", \"mitig\", \"mitig\", \"mitig\", \"ml\", \"mobil\", \"mobil\", \"mobil\", \"mobil\", \"mobil\", \"mobil\", \"mobil\", \"modif\", \"modif\", \"modif\", \"modif\", \"modif\", \"mohela\", \"mom\", \"mom\", \"mom\", \"mom\", \"mom\", \"money\", \"money\", \"money\", \"money\", \"money\", \"money\", \"money\", \"money\", \"money\", \"money\", \"money\", \"money\", \"money\", \"moneygram\", \"month\", \"month\", \"month\", \"month\", \"month\", \"month\", \"month\", \"month\", \"month\", \"month\", \"month\", \"month\", \"month\", \"month\", \"monthli\", \"monthli\", \"monthli\", \"monthli\", \"monthli\", \"monthli\", \"monthli\", \"monthli\", \"monthli\", \"monthli\", \"moreconfirm\", \"morgan\", \"morgan\", \"mortgag\", \"mortgag\", \"mortgag\", \"mortgag\", \"mortgag\", \"mortgag\", \"mortgag\", \"mortgag\", \"mortgag\", \"mortgage\", \"mortgage\", \"mortgage\", \"mortgage\", \"mother\", \"mother\", \"mother\", \"mother\", \"mother\", \"mother\", \"mother\", \"mother\", \"motor\", \"mouth\", \"mouth\", \"mouth\", \"mr\", \"mr\", \"mr\", \"mr\", \"mr\", \"mr\", \"mr\", \"mr\", \"mustov\", \"n\", \"n\", \"n\", \"n\", \"n\", \"n\", \"n\", \"n\", \"n\", \"n\", \"n\", \"n\", \"n\", \"n\", \"name\", \"name\", \"name\", \"name\", \"name\", \"name\", \"name\", \"name\", \"name\", \"name\", \"name\", \"name\", \"nationstar\", \"nationstar\", \"navi\", \"navient\", \"neg\", \"neg\", \"neg\", \"neg\", \"neg\", \"neg\", \"neg\", \"neg\", \"neg\", \"neg\", \"neg\", \"neg\", \"nelnet\", \"nelnet\", \"netspend\", \"never\", \"never\", \"never\", \"never\", \"never\", \"never\", \"never\", \"never\", \"never\", \"never\", \"never\", \"never\", \"never\", \"never\", \"new\", \"new\", \"new\", \"new\", \"new\", \"new\", \"new\", \"new\", \"new\", \"new\", \"new\", \"new\", \"new\", \"new\", \"nexi\", \"nfcu\", \"nissan\", \"notic\", \"notic\", \"notic\", \"notic\", \"notic\", \"notic\", \"notic\", \"notic\", \"notic\", \"notic\", \"notic\", \"notic\", \"notic\", \"notic\", \"npv\", \"nsf\", \"nsf\", \"nsf\", \"nsld\", \"number\", \"number\", \"number\", \"number\", \"number\", \"number\", \"number\", \"number\", \"number\", \"number\", \"number\", \"number\", \"number\", \"number\", \"obstruct\", \"occupi\", \"ocwen\", \"offer\", \"offer\", \"offer\", \"offer\", \"offer\", \"offer\", \"offer\", \"offer\", \"offer\", \"offer\", \"offer\", \"offer\", \"offer\", \"ombudsman\", \"ombudsman\", \"ombudsman\", \"ombudsman\", \"one\", \"one\", \"one\", \"one\", \"one\", \"one\", \"one\", \"one\", \"one\", \"one\", \"one\", \"one\", \"one\", \"one\", \"onlin\", \"onlin\", \"onlin\", \"onlin\", \"onlin\", \"onlin\", \"onlin\", \"onlin\", \"onlin\", \"onlin\", \"onlin\", \"onlin\", \"onlin\", \"open\", \"open\", \"open\", \"open\", \"open\", \"open\", \"open\", \"open\", \"open\", \"open\", \"open\", \"open\", \"open\", \"option\", \"option\", \"option\", \"option\", \"option\", \"option\", \"option\", \"option\", \"option\", \"option\", \"option\", \"option\", \"option\", \"origin\", \"origin\", \"origin\", \"origin\", \"origin\", \"origin\", \"origin\", \"origin\", \"origin\", \"origin\", \"origin\", \"origin\", \"origin\", \"origin\", \"overdraft\", \"overdraw\", \"overdrawn\", \"overdrew\", \"overdu\", \"overdu\", \"overdu\", \"overdu\", \"overdu\", \"overdu\", \"overdu\", \"overst\", \"owe\", \"owe\", \"owe\", \"owe\", \"owe\", \"owe\", \"owe\", \"owe\", \"owe\", \"owe\", \"owe\", \"packag\", \"packag\", \"packag\", \"packag\", \"packag\", \"packag\", \"packag\", \"packag\", \"packag\", \"packet\", \"packet\", \"packet\", \"packet\", \"packet\", \"paid\", \"paid\", \"paid\", \"paid\", \"paid\", \"paid\", \"paid\", \"paid\", \"paid\", \"paid\", \"paid\", \"paid\", \"paid\", \"paidsettl\", \"pal\", \"pal\", \"pant\", \"pant\", \"pant\", \"paperless\", \"paperless\", \"paperless\", \"paperless\", \"parcel\", \"parti\", \"parti\", \"parti\", \"parti\", \"parti\", \"parti\", \"parti\", \"parti\", \"parti\", \"parti\", \"parti\", \"parti\", \"parti\", \"past\", \"past\", \"past\", \"past\", \"past\", \"past\", \"past\", \"past\", \"past\", \"past\", \"past\", \"past\", \"past\", \"past\", \"pay\", \"pay\", \"pay\", \"pay\", \"pay\", \"pay\", \"pay\", \"pay\", \"pay\", \"pay\", \"pay\", \"pay\", \"pay\", \"pay\", \"paym\", \"paym\", \"payment\", \"payment\", \"payment\", \"payment\", \"payment\", \"payment\", \"payment\", \"payment\", \"payment\", \"payment\", \"payment\", \"payment\", \"payment\", \"payment\", \"payoff\", \"payoff\", \"payoff\", \"paypal\", \"pend\", \"pend\", \"pend\", \"pend\", \"pend\", \"pend\", \"pend\", \"pend\", \"pend\", \"pend\", \"pend\", \"pend\", \"pend\", \"pend\", \"penf\", \"penney\", \"pennymac\", \"pennymac\", \"pentagon\", \"peopl\", \"peopl\", \"peopl\", \"peopl\", \"peopl\", \"peopl\", \"peopl\", \"peopl\", \"peopl\", \"peopl\", \"peopl\", \"peopl\", \"peopl\", \"percent\", \"percent\", \"percent\", \"percent\", \"percent\", \"perkin\", \"person\", \"person\", \"person\", \"person\", \"person\", \"person\", \"person\", \"person\", \"person\", \"person\", \"person\", \"person\", \"person\", \"person\", \"pheaa\", \"phh\", \"phh\", \"phone\", \"phone\", \"phone\", \"phone\", \"phone\", \"phone\", \"phone\", \"phone\", \"phone\", \"phone\", \"phone\", \"phone\", \"phone\", \"phone\", \"pii\", \"plaintiff\", \"plan\", \"plan\", \"plan\", \"plan\", \"plan\", \"plan\", \"plan\", \"plan\", \"plan\", \"plan\", \"plan\", \"plan\", \"plan\", \"planet\", \"planet\", \"plate\", \"plate\", \"platinum\", \"pleas\", \"pleas\", \"pleas\", \"pleas\", \"pleas\", \"pleas\", \"pleas\", \"pleas\", \"pleas\", \"pleas\", \"pleas\", \"pleas\", \"pleas\", \"pleas\", \"pmi\", \"pnc\", \"pnc\", \"poa\", \"poa\", \"poa\", \"poa\", \"pod\", \"point\", \"point\", \"point\", \"point\", \"point\", \"point\", \"point\", \"point\", \"point\", \"point\", \"point\", \"point\", \"point\", \"point\", \"polic\", \"polic\", \"polic\", \"polic\", \"polic\", \"polic\", \"polic\", \"polic\", \"polici\", \"polici\", \"polici\", \"polici\", \"polici\", \"polici\", \"polici\", \"polici\", \"polici\", \"polici\", \"polici\", \"polici\", \"polici\", \"postal\", \"postal\", \"postal\", \"postal\", \"postal\", \"postal\", \"postal\", \"postal\", \"postal\", \"postcard\", \"postmark\", \"postmark\", \"postmark\", \"ppl\", \"pra\", \"practic\", \"practic\", \"practic\", \"practic\", \"practic\", \"practic\", \"practic\", \"practic\", \"practic\", \"practic\", \"practic\", \"practic\", \"practic\", \"practic\", \"prepaid\", \"prepaid\", \"prepaid\", \"prepaid\", \"prepaid\", \"prepaid\", \"prepay\", \"prepay\", \"prescreen\", \"price\", \"price\", \"price\", \"price\", \"price\", \"price\", \"price\", \"price\", \"princip\", \"princip\", \"princip\", \"principl\", \"principl\", \"principl\", \"principl\", \"privat\", \"privat\", \"privat\", \"privat\", \"privat\", \"privat\", \"privat\", \"privat\", \"privat\", \"probat\", \"probat\", \"probat\", \"probat\", \"process\", \"process\", \"process\", \"process\", \"process\", \"process\", \"process\", \"process\", \"process\", \"process\", \"process\", \"process\", \"process\", \"process\", \"procollect\", \"program\", \"program\", \"program\", \"program\", \"program\", \"program\", \"program\", \"program\", \"program\", \"promo\", \"promo\", \"promot\", \"promot\", \"proof\", \"proof\", \"proof\", \"proof\", \"proof\", \"proof\", \"proof\", \"proof\", \"proof\", \"proof\", \"proof\", \"proof\", \"proof\", \"proof\", \"properti\", \"properti\", \"properti\", \"properti\", \"properti\", \"properti\", \"properti\", \"prosper\", \"prosper\", \"prosper\", \"prosper\", \"provid\", \"provid\", \"provid\", \"provid\", \"provid\", \"provid\", \"provid\", \"provid\", \"provid\", \"provid\", \"provid\", \"provid\", \"provid\", \"provid\", \"pslf\", \"puppi\", \"puppi\", \"purchas\", \"purchas\", \"purchas\", \"purchas\", \"purchas\", \"purchas\", \"purchas\", \"purchas\", \"purchas\", \"purchas\", \"purchas\", \"purchas\", \"purchas\", \"purchas\", \"put\", \"put\", \"put\", \"put\", \"put\", \"put\", \"put\", \"put\", \"put\", \"put\", \"put\", \"put\", \"put\", \"put\", \"qualifi\", \"qualifi\", \"qualifi\", \"qualifi\", \"qualifi\", \"qualifi\", \"qualifi\", \"quicken\", \"quickpay\", \"rate\", \"rate\", \"rate\", \"rate\", \"rate\", \"rate\", \"rate\", \"rate\", \"reaffirm\", \"reaffirm\", \"reag\", \"realli\", \"realli\", \"realli\", \"realli\", \"realli\", \"realli\", \"realli\", \"realli\", \"realli\", \"realli\", \"realli\", \"realli\", \"realli\", \"realli\", \"realtor\", \"realtor\", \"realtor\", \"rebil\", \"receipt\", \"receipt\", \"receipt\", \"receipt\", \"receipt\", \"receipt\", \"receipt\", \"receipt\", \"receipt\", \"receipt\", \"receipt\", \"receipt\", \"receipt\", \"receiv\", \"receiv\", \"receiv\", \"receiv\", \"receiv\", \"receiv\", \"receiv\", \"receiv\", \"receiv\", \"receiv\", \"receiv\", \"receiv\", \"receiv\", \"receiv\", \"receptionist\", \"receptionist\", \"recertif\", \"recertif\", \"recertifi\", \"reconvey\", \"record\", \"record\", \"record\", \"record\", \"record\", \"record\", \"record\", \"record\", \"record\", \"record\", \"record\", \"record\", \"record\", \"record\", \"recount\", \"recount\", \"recoveri\", \"recoveri\", \"recoveri\", \"recoveri\", \"recoveri\", \"recoveri\", \"recoveri\", \"recurr\", \"recurr\", \"reduc\", \"reduc\", \"reduc\", \"reduc\", \"reduc\", \"reduc\", \"reduc\", \"reduc\", \"refax\", \"refund\", \"refund\", \"refund\", \"refund\", \"refund\", \"refund\", \"refund\", \"refund\", \"refund\", \"refund\", \"refund\", \"reliant\", \"reliant\", \"remark\", \"remark\", \"remark\", \"remark\", \"remark\", \"remark\", \"remark\", \"remark\", \"remitli\", \"remov\", \"remov\", \"remov\", \"remov\", \"remov\", \"remov\", \"remov\", \"remov\", \"remov\", \"remov\", \"remov\", \"remov\", \"remov\", \"remov\", \"removed!\", \"removed!\", \"removeddelet\", \"rep\", \"rep\", \"rep\", \"rep\", \"rep\", \"rep\", \"rep\", \"rep\", \"rep\", \"rep\", \"repair\", \"repair\", \"repair\", \"repair\", \"repair\", \"repair\", \"repair\", \"repay\", \"repay\", \"repli\", \"repli\", \"repli\", \"repli\", \"repli\", \"repli\", \"repli\", \"repli\", \"repli\", \"repli\", \"repli\", \"repli\", \"repli\", \"repo\", \"report\", \"report\", \"report\", \"report\", \"report\", \"report\", \"report\", \"report\", \"report\", \"report\", \"report\", \"report\", \"report\", \"report!\", \"report!\", \"report!\", \"repossess\", \"repres\", \"repres\", \"repres\", \"repres\", \"repres\", \"repres\", \"repres\", \"repres\", \"repres\", \"repres\", \"repres\", \"repres\", \"repres\", \"repres\", \"request\", \"request\", \"request\", \"request\", \"request\", \"request\", \"request\", \"request\", \"request\", \"request\", \"request\", \"request\", \"request\", \"request\", \"requir\", \"requir\", \"requir\", \"requir\", \"requir\", \"requir\", \"requir\", \"requir\", \"requir\", \"requir\", \"requir\", \"requir\", \"requir\", \"resel\", \"resel\", \"resend\", \"resend\", \"resend\", \"resend\", \"respa\", \"respond\", \"respond\", \"respond\", \"respond\", \"respond\", \"respond\", \"respond\", \"respond\", \"respond\", \"respond\", \"respond\", \"respond\", \"respond\", \"respons\", \"respons\", \"respons\", \"respons\", \"respons\", \"respons\", \"respons\", \"respons\", \"respons\", \"respons\", \"respons\", \"respons\", \"respons\", \"respons\", \"resubmit\", \"resubmit\", \"resubmit\", \"resubmit\", \"resubmit\", \"resubmit\", \"resubmit\", \"resubmit\", \"resubmit\", \"resurg\", \"return\", \"return\", \"return\", \"return\", \"return\", \"return\", \"return\", \"return\", \"return\", \"return\", \"return\", \"return\", \"return\", \"return\", \"reward\", \"rico\", \"right\", \"right\", \"right\", \"right\", \"right\", \"right\", \"right\", \"right\", \"right\", \"right\", \"right\", \"right\", \"right\", \"rma\", \"robocal\", \"robocal\", \"roth\", \"roundpoint\", \"rude\", \"rude\", \"rude\", \"rude\", \"rude\", \"rude\", \"rushmor\", \"sach\", \"sad\", \"sad\", \"sad\", \"sad\", \"said\", \"said\", \"said\", \"said\", \"said\", \"said\", \"said\", \"said\", \"said\", \"said\", \"said\", \"said\", \"said\", \"said\", \"sale\", \"sale\", \"sale\", \"sale\", \"sale\", \"sale\", \"sale\", \"sale\", \"sale\", \"sale\", \"salesman\", \"salli\", \"salliema\", \"santand\", \"sapphir\", \"save\", \"save\", \"save\", \"save\", \"save\", \"save\", \"save\", \"save\", \"save\", \"save\", \"say\", \"say\", \"say\", \"say\", \"say\", \"say\", \"say\", \"say\", \"say\", \"say\", \"say\", \"say\", \"say\", \"say\", \"schedul\", \"schedul\", \"schedul\", \"schedul\", \"schedul\", \"schedul\", \"schedul\", \"schedul\", \"schedul\", \"schedul\", \"schedul\", \"schedul\", \"school\", \"school\", \"schwab\", \"score\", \"score\", \"score\", \"score\", \"score\", \"score\", \"score\", \"score\", \"scottrad\", \"sear\", \"section\", \"section\", \"section\", \"section\", \"section\", \"section\", \"secur\", \"secur\", \"secur\", \"secur\", \"secur\", \"secur\", \"secur\", \"secur\", \"secur\", \"secur\", \"secur\", \"secur\", \"selen\", \"seller\", \"seller\", \"seller\", \"seller\", \"seller\", \"seller\", \"semest\", \"send\", \"send\", \"send\", \"send\", \"send\", \"send\", \"send\", \"send\", \"send\", \"send\", \"send\", \"send\", \"send\", \"send\", \"sent\", \"sent\", \"sent\", \"sent\", \"sent\", \"sent\", \"sent\", \"sent\", \"sent\", \"sent\", \"sent\", \"sent\", \"sent\", \"sent\", \"servic\", \"servic\", \"servic\", \"servic\", \"servic\", \"servic\", \"servic\", \"servic\", \"servic\", \"servic\", \"servic\", \"servic\", \"servic\", \"servic\", \"set\", \"set\", \"set\", \"set\", \"set\", \"set\", \"set\", \"set\", \"set\", \"set\", \"set\", \"set\", \"set\", \"setup\", \"setup\", \"setup\", \"setup\", \"setup\", \"setup\", \"setup\", \"setup\", \"setup\", \"shellpoint\", \"shellpoint\", \"short\", \"short\", \"short\", \"short\", \"short\", \"short\", \"short\", \"short\", \"short\", \"short\", \"short\", \"shortag\", \"shortag\", \"show\", \"show\", \"show\", \"show\", \"show\", \"show\", \"show\", \"show\", \"show\", \"show\", \"show\", \"show\", \"show\", \"show\", \"sick\", \"sick\", \"sick\", \"sick\", \"sick\", \"sign\", \"sign\", \"sign\", \"sign\", \"sign\", \"sign\", \"sign\", \"sign\", \"sign\", \"sign\", \"sign\", \"sign\", \"sign\", \"sign\", \"signatur\", \"signatur\", \"signatur\", \"signatur\", \"signatur\", \"signatur\", \"signatur\", \"signatur\", \"signatur\", \"signatur\", \"signatur\", \"signer\", \"signer\", \"signer\", \"signer\", \"signer\", \"signer\", \"signup\", \"sinc\", \"sinc\", \"sinc\", \"sinc\", \"sinc\", \"sinc\", \"sinc\", \"sinc\", \"sinc\", \"sinc\", \"sinc\", \"sinc\", \"sinc\", \"sinc\", \"skymil\", \"sl\", \"sl\", \"social\", \"social\", \"social\", \"social\", \"social\", \"social\", \"social\", \"social\", \"social\", \"social\", \"soft\", \"sold\", \"sold\", \"sold\", \"sold\", \"sold\", \"sold\", \"sold\", \"sold\", \"sold\", \"sold\", \"sold\", \"sold\", \"sold\", \"sold\", \"someon\", \"someon\", \"someon\", \"someon\", \"someon\", \"someon\", \"someon\", \"someon\", \"someon\", \"someon\", \"someon\", \"someon\", \"someon\", \"someon\", \"someth\", \"someth\", \"someth\", \"someth\", \"someth\", \"someth\", \"someth\", \"someth\", \"someth\", \"someth\", \"someth\", \"someth\", \"someth\", \"someth\", \"southwest\", \"southwest\", \"sp\", \"sp\", \"sp\", \"sp\", \"sp\", \"speak\", \"speak\", \"speak\", \"speak\", \"speak\", \"speak\", \"speak\", \"speak\", \"speak\", \"speak\", \"speak\", \"speak\", \"spend\", \"spend\", \"spend\", \"spend\", \"spend\", \"spend\", \"spend\", \"spend\", \"spend\", \"spend\", \"spend\", \"spend\", \"spoc\", \"spoke\", \"spoke\", \"spoke\", \"spoke\", \"spoke\", \"spoke\", \"spoke\", \"spoke\", \"spoke\", \"spoke\", \"spoke\", \"spoke\", \"spoke\", \"ssn\", \"ssn\", \"ssn\", \"ssn\", \"ssn\", \"ssn\", \"stafford\", \"state\", \"state\", \"state\", \"state\", \"state\", \"state\", \"state\", \"state\", \"state\", \"state\", \"state\", \"state\", \"state\", \"state\", \"statebridg\", \"statement\", \"statement\", \"statement\", \"statement\", \"statement\", \"statement\", \"statement\", \"statement\", \"statement\", \"statement\", \"statement\", \"statement\", \"statement\", \"statut\", \"statut\", \"statut\", \"stellar\", \"stellar\", \"stellar\", \"stellar\", \"still\", \"still\", \"still\", \"still\", \"still\", \"still\", \"still\", \"still\", \"still\", \"still\", \"still\", \"still\", \"still\", \"still\", \"stolen\", \"stolen\", \"stolen\", \"stolen\", \"stolen\", \"stolen\", \"stolen\", \"stolen\", \"stolen\", \"store\", \"store\", \"store\", \"store\", \"store\", \"store\", \"store\", \"store\", \"store\", \"store\", \"store\", \"student\", \"stuff\", \"submit\", \"submit\", \"submit\", \"submit\", \"submit\", \"submit\", \"submit\", \"submit\", \"submit\", \"submit\", \"submit\", \"submit\", \"submit\", \"submit\", \"submitt\", \"submitt\", \"subrog\", \"subsect\", \"subsect\", \"subsid\", \"suck\", \"suck\", \"summon\", \"sun\", \"sun\", \"sun\", \"sun\", \"suntrust\", \"suntrust\", \"supervisor\", \"supervisor\", \"supervisor\", \"supervisor\", \"supervisor\", \"supervisor\", \"supervisor\", \"supervisor\", \"suprem\", \"sw\", \"syncb\", \"synchroni\", \"synchroni\", \"synchroni\", \"system\", \"system\", \"system\", \"system\", \"system\", \"system\", \"system\", \"system\", \"system\", \"system\", \"system\", \"system\", \"system\", \"system\", \"talk\", \"talk\", \"talk\", \"talk\", \"talk\", \"talk\", \"talk\", \"talk\", \"talk\", \"talk\", \"tax\", \"tax\", \"tax\", \"tax\", \"tax\", \"tax\", \"tax\", \"tax\", \"tax\", \"tax\", \"tax\", \"tcf\", \"td\", \"td\", \"tdbank\", \"teacher\", \"tell\", \"tell\", \"tell\", \"tell\", \"tell\", \"tell\", \"tell\", \"tell\", \"tell\", \"tell\", \"tell\", \"tell\", \"tell\", \"tell\", \"teller\", \"teller\", \"term\", \"term\", \"term\", \"term\", \"term\", \"term\", \"term\", \"term\", \"term\", \"term\", \"text\", \"text\", \"text\", \"text\", \"text\", \"text\", \"text\", \"text\", \"text\", \"thankyou\", \"that\", \"that\", \"that\", \"that\", \"that\", \"that\", \"that\", \"that\", \"that\", \"theft\", \"theft\", \"theft\", \"theft\", \"theftfraud\", \"theyr\", \"theyr\", \"theyr\", \"theyr\", \"theyr\", \"thief\", \"thief\", \"thief\", \"thief\", \"thief\", \"thing\", \"thing\", \"thing\", \"thing\", \"thing\", \"thing\", \"thing\", \"thing\", \"thing\", \"thing\", \"thing\", \"thing\", \"thing\", \"thing\", \"ticket\", \"ticket\", \"ticket\", \"ticket\", \"ticket\", \"time\", \"time\", \"time\", \"time\", \"time\", \"time\", \"time\", \"time\", \"time\", \"time\", \"time\", \"time\", \"time\", \"time\", \"time!!\", \"titl\", \"titl\", \"titl\", \"titl\", \"titl\", \"told\", \"told\", \"told\", \"told\", \"told\", \"told\", \"told\", \"told\", \"told\", \"told\", \"told\", \"told\", \"told\", \"told\", \"tone\", \"tone\", \"tone\", \"total\", \"total\", \"total\", \"total\", \"total\", \"total\", \"total\", \"total\", \"total\", \"total\", \"total\", \"total\", \"total\", \"total\", \"tow\", \"tower\", \"tower\", \"toyota\", \"trade\", \"trade\", \"trade\", \"trade\", \"trade\", \"trade\", \"trade\", \"trade\", \"tradelin\", \"tran\", \"transact\", \"transact\", \"transact\", \"transact\", \"transact\", \"transact\", \"transact\", \"transact\", \"transact\", \"transact\", \"transact\", \"transfer\", \"transfer\", \"transfer\", \"transfer\", \"transfer\", \"transfer\", \"transfer\", \"transfer\", \"transfer\", \"transfer\", \"transfer\", \"transfer\", \"transfer\", \"transfer\", \"transunion\", \"transunion\", \"transworld\", \"tranunion\", \"tree\", \"tree\", \"tri\", \"tri\", \"tri\", \"tri\", \"tri\", \"tri\", \"tri\", \"tri\", \"tri\", \"tri\", \"tri\", \"tri\", \"tri\", \"tri\", \"trial\", \"trial\", \"trial\", \"trial\", \"trial\", \"trial\", \"trial\", \"trial\", \"trial\", \"truck\", \"truck\", \"trust\", \"trust\", \"trust\", \"trust\", \"trust\", \"trust\", \"trust\", \"trust\", \"trust\", \"trust\", \"trust\", \"trust\", \"trust\", \"tu\", \"tub\", \"u\", \"u\", \"u\", \"u\", \"u\", \"u\", \"u\", \"u\", \"u\", \"u\", \"u\", \"ua\", \"ucc\", \"um\", \"umpqua\", \"unauthor\", \"unauthor\", \"unauthor\", \"unauthor\", \"unauthor\", \"undeliver\", \"undeliver\", \"unemploy\", \"unemploy\", \"unemploy\", \"unemploy\", \"unemploy\", \"unfroz\", \"univers\", \"univers\", \"univers\", \"univers\", \"univers\", \"univers\", \"unread\", \"unsubsid\", \"unvalid\", \"unverifi\", \"unverifi\", \"unverifi\", \"updat\", \"updat\", \"updat\", \"updat\", \"updat\", \"updat\", \"updat\", \"updat\", \"updat\", \"updat\", \"updat\", \"updat\", \"updat\", \"updat\", \"upload\", \"upload\", \"upload\", \"upload\", \"upload\", \"upload\", \"upload\", \"upload\", \"upload\", \"us\", \"us\", \"us\", \"us\", \"us\", \"us\", \"us\", \"us\", \"us\", \"us\", \"us\", \"us\", \"us\", \"us\", \"usaa\", \"usbank\", \"usbank\", \"usbank\", \"usc\", \"use\", \"use\", \"use\", \"use\", \"use\", \"use\", \"use\", \"use\", \"use\", \"use\", \"use\", \"use\", \"use\", \"use\", \"user\", \"user\", \"user\", \"user\", \"user\", \"usp\", \"usp\", \"usp\", \"usp\", \"usp\", \"usp\", \"usuri\", \"usuri\", \"valid\", \"valid\", \"valid\", \"valid\", \"valid\", \"valid\", \"valid\", \"valid\", \"valid\", \"valu\", \"valu\", \"valu\", \"valu\", \"valu\", \"valu\", \"valu\", \"valu\", \"van\", \"vehicl\", \"veil\", \"veil\", \"venmo\", \"verifi\", \"verifi\", \"verifi\", \"verifi\", \"verifi\", \"verifi\", \"verifi\", \"verifi\", \"verifi\", \"verifi\", \"verifi\", \"verifi\", \"via\", \"via\", \"via\", \"via\", \"via\", \"via\", \"via\", \"via\", \"via\", \"via\", \"via\", \"via\", \"via\", \"victim\", \"victim\", \"victim\", \"victim\", \"victim\", \"victim\", \"victim\", \"victim\", \"victim\", \"vin\", \"violat\", \"violat\", \"violat\", \"violat\", \"violat\", \"violat\", \"violat\", \"violat\", \"visa\", \"visa\", \"vm\", \"vm\", \"voic\", \"voic\", \"voic\", \"voic\", \"voic\", \"voic\", \"voic\", \"voic\", \"voicemail\", \"voicemail\", \"vw\", \"wachovia\", \"wakefield\", \"wal\", \"wal\", \"wan\", \"warfield\", \"warranti\", \"wasnt\", \"wasnt\", \"wasnt\", \"wasnt\", \"wasnt\", \"wasnt\", \"wasnt\", \"webster\", \"well\", \"well\", \"well\", \"well\", \"well\", \"well\", \"well\", \"well\", \"well\", \"well\", \"well\", \"well\", \"well\", \"well\", \"wellsfargo\", \"wellsfargo\", \"went\", \"went\", \"went\", \"went\", \"went\", \"went\", \"went\", \"went\", \"went\", \"went\", \"went\", \"went\", \"went\", \"went\", \"western\", \"western\", \"westlak\", \"wf\", \"wfb\", \"wife\", \"wife\", \"wife\", \"wife\", \"wife\", \"wife\", \"wife\", \"wife\", \"wife\", \"wife\", \"wife\", \"wife\", \"wife\", \"wife\", \"william\", \"wilshir\", \"wire\", \"wire\", \"wire\", \"wire\", \"witch\", \"witch\", \"withdraw\", \"withdraw\", \"withdraw\", \"withdraw\", \"withdraw\", \"withdraw\", \"withdraw\", \"withdraw\", \"withdraw\", \"withdraw\", \"withdrew\", \"withdrew\", \"withdrew\", \"withdrew\", \"withdrew\", \"withdrew\", \"without\", \"without\", \"without\", \"without\", \"without\", \"without\", \"without\", \"without\", \"without\", \"without\", \"without\", \"without\", \"without\", \"without\", \"wo\", \"wo\", \"wo\", \"wo\", \"wo\", \"wo\", \"wo\", \"wo\", \"wo\", \"wo\", \"wo\", \"wo\", \"wont\", \"wont\", \"wont\", \"wont\", \"wont\", \"wont\", \"wont\", \"work\", \"work\", \"work\", \"work\", \"work\", \"work\", \"work\", \"work\", \"work\", \"work\", \"work\", \"work\", \"work\", \"work\", \"workplac\", \"workplac\", \"workplac\", \"wouldnt\", \"wouldnt\", \"wouldnt\", \"wouldnt\", \"wouldnt\", \"wouldnt\", \"wu\", \"xoom\", \"yall\", \"year\", \"year\", \"year\", \"year\", \"year\", \"year\", \"year\", \"year\", \"year\", \"year\", \"year\", \"year\", \"year\", \"year\", \"zale\", \"zell\", \"zion\"]}, \"R\": 30, \"lambda.step\": 0.01, \"plot.opts\": {\"xlab\": \"PC1\", \"ylab\": \"PC2\"}, \"topic.order\": [11, 4, 2, 1, 9, 6, 5, 12, 10, 7, 8, 3, 14, 13]};\n",
       "\n",
       "function LDAvis_load_lib(url, callback){\n",
       "  var s = document.createElement('script');\n",
       "  s.src = url;\n",
       "  s.async = true;\n",
       "  s.onreadystatechange = s.onload = callback;\n",
       "  s.onerror = function(){console.warn(\"failed to load library \" + url);};\n",
       "  document.getElementsByTagName(\"head\")[0].appendChild(s);\n",
       "}\n",
       "\n",
       "if(typeof(LDAvis) !== \"undefined\"){\n",
       "   // already loaded: just create the visualization\n",
       "   !function(LDAvis){\n",
       "       new LDAvis(\"#\" + \"ldavis_el1060818435085101528449708841\", ldavis_el1060818435085101528449708841_data);\n",
       "   }(LDAvis);\n",
       "}else if(typeof define === \"function\" && define.amd){\n",
       "   // require.js is available: use it to load d3/LDAvis\n",
       "   require.config({paths: {d3: \"https://cdnjs.cloudflare.com/ajax/libs/d3/3.5.5/d3.min\"}});\n",
       "   require([\"d3\"], function(d3){\n",
       "      window.d3 = d3;\n",
       "      LDAvis_load_lib(\"https://cdn.rawgit.com/bmabey/pyLDAvis/files/ldavis.v1.0.0.js\", function(){\n",
       "        new LDAvis(\"#\" + \"ldavis_el1060818435085101528449708841\", ldavis_el1060818435085101528449708841_data);\n",
       "      });\n",
       "    });\n",
       "}else{\n",
       "    // require.js not available: dynamically load d3 & LDAvis\n",
       "    LDAvis_load_lib(\"https://cdnjs.cloudflare.com/ajax/libs/d3/3.5.5/d3.min.js\", function(){\n",
       "         LDAvis_load_lib(\"https://cdn.rawgit.com/bmabey/pyLDAvis/files/ldavis.v1.0.0.js\", function(){\n",
       "                 new LDAvis(\"#\" + \"ldavis_el1060818435085101528449708841\", ldavis_el1060818435085101528449708841_data);\n",
       "            })\n",
       "         });\n",
       "}\n",
       "</script>"
      ],
      "text/plain": [
       "PreparedData(topic_coordinates=              x         y  topics  cluster       Freq\n",
       "topic                                                \n",
       "10    -0.160954 -0.120504       1        1  11.630912\n",
       "3     -0.024886 -0.194889       2        1   9.770658\n",
       "1     -0.020277 -0.142767       3        1   9.586157\n",
       "0     -0.010094 -0.043382       4        1   8.503208\n",
       "8      0.061033 -0.075183       5        1   8.028638\n",
       "5      0.066175  0.084756       6        1   7.513497\n",
       "4      0.164537  0.063258       7        1   7.468102\n",
       "11    -0.145887  0.030404       8        1   6.799225\n",
       "9     -0.166866  0.188562       9        1   6.290138\n",
       "6     -0.155374  0.117538      10        1   5.951903\n",
       "7      0.215876  0.110814      11        1   5.721441\n",
       "2      0.241571  0.017723      12        1   4.902863\n",
       "13    -0.117153  0.065785      13        1   4.335694\n",
       "12     0.052300 -0.102114      14        1   3.497568, topic_info=         Term           Freq          Total Category  logprob  loglift\n",
       "32    payment  159823.000000  159823.000000  Default  30.0000  30.0000\n",
       "56       bank  120503.000000  120503.000000  Default  29.0000  29.0000\n",
       "85     report  103023.000000  103023.000000  Default  28.0000  28.0000\n",
       "62     credit  165562.000000  165562.000000  Default  27.0000  27.0000\n",
       "22       loan  110258.000000  110258.000000  Default  26.0000  26.0000\n",
       "...       ...            ...            ...      ...      ...      ...\n",
       "137    letter    1917.926025   47155.738281  Topic14  -5.2986   0.1509\n",
       "1100  mortgag    1731.412109   27977.593750  Topic14  -5.4009   0.5706\n",
       "42       sinc    1732.218872   36608.753906  Topic14  -5.4004   0.3022\n",
       "186      time    1729.646240   90956.734375  Topic14  -5.4019  -0.6094\n",
       "129    inform    1659.396484   86046.187500  Topic14  -5.4434  -0.5953\n",
       "\n",
       "[1063 rows x 6 columns], token_table=      Topic      Freq  Term\n",
       "term                       \n",
       "664       1  0.009484     &\n",
       "664       2  0.003609     &\n",
       "664       3  0.000283     &\n",
       "664       4  0.013801     &\n",
       "664       5  0.003680     &\n",
       "...     ...       ...   ...\n",
       "196      13  0.024314  year\n",
       "196      14  0.069197  year\n",
       "1407      1  0.982296  zale\n",
       "1084      3  0.989735  zell\n",
       "6132      5  0.982833  zion\n",
       "\n",
       "[4713 rows x 3 columns], R=30, lambda_step=0.01, plot_opts={'xlab': 'PC1', 'ylab': 'PC2'}, topic_order=[11, 4, 2, 1, 9, 6, 5, 12, 10, 7, 8, 3, 14, 13])"
      ]
     },
     "execution_count": 27,
     "metadata": {},
     "output_type": "execute_result"
    }
   ],
   "source": [
    "import pyLDAvis\n",
    "import pyLDAvis.gensim\n",
    "import matplotlib.pyplot as plt\n",
    "%matplotlib inline\n",
    "\n",
    "# Visualize the topics\n",
    "pyLDAvis.enable_notebook()\n",
    "vis = pyLDAvis.gensim.prepare(lda_model14, corpus, id2word)\n",
    "vis"
   ]
  }
 ],
 "metadata": {
  "kernelspec": {
   "display_name": "Python 3",
   "language": "python",
   "name": "python3"
  },
  "language_info": {
   "codemirror_mode": {
    "name": "ipython",
    "version": 3
   },
   "file_extension": ".py",
   "mimetype": "text/x-python",
   "name": "python",
   "nbconvert_exporter": "python",
   "pygments_lexer": "ipython3",
   "version": "3.7.7"
  },
  "toc": {
   "base_numbering": 1,
   "nav_menu": {},
   "number_sections": true,
   "sideBar": true,
   "skip_h1_title": false,
   "title_cell": "Table of Contents",
   "title_sidebar": "Contents",
   "toc_cell": false,
   "toc_position": {},
   "toc_section_display": true,
   "toc_window_display": false
  }
 },
 "nbformat": 4,
 "nbformat_minor": 2
}

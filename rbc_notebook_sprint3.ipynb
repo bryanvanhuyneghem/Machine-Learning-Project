{
 "cells": [
  {
   "cell_type": "markdown",
   "metadata": {},
   "source": [
    "<h1 style='color:#00868b'>Read, balance and clean dataset<span class=\"tocSkip\"></span></h1>"
   ]
  },
  {
   "cell_type": "markdown",
   "metadata": {},
   "source": [
    "# Start"
   ]
  },
  {
   "cell_type": "code",
   "execution_count": 1,
   "metadata": {},
   "outputs": [],
   "source": [
    "import pandas as pd\n",
    "import seaborn as sns\n",
    "import matplotlib.pyplot as plt\n",
    "import numpy as np"
   ]
  },
  {
   "cell_type": "markdown",
   "metadata": {},
   "source": [
    "## Read dataset"
   ]
  },
  {
   "cell_type": "code",
   "execution_count": 2,
   "metadata": {},
   "outputs": [],
   "source": [
    "df = pd.read_csv(\"complaints-2020-01-22_08_24.csv\", encoding=\"utf-8\")"
   ]
  },
  {
   "cell_type": "code",
   "execution_count": 3,
   "metadata": {},
   "outputs": [
    {
     "data": {
      "text/html": [
       "<div>\n",
       "<style scoped>\n",
       "    .dataframe tbody tr th:only-of-type {\n",
       "        vertical-align: middle;\n",
       "    }\n",
       "\n",
       "    .dataframe tbody tr th {\n",
       "        vertical-align: top;\n",
       "    }\n",
       "\n",
       "    .dataframe thead th {\n",
       "        text-align: right;\n",
       "    }\n",
       "</style>\n",
       "<table border=\"1\" class=\"dataframe\">\n",
       "  <thead>\n",
       "    <tr style=\"text-align: right;\">\n",
       "      <th></th>\n",
       "      <th>Date received</th>\n",
       "      <th>Product</th>\n",
       "      <th>Sub-product</th>\n",
       "      <th>Issue</th>\n",
       "      <th>Sub-issue</th>\n",
       "      <th>Consumer complaint narrative</th>\n",
       "      <th>Company public response</th>\n",
       "      <th>Company</th>\n",
       "      <th>State</th>\n",
       "      <th>ZIP code</th>\n",
       "      <th>Tags</th>\n",
       "      <th>Consumer consent provided?</th>\n",
       "      <th>Submitted via</th>\n",
       "      <th>Date sent to company</th>\n",
       "      <th>Company response to consumer</th>\n",
       "      <th>Timely response?</th>\n",
       "      <th>Consumer disputed?</th>\n",
       "      <th>Complaint ID</th>\n",
       "    </tr>\n",
       "  </thead>\n",
       "  <tbody>\n",
       "    <tr>\n",
       "      <th>0</th>\n",
       "      <td>07/23/19</td>\n",
       "      <td>Credit reporting, credit repair services, or o...</td>\n",
       "      <td>Credit reporting</td>\n",
       "      <td>Credit monitoring or identity theft protection...</td>\n",
       "      <td>Problem canceling credit monitoring or identif...</td>\n",
       "      <td>I have complained many times that the credit r...</td>\n",
       "      <td>Company has responded to the consumer and the ...</td>\n",
       "      <td>Experian Information Solutions Inc.</td>\n",
       "      <td>CA</td>\n",
       "      <td>926XX</td>\n",
       "      <td>None</td>\n",
       "      <td>Consent provided</td>\n",
       "      <td>Web</td>\n",
       "      <td>07/23/19</td>\n",
       "      <td>Closed with explanation</td>\n",
       "      <td>Yes</td>\n",
       "      <td>NaN</td>\n",
       "      <td>3315279</td>\n",
       "    </tr>\n",
       "    <tr>\n",
       "      <th>1</th>\n",
       "      <td>07/26/19</td>\n",
       "      <td>Debt collection</td>\n",
       "      <td>I do not know</td>\n",
       "      <td>False statements or representation</td>\n",
       "      <td>Attempted to collect wrong amount</td>\n",
       "      <td>please review the current fraud account and al...</td>\n",
       "      <td>Company believes it acted appropriately as aut...</td>\n",
       "      <td>Ideal Collection Services, Inc.</td>\n",
       "      <td>FL</td>\n",
       "      <td>333XX</td>\n",
       "      <td>None</td>\n",
       "      <td>Consent provided</td>\n",
       "      <td>Web</td>\n",
       "      <td>07/26/19</td>\n",
       "      <td>Closed with explanation</td>\n",
       "      <td>Yes</td>\n",
       "      <td>NaN</td>\n",
       "      <td>3319487</td>\n",
       "    </tr>\n",
       "    <tr>\n",
       "      <th>2</th>\n",
       "      <td>06/03/19</td>\n",
       "      <td>Debt collection</td>\n",
       "      <td>I do not know</td>\n",
       "      <td>Attempts to collect debt not owed</td>\n",
       "      <td>Debt was paid</td>\n",
       "      <td>Called multiple times over the years for a deb...</td>\n",
       "      <td>None</td>\n",
       "      <td>ONEMAIN FINANCIAL HOLDINGS, LLC.</td>\n",
       "      <td>FL</td>\n",
       "      <td>327XX</td>\n",
       "      <td>None</td>\n",
       "      <td>Consent provided</td>\n",
       "      <td>Web</td>\n",
       "      <td>06/07/19</td>\n",
       "      <td>Closed with explanation</td>\n",
       "      <td>Yes</td>\n",
       "      <td>NaN</td>\n",
       "      <td>3262794</td>\n",
       "    </tr>\n",
       "    <tr>\n",
       "      <th>3</th>\n",
       "      <td>07/03/19</td>\n",
       "      <td>Debt collection</td>\n",
       "      <td>Other debt</td>\n",
       "      <td>Attempts to collect debt not owed</td>\n",
       "      <td>Debt was result of identity theft</td>\n",
       "      <td>I sent in a letter to the company to have them...</td>\n",
       "      <td>None</td>\n",
       "      <td>Diversified Consultants, Inc.</td>\n",
       "      <td>VA</td>\n",
       "      <td>232XX</td>\n",
       "      <td>None</td>\n",
       "      <td>Consent provided</td>\n",
       "      <td>Web</td>\n",
       "      <td>07/03/19</td>\n",
       "      <td>Closed with explanation</td>\n",
       "      <td>Yes</td>\n",
       "      <td>NaN</td>\n",
       "      <td>3295208</td>\n",
       "    </tr>\n",
       "    <tr>\n",
       "      <th>4</th>\n",
       "      <td>07/14/19</td>\n",
       "      <td>Credit reporting, credit repair services, or o...</td>\n",
       "      <td>Credit reporting</td>\n",
       "      <td>Improper use of your report</td>\n",
       "      <td>Received unsolicited financial product or insu...</td>\n",
       "      <td>On XX/XX/19 I applied for a Debt Relief Produc...</td>\n",
       "      <td>None</td>\n",
       "      <td>ClearOne Advantage, LLC</td>\n",
       "      <td>PA</td>\n",
       "      <td>191XX</td>\n",
       "      <td>Older American, Servicemember</td>\n",
       "      <td>Consent provided</td>\n",
       "      <td>Web</td>\n",
       "      <td>07/18/19</td>\n",
       "      <td>Closed with explanation</td>\n",
       "      <td>Yes</td>\n",
       "      <td>NaN</td>\n",
       "      <td>3306130</td>\n",
       "    </tr>\n",
       "  </tbody>\n",
       "</table>\n",
       "</div>"
      ],
      "text/plain": [
       "  Date received                                            Product  \\\n",
       "0      07/23/19  Credit reporting, credit repair services, or o...   \n",
       "1      07/26/19                                    Debt collection   \n",
       "2      06/03/19                                    Debt collection   \n",
       "3      07/03/19                                    Debt collection   \n",
       "4      07/14/19  Credit reporting, credit repair services, or o...   \n",
       "\n",
       "        Sub-product                                              Issue  \\\n",
       "0  Credit reporting  Credit monitoring or identity theft protection...   \n",
       "1     I do not know                 False statements or representation   \n",
       "2     I do not know                  Attempts to collect debt not owed   \n",
       "3        Other debt                  Attempts to collect debt not owed   \n",
       "4  Credit reporting                        Improper use of your report   \n",
       "\n",
       "                                           Sub-issue  \\\n",
       "0  Problem canceling credit monitoring or identif...   \n",
       "1                  Attempted to collect wrong amount   \n",
       "2                                      Debt was paid   \n",
       "3                  Debt was result of identity theft   \n",
       "4  Received unsolicited financial product or insu...   \n",
       "\n",
       "                        Consumer complaint narrative  \\\n",
       "0  I have complained many times that the credit r...   \n",
       "1  please review the current fraud account and al...   \n",
       "2  Called multiple times over the years for a deb...   \n",
       "3  I sent in a letter to the company to have them...   \n",
       "4  On XX/XX/19 I applied for a Debt Relief Produc...   \n",
       "\n",
       "                             Company public response  \\\n",
       "0  Company has responded to the consumer and the ...   \n",
       "1  Company believes it acted appropriately as aut...   \n",
       "2                                               None   \n",
       "3                                               None   \n",
       "4                                               None   \n",
       "\n",
       "                               Company State ZIP code  \\\n",
       "0  Experian Information Solutions Inc.    CA    926XX   \n",
       "1      Ideal Collection Services, Inc.    FL    333XX   \n",
       "2     ONEMAIN FINANCIAL HOLDINGS, LLC.    FL    327XX   \n",
       "3        Diversified Consultants, Inc.    VA    232XX   \n",
       "4              ClearOne Advantage, LLC    PA    191XX   \n",
       "\n",
       "                            Tags Consumer consent provided? Submitted via  \\\n",
       "0                           None           Consent provided           Web   \n",
       "1                           None           Consent provided           Web   \n",
       "2                           None           Consent provided           Web   \n",
       "3                           None           Consent provided           Web   \n",
       "4  Older American, Servicemember           Consent provided           Web   \n",
       "\n",
       "  Date sent to company Company response to consumer Timely response?  \\\n",
       "0             07/23/19      Closed with explanation              Yes   \n",
       "1             07/26/19      Closed with explanation              Yes   \n",
       "2             06/07/19      Closed with explanation              Yes   \n",
       "3             07/03/19      Closed with explanation              Yes   \n",
       "4             07/18/19      Closed with explanation              Yes   \n",
       "\n",
       "  Consumer disputed?  Complaint ID  \n",
       "0                NaN       3315279  \n",
       "1                NaN       3319487  \n",
       "2                NaN       3262794  \n",
       "3                NaN       3295208  \n",
       "4                NaN       3306130  "
      ]
     },
     "execution_count": 3,
     "metadata": {},
     "output_type": "execute_result"
    }
   ],
   "source": [
    "df.head()"
   ]
  },
  {
   "cell_type": "markdown",
   "metadata": {},
   "source": [
    "Example:"
   ]
  },
  {
   "cell_type": "code",
   "execution_count": 4,
   "metadata": {},
   "outputs": [
    {
     "data": {
      "text/plain": [
       "'I noticed a collection debt appear on my credit report earlier this week ( XX/XX/18 ). I XXXX XXXX the name of the company and looked up their website - I have never received anything in writing nor any phone calls ( that resulted in a voicemail - I do not answer calls from unknown numbers ) from this company about this debt. I contacted their settlement department via e-mail using the e-mail address on their website requesting more information about the debt owed, but have not received a response. I have no way to pay the debt if they do not send me the account information that is required for their website, which means it will remain on my credit report until it is sorted out.'"
      ]
     },
     "execution_count": 4,
     "metadata": {},
     "output_type": "execute_result"
    }
   ],
   "source": [
    "df[\"Consumer complaint narrative\"][45144]"
   ]
  },
  {
   "cell_type": "code",
   "execution_count": 5,
   "metadata": {},
   "outputs": [
    {
     "data": {
      "text/plain": [
       "(485701, 18)"
      ]
     },
     "execution_count": 5,
     "metadata": {},
     "output_type": "execute_result"
    }
   ],
   "source": [
    "df.shape"
   ]
  },
  {
   "cell_type": "markdown",
   "metadata": {},
   "source": [
    "## Data preprocessing"
   ]
  },
  {
   "cell_type": "markdown",
   "metadata": {},
   "source": [
    "### Balancing the dataset"
   ]
  },
  {
   "cell_type": "markdown",
   "metadata": {},
   "source": [
    "We will now balance the dataset, however leaving in outliers."
   ]
  },
  {
   "cell_type": "code",
   "execution_count": 6,
   "metadata": {
    "scrolled": true
   },
   "outputs": [
    {
     "data": {
      "text/plain": [
       "Text(0, 0.5, 'categories')"
      ]
     },
     "execution_count": 6,
     "metadata": {},
     "output_type": "execute_result"
    },
    {
     "data": {
      "image/png": "[encoded data removed]",
      "text/plain": [
       "<Figure size 432x288 with 1 Axes>"
      ]
     },
     "metadata": {
      "needs_background": "light"
     },
     "output_type": "display_data"
    }
   ],
   "source": [
    "diff_products = df.groupby(\"Product\")[\"Product\"].count().sort_values(ascending=False)\n",
    "fig = plt.figure()\n",
    "plt.rcParams['figure.figsize'] = [30,15]\n",
    "ax = fig.add_axes([0,0,0.4,0.5])\n",
    "\n",
    "ax.barh(diff_products.index,diff_products,color='teal')\n",
    "ax.invert_yaxis()\n",
    "plt.title('Complaints per Products')\n",
    "plt.xlabel('amount')\n",
    "plt.ylabel('categories')"
   ]
  },
  {
   "cell_type": "code",
   "execution_count": 7,
   "metadata": {
    "scrolled": true
   },
   "outputs": [
    {
     "name": "stdout",
     "output_type": "stream",
     "text": [
      "Product\n",
      "Credit reporting, credit repair services, or other personal consumer reports    141742\n",
      "Debt collection                                                                 105765\n",
      "Mortgage                                                                         61094\n",
      "Credit reporting                                                                 31588\n",
      "Credit card or prepaid card                                                      31482\n",
      "Student loan                                                                     24930\n",
      "Credit card                                                                      18838\n",
      "Checking or savings account                                                      18784\n",
      "Bank account or service                                                          14885\n",
      "Consumer Loan                                                                     9473\n",
      "Vehicle loan or lease                                                             8079\n",
      "Money transfer, virtual currency, or money service                                7735\n",
      "Payday loan, title loan, or personal loan                                         6305\n",
      "Payday loan                                                                       1746\n",
      "Money transfers                                                                   1497\n",
      "Prepaid card                                                                      1450\n",
      "Other financial service                                                            292\n",
      "Virtual currency                                                                    16\n",
      "Name: Product, dtype: int64\n"
     ]
    }
   ],
   "source": [
    "print(diff_products)"
   ]
  },
  {
   "cell_type": "code",
   "execution_count": 8,
   "metadata": {},
   "outputs": [],
   "source": [
    "df_bal1 = df.copy()"
   ]
  },
  {
   "cell_type": "markdown",
   "metadata": {},
   "source": [
    "Clearly, the first three **Products** are overwhelming present."
   ]
  },
  {
   "cell_type": "code",
   "execution_count": 9,
   "metadata": {},
   "outputs": [],
   "source": [
    "indexNames = df_bal1[df_bal1[\"Product\"] == \"Credit reporting, credit repair services, or other personal consumer reports\"].index\n",
    "df_bal1.drop(indexNames, inplace=True)\n",
    "indexNames = df_bal1[df_bal1[\"Product\"] == \"Debt collection\"].index\n",
    "df_bal1.drop(indexNames, inplace=True)\n",
    "indexNames = df_bal1[df_bal1[\"Product\"] == \"Mortgage\"].index\n",
    "df_bal1.drop(indexNames, inplace=True)\n",
    "\n",
    "\n",
    "df_bal1 = df_bal1.append(df.loc[df[\"Product\"] == 'Credit reporting, credit repair services, or other personal consumer reports'].sample(frac=0.3))\n",
    "df_bal1 = df_bal1.append(df.loc[df[\"Product\"] == 'Debt collection'].sample(frac=0.3))\n",
    "df_bal1 = df_bal1.append(df.loc[df[\"Product\"] == 'Mortgage'].sample(frac=0.5))"
   ]
  },
  {
   "cell_type": "code",
   "execution_count": 10,
   "metadata": {},
   "outputs": [
    {
     "data": {
      "text/plain": [
       "Text(0, 0.5, 'categories')"
      ]
     },
     "execution_count": 10,
     "metadata": {},
     "output_type": "execute_result"
    },
    {
     "data": {
      "image/png": "[encoded data removed]",
      "text/plain": [
       "<Figure size 2160x1080 with 1 Axes>"
      ]
     },
     "metadata": {
      "needs_background": "light"
     },
     "output_type": "display_data"
    }
   ],
   "source": [
    "diff_products = df_bal1.groupby(\"Product\")[\"Product\"].count().sort_values(ascending=False)\n",
    "fig = plt.figure()\n",
    "plt.rcParams['figure.figsize'] = [30,15]\n",
    "ax = fig.add_axes([0,0,0.4,0.5])\n",
    "\n",
    "ax.barh(diff_products.index,diff_products,color='teal')\n",
    "ax.invert_yaxis()\n",
    "plt.title('Complaints per Products')\n",
    "plt.xlabel('amount')\n",
    "plt.ylabel('categories')"
   ]
  },
  {
   "cell_type": "code",
   "execution_count": 11,
   "metadata": {},
   "outputs": [],
   "source": [
    "df_bal2 = df_bal1.copy()"
   ]
  },
  {
   "cell_type": "code",
   "execution_count": 12,
   "metadata": {},
   "outputs": [
    {
     "name": "stdout",
     "output_type": "stream",
     "text": [
      "Product\n",
      "Credit reporting, credit repair services, or other personal consumer reports    42523\n",
      "Debt collection                                                                 31730\n",
      "Credit reporting                                                                31588\n",
      "Credit card or prepaid card                                                     31482\n",
      "Mortgage                                                                        30547\n",
      "Student loan                                                                    24930\n",
      "Credit card                                                                     18838\n",
      "Checking or savings account                                                     18784\n",
      "Bank account or service                                                         14885\n",
      "Consumer Loan                                                                    9473\n",
      "Vehicle loan or lease                                                            8079\n",
      "Money transfer, virtual currency, or money service                               7735\n",
      "Payday loan, title loan, or personal loan                                        6305\n",
      "Payday loan                                                                      1746\n",
      "Money transfers                                                                  1497\n",
      "Prepaid card                                                                     1450\n",
      "Other financial service                                                           292\n",
      "Virtual currency                                                                   16\n",
      "Name: Product, dtype: int64\n"
     ]
    }
   ],
   "source": [
    "print(diff_products)"
   ]
  },
  {
   "cell_type": "code",
   "execution_count": 13,
   "metadata": {},
   "outputs": [],
   "source": [
    "indexNames = df_bal2[df_bal2[\"Product\"] == \"Credit reporting, credit repair services, or other personal consumer reports\"].index\n",
    "df_bal2.drop(indexNames, inplace=True)\n",
    "indexNames = df_bal2[df_bal2[\"Product\"] == \"Debt collection\"].index\n",
    "df_bal2.drop(indexNames, inplace=True)\n",
    "indexNames = df_bal2[df_bal2[\"Product\"] == \"Credit reporting\"].index\n",
    "df_bal2.drop(indexNames, inplace=True)\n",
    "indexNames = df_bal2[df_bal2[\"Product\"] == \"Credit card or prepaid card\"].index\n",
    "df_bal2.drop(indexNames, inplace=True)\n",
    "indexNames = df_bal2[df_bal2[\"Product\"] == \"Mortgage\"].index\n",
    "df_bal2.drop(indexNames, inplace=True)\n",
    "indexNames = df_bal2[df_bal2[\"Product\"] == \"Student loan\"].index\n",
    "df_bal2.drop(indexNames, inplace=True)"
   ]
  },
  {
   "cell_type": "code",
   "execution_count": 14,
   "metadata": {},
   "outputs": [],
   "source": [
    "df_bal2 = df_bal2.append(df_bal1.loc[df_bal1[\"Product\"] == 'Credit reporting, credit repair services, or other personal consumer reports'].sample(frac=0.45))\n",
    "df_bal2 = df_bal2.append(df_bal1.loc[df_bal1[\"Product\"] == 'Debt collection'].sample(frac=0.55))\n",
    "df_bal2 = df_bal2.append(df_bal1.loc[df_bal1[\"Product\"] == 'Credit reporting'].sample(frac=0.55))\n",
    "df_bal2 = df_bal2.append(df_bal1.loc[df_bal1[\"Product\"] == 'Credit card or prepaid card'].sample(frac=0.55))\n",
    "df_bal2 = df_bal2.append(df_bal1.loc[df_bal1[\"Product\"] == 'Mortgage'].sample(frac=0.58))\n",
    "df_bal2 = df_bal2.append(df_bal1.loc[df_bal1[\"Product\"] == 'Student loan'].sample(frac=0.6))"
   ]
  },
  {
   "cell_type": "code",
   "execution_count": 15,
   "metadata": {},
   "outputs": [
    {
     "data": {
      "text/plain": [
       "Text(0, 0.5, 'categories')"
      ]
     },
     "execution_count": 15,
     "metadata": {},
     "output_type": "execute_result"
    },
    {
     "data": {
      "image/png": "[encoded data removed]",
      "text/plain": [
       "<Figure size 2160x1080 with 1 Axes>"
      ]
     },
     "metadata": {
      "needs_background": "light"
     },
     "output_type": "display_data"
    }
   ],
   "source": [
    "diff_products = df_bal2.groupby(\"Product\")[\"Product\"].count().sort_values(ascending=False)\n",
    "fig = plt.figure()\n",
    "plt.rcParams['figure.figsize'] = [30,15]\n",
    "ax = fig.add_axes([0,0,0.4,0.5])\n",
    "\n",
    "ax.barh(diff_products.index,diff_products,color='teal')\n",
    "ax.invert_yaxis()\n",
    "plt.title('Complaints per Products')\n",
    "plt.xlabel('amount')\n",
    "plt.ylabel('categories')"
   ]
  },
  {
   "cell_type": "code",
   "execution_count": 16,
   "metadata": {},
   "outputs": [],
   "source": [
    "df_bal3 = df_bal2.copy()"
   ]
  },
  {
   "cell_type": "code",
   "execution_count": 17,
   "metadata": {},
   "outputs": [
    {
     "name": "stdout",
     "output_type": "stream",
     "text": [
      "Product\n",
      "Credit reporting, credit repair services, or other personal consumer reports    19135\n",
      "Credit card                                                                     18838\n",
      "Checking or savings account                                                     18784\n",
      "Mortgage                                                                        17717\n",
      "Debt collection                                                                 17452\n",
      "Credit reporting                                                                17373\n",
      "Credit card or prepaid card                                                     17315\n",
      "Student loan                                                                    14958\n",
      "Bank account or service                                                         14885\n",
      "Consumer Loan                                                                    9473\n",
      "Vehicle loan or lease                                                            8079\n",
      "Money transfer, virtual currency, or money service                               7735\n",
      "Payday loan, title loan, or personal loan                                        6305\n",
      "Payday loan                                                                      1746\n",
      "Money transfers                                                                  1497\n",
      "Prepaid card                                                                     1450\n",
      "Other financial service                                                           292\n",
      "Virtual currency                                                                   16\n",
      "Name: Product, dtype: int64\n"
     ]
    }
   ],
   "source": [
    "print(diff_products)"
   ]
  },
  {
   "cell_type": "code",
   "execution_count": 18,
   "metadata": {},
   "outputs": [],
   "source": [
    "indexNames = df_bal3[df_bal3[\"Product\"] == \"Credit reporting, credit repair services, or other personal consumer reports\"].index\n",
    "df_bal3.drop(indexNames, inplace=True)\n",
    "indexNames = df_bal3[df_bal3[\"Product\"] == \"Credit card\"].index\n",
    "df_bal3.drop(indexNames, inplace=True)\n",
    "indexNames = df_bal3[df_bal3[\"Product\"] == \"Checking or savings account\"].index\n",
    "df_bal3.drop(indexNames, inplace=True)\n",
    "indexNames = df_bal3[df_bal3[\"Product\"] == \"Mortgage\"].index\n",
    "df_bal3.drop(indexNames, inplace=True)\n",
    "indexNames = df_bal3[df_bal3[\"Product\"] == \"Debt collection\"].index\n",
    "df_bal3.drop(indexNames, inplace=True)\n",
    "indexNames = df_bal3[df_bal3[\"Product\"] == \"Credit reporting\"].index\n",
    "df_bal3.drop(indexNames, inplace=True)\n",
    "indexNames = df_bal3[df_bal3[\"Product\"] == \"Credit card or prepaid card\"].index\n",
    "df_bal3.drop(indexNames, inplace=True)\n",
    "indexNames = df_bal3[df_bal3[\"Product\"] == \"Student loan\"].index\n",
    "df_bal3.drop(indexNames, inplace=True)\n",
    "indexNames = df_bal3[df_bal3[\"Product\"] == \"Bank account or service\"].index\n",
    "df_bal3.drop(indexNames, inplace=True)"
   ]
  },
  {
   "cell_type": "code",
   "execution_count": 19,
   "metadata": {},
   "outputs": [],
   "source": [
    "df_bal3 = df_bal3.append(df_bal2.loc[df_bal2[\"Product\"] == 'Credit reporting, credit repair services, or other personal consumer reports'].sample(n=10000))\n",
    "df_bal3 = df_bal3.append(df_bal2.loc[df_bal2[\"Product\"] == 'Credit card'].sample(n=10000))\n",
    "df_bal3 = df_bal3.append(df_bal2.loc[df_bal2[\"Product\"] == 'Checking or savings account'].sample(n=10000))\n",
    "df_bal3 = df_bal3.append(df_bal2.loc[df_bal2[\"Product\"] == 'Mortgage'].sample(n=10000))\n",
    "df_bal3 = df_bal3.append(df_bal2.loc[df_bal2[\"Product\"] == 'Debt collection'].sample(n=10000))\n",
    "df_bal3 = df_bal3.append(df_bal2.loc[df_bal2[\"Product\"] == 'Credit reporting'].sample(n=10000))\n",
    "df_bal3 = df_bal3.append(df_bal2.loc[df_bal2[\"Product\"] == 'Credit card or prepaid card'].sample(n=10000))\n",
    "df_bal3 = df_bal3.append(df_bal2.loc[df_bal2[\"Product\"] == 'Student loan'].sample(n=10000))\n",
    "df_bal3 = df_bal3.append(df_bal2.loc[df_bal2[\"Product\"] == 'Bank account or service'].sample(n=10000))"
   ]
  },
  {
   "cell_type": "code",
   "execution_count": 20,
   "metadata": {
    "scrolled": false
   },
   "outputs": [
    {
     "data": {
      "text/plain": [
       "Text(0, 0.5, 'categories')"
      ]
     },
     "execution_count": 20,
     "metadata": {},
     "output_type": "execute_result"
    },
    {
     "data": {
      "image/png": "[encoded data removed]",
      "text/plain": [
       "<Figure size 2160x1080 with 1 Axes>"
      ]
     },
     "metadata": {
      "needs_background": "light"
     },
     "output_type": "display_data"
    }
   ],
   "source": [
    "diff_products = df_bal3.groupby(\"Product\")[\"Product\"].count().sort_values(ascending=False)\n",
    "fig = plt.figure()\n",
    "plt.rcParams['figure.figsize'] = [30,15]\n",
    "ax = fig.add_axes([0,0,0.4,0.5])\n",
    "\n",
    "ax.barh(diff_products.index,diff_products,color='teal')\n",
    "ax.invert_yaxis()\n",
    "plt.title('Complaints per Products')\n",
    "plt.xlabel('amount')\n",
    "plt.ylabel('categories')"
   ]
  },
  {
   "cell_type": "code",
   "execution_count": 21,
   "metadata": {},
   "outputs": [],
   "source": [
    "df = df_bal3.copy()"
   ]
  },
  {
   "cell_type": "markdown",
   "metadata": {},
   "source": [
    "**Shape:**"
   ]
  },
  {
   "cell_type": "code",
   "execution_count": 22,
   "metadata": {},
   "outputs": [
    {
     "data": {
      "text/plain": [
       "(126593, 18)"
      ]
     },
     "execution_count": 22,
     "metadata": {},
     "output_type": "execute_result"
    }
   ],
   "source": [
    "df.shape"
   ]
  },
  {
   "cell_type": "code",
   "execution_count": 23,
   "metadata": {},
   "outputs": [
    {
     "data": {
      "text/html": [
       "<div>\n",
       "<style scoped>\n",
       "    .dataframe tbody tr th:only-of-type {\n",
       "        vertical-align: middle;\n",
       "    }\n",
       "\n",
       "    .dataframe tbody tr th {\n",
       "        vertical-align: top;\n",
       "    }\n",
       "\n",
       "    .dataframe thead th {\n",
       "        text-align: right;\n",
       "    }\n",
       "</style>\n",
       "<table border=\"1\" class=\"dataframe\">\n",
       "  <thead>\n",
       "    <tr style=\"text-align: right;\">\n",
       "      <th></th>\n",
       "      <th>Date received</th>\n",
       "      <th>Product</th>\n",
       "      <th>Sub-product</th>\n",
       "      <th>Issue</th>\n",
       "      <th>Sub-issue</th>\n",
       "      <th>Consumer complaint narrative</th>\n",
       "      <th>Company public response</th>\n",
       "      <th>Company</th>\n",
       "      <th>State</th>\n",
       "      <th>ZIP code</th>\n",
       "      <th>Tags</th>\n",
       "      <th>Consumer consent provided?</th>\n",
       "      <th>Submitted via</th>\n",
       "      <th>Date sent to company</th>\n",
       "      <th>Company response to consumer</th>\n",
       "      <th>Timely response?</th>\n",
       "      <th>Consumer disputed?</th>\n",
       "      <th>Complaint ID</th>\n",
       "    </tr>\n",
       "  </thead>\n",
       "  <tbody>\n",
       "    <tr>\n",
       "      <th>9</th>\n",
       "      <td>06/15/19</td>\n",
       "      <td>Payday loan, title loan, or personal loan</td>\n",
       "      <td>Installment loan</td>\n",
       "      <td>Problem with the payoff process at the end of ...</td>\n",
       "      <td>None</td>\n",
       "      <td>They would not let me pay my loan off 2 days b...</td>\n",
       "      <td>None</td>\n",
       "      <td>Big Picture Loans, LLC</td>\n",
       "      <td>IN</td>\n",
       "      <td>477XX</td>\n",
       "      <td>None</td>\n",
       "      <td>Consent provided</td>\n",
       "      <td>Web</td>\n",
       "      <td>06/15/19</td>\n",
       "      <td>Closed with explanation</td>\n",
       "      <td>Yes</td>\n",
       "      <td>NaN</td>\n",
       "      <td>3276316</td>\n",
       "    </tr>\n",
       "    <tr>\n",
       "      <th>12</th>\n",
       "      <td>07/25/19</td>\n",
       "      <td>Payday loan, title loan, or personal loan</td>\n",
       "      <td>Installment loan</td>\n",
       "      <td>Charged fees or interest you didn't expect</td>\n",
       "      <td>None</td>\n",
       "      <td>Service Finance are liars and are charging me ...</td>\n",
       "      <td>None</td>\n",
       "      <td>Service Finance Holdings, LLC</td>\n",
       "      <td>TX</td>\n",
       "      <td>None</td>\n",
       "      <td>None</td>\n",
       "      <td>Consent provided</td>\n",
       "      <td>Web</td>\n",
       "      <td>07/25/19</td>\n",
       "      <td>Closed with non-monetary relief</td>\n",
       "      <td>Yes</td>\n",
       "      <td>NaN</td>\n",
       "      <td>3318533</td>\n",
       "    </tr>\n",
       "    <tr>\n",
       "      <th>38</th>\n",
       "      <td>06/23/19</td>\n",
       "      <td>Vehicle loan or lease</td>\n",
       "      <td>Loan</td>\n",
       "      <td>Problems at the end of the loan or lease</td>\n",
       "      <td>Problem with paying off the loan</td>\n",
       "      <td>On XX/XX/XXXX I signed a car loan agreement to...</td>\n",
       "      <td>None</td>\n",
       "      <td>HUNTINGTON NATIONAL BANK, THE</td>\n",
       "      <td>TX</td>\n",
       "      <td>750XX</td>\n",
       "      <td>None</td>\n",
       "      <td>Consent provided</td>\n",
       "      <td>Web</td>\n",
       "      <td>06/23/19</td>\n",
       "      <td>Closed with non-monetary relief</td>\n",
       "      <td>Yes</td>\n",
       "      <td>NaN</td>\n",
       "      <td>3284279</td>\n",
       "    </tr>\n",
       "    <tr>\n",
       "      <th>44</th>\n",
       "      <td>08/13/19</td>\n",
       "      <td>Money transfer, virtual currency, or money ser...</td>\n",
       "      <td>Debt settlement</td>\n",
       "      <td>Fraud or scam</td>\n",
       "      <td>None</td>\n",
       "      <td>We hired XXXX XXXX and XXXX XXXX XXXX Debt Col...</td>\n",
       "      <td>None</td>\n",
       "      <td>ALLIED NATIONAL INC</td>\n",
       "      <td>NY</td>\n",
       "      <td>117XX</td>\n",
       "      <td>None</td>\n",
       "      <td>Consent provided</td>\n",
       "      <td>Web</td>\n",
       "      <td>08/13/19</td>\n",
       "      <td>Untimely response</td>\n",
       "      <td>No</td>\n",
       "      <td>NaN</td>\n",
       "      <td>3339246</td>\n",
       "    </tr>\n",
       "    <tr>\n",
       "      <th>52</th>\n",
       "      <td>07/31/19</td>\n",
       "      <td>Payday loan, title loan, or personal loan</td>\n",
       "      <td>Payday loan</td>\n",
       "      <td>Problem with the payoff process at the end of ...</td>\n",
       "      <td>None</td>\n",
       "      <td>I BORROWED {$200.00}, IN AN FINANCIAL EMERGENC...</td>\n",
       "      <td>Company believes it acted appropriately as aut...</td>\n",
       "      <td>Harpeth Financial Services, LLC</td>\n",
       "      <td>TN</td>\n",
       "      <td>None</td>\n",
       "      <td>Servicemember</td>\n",
       "      <td>Consent provided</td>\n",
       "      <td>Web</td>\n",
       "      <td>08/02/19</td>\n",
       "      <td>Closed with explanation</td>\n",
       "      <td>Yes</td>\n",
       "      <td>NaN</td>\n",
       "      <td>3324772</td>\n",
       "    </tr>\n",
       "  </tbody>\n",
       "</table>\n",
       "</div>"
      ],
      "text/plain": [
       "   Date received                                            Product  \\\n",
       "9       06/15/19          Payday loan, title loan, or personal loan   \n",
       "12      07/25/19          Payday loan, title loan, or personal loan   \n",
       "38      06/23/19                              Vehicle loan or lease   \n",
       "44      08/13/19  Money transfer, virtual currency, or money ser...   \n",
       "52      07/31/19          Payday loan, title loan, or personal loan   \n",
       "\n",
       "         Sub-product                                              Issue  \\\n",
       "9   Installment loan  Problem with the payoff process at the end of ...   \n",
       "12  Installment loan         Charged fees or interest you didn't expect   \n",
       "38              Loan           Problems at the end of the loan or lease   \n",
       "44   Debt settlement                                      Fraud or scam   \n",
       "52       Payday loan  Problem with the payoff process at the end of ...   \n",
       "\n",
       "                           Sub-issue  \\\n",
       "9                               None   \n",
       "12                              None   \n",
       "38  Problem with paying off the loan   \n",
       "44                              None   \n",
       "52                              None   \n",
       "\n",
       "                         Consumer complaint narrative  \\\n",
       "9   They would not let me pay my loan off 2 days b...   \n",
       "12  Service Finance are liars and are charging me ...   \n",
       "38  On XX/XX/XXXX I signed a car loan agreement to...   \n",
       "44  We hired XXXX XXXX and XXXX XXXX XXXX Debt Col...   \n",
       "52  I BORROWED {$200.00}, IN AN FINANCIAL EMERGENC...   \n",
       "\n",
       "                              Company public response  \\\n",
       "9                                                None   \n",
       "12                                               None   \n",
       "38                                               None   \n",
       "44                                               None   \n",
       "52  Company believes it acted appropriately as aut...   \n",
       "\n",
       "                            Company State ZIP code           Tags  \\\n",
       "9            Big Picture Loans, LLC    IN    477XX           None   \n",
       "12    Service Finance Holdings, LLC    TX     None           None   \n",
       "38    HUNTINGTON NATIONAL BANK, THE    TX    750XX           None   \n",
       "44              ALLIED NATIONAL INC    NY    117XX           None   \n",
       "52  Harpeth Financial Services, LLC    TN     None  Servicemember   \n",
       "\n",
       "   Consumer consent provided? Submitted via Date sent to company  \\\n",
       "9            Consent provided           Web             06/15/19   \n",
       "12           Consent provided           Web             07/25/19   \n",
       "38           Consent provided           Web             06/23/19   \n",
       "44           Consent provided           Web             08/13/19   \n",
       "52           Consent provided           Web             08/02/19   \n",
       "\n",
       "       Company response to consumer Timely response? Consumer disputed?  \\\n",
       "9           Closed with explanation              Yes                NaN   \n",
       "12  Closed with non-monetary relief              Yes                NaN   \n",
       "38  Closed with non-monetary relief              Yes                NaN   \n",
       "44                Untimely response               No                NaN   \n",
       "52          Closed with explanation              Yes                NaN   \n",
       "\n",
       "    Complaint ID  \n",
       "9        3276316  \n",
       "12       3318533  \n",
       "38       3284279  \n",
       "44       3339246  \n",
       "52       3324772  "
      ]
     },
     "execution_count": 23,
     "metadata": {},
     "output_type": "execute_result"
    }
   ],
   "source": [
    "df.head()"
   ]
  },
  {
   "cell_type": "markdown",
   "metadata": {},
   "source": [
    "### Cleaning the dataset"
   ]
  },
  {
   "cell_type": "markdown",
   "metadata": {},
   "source": [
    "Example of uncleaned comment:"
   ]
  },
  {
   "cell_type": "code",
   "execution_count": 24,
   "metadata": {},
   "outputs": [
    {
     "data": {
      "text/plain": [
       "'I BORROWED {$200.00}, IN AN FINANCIAL EMERGENCY, FROM XXXX XXXX XXXX OFFICE IN XXXX, TN, ON XX/XX/2019. THEN ON XXXX XXXX ; AT XXXX XXXX XXXX XXXX, XXXX, XXXX XXXX, IN XXXX XXXX, TN XXXX ; I WAS TOLD MY PAYOFF IS {$210.00}, SO I PAID {$210.00}. HOWEVER, I HAVE BEEN CHARGED MUCH MORE THAN {$210.00}, ON XXXX XXXX, I PAID OFF THE LOAN IN PERSON AND MY CHECKING ACCOUNT WAS ALSO DOUBLE BILLED /CHARGED ANOTHER {$45.00}, IN XXXX , TN. \\nTODAY XX/XX/2019 I WENT INTO THE XXXX   XXXX OFFICE, IN XXXX, TN AND ASKED FOR THE REIMBURSEMENT OF MY OVERBILLED MONIES AND THE CLERK NAMED \" XXXX \\'\\' REFUSED TO REFUND MY {$45.00} OVER/ DOUBLE BILLED CHARGES! \\n\\nXXXX THREATENED TO HAVE ME ARRESTED IF I DID NOT LET THE OFFICE KEEP THE MONIES. MY LOAN OF {$200.00} WAS JUST FOR 40 DAYS, I WAS FORCED TO PAY A TOTAL OF {$260.00}. \\nI WAS OVERBILLED/ DOUBLE BILLED {$45.00}'"
      ]
     },
     "execution_count": 24,
     "metadata": {},
     "output_type": "execute_result"
    }
   ],
   "source": [
    "df[\"Consumer complaint narrative\"][52]"
   ]
  },
  {
   "cell_type": "code",
   "execution_count": 25,
   "metadata": {},
   "outputs": [],
   "source": [
    "import re\n",
    "import string\n",
    "\n",
    "def clean_document(complaint):\n",
    "    # turn text to lowercase\n",
    "    complaint = complaint.lower()\n",
    "    # remove URLs\n",
    "    complaint = re.sub('https?://(?:[-\\w.]|(?:%[\\da-fA-F]{2}))+', '', complaint)\n",
    "    complaint = re.sub('https? ?: ?// ?(?:[-\\w.]|(?:%[\\da-fA-F]{2}))+', '', complaint)\n",
    "    # removed censored words\n",
    "    complaint = re.sub('[xxxx]{4}', '', complaint)\n",
    "    complaint = re.sub('[XXXX]{4}', '', complaint)\n",
    "    # remove normal dates and censored dates\n",
    "    complaint = re.sub('[\\dx]{0,2}/?[\\dx]{0,2}/[\\dx]{0,4}', '', complaint)\n",
    "    # remove non-sensical characters\n",
    "    complaint = re.sub('[\\[\\,\\#\\'\\\"\\_\\-\\(\\)\\:\\$\\;\\?\\%\\}\\{\\@\\]\\/\\.\\&\\!\\|]',' ', complaint)\n",
    "    complaint = re.sub('\\n', '', complaint)\n",
    "    complaint = re.sub('\\t', '', complaint)\n",
    "    # remove numbers\n",
    "    complaint = re.sub('[\\d]', ' ', complaint)\n",
    "    # normalise spaces to just one space\n",
    "    complaint = re.sub(\" +\", \" \", complaint);\n",
    "    return complaint\n"
   ]
  },
  {
   "cell_type": "code",
   "execution_count": 26,
   "metadata": {},
   "outputs": [],
   "source": [
    "df[\"Consumer complaint narrative\"] = df[\"Consumer complaint narrative\"].apply(clean_document)"
   ]
  },
  {
   "cell_type": "markdown",
   "metadata": {},
   "source": [
    "Example of cleaned comment:"
   ]
  },
  {
   "cell_type": "code",
   "execution_count": 27,
   "metadata": {},
   "outputs": [
    {
     "data": {
      "text/plain": [
       "'i borrowed in an financial emergency from office in tn on then on at in tn i was told my payoff is so i paid however i have been charged much more than on i paid off the loan in person and my checking account was also double billed charged another in tn today i went into the office in tn and asked for the reimbursement of my overbilled monies and the clerk named refused to refund my over double billed charges threatened to have me arrested if i did not let the office keep the monies my loan of was just for days i was forced to pay a total of i was overbilled double billed '"
      ]
     },
     "execution_count": 27,
     "metadata": {},
     "output_type": "execute_result"
    }
   ],
   "source": [
    "df[\"Consumer complaint narrative\"][52]"
   ]
  },
  {
   "cell_type": "markdown",
   "metadata": {},
   "source": [
    "Export to CSV"
   ]
  },
  {
   "cell_type": "code",
   "execution_count": 28,
   "metadata": {},
   "outputs": [],
   "source": [
    "df.to_csv(\"corpus_sprint3_balanced_cleaned_all.csv\", index=True, index_label='Row No')"
   ]
  }
 ],
 "metadata": {
  "kernelspec": {
   "display_name": "Python 3",
   "language": "python",
   "name": "python3"
  },
  "language_info": {
   "codemirror_mode": {
    "name": "ipython",
    "version": 3
   },
   "file_extension": ".py",
   "mimetype": "text/x-python",
   "name": "python",
   "nbconvert_exporter": "python",
   "pygments_lexer": "ipython3",
   "version": "3.7.7"
  },
  "toc": {
   "base_numbering": 1,
   "nav_menu": {},
   "number_sections": true,
   "sideBar": true,
   "skip_h1_title": false,
   "title_cell": "Table of Contents",
   "title_sidebar": "Contents",
   "toc_cell": false,
   "toc_position": {},
   "toc_section_display": true,
   "toc_window_display": false
  }
 },
 "nbformat": 4,
 "nbformat_minor": 2
}

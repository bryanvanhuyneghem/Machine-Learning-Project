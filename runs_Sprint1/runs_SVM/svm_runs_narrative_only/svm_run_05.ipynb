{
 "cells": [
  {
   "cell_type": "code",
   "execution_count": 1,
   "metadata": {},
   "outputs": [],
   "source": [
    "import pandas as pd\n",
    "\n",
    "df_selected = pd.read_csv(\"corpus_balanced3_cleaned_lemmatized.csv\", encoding=\"utf-8\")"
   ]
  },
  {
   "cell_type": "code",
   "execution_count": 2,
   "metadata": {},
   "outputs": [
    {
     "name": "stdout",
     "output_type": "stream",
     "text": [
      "(203874, 2)\n"
     ]
    },
    {
     "data": {
      "text/html": [
       "<div>\n",
       "<style scoped>\n",
       "    .dataframe tbody tr th:only-of-type {\n",
       "        vertical-align: middle;\n",
       "    }\n",
       "\n",
       "    .dataframe tbody tr th {\n",
       "        vertical-align: top;\n",
       "    }\n",
       "\n",
       "    .dataframe thead th {\n",
       "        text-align: right;\n",
       "    }\n",
       "</style>\n",
       "<table border=\"1\" class=\"dataframe\">\n",
       "  <thead>\n",
       "    <tr style=\"text-align: right;\">\n",
       "      <th></th>\n",
       "      <th>Product</th>\n",
       "      <th>Consumer complaint narrative</th>\n",
       "    </tr>\n",
       "  </thead>\n",
       "  <tbody>\n",
       "    <tr>\n",
       "      <th>0</th>\n",
       "      <td>Payday loan, title loan, or personal loan</td>\n",
       "      <td>they would not let me pay my loan off day befo...</td>\n",
       "    </tr>\n",
       "    <tr>\n",
       "      <th>1</th>\n",
       "      <td>Payday loan, title loan, or personal loan</td>\n",
       "      <td>service finance are liar and are charging me i...</td>\n",
       "    </tr>\n",
       "    <tr>\n",
       "      <th>2</th>\n",
       "      <td>Checking or savings account</td>\n",
       "      <td>over draft fee due to fraudulent charge submit...</td>\n",
       "    </tr>\n",
       "    <tr>\n",
       "      <th>3</th>\n",
       "      <td>Vehicle loan or lease</td>\n",
       "      <td>on i signed a car loan agreement to finance my...</td>\n",
       "    </tr>\n",
       "    <tr>\n",
       "      <th>4</th>\n",
       "      <td>Money transfer, virtual currency, or money ser...</td>\n",
       "      <td>we hired and debt collection to handle collect...</td>\n",
       "    </tr>\n",
       "  </tbody>\n",
       "</table>\n",
       "</div>"
      ],
      "text/plain": [
       "                                             Product  \\\n",
       "0          Payday loan, title loan, or personal loan   \n",
       "1          Payday loan, title loan, or personal loan   \n",
       "2                        Checking or savings account   \n",
       "3                              Vehicle loan or lease   \n",
       "4  Money transfer, virtual currency, or money ser...   \n",
       "\n",
       "                        Consumer complaint narrative  \n",
       "0  they would not let me pay my loan off day befo...  \n",
       "1  service finance are liar and are charging me i...  \n",
       "2  over draft fee due to fraudulent charge submit...  \n",
       "3  on i signed a car loan agreement to finance my...  \n",
       "4  we hired and debt collection to handle collect...  "
      ]
     },
     "execution_count": 2,
     "metadata": {},
     "output_type": "execute_result"
    }
   ],
   "source": [
    "print(df_selected.shape)\n",
    "df_selected.head()"
   ]
  },
  {
   "cell_type": "markdown",
   "metadata": {},
   "source": [
    "In case of nulls (should be solved now):"
   ]
  },
  {
   "cell_type": "code",
   "execution_count": 3,
   "metadata": {},
   "outputs": [],
   "source": [
    "df_selected = df_selected.dropna()"
   ]
  },
  {
   "cell_type": "markdown",
   "metadata": {},
   "source": [
    "---"
   ]
  },
  {
   "cell_type": "markdown",
   "metadata": {},
   "source": [
    "**Apply CountVectorizer**"
   ]
  },
  {
   "cell_type": "code",
   "execution_count": 4,
   "metadata": {},
   "outputs": [],
   "source": [
    "from sklearn.feature_extraction.text import CountVectorizer\n",
    "\n",
    "# vect (bag of words)\n",
    "count_vect = CountVectorizer(\n",
    "    stop_words=\"english\",\n",
    "    #ngram_range=(1,2), # bigrammen\n",
    "    min_df=2, # only keep words that appear twice\n",
    "    max_df=0.5 # appears max in 50% of documents\n",
    ")\n",
    "\n",
    "X_train_counts = count_vect.fit_transform(df_selected[\"Consumer complaint narrative\"])"
   ]
  },
  {
   "cell_type": "markdown",
   "metadata": {},
   "source": [
    "**Apply TF-IDF**"
   ]
  },
  {
   "cell_type": "code",
   "execution_count": 5,
   "metadata": {
    "scrolled": true
   },
   "outputs": [
    {
     "name": "stdout",
     "output_type": "stream",
     "text": [
      "Shape (203870, 43559)\n",
      "  (0, 42594)\t0.16965368354576021\n",
      "  (0, 42322)\t0.08648039714491654\n",
      "  (0, 40522)\t0.10321436568599368\n",
      "  (0, 39796)\t0.24394180967991022\n",
      "  (0, 39245)\t0.05694221274874988\n",
      "  (0, 37911)\t0.19061267595948492\n",
      "  (0, 37256)\t0.1688706414707319\n",
      "  (0, 35403)\t0.15231323416834944\n",
      "  (0, 34937)\t0.0695020149883917\n",
      "  (0, 29789)\t0.12138118686475403\n",
      "  (0, 29450)\t0.2136685604120553\n",
      "  (0, 29097)\t0.14060235203800467\n",
      "  (0, 28935)\t0.11718425759670494\n",
      "  (0, 28774)\t0.10069077732453803\n",
      "  (0, 28670)\t0.20177582857295118\n",
      "  (0, 28282)\t0.19099065925142414\n",
      "  (0, 27955)\t0.21064105622066892\n",
      "  (0, 27885)\t0.18971656646407192\n",
      "  (0, 25148)\t0.09336914288606159\n",
      "  (0, 25146)\t0.14887694055511252\n",
      "  (0, 25011)\t0.24514381296248944\n",
      "  (0, 24265)\t0.06791001159505453\n",
      "  (0, 23952)\t0.27577507579311655\n",
      "  (0, 23770)\t0.12119771808697179\n",
      "  (0, 22904)\t0.06993415415033985\n",
      "  :\t:\n",
      "  (203869, 19230)\t0.20741981395337317\n",
      "  (203869, 18093)\t0.06485070293399212\n",
      "  (203869, 17036)\t0.0996138413253509\n",
      "  (203869, 16671)\t0.11912135120050359\n",
      "  (203869, 15720)\t0.08308437225527764\n",
      "  (203869, 15374)\t0.10696037505719393\n",
      "  (203869, 15342)\t0.08498654601048274\n",
      "  (203869, 14944)\t0.19928161035181616\n",
      "  (203869, 14383)\t0.0658477040820099\n",
      "  (203869, 12580)\t0.24349752300765543\n",
      "  (203869, 12493)\t0.12421479558832417\n",
      "  (203869, 12112)\t0.06545819119789467\n",
      "  (203869, 11442)\t0.1421921390823961\n",
      "  (203869, 11110)\t0.03577115289638682\n",
      "  (203869, 10919)\t0.07512837917527683\n",
      "  (203869, 9560)\t0.07176645993248458\n",
      "  (203869, 6891)\t0.1199063184715493\n",
      "  (203869, 6257)\t0.07877403873135917\n",
      "  (203869, 5233)\t0.1550720607035556\n",
      "  (203869, 4985)\t0.10547459242316946\n",
      "  (203869, 4850)\t0.09056646270364402\n",
      "  (203869, 3069)\t0.11251330046783387\n",
      "  (203869, 1607)\t0.07364006091050106\n",
      "  (203869, 1249)\t0.057716533020271577\n",
      "  (203869, 520)\t0.09760275725453371\n"
     ]
    }
   ],
   "source": [
    "from sklearn.feature_extraction.text import TfidfTransformer\n",
    "\n",
    "# Normalise with tf-idf\n",
    "tfidf_transformer = TfidfTransformer()\n",
    "X_train_tfidf = tfidf_transformer.fit_transform(X_train_counts)\n",
    "print('Shape', X_train_tfidf.shape)\n",
    "print(X_train_tfidf)"
   ]
  },
  {
   "cell_type": "markdown",
   "metadata": {},
   "source": [
    "**Split into train & test**"
   ]
  },
  {
   "cell_type": "code",
   "execution_count": 6,
   "metadata": {},
   "outputs": [
    {
     "name": "stdout",
     "output_type": "stream",
     "text": [
      "(152902, 43559)\n",
      "(50968, 43559)\n",
      "(152902,)\n",
      "(50968,)\n"
     ]
    }
   ],
   "source": [
    "from sklearn.model_selection import train_test_split\n",
    "X_train, X_test, Y_train, Y_test = train_test_split(X_train_counts, df_selected['Product'])\n",
    "print(X_train.shape)\n",
    "print(X_test.shape)\n",
    "print(Y_train.shape)\n",
    "print(Y_test.shape)"
   ]
  },
  {
   "cell_type": "markdown",
   "metadata": {},
   "source": [
    "**Dimensionality Reduction**"
   ]
  },
  {
   "cell_type": "code",
   "execution_count": 7,
   "metadata": {},
   "outputs": [
    {
     "name": "stdout",
     "output_type": "stream",
     "text": [
      "(152902, 30)\n",
      "(50968, 30)\n"
     ]
    }
   ],
   "source": [
    "from sklearn.decomposition import TruncatedSVD\n",
    "\n",
    "tSVD = TruncatedSVD(n_components=30)\n",
    "\n",
    "# apply TruncatedSVD\n",
    "principal_components_train = tSVD.fit_transform(X_train)\n",
    "principal_components_test = tSVD.transform(X_test)\n",
    "\n",
    "# data points & their principal components\n",
    "print(principal_components_train.shape)\n",
    "print(principal_components_test.shape)"
   ]
  },
  {
   "cell_type": "markdown",
   "metadata": {},
   "source": [
    "**Run algorithm**"
   ]
  },
  {
   "cell_type": "code",
   "execution_count": 8,
   "metadata": {},
   "outputs": [
    {
     "name": "stderr",
     "output_type": "stream",
     "text": [
      "C:\\Program Files (x86)\\Microsoft Visual Studio\\Shared\\Anaconda3_64\\lib\\site-packages\\sklearn\\svm\\_base.py:947: ConvergenceWarning: Liblinear failed to converge, increase the number of iterations.\n",
      "  \"the number of iterations.\", ConvergenceWarning)\n"
     ]
    }
   ],
   "source": [
    "from sklearn import svm\n",
    "from sklearn.metrics import accuracy_score\n",
    "from sklearn.metrics import classification_report # do more stats\n",
    "\n",
    "classifier = svm.LinearSVC()\n",
    "classifier.fit(principal_components_train, Y_train)\n",
    "\n",
    "test_predictions = classifier.predict(principal_components_test)"
   ]
  },
  {
   "cell_type": "markdown",
   "metadata": {},
   "source": [
    "**Report**"
   ]
  },
  {
   "cell_type": "code",
   "execution_count": 9,
   "metadata": {},
   "outputs": [
    {
     "name": "stdout",
     "output_type": "stream",
     "text": [
      "                                                                              precision    recall  f1-score   support\n",
      "\n",
      "                                                     Bank account or service       0.11      0.45      0.17       876\n",
      "                                                 Checking or savings account       0.75      0.45      0.56      7794\n",
      "                                                               Consumer Loan       0.04      0.46      0.08       225\n",
      "                                                                 Credit card       0.36      0.44      0.40      3846\n",
      "                                                 Credit card or prepaid card       0.40      0.47      0.44      4023\n",
      "                                                            Credit reporting       0.50      0.42      0.46      5553\n",
      "Credit reporting, credit repair services, or other personal consumer reports       0.35      0.35      0.35      5388\n",
      "                                                             Debt collection       0.73      0.52      0.61      7445\n",
      "                          Money transfer, virtual currency, or money service       0.51      0.60      0.55      1662\n",
      "                                                                    Mortgage       0.88      0.78      0.83      5158\n",
      "                                   Payday loan, title loan, or personal loan       0.03      0.45      0.06       118\n",
      "                                                                Student loan       0.87      0.65      0.74      7077\n",
      "                                                       Vehicle loan or lease       0.45      0.51      0.48      1803\n",
      "\n",
      "                                                                    accuracy                           0.52     50968\n",
      "                                                                   macro avg       0.46      0.50      0.44     50968\n",
      "                                                                weighted avg       0.62      0.52      0.55     50968\n",
      "\n"
     ]
    }
   ],
   "source": [
    "print(classification_report(test_predictions, Y_test))"
   ]
  }
 ],
 "metadata": {
  "kernelspec": {
   "display_name": "Python 3",
   "language": "python",
   "name": "python3"
  },
  "language_info": {
   "codemirror_mode": {
    "name": "ipython",
    "version": 3
   },
   "file_extension": ".py",
   "mimetype": "text/x-python",
   "name": "python",
   "nbconvert_exporter": "python",
   "pygments_lexer": "ipython3",
   "version": "3.6.5"
  },
  "toc": {
   "base_numbering": 1,
   "nav_menu": {},
   "number_sections": true,
   "sideBar": true,
   "skip_h1_title": false,
   "title_cell": "Table of Contents",
   "title_sidebar": "Contents",
   "toc_cell": false,
   "toc_position": {},
   "toc_section_display": true,
   "toc_window_display": false
  }
 },
 "nbformat": 4,
 "nbformat_minor": 2
}

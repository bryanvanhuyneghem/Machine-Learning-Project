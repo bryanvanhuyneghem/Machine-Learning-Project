{
 "cells": [
  {
   "cell_type": "code",
   "execution_count": null,
   "metadata": {},
   "outputs": [],
   "source": [
    "import pandas as pd\n",
    "\n",
    "df_selected = pd.read_pickle('corpus.pkl')"
   ]
  },
  {
   "cell_type": "markdown",
   "metadata": {},
   "source": [
    "**Data Cleaning**"
   ]
  },
  {
   "cell_type": "code",
   "execution_count": null,
   "metadata": {},
   "outputs": [],
   "source": [
    "import re\n",
    "import string\n",
    "\n",
    "def clean_url(complaint):\n",
    "    # to do: more regex url garbage matching\n",
    "    complaint = re.sub('https?://(?:[-\\w.]|(?:%[\\da-fA-F]{2}))+', '', complaint)\n",
    "    complaint = re.sub('https? ?: ?// ?(?:[-\\w.]|(?:%[\\da-fA-F]{2}))+', '', complaint)\n",
    "    return complaint\n",
    "\n",
    "# Remove punctuation from complaint\n",
    "def clean_punctuation(complaint):\n",
    "    complaint = re.sub('[%s]' % re.escape(string.punctuation), '', complaint)\n",
    "    return complaint\n",
    "\n",
    "# Remove non-sensical characters from complaint\n",
    "def clean_nonsense(complaint):\n",
    "    complaint = re.sub('[''\"\"...]', '', complaint)\n",
    "    complaint = re.sub('\\n', '', complaint)\n",
    "    return complaint\n",
    "\n",
    "# Remove censored words from complaint\n",
    "def clean_censored(complaint):\n",
    "    complaint = re.sub('[XXXX]', '', complaint)\n",
    "    return complaint\n",
    "\n",
    "# Turn everything into lowercase\n",
    "def clean_lowercase(complaint):\n",
    "    complaint = complaint.lower()\n",
    "    return complaint\n",
    "\n",
    "# Remove numbers from complaint\n",
    "def clean_numbers(complaint):\n",
    "    complaint = re.sub('\\w*\\d\\w', '', complaint)\n",
    "    return complaint"
   ]
  },
  {
   "cell_type": "code",
   "execution_count": null,
   "metadata": {},
   "outputs": [],
   "source": [
    "df_selected[\"Consumer complaint narrative\"] = df_selected[\"Consumer complaint narrative\"].apply(clean_url)\n",
    "df_selected[\"Consumer complaint narrative\"] = df_selected[\"Consumer complaint narrative\"].apply(clean_punctuation)\n",
    "df_selected[\"Consumer complaint narrative\"] = df_selected[\"Consumer complaint narrative\"].apply(clean_nonsense)\n",
    "df_selected[\"Consumer complaint narrative\"] = df_selected[\"Consumer complaint narrative\"].apply(clean_censored)\n",
    "df_selected[\"Consumer complaint narrative\"] = df_selected[\"Consumer complaint narrative\"].apply(clean_lowercase)\n",
    "df_selected[\"Consumer complaint narrative\"] = df_selected[\"Consumer complaint narrative\"].apply(clean_numbers)"
   ]
  },
  {
   "cell_type": "markdown",
   "metadata": {},
   "source": [
    "**Apply CountVectorizer**"
   ]
  },
  {
   "cell_type": "code",
   "execution_count": null,
   "metadata": {},
   "outputs": [],
   "source": [
    "from sklearn.feature_extraction.text import CountVectorizer\n",
    "\n",
    "# vect (bag of words)\n",
    "count_vect = CountVectorizer(\n",
    "    stop_words=\"english\",\n",
    "    #ngram_range=(1,2), # bigrammen\n",
    "    min_df=2, # only keep words that appear twice\n",
    "    max_df=0.5 # appears max in 50% of documents\n",
    ")\n",
    "\n",
    "X_train_counts = count_vect.fit_transform(df_selected[\"Consumer complaint narrative\"])"
   ]
  },
  {
   "cell_type": "markdown",
   "metadata": {},
   "source": [
    "**Split into train & test**"
   ]
  },
  {
   "cell_type": "code",
   "execution_count": 23,
   "metadata": {},
   "outputs": [
    {
     "name": "stdout",
     "output_type": "stream",
     "text": [
      "(364275, 77541)\n",
      "(121426, 77541)\n",
      "(364275,)\n",
      "(121426,)\n"
     ]
    }
   ],
   "source": [
    "from sklearn.model_selection import train_test_split\n",
    "X_train, X_test, Y_train, Y_test = train_test_split(X_train_counts, df_selected['Product'])\n",
    "print(X_train.shape)\n",
    "print(X_test.shape)\n",
    "print(Y_train.shape)\n",
    "print(Y_test.shape)"
   ]
  },
  {
   "cell_type": "markdown",
   "metadata": {},
   "source": [
    "**Dimensionality Reduction**"
   ]
  },
  {
   "cell_type": "code",
   "execution_count": 24,
   "metadata": {},
   "outputs": [
    {
     "name": "stdout",
     "output_type": "stream",
     "text": [
      "(364275, 5)\n",
      "(121426, 5)\n"
     ]
    }
   ],
   "source": [
    "from sklearn.decomposition import TruncatedSVD\n",
    "\n",
    "tSVD = TruncatedSVD(n_components=5)\n",
    "\n",
    "# apply PCA\n",
    "principal_components_train = tSVD.fit_transform(X_train)\n",
    "principal_components_test = tSVD.transform(X_test)\n",
    "\n",
    "# data points & their principal components\n",
    "print(principal_components_train.shape)\n",
    "print(principal_components_test.shape)"
   ]
  },
  {
   "cell_type": "markdown",
   "metadata": {},
   "source": [
    "**Run algorithm and report**"
   ]
  },
  {
   "cell_type": "code",
   "execution_count": 27,
   "metadata": {},
   "outputs": [],
   "source": [
    "from sklearn import svm\n",
    "from sklearn.metrics import accuracy_score\n",
    "from sklearn.metrics import classification_report # do more stats\n",
    "\n",
    "# classifier = svm.LinearSVC()\n",
    "# classifier.fit(principal_components_train, Y_train)\n",
    "\n",
    "# test_predictions = classifier.predict(principal_components_test)\n",
    "# print(classification_report(test_predictions, Y_test))"
   ]
  },
  {
   "cell_type": "code",
   "execution_count": 28,
   "metadata": {
    "scrolled": false
   },
   "outputs": [
    {
     "name": "stderr",
     "output_type": "stream",
     "text": [
      "C:\\Program Files (x86)\\Microsoft Visual Studio\\Shared\\Anaconda3_64\\lib\\site-packages\\sklearn\\metrics\\_classification.py:1272: UndefinedMetricWarning: Recall and F-score are ill-defined and being set to 0.0 in labels with no true samples. Use `zero_division` parameter to control this behavior.\n",
      "  _warn_prf(average, modifier, msg_start, len(result))\n",
      "C:\\Program Files (x86)\\Microsoft Visual Studio\\Shared\\Anaconda3_64\\lib\\site-packages\\sklearn\\metrics\\_classification.py:1272: UndefinedMetricWarning: Recall and F-score are ill-defined and being set to 0.0 in labels with no true samples. Use `zero_division` parameter to control this behavior.\n",
      "  _warn_prf(average, modifier, msg_start, len(result))\n"
     ]
    },
    {
     "name": "stdout",
     "output_type": "stream",
     "text": [
      "                                                                              precision    recall  f1-score   support\n",
      "\n",
      "                                                     Bank account or service       0.00      0.35      0.01        34\n",
      "                                                 Checking or savings account       0.46      0.34      0.39      6489\n",
      "                                                               Consumer Loan       0.00      0.00      0.00         0\n",
      "                                                                 Credit card       0.00      0.00      0.00         4\n",
      "                                                 Credit card or prepaid card       0.43      0.30      0.36     11289\n",
      "                                                            Credit reporting       0.00      0.29      0.00        17\n",
      "Credit reporting, credit repair services, or other personal consumer reports       0.81      0.53      0.64     54159\n",
      "                                                             Debt collection       0.58      0.66      0.62     23324\n",
      "                          Money transfer, virtual currency, or money service       0.00      0.50      0.00         4\n",
      "                                                             Money transfers       0.00      0.00      0.00         0\n",
      "                                                                    Mortgage       0.81      0.47      0.59     26102\n",
      "                                                     Other financial service       0.00      0.00      0.00         0\n",
      "                                                                 Payday loan       0.00      0.00      0.00         0\n",
      "                                   Payday loan, title loan, or personal loan       0.00      0.00      0.00         0\n",
      "                                                                Prepaid card       0.00      0.00      0.00         0\n",
      "                                                                Student loan       0.00      0.00      0.00         0\n",
      "                                                       Vehicle loan or lease       0.00      0.25      0.00         4\n",
      "                                                            Virtual currency       0.00      0.00      0.00         0\n",
      "\n",
      "                                                                    accuracy                           0.51    121426\n",
      "                                                                   macro avg       0.17      0.21      0.14    121426\n",
      "                                                                weighted avg       0.71      0.51      0.59    121426\n",
      "\n"
     ]
    },
    {
     "name": "stderr",
     "output_type": "stream",
     "text": [
      "C:\\Program Files (x86)\\Microsoft Visual Studio\\Shared\\Anaconda3_64\\lib\\site-packages\\sklearn\\metrics\\_classification.py:1272: UndefinedMetricWarning: Recall and F-score are ill-defined and being set to 0.0 in labels with no true samples. Use `zero_division` parameter to control this behavior.\n",
      "  _warn_prf(average, modifier, msg_start, len(result))\n"
     ]
    }
   ],
   "source": [
    "classifier = svm.SVC(kernel='rbf')\n",
    "classifier.fit(principal_components_train, Y_train)\n",
    "\n",
    "test_predictions = classifier.predict(principal_components_test)\n",
    "print(classification_report(test_predictions, Y_test))"
   ]
  }
 ],
 "metadata": {
  "kernelspec": {
   "display_name": "Python 3",
   "language": "python",
   "name": "python3"
  },
  "language_info": {
   "codemirror_mode": {
    "name": "ipython",
    "version": 3
   },
   "file_extension": ".py",
   "mimetype": "text/x-python",
   "name": "python",
   "nbconvert_exporter": "python",
   "pygments_lexer": "ipython3",
   "version": "3.6.5"
  },
  "toc": {
   "base_numbering": 1,
   "nav_menu": {},
   "number_sections": true,
   "sideBar": true,
   "skip_h1_title": false,
   "title_cell": "Table of Contents",
   "title_sidebar": "Contents",
   "toc_cell": true,
   "toc_position": {
    "height": "calc(100% - 180px)",
    "left": "10px",
    "top": "150px",
    "width": "384px"
   },
   "toc_section_display": true,
   "toc_window_display": false
  }
 },
 "nbformat": 4,
 "nbformat_minor": 4
}

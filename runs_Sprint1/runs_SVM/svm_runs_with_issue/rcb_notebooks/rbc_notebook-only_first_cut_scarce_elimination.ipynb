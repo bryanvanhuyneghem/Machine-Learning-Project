{
 "cells": [
  {
   "cell_type": "markdown",
   "metadata": {},
   "source": [
    "<h1 style='color:#00868b'>Read, balance and clean dataset<span class=\"tocSkip\"></span></h1>"
   ]
  },
  {
   "cell_type": "markdown",
   "metadata": {},
   "source": [
    "This notebook reads in the data, balances it, cleans it and then saves it to a csv file. This csv can then be used in a separate notebook to train a model. This notebook also allows the user to tweak the balancing and cleaning as they see fit."
   ]
  },
  {
   "cell_type": "code",
   "execution_count": 1,
   "metadata": {},
   "outputs": [],
   "source": [
    "import pandas as pd\n",
    "import seaborn as sns\n",
    "import matplotlib.pyplot as plt\n",
    "import numpy as np"
   ]
  },
  {
   "cell_type": "markdown",
   "metadata": {},
   "source": [
    "**Read file**"
   ]
  },
  {
   "cell_type": "code",
   "execution_count": 2,
   "metadata": {},
   "outputs": [],
   "source": [
    "df = pd.read_csv(\"../../complaints-2020-01-22_08_24.csv\", encoding=\"utf-8\")"
   ]
  },
  {
   "cell_type": "markdown",
   "metadata": {},
   "source": [
    "**Select columns to keep**"
   ]
  },
  {
   "cell_type": "markdown",
   "metadata": {},
   "source": [
    "Add your columns here."
   ]
  },
  {
   "cell_type": "code",
   "execution_count": 6,
   "metadata": {},
   "outputs": [],
   "source": [
    "df_selected = df.loc[:, ('Product', 'Consumer complaint narrative', 'Issue')]"
   ]
  },
  {
   "cell_type": "markdown",
   "metadata": {},
   "source": [
    "**Remove columns with the least complaints**"
   ]
  },
  {
   "cell_type": "code",
   "execution_count": 7,
   "metadata": {},
   "outputs": [],
   "source": [
    "df_balanced1 = df_selected\n",
    "\n",
    "df_balanced1 = df_balanced1[df_balanced1[\"Product\"] != \"Virtual currency\"]\n",
    "df_balanced1 = df_balanced1[df_balanced1[\"Product\"] != \"Other financial service\"]\n",
    "df_balanced1 = df_balanced1[df_balanced1[\"Product\"] != \"Prepaid card\"]\n",
    "df_balanced1 = df_balanced1[df_balanced1[\"Product\"] != \"Money transfers\"]\n",
    "df_balanced1 = df_balanced1[df_balanced1[\"Product\"] != \"Payday loan\"]"
   ]
  },
  {
   "cell_type": "markdown",
   "metadata": {},
   "source": [
    "**Make a copy and iteratively drop the products with the most complaints, adding a random sample % of them back afterwards**"
   ]
  },
  {
   "cell_type": "code",
   "execution_count": 8,
   "metadata": {},
   "outputs": [
    {
     "data": {
      "text/plain": [
       "(480700, 3)"
      ]
     },
     "execution_count": 8,
     "metadata": {},
     "output_type": "execute_result"
    }
   ],
   "source": [
    "df_balanced2 = df_balanced1.copy()\n",
    "df_balanced2.shape"
   ]
  },
  {
   "cell_type": "code",
   "execution_count": 9,
   "metadata": {},
   "outputs": [],
   "source": [
    "indexNames = df_balanced2[df_balanced2[\"Product\"] == \"Mortgage\"].index\n",
    "df_balanced2.drop(indexNames, inplace=True)\n",
    "indexNames = df_balanced2[df_balanced2[\"Product\"] == \"Debt collection\"].index\n",
    "df_balanced2.drop(indexNames, inplace=True)\n",
    "indexNames = df_balanced2[df_balanced2[\"Product\"] == \"Credit reporting, credit repair services, or other personal consumer reports\"].index\n",
    "df_balanced2.drop(indexNames, inplace=True)"
   ]
  },
  {
   "cell_type": "code",
   "execution_count": 10,
   "metadata": {},
   "outputs": [],
   "source": [
    "df_balanced2 = df_balanced2.append(df_balanced1.loc[df_balanced1[\"Product\"] == 'Mortgage'].sample(frac=0.5))\n",
    "df_balanced2 = df_balanced2.append(df_balanced1.loc[df_balanced1[\"Product\"] == 'Debt collection'].sample(frac=0.4))\n",
    "df_balanced2 = df_balanced2.append(df_balanced1.loc[df_balanced1[\"Product\"] == 'Credit reporting, credit repair services, or other personal consumer reports'].sample(frac=0.3))"
   ]
  },
  {
   "cell_type": "markdown",
   "metadata": {},
   "source": [
    "**Data cleaning & lemmatization**"
   ]
  },
  {
   "cell_type": "code",
   "execution_count": 11,
   "metadata": {},
   "outputs": [],
   "source": [
    "import re\n",
    "import string\n",
    "\n",
    "# Remove urls\n",
    "def clean_url(complaint):\n",
    "    # to do: more regex url garbage matching\n",
    "    complaint = re.sub('https?://(?:[-\\w.]|(?:%[\\da-fA-F]{2}))+', '', complaint)\n",
    "    complaint = re.sub('https? ?: ?// ?(?:[-\\w.]|(?:%[\\da-fA-F]{2}))+', '', complaint)\n",
    "    return complaint\n",
    "\n",
    "# Remove punctuation from complaint\n",
    "def clean_punctuation(complaint):\n",
    "    complaint = re.sub('[%s]' % re.escape(string.punctuation), '', complaint)\n",
    "    return complaint\n",
    "\n",
    "# Remove non-sensical characters from complaint\n",
    "def clean_nonsense(complaint):\n",
    "    complaint = re.sub('[''\"\"...]', '', complaint)\n",
    "    complaint = re.sub('\\n', '', complaint)\n",
    "    return complaint\n",
    "\n",
    "# Remove censored words from complaint\n",
    "def clean_censored(complaint):\n",
    "    complaint = re.sub('[XXXX]', '', complaint)\n",
    "    return complaint\n",
    "\n",
    "# Turn everything into lowercase\n",
    "def clean_lowercase(complaint):\n",
    "    complaint = complaint.lower()\n",
    "    return complaint\n",
    "\n",
    "# Remove numbers from complaint\n",
    "def clean_numbers(complaint):\n",
    "    complaint = re.sub(\"\\d+\", '', complaint)\n",
    "    return complaint"
   ]
  },
  {
   "cell_type": "code",
   "execution_count": 12,
   "metadata": {},
   "outputs": [],
   "source": [
    "df_balanced2[\"Consumer complaint narrative\"] = df_balanced2[\"Consumer complaint narrative\"].apply(clean_url)\n",
    "df_balanced2[\"Consumer complaint narrative\"] = df_balanced2[\"Consumer complaint narrative\"].apply(clean_punctuation)\n",
    "df_balanced2[\"Consumer complaint narrative\"] = df_balanced2[\"Consumer complaint narrative\"].apply(clean_nonsense)\n",
    "df_balanced2[\"Consumer complaint narrative\"] = df_balanced2[\"Consumer complaint narrative\"].apply(clean_censored)\n",
    "df_balanced2[\"Consumer complaint narrative\"] = df_balanced2[\"Consumer complaint narrative\"].apply(clean_lowercase)\n",
    "df_balanced2[\"Consumer complaint narrative\"] = df_balanced2[\"Consumer complaint narrative\"].apply(clean_numbers)"
   ]
  },
  {
   "cell_type": "code",
   "execution_count": 13,
   "metadata": {},
   "outputs": [
    {
     "name": "stdout",
     "output_type": "stream",
     "text": [
      "(287475, 3)\n"
     ]
    },
    {
     "data": {
      "text/html": [
       "<div>\n",
       "<style scoped>\n",
       "    .dataframe tbody tr th:only-of-type {\n",
       "        vertical-align: middle;\n",
       "    }\n",
       "\n",
       "    .dataframe tbody tr th {\n",
       "        vertical-align: top;\n",
       "    }\n",
       "\n",
       "    .dataframe thead th {\n",
       "        text-align: right;\n",
       "    }\n",
       "</style>\n",
       "<table border=\"1\" class=\"dataframe\">\n",
       "  <thead>\n",
       "    <tr style=\"text-align: right;\">\n",
       "      <th></th>\n",
       "      <th>Product</th>\n",
       "      <th>Consumer complaint narrative</th>\n",
       "      <th>Issue</th>\n",
       "    </tr>\n",
       "  </thead>\n",
       "  <tbody>\n",
       "    <tr>\n",
       "      <th>9</th>\n",
       "      <td>Payday loan, title loan, or personal loan</td>\n",
       "      <td>they would not let me pay my loan off  days be...</td>\n",
       "      <td>Problem with the payoff process at the end of ...</td>\n",
       "    </tr>\n",
       "    <tr>\n",
       "      <th>12</th>\n",
       "      <td>Payday loan, title loan, or personal loan</td>\n",
       "      <td>service finance are liars and are charging me ...</td>\n",
       "      <td>Charged fees or interest you didn't expect</td>\n",
       "    </tr>\n",
       "    <tr>\n",
       "      <th>21</th>\n",
       "      <td>Credit card or prepaid card</td>\n",
       "      <td>re  amex card ending  disputes were done in ti...</td>\n",
       "      <td>Fees or interest</td>\n",
       "    </tr>\n",
       "    <tr>\n",
       "      <th>27</th>\n",
       "      <td>Checking or savings account</td>\n",
       "      <td>over draft fees due to fraudulent charges subm...</td>\n",
       "      <td>Problem caused by your funds being low</td>\n",
       "    </tr>\n",
       "    <tr>\n",
       "      <th>36</th>\n",
       "      <td>Student loan</td>\n",
       "      <td>i took out a loan to go to school total of  in...</td>\n",
       "      <td>Dealing with your lender or servicer</td>\n",
       "    </tr>\n",
       "  </tbody>\n",
       "</table>\n",
       "</div>"
      ],
      "text/plain": [
       "                                      Product  \\\n",
       "9   Payday loan, title loan, or personal loan   \n",
       "12  Payday loan, title loan, or personal loan   \n",
       "21                Credit card or prepaid card   \n",
       "27                Checking or savings account   \n",
       "36                               Student loan   \n",
       "\n",
       "                         Consumer complaint narrative  \\\n",
       "9   they would not let me pay my loan off  days be...   \n",
       "12  service finance are liars and are charging me ...   \n",
       "21  re  amex card ending  disputes were done in ti...   \n",
       "27  over draft fees due to fraudulent charges subm...   \n",
       "36  i took out a loan to go to school total of  in...   \n",
       "\n",
       "                                                Issue  \n",
       "9   Problem with the payoff process at the end of ...  \n",
       "12         Charged fees or interest you didn't expect  \n",
       "21                                   Fees or interest  \n",
       "27             Problem caused by your funds being low  \n",
       "36               Dealing with your lender or servicer  "
      ]
     },
     "execution_count": 13,
     "metadata": {},
     "output_type": "execute_result"
    }
   ],
   "source": [
    "print(df_balanced2.shape)\n",
    "df_balanced2.head()"
   ]
  },
  {
   "cell_type": "code",
   "execution_count": 14,
   "metadata": {},
   "outputs": [],
   "source": [
    "# pickle for later use\n",
    "df_balanced2.to_pickle(\"corpus_balanced2_cleaned_first_cut_scarce_elimination.pkl\")"
   ]
  },
  {
   "cell_type": "markdown",
   "metadata": {},
   "source": [
    "**Run the lemmatization.py script in Pycharm to lemmatize the balanced & cleaned dataset.**"
   ]
  },
  {
   "cell_type": "markdown",
   "metadata": {},
   "source": [
    "This will produce a csv, <code>corpus_balanced3_cleaned_lemmatized.csv</code> that can be read into any notebook used for training using the code below:"
   ]
  },
  {
   "cell_type": "markdown",
   "metadata": {},
   "source": [
    "<code> my_df = pd.read_csv(\"corpus_balanced3_cleaned_lemmatized.csv\", encoding=\"utf-8\")</code>"
   ]
  },
  {
   "cell_type": "code",
   "execution_count": 32,
   "metadata": {},
   "outputs": [],
   "source": [
    "my_df = pd.read_csv(\"corpus_balanced3_cleaned_lemmatized.csv\", encoding=\"utf-8\")"
   ]
  },
  {
   "cell_type": "code",
   "execution_count": 33,
   "metadata": {},
   "outputs": [
    {
     "data": {
      "text/plain": [
       "Product                              0\n",
       "Consumer complaint narrative    126485\n",
       "dtype: int64"
      ]
     },
     "execution_count": 33,
     "metadata": {},
     "output_type": "execute_result"
    }
   ],
   "source": [
    "my_df.head()"
   ]
  },
  {
   "cell_type": "markdown",
   "metadata": {},
   "source": [
    "**Train in your separate notebook**\n",
    "\n",
    "Use <code>RandomForest_run_006.ipynb</code> as an example for structure. Make a copy, rename is and replace what you need. [notebook](RandomForest_run_006.ipynb)"
   ]
  },
  {
   "cell_type": "code",
   "execution_count": null,
   "metadata": {},
   "outputs": [],
   "source": []
  }
 ],
 "metadata": {
  "kernelspec": {
   "display_name": "Python 3",
   "language": "python",
   "name": "python3"
  },
  "language_info": {
   "codemirror_mode": {
    "name": "ipython",
    "version": 3
   },
   "file_extension": ".py",
   "mimetype": "text/x-python",
   "name": "python",
   "nbconvert_exporter": "python",
   "pygments_lexer": "ipython3",
   "version": "3.7.6"
  },
  "toc": {
   "base_numbering": 1,
   "nav_menu": {},
   "number_sections": true,
   "sideBar": true,
   "skip_h1_title": false,
   "title_cell": "Table of Contents",
   "title_sidebar": "Contents",
   "toc_cell": false,
   "toc_position": {},
   "toc_section_display": true,
   "toc_window_display": false
  }
 },
 "nbformat": 4,
 "nbformat_minor": 2
}

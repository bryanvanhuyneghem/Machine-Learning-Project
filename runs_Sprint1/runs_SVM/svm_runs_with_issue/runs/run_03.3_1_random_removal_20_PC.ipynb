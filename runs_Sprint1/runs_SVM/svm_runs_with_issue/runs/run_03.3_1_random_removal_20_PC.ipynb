{
 "cells": [
  {
   "cell_type": "markdown",
   "metadata": {},
   "source": [
    "In all versions 3.x the narrative gets cleaned as before and products are cleaned once times by randomly removing etries with the three most common values for product. This run uses 10 different principle components. "
   ]
  },
  {
   "cell_type": "markdown",
   "metadata": {},
   "source": [
    "__Initialing the data__"
   ]
  },
  {
   "cell_type": "code",
   "execution_count": 1,
   "metadata": {},
   "outputs": [
    {
     "name": "stdout",
     "output_type": "stream",
     "text": [
      "nulls in df_selected: 6\n"
     ]
    }
   ],
   "source": [
    "import pandas as pd\n",
    "\n",
    "df_selected1 = pd.read_csv(\"../balanced_data/corpus_balanced_cleaned_lemmatized_first_cut.csv\", encoding=\"utf-8\")\n",
    "\n",
    "print(\"nulls in df_selected:\", df_selected1[\"Consumer complaint narrative\"].isnull().sum())\n",
    "df_selected = df_selected1.dropna()"
   ]
  },
  {
   "cell_type": "markdown",
   "metadata": {},
   "source": [
    "__Initializing the bag of words__"
   ]
  },
  {
   "cell_type": "code",
   "execution_count": 2,
   "metadata": {},
   "outputs": [],
   "source": [
    "from sklearn.feature_extraction.text import CountVectorizer\n",
    "\n",
    "# vect (bag of words)\n",
    "count_vect = CountVectorizer(\n",
    "    stop_words=\"english\",\n",
    "    #ngram_range=(1,2), # bigrammen\n",
    "    min_df=2, # only keep words that appear twice\n",
    "    max_df=0.5 # appears max in 50% of documents\n",
    ")\n",
    "\n",
    "X_train_counts = count_vect.fit_transform(df_selected[\"Consumer complaint narrative\"])"
   ]
  },
  {
   "cell_type": "markdown",
   "metadata": {},
   "source": [
    "__Principal components are chosen__"
   ]
  },
  {
   "cell_type": "code",
   "execution_count": 3,
   "metadata": {},
   "outputs": [
    {
     "name": "stdout",
     "output_type": "stream",
     "text": [
      "(292470, 20)\n"
     ]
    }
   ],
   "source": [
    "from sklearn.decomposition import TruncatedSVD\n",
    "\n",
    "tSVD = TruncatedSVD(n_components=20)\n",
    "\n",
    "principal_components = tSVD.fit_transform(X_train_counts)\n",
    "print(principal_components.shape)"
   ]
  },
  {
   "cell_type": "code",
   "execution_count": 4,
   "metadata": {
    "scrolled": true
   },
   "outputs": [
    {
     "name": "stdout",
     "output_type": "stream",
     "text": [
      "[[ 4.4436618  -3.22158948  0.01544162 ...  0.32700115 -0.07692991\n",
      "  -0.76372175]\n",
      " [ 3.81940424 -1.11034471  0.33362425 ...  0.74523038  0.63241457\n",
      "  -0.67960178]\n",
      " [11.86264223  4.43891137  4.55389933 ...  6.42830429  7.26493109\n",
      "   1.36533457]\n",
      " ...\n",
      " [ 7.78327111  3.84666439 -3.26283368 ...  1.39660272 -0.4320766\n",
      "  -1.48161657]\n",
      " [ 1.06129817  0.45517096 -0.09379111 ...  0.69294993  0.35559242\n",
      "   0.08833654]\n",
      " [ 0.93802156  0.23178941  0.3857611  ...  0.23983491 -0.06493713\n",
      "   0.10098243]]\n",
      "                0         1         2         3         4         5         6  \\\n",
      "0        4.443662 -3.221589  0.015442  0.403845  0.058640  0.570516 -0.702397   \n",
      "1        3.819404 -1.110345  0.333624 -1.003077 -1.508118  1.678713  1.520807   \n",
      "2       11.862642  4.438911  4.553899  0.519017  3.177669 -2.706760 -3.357040   \n",
      "3        2.077610  1.348609  1.202290 -0.667158 -2.074931  0.829459  1.339132   \n",
      "4        5.176562 -4.094452 -1.813853 -4.858363  1.600993  2.177034 -0.301388   \n",
      "...           ...       ...       ...       ...       ...       ...       ...   \n",
      "292465   0.173739  0.226203 -0.251136  0.048443  0.072719 -0.155383  0.071568   \n",
      "292466   5.128417 -4.206448 -0.406628  2.478359 -0.050324 -0.022523  0.263727   \n",
      "292467   7.783271  3.846664 -3.262834 -1.848896  1.620090 -4.457354 -1.179514   \n",
      "292468   1.061298  0.455171 -0.093791 -0.349454  0.220246 -0.993024 -0.404101   \n",
      "292469   0.938022  0.231789  0.385761 -0.346109  0.131069 -0.452885 -0.883154   \n",
      "\n",
      "               7         8         9        10        11        12        13  \\\n",
      "0       0.052086 -0.700580 -1.174270  0.352097 -0.149733  0.324648  0.030065   \n",
      "1      -0.673057  0.493231 -0.770935 -0.154457 -0.510818  0.023193 -0.489005   \n",
      "2      -1.622356 -0.382844  3.026062  3.876322 -4.449149  1.988218 -2.773427   \n",
      "3      -0.392368 -0.283719 -0.186849  0.785535 -0.056388 -0.566309 -0.529074   \n",
      "4      -0.791362 -0.407132 -1.858212  0.796444 -0.268824 -0.252811  0.528565   \n",
      "...          ...       ...       ...       ...       ...       ...       ...   \n",
      "292465 -0.061791  0.593209 -0.203206  0.121973 -0.064176 -0.432101  0.220030   \n",
      "292466 -0.163024  0.352876 -0.275983  0.031569 -0.002630 -0.297455  0.047072   \n",
      "292467  0.356986  8.235560 -3.214851  1.633439 -1.413866 -5.734375  1.895934   \n",
      "292468  0.379261  0.046420  0.131306  0.105947  0.499249  0.159964  0.057990   \n",
      "292469  0.298426 -0.041930 -0.369262  0.091444  0.242216 -0.246479 -0.341349   \n",
      "\n",
      "              14        15        16        17        18        19  \n",
      "0      -0.398140  0.444896 -0.137002  0.327001 -0.076930 -0.763722  \n",
      "1      -0.491515  0.682972  0.206598  0.745230  0.632415 -0.679602  \n",
      "2      -1.201353 -0.516345  4.488382  6.428304  7.264931  1.365335  \n",
      "3      -0.793729  1.225574 -0.155188 -0.136213  0.528456 -0.724585  \n",
      "4      -0.200402  0.895389  0.642776 -0.092658  0.697004  0.174418  \n",
      "...          ...       ...       ...       ...       ...       ...  \n",
      "292465 -0.069329 -0.149252 -0.064223  0.057133 -0.066876 -0.105508  \n",
      "292466 -0.463335  0.344665 -0.383284 -0.740305  0.618759 -0.211487  \n",
      "292467 -0.657711 -1.396384 -0.153294  1.396603 -0.432077 -1.481617  \n",
      "292468  1.091863  0.327861  1.879471  0.692950  0.355592  0.088337  \n",
      "292469 -0.161676 -0.333248 -0.126832  0.239835 -0.064937  0.100982  \n",
      "\n",
      "[292470 rows x 20 columns]\n"
     ]
    }
   ],
   "source": [
    "print(principal_components)\n",
    "principal_components_df = pd.DataFrame(principal_components)\n",
    "print(principal_components_df)"
   ]
  },
  {
   "cell_type": "markdown",
   "metadata": {},
   "source": [
    "__One hot encoding of extra columns__"
   ]
  },
  {
   "cell_type": "code",
   "execution_count": 5,
   "metadata": {
    "scrolled": true
   },
   "outputs": [
    {
     "name": "stdout",
     "output_type": "stream",
     "text": [
      "(292470, 20)\n",
      "(292470, 161)\n",
      "(292470, 181)\n"
     ]
    }
   ],
   "source": [
    "#One hot encoding\n",
    "issue_df = pd.Categorical(df_selected['Issue'])\n",
    "\n",
    "df_dummies = pd.get_dummies(issue_df, prefix = 'issue')\n",
    "\n",
    "#X_train_counts_df = pd.DataFrame(X_train_counts)\n",
    "#print(\"DF conversion done\")\n",
    "\n",
    "print(principal_components_df.shape)\n",
    "print(df_dummies.shape)\n",
    "df_concat = pd.concat([principal_components_df, df_dummies], axis = 1)\n",
    "print(df_concat.shape)\n"
   ]
  },
  {
   "cell_type": "markdown",
   "metadata": {},
   "source": [
    "__Split into train and test__"
   ]
  },
  {
   "cell_type": "code",
   "execution_count": 6,
   "metadata": {},
   "outputs": [
    {
     "name": "stdout",
     "output_type": "stream",
     "text": [
      "(219352, 181)\n",
      "(73118, 181)\n",
      "(219352,)\n",
      "(73118,)\n"
     ]
    }
   ],
   "source": [
    "from sklearn.model_selection import train_test_split\n",
    "X_train, X_test, Y_train, Y_test = train_test_split(df_concat, df_selected['Product'])\n",
    "print(X_train.shape)\n",
    "print(X_test.shape)\n",
    "print(Y_train.shape)\n",
    "print(Y_test.shape)"
   ]
  },
  {
   "cell_type": "markdown",
   "metadata": {},
   "source": [
    "__Application of linear SVM__"
   ]
  },
  {
   "cell_type": "code",
   "execution_count": 7,
   "metadata": {
    "scrolled": false
   },
   "outputs": [
    {
     "name": "stderr",
     "output_type": "stream",
     "text": [
      "C:\\Users\\l-Larsovic-l\\anaconda3\\lib\\site-packages\\sklearn\\svm\\_base.py:947: ConvergenceWarning: Liblinear failed to converge, increase the number of iterations.\n",
      "  \"the number of iterations.\", ConvergenceWarning)\n",
      "C:\\Users\\l-Larsovic-l\\anaconda3\\lib\\site-packages\\sklearn\\metrics\\_classification.py:1272: UndefinedMetricWarning: Recall and F-score are ill-defined and being set to 0.0 in labels with no true samples. Use `zero_division` parameter to control this behavior.\n",
      "  _warn_prf(average, modifier, msg_start, len(result))\n"
     ]
    },
    {
     "name": "stdout",
     "output_type": "stream",
     "text": [
      "                                                                              precision    recall  f1-score   support\n",
      "\n",
      "                                                     Bank account or service       1.00      1.00      1.00      3720\n",
      "                                                 Checking or savings account       0.99      1.00      1.00      4643\n",
      "                                                               Consumer Loan       0.95      0.76      0.85      2901\n",
      "                                                                 Credit card       1.00      1.00      1.00      4796\n",
      "                                                 Credit card or prepaid card       0.96      0.98      0.97      7704\n",
      "                                                            Credit reporting       1.00      1.00      1.00      7949\n",
      "Credit reporting, credit repair services, or other personal consumer reports       0.99      0.91      0.95     11552\n",
      "                                                             Debt collection       1.00      1.00      1.00     10604\n",
      "                          Money transfer, virtual currency, or money service       0.98      0.84      0.91      2273\n",
      "                                                             Money transfers       0.42      0.97      0.59       164\n",
      "                                                                    Mortgage       0.98      1.00      0.99      7505\n",
      "                                                     Other financial service       0.39      0.90      0.54        29\n",
      "                                                                 Payday loan       1.00      0.90      0.95       489\n",
      "                                   Payday loan, title loan, or personal loan       0.72      0.99      0.83      1148\n",
      "                                                                Prepaid card       0.82      0.98      0.89       307\n",
      "                                                                Student loan       0.96      1.00      0.98      5956\n",
      "                                                       Vehicle loan or lease       0.53      0.79      0.64      1378\n",
      "                                                            Virtual currency       0.00      0.00      0.00         0\n",
      "\n",
      "                                                                    accuracy                           0.96     73118\n",
      "                                                                   macro avg       0.82      0.89      0.84     73118\n",
      "                                                                weighted avg       0.97      0.96      0.97     73118\n",
      "\n"
     ]
    }
   ],
   "source": [
    "from sklearn import svm\n",
    "from sklearn.metrics import accuracy_score\n",
    "from sklearn.metrics import classification_report # do more stats\n",
    "\n",
    "classifier = svm.LinearSVC()\n",
    "classifier.fit(X_train, Y_train)\n",
    "\n",
    "test_predictions = classifier.predict(X_test)\n",
    "print(classification_report(test_predictions, Y_test))"
   ]
  },
  {
   "cell_type": "code",
   "execution_count": null,
   "metadata": {},
   "outputs": [],
   "source": []
  }
 ],
 "metadata": {
  "kernelspec": {
   "display_name": "Python 3",
   "language": "python",
   "name": "python3"
  },
  "language_info": {
   "codemirror_mode": {
    "name": "ipython",
    "version": 3
   },
   "file_extension": ".py",
   "mimetype": "text/x-python",
   "name": "python",
   "nbconvert_exporter": "python",
   "pygments_lexer": "ipython3",
   "version": "3.6.5"
  },
  "toc": {
   "base_numbering": 1,
   "nav_menu": {},
   "number_sections": true,
   "sideBar": true,
   "skip_h1_title": false,
   "title_cell": "Table of Contents",
   "title_sidebar": "Contents",
   "toc_cell": false,
   "toc_position": {},
   "toc_section_display": true,
   "toc_window_display": false
  }
 },
 "nbformat": 4,
 "nbformat_minor": 2
}

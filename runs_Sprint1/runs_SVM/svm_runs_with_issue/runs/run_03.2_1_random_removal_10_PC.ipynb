{
 "cells": [
  {
   "cell_type": "markdown",
   "metadata": {},
   "source": [
    "In all versions 3.x the narrative gets cleaned as before and products are cleaned once times by randomly removing etries with the three most common values for product. This run uses 10 different principle components. "
   ]
  },
  {
   "cell_type": "markdown",
   "metadata": {},
   "source": [
    "__Initialing the data__"
   ]
  },
  {
   "cell_type": "code",
   "execution_count": 1,
   "metadata": {},
   "outputs": [
    {
     "name": "stdout",
     "output_type": "stream",
     "text": [
      "nulls in df_selected: 6\n"
     ]
    }
   ],
   "source": [
    "import pandas as pd\n",
    "\n",
    "df_selected1 = pd.read_csv(\"../balanced_data/corpus_balanced_cleaned_lemmatized_first_cut.csv\", encoding=\"utf-8\")\n",
    "\n",
    "print(\"nulls in df_selected:\", df_selected1[\"Consumer complaint narrative\"].isnull().sum())\n",
    "df_selected = df_selected1.dropna()"
   ]
  },
  {
   "cell_type": "markdown",
   "metadata": {},
   "source": [
    "__Initializing the bag of words__"
   ]
  },
  {
   "cell_type": "code",
   "execution_count": 2,
   "metadata": {},
   "outputs": [],
   "source": [
    "from sklearn.feature_extraction.text import CountVectorizer\n",
    "\n",
    "# vect (bag of words)\n",
    "count_vect = CountVectorizer(\n",
    "    stop_words=\"english\",\n",
    "    #ngram_range=(1,2), # bigrammen\n",
    "    min_df=2, # only keep words that appear twice\n",
    "    max_df=0.5 # appears max in 50% of documents\n",
    ")\n",
    "\n",
    "X_train_counts = count_vect.fit_transform(df_selected[\"Consumer complaint narrative\"])"
   ]
  },
  {
   "cell_type": "markdown",
   "metadata": {},
   "source": [
    "__Principal components are chosen__"
   ]
  },
  {
   "cell_type": "code",
   "execution_count": 3,
   "metadata": {},
   "outputs": [
    {
     "name": "stdout",
     "output_type": "stream",
     "text": [
      "(292470, 10)\n"
     ]
    }
   ],
   "source": [
    "from sklearn.decomposition import TruncatedSVD\n",
    "\n",
    "tSVD = TruncatedSVD(n_components=10)\n",
    "\n",
    "principal_components = tSVD.fit_transform(X_train_counts)\n",
    "print(principal_components.shape)"
   ]
  },
  {
   "cell_type": "code",
   "execution_count": 4,
   "metadata": {
    "scrolled": true
   },
   "outputs": [
    {
     "name": "stdout",
     "output_type": "stream",
     "text": [
      "[[ 4.44366173 -3.22163153  0.01532147 ...  0.04225807 -0.67049439\n",
      "  -1.16483872]\n",
      " [ 3.81940418 -1.11038977  0.3335882  ... -0.67660939  0.52543506\n",
      "  -0.76600207]\n",
      " [11.86264199  4.43885137  4.55404876 ... -1.57353676 -0.66009409\n",
      "   2.84084153]\n",
      " ...\n",
      " [ 7.78327094  3.84664355 -3.26286347 ...  0.36599344  8.3838297\n",
      "  -2.80009118]\n",
      " [ 1.06129822  0.45520749 -0.09378672 ...  0.37944113  0.0375239\n",
      "   0.14162473]\n",
      " [ 0.93802157  0.23180713  0.38582534 ...  0.30408381 -0.03706027\n",
      "  -0.35475707]]\n",
      "                0         1         2         3         4         5         6  \\\n",
      "0        4.443662 -3.221632  0.015321  0.403247  0.058375  0.573759 -0.708096   \n",
      "1        3.819404 -1.110390  0.333588 -1.003640 -1.508024  1.678368  1.521393   \n",
      "2       11.862642  4.438851  4.554049  0.525245  3.169759 -2.711624 -3.335482   \n",
      "3        2.077610  1.348541  1.202235 -0.666619 -2.075840  0.831785  1.339177   \n",
      "4        5.176562 -4.094481 -1.813897 -4.857587  1.599608  2.178552 -0.289792   \n",
      "...           ...       ...       ...       ...       ...       ...       ...   \n",
      "292465   0.173739  0.226197 -0.251148  0.048141  0.072820 -0.154407  0.067592   \n",
      "292466   5.128417 -4.206494 -0.406678  2.479355 -0.051830 -0.024527  0.276206   \n",
      "292467   7.783271  3.846644 -3.262863 -1.852261  1.622031 -4.445647 -1.216531   \n",
      "292468   1.061298  0.455207 -0.093787 -0.348952  0.221656 -0.988510 -0.398392   \n",
      "292469   0.938022  0.231807  0.385825 -0.346168  0.130818 -0.452022 -0.881390   \n",
      "\n",
      "               7         8         9  \n",
      "0       0.042258 -0.670494 -1.164839  \n",
      "1      -0.676609  0.525435 -0.766002  \n",
      "2      -1.573537 -0.660094  2.840842  \n",
      "3      -0.395262 -0.263316 -0.167884  \n",
      "4      -0.800595 -0.415760 -1.926939  \n",
      "...          ...       ...       ...  \n",
      "292465 -0.061479  0.606396 -0.168087  \n",
      "292466 -0.171547  0.329857 -0.325508  \n",
      "292467  0.365993  8.383830 -2.800091  \n",
      "292468  0.379441  0.037524  0.141625  \n",
      "292469  0.304084 -0.037060 -0.354757  \n",
      "\n",
      "[292470 rows x 10 columns]\n"
     ]
    }
   ],
   "source": [
    "print(principal_components)\n",
    "principal_components_df = pd.DataFrame(principal_components)\n",
    "print(principal_components_df)"
   ]
  },
  {
   "cell_type": "markdown",
   "metadata": {},
   "source": [
    "__One hot encoding of extra columns__"
   ]
  },
  {
   "cell_type": "code",
   "execution_count": 5,
   "metadata": {},
   "outputs": [
    {
     "name": "stdout",
     "output_type": "stream",
     "text": [
      "(292470, 10)\n",
      "(292470, 161)\n",
      "(292470, 171)\n"
     ]
    }
   ],
   "source": [
    "#One hot encoding\n",
    "issue_df = pd.Categorical(df_selected['Issue'])\n",
    "\n",
    "df_dummies = pd.get_dummies(issue_df, prefix = 'issue')\n",
    "\n",
    "#X_train_counts_df = pd.DataFrame(X_train_counts)\n",
    "#print(\"DF conversion done\")\n",
    "\n",
    "print(principal_components_df.shape)\n",
    "print(df_dummies.shape)\n",
    "df_concat = pd.concat([principal_components_df, df_dummies], axis = 1)\n",
    "print(df_concat.shape)\n"
   ]
  },
  {
   "cell_type": "markdown",
   "metadata": {},
   "source": [
    "__Split into train and test__"
   ]
  },
  {
   "cell_type": "code",
   "execution_count": 6,
   "metadata": {},
   "outputs": [
    {
     "name": "stdout",
     "output_type": "stream",
     "text": [
      "(219352, 171)\n",
      "(73118, 171)\n",
      "(219352,)\n",
      "(73118,)\n"
     ]
    }
   ],
   "source": [
    "from sklearn.model_selection import train_test_split\n",
    "X_train, X_test, Y_train, Y_test = train_test_split(df_concat, df_selected['Product'])\n",
    "print(X_train.shape)\n",
    "print(X_test.shape)\n",
    "print(Y_train.shape)\n",
    "print(Y_test.shape)"
   ]
  },
  {
   "cell_type": "markdown",
   "metadata": {},
   "source": [
    "__Application of linear SVM__"
   ]
  },
  {
   "cell_type": "code",
   "execution_count": 7,
   "metadata": {
    "scrolled": false
   },
   "outputs": [
    {
     "name": "stderr",
     "output_type": "stream",
     "text": [
      "C:\\Users\\l-Larsovic-l\\anaconda3\\lib\\site-packages\\sklearn\\svm\\_base.py:947: ConvergenceWarning: Liblinear failed to converge, increase the number of iterations.\n",
      "  \"the number of iterations.\", ConvergenceWarning)\n",
      "C:\\Users\\l-Larsovic-l\\anaconda3\\lib\\site-packages\\sklearn\\metrics\\_classification.py:1272: UndefinedMetricWarning: Recall and F-score are ill-defined and being set to 0.0 in labels with no true samples. Use `zero_division` parameter to control this behavior.\n",
      "  _warn_prf(average, modifier, msg_start, len(result))\n"
     ]
    },
    {
     "name": "stdout",
     "output_type": "stream",
     "text": [
      "                                                                              precision    recall  f1-score   support\n",
      "\n",
      "                                                     Bank account or service       1.00      1.00      1.00      3682\n",
      "                                                 Checking or savings account       0.99      1.00      1.00      4576\n",
      "                                                               Consumer Loan       0.94      0.78      0.85      2827\n",
      "                                                                 Credit card       1.00      1.00      1.00      4734\n",
      "                                                 Credit card or prepaid card       0.96      0.97      0.96      7776\n",
      "                                                            Credit reporting       1.00      1.00      1.00      7955\n",
      "Credit reporting, credit repair services, or other personal consumer reports       0.99      0.91      0.95     11684\n",
      "                                                             Debt collection       1.00      1.00      1.00     10593\n",
      "                          Money transfer, virtual currency, or money service       0.98      0.85      0.91      2203\n",
      "                                                             Money transfers       0.45      0.98      0.62       162\n",
      "                                                                    Mortgage       0.99      1.00      0.99      7458\n",
      "                                                     Other financial service       0.35      0.96      0.52        24\n",
      "                                                                 Payday loan       1.00      0.87      0.93       497\n",
      "                                   Payday loan, title loan, or personal loan       0.69      0.99      0.82      1055\n",
      "                                                                Prepaid card       0.84      0.99      0.91       298\n",
      "                                                                Student loan       0.97      1.00      0.98      6125\n",
      "                                                       Vehicle loan or lease       0.56      0.77      0.65      1469\n",
      "                                                            Virtual currency       0.00      0.00      0.00         0\n",
      "\n",
      "                                                                    accuracy                           0.96     73118\n",
      "                                                                   macro avg       0.82      0.89      0.84     73118\n",
      "                                                                weighted avg       0.97      0.96      0.97     73118\n",
      "\n"
     ]
    }
   ],
   "source": [
    "from sklearn import svm\n",
    "from sklearn.metrics import accuracy_score\n",
    "from sklearn.metrics import classification_report # do more stats\n",
    "\n",
    "classifier = svm.LinearSVC()\n",
    "classifier.fit(X_train, Y_train)\n",
    "\n",
    "test_predictions = classifier.predict(X_test)\n",
    "print(classification_report(test_predictions, Y_test))"
   ]
  },
  {
   "cell_type": "code",
   "execution_count": null,
   "metadata": {},
   "outputs": [],
   "source": []
  }
 ],
 "metadata": {
  "kernelspec": {
   "display_name": "Python 3",
   "language": "python",
   "name": "python3"
  },
  "language_info": {
   "codemirror_mode": {
    "name": "ipython",
    "version": 3
   },
   "file_extension": ".py",
   "mimetype": "text/x-python",
   "name": "python",
   "nbconvert_exporter": "python",
   "pygments_lexer": "ipython3",
   "version": "3.7.4"
  },
  "toc": {
   "base_numbering": 1,
   "nav_menu": {},
   "number_sections": true,
   "sideBar": true,
   "skip_h1_title": false,
   "title_cell": "Table of Contents",
   "title_sidebar": "Contents",
   "toc_cell": false,
   "toc_position": {},
   "toc_section_display": true,
   "toc_window_display": false
  }
 },
 "nbformat": 4,
 "nbformat_minor": 2
}

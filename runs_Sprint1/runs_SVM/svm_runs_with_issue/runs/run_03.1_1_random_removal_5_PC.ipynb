{
 "cells": [
  {
   "cell_type": "markdown",
   "metadata": {},
   "source": [
    "In all versions 3.x the narrative gets cleaned as before and products are cleaned once times by randomly removing etries with the three most common values for product. This run uses 5 different principle components. "
   ]
  },
  {
   "cell_type": "markdown",
   "metadata": {},
   "source": [
    "__Initialing the data__"
   ]
  },
  {
   "cell_type": "code",
   "execution_count": 1,
   "metadata": {},
   "outputs": [
    {
     "name": "stdout",
     "output_type": "stream",
     "text": [
      "nulls in df_selected: 6\n"
     ]
    }
   ],
   "source": [
    "import pandas as pd\n",
    "\n",
    "df_selected1 = pd.read_csv(\"../balanced_data/corpus_balanced_cleaned_lemmatized_first_cut.csv\", encoding=\"utf-8\")\n",
    "\n",
    "print(\"nulls in df_selected:\", df_selected1[\"Consumer complaint narrative\"].isnull().sum())\n",
    "df_selected = df_selected1.dropna()"
   ]
  },
  {
   "cell_type": "markdown",
   "metadata": {},
   "source": [
    "__Initializing the bag of words__"
   ]
  },
  {
   "cell_type": "code",
   "execution_count": 2,
   "metadata": {},
   "outputs": [],
   "source": [
    "from sklearn.feature_extraction.text import CountVectorizer\n",
    "\n",
    "# vect (bag of words)\n",
    "count_vect = CountVectorizer(\n",
    "    stop_words=\"english\",\n",
    "    #ngram_range=(1,2), # bigrammen\n",
    "    min_df=2, # only keep words that appear twice\n",
    "    max_df=0.5 # appears max in 50% of documents\n",
    ")\n",
    "\n",
    "X_train_counts = count_vect.fit_transform(df_selected[\"Consumer complaint narrative\"])"
   ]
  },
  {
   "cell_type": "markdown",
   "metadata": {},
   "source": [
    "__Principal components are chosen__"
   ]
  },
  {
   "cell_type": "code",
   "execution_count": 3,
   "metadata": {},
   "outputs": [
    {
     "name": "stdout",
     "output_type": "stream",
     "text": [
      "(292470, 5)\n"
     ]
    }
   ],
   "source": [
    "from sklearn.decomposition import TruncatedSVD\n",
    "\n",
    "tSVD = TruncatedSVD(n_components=5)\n",
    "\n",
    "principal_components = tSVD.fit_transform(X_train_counts)\n",
    "print(principal_components.shape)"
   ]
  },
  {
   "cell_type": "code",
   "execution_count": 4,
   "metadata": {
    "scrolled": false
   },
   "outputs": [
    {
     "name": "stdout",
     "output_type": "stream",
     "text": [
      "[[ 4.44366181 -3.22165372  0.01535673  0.40540478  0.05836881]\n",
      " [ 3.81940412 -1.11041252  0.33335724 -1.00101786 -1.50928527]\n",
      " [11.86264377  4.43820391  4.55460654  0.51136761  3.20803623]\n",
      " ...\n",
      " [ 7.78326954  3.84639072 -3.26322614 -1.84297379  1.61026281]\n",
      " [ 1.0612983   0.45508499 -0.09378451 -0.35162597  0.21978829]\n",
      " [ 0.93802168  0.23182946  0.38587514 -0.34651002  0.13066908]]\n",
      "                0         1         2         3         4\n",
      "0        4.443662 -3.221654  0.015357  0.405405  0.058369\n",
      "1        3.819404 -1.110413  0.333357 -1.001018 -1.509285\n",
      "2       11.862644  4.438204  4.554607  0.511368  3.208036\n",
      "3        2.077610  1.348508  1.202181 -0.664402 -2.075571\n",
      "4        5.176561 -4.094794 -1.813807 -4.858488  1.603869\n",
      "...           ...       ...       ...       ...       ...\n",
      "292465   0.173739  0.226186 -0.251176  0.049035  0.072173\n",
      "292466   5.128417 -4.206572 -0.406695  2.479155 -0.050453\n",
      "292467   7.783270  3.846391 -3.263226 -1.842974  1.610263\n",
      "292468   1.061298  0.455085 -0.093785 -0.351626  0.219788\n",
      "292469   0.938022  0.231829  0.385875 -0.346510  0.130669\n",
      "\n",
      "[292470 rows x 5 columns]\n"
     ]
    }
   ],
   "source": [
    "print(principal_components)\n",
    "principal_components_df = pd.DataFrame(principal_components)\n",
    "print(principal_components_df)"
   ]
  },
  {
   "cell_type": "markdown",
   "metadata": {},
   "source": [
    "__One hot encoding of extra columns__"
   ]
  },
  {
   "cell_type": "code",
   "execution_count": 5,
   "metadata": {},
   "outputs": [
    {
     "name": "stdout",
     "output_type": "stream",
     "text": [
      "(292470, 5)\n",
      "(292470, 161)\n",
      "(292470, 166)\n"
     ]
    }
   ],
   "source": [
    "#One hot encoding\n",
    "issue_df = pd.Categorical(df_selected['Issue'])\n",
    "\n",
    "df_dummies = pd.get_dummies(issue_df, prefix = 'issue')\n",
    "\n",
    "#X_train_counts_df = pd.DataFrame(X_train_counts)\n",
    "#print(\"DF conversion done\")\n",
    "\n",
    "print(principal_components_df.shape)\n",
    "print(df_dummies.shape)\n",
    "df_concat = pd.concat([principal_components_df, df_dummies], axis = 1)\n",
    "print(df_concat.shape)\n"
   ]
  },
  {
   "cell_type": "markdown",
   "metadata": {},
   "source": [
    "__Split into train and test__"
   ]
  },
  {
   "cell_type": "code",
   "execution_count": 6,
   "metadata": {},
   "outputs": [
    {
     "name": "stdout",
     "output_type": "stream",
     "text": [
      "(219352, 166)\n",
      "(73118, 166)\n",
      "(219352,)\n",
      "(73118,)\n"
     ]
    }
   ],
   "source": [
    "from sklearn.model_selection import train_test_split\n",
    "X_train, X_test, Y_train, Y_test = train_test_split(df_concat, df_selected['Product'])\n",
    "print(X_train.shape)\n",
    "print(X_test.shape)\n",
    "print(Y_train.shape)\n",
    "print(Y_test.shape)"
   ]
  },
  {
   "cell_type": "markdown",
   "metadata": {},
   "source": [
    "__Application of linear SVM__"
   ]
  },
  {
   "cell_type": "code",
   "execution_count": 7,
   "metadata": {
    "scrolled": false
   },
   "outputs": [
    {
     "name": "stderr",
     "output_type": "stream",
     "text": [
      "C:\\Users\\l-Larsovic-l\\anaconda3\\lib\\site-packages\\sklearn\\svm\\_base.py:947: ConvergenceWarning: Liblinear failed to converge, increase the number of iterations.\n",
      "  \"the number of iterations.\", ConvergenceWarning)\n",
      "C:\\Users\\l-Larsovic-l\\anaconda3\\lib\\site-packages\\sklearn\\metrics\\_classification.py:1272: UndefinedMetricWarning: Recall and F-score are ill-defined and being set to 0.0 in labels with no true samples. Use `zero_division` parameter to control this behavior.\n",
      "  _warn_prf(average, modifier, msg_start, len(result))\n"
     ]
    },
    {
     "name": "stdout",
     "output_type": "stream",
     "text": [
      "                                                                              precision    recall  f1-score   support\n",
      "\n",
      "                                                     Bank account or service       1.00      1.00      1.00      3717\n",
      "                                                 Checking or savings account       0.99      1.00      1.00      4700\n",
      "                                                               Consumer Loan       0.96      0.75      0.84      2965\n",
      "                                                                 Credit card       1.00      1.00      1.00      4715\n",
      "                                                 Credit card or prepaid card       0.96      0.97      0.96      7727\n",
      "                                                            Credit reporting       1.00      1.00      1.00      7853\n",
      "Credit reporting, credit repair services, or other personal consumer reports       0.99      0.91      0.95     11816\n",
      "                                                             Debt collection       1.00      1.00      1.00     10556\n",
      "                          Money transfer, virtual currency, or money service       0.97      0.84      0.90      2289\n",
      "                                                             Money transfers       0.40      0.97      0.56       148\n",
      "                                                                    Mortgage       0.99      1.00      0.99      7502\n",
      "                                                     Other financial service       0.45      0.97      0.61        38\n",
      "                                                                 Payday loan       1.00      0.88      0.94       513\n",
      "                                   Payday loan, title loan, or personal loan       0.68      1.00      0.81      1075\n",
      "                                                                Prepaid card       0.83      0.98      0.90       303\n",
      "                                                                Student loan       0.96      1.00      0.98      5901\n",
      "                                                       Vehicle loan or lease       0.50      0.77      0.60      1300\n",
      "                                                            Virtual currency       0.00      0.00      0.00         0\n",
      "\n",
      "                                                                    accuracy                           0.96     73118\n",
      "                                                                   macro avg       0.82      0.89      0.84     73118\n",
      "                                                                weighted avg       0.97      0.96      0.96     73118\n",
      "\n"
     ]
    }
   ],
   "source": [
    "from sklearn import svm\n",
    "from sklearn.metrics import accuracy_score\n",
    "from sklearn.metrics import classification_report # do more stats\n",
    "\n",
    "classifier = svm.LinearSVC()\n",
    "classifier.fit(X_train, Y_train)\n",
    "\n",
    "test_predictions = classifier.predict(X_test)\n",
    "print(classification_report(test_predictions, Y_test))"
   ]
  },
  {
   "cell_type": "code",
   "execution_count": null,
   "metadata": {},
   "outputs": [],
   "source": []
  }
 ],
 "metadata": {
  "kernelspec": {
   "display_name": "Python 3",
   "language": "python",
   "name": "python3"
  },
  "language_info": {
   "codemirror_mode": {
    "name": "ipython",
    "version": 3
   },
   "file_extension": ".py",
   "mimetype": "text/x-python",
   "name": "python",
   "nbconvert_exporter": "python",
   "pygments_lexer": "ipython3",
   "version": "3.7.4"
  },
  "toc": {
   "base_numbering": 1,
   "nav_menu": {},
   "number_sections": true,
   "sideBar": true,
   "skip_h1_title": false,
   "title_cell": "Table of Contents",
   "title_sidebar": "Contents",
   "toc_cell": false,
   "toc_position": {},
   "toc_section_display": true,
   "toc_window_display": false
  }
 },
 "nbformat": 4,
 "nbformat_minor": 2
}

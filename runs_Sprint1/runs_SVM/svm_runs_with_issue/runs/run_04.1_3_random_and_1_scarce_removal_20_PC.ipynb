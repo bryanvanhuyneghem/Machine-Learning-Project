{
 "cells": [
  {
   "cell_type": "markdown",
   "metadata": {},
   "source": [
    "In all versions 4.x the narrative gets cleaned as before and products are cleaned twice times. The first time half of the three most occuring entries in __Product__ are randomly removed. The second time , the components that almost never occur are removed. This run uses 20 different principle components. "
   ]
  },
  {
   "cell_type": "markdown",
   "metadata": {},
   "source": [
    "__Initialing the data__"
   ]
  },
  {
   "cell_type": "code",
   "execution_count": 1,
   "metadata": {
    "scrolled": true
   },
   "outputs": [
    {
     "name": "stdout",
     "output_type": "stream",
     "text": [
      "nulls in df_selected: 0\n"
     ]
    }
   ],
   "source": [
    "import pandas as pd\n",
    "\n",
    "df_selected1 = pd.read_csv(\"../balanced_data/corpus_balanced_cleaned_lemmatized_first_cut_scarce_elimination.csv\", encoding=\"utf-8\")\n",
    "\n",
    "print(\"nulls in df_selected:\", df_selected1[\"Consumer complaint narrative\"].isnull().sum())\n",
    "df_selected = df_selected1.dropna()"
   ]
  },
  {
   "cell_type": "markdown",
   "metadata": {},
   "source": [
    "__Initializing the bag of words__"
   ]
  },
  {
   "cell_type": "code",
   "execution_count": null,
   "metadata": {},
   "outputs": [],
   "source": [
    "from sklearn.feature_extraction.text import CountVectorizer\n",
    "\n",
    "# vect (bag of words)\n",
    "count_vect = CountVectorizer(\n",
    "    stop_words=\"english\",\n",
    "    #ngram_range=(1,2), # bigrammen\n",
    "    min_df=2, # only keep words that appear twice\n",
    "    max_df=0.5 # appears max in 50% of documents\n",
    ")\n",
    "\n",
    "X_train_counts = count_vect.fit_transform(df_selected[\"Consumer complaint narrative\"])"
   ]
  },
  {
   "cell_type": "markdown",
   "metadata": {},
   "source": [
    "__Principal components are chosen__"
   ]
  },
  {
   "cell_type": "code",
   "execution_count": 3,
   "metadata": {},
   "outputs": [
    {
     "name": "stdout",
     "output_type": "stream",
     "text": [
      "(242494, 20)\n"
     ]
    }
   ],
   "source": [
    "from sklearn.decomposition import TruncatedSVD\n",
    "\n",
    "tSVD = TruncatedSVD(n_components=20)\n",
    "\n",
    "principal_components = tSVD.fit_transform(X_train_counts)\n",
    "print(principal_components.shape)"
   ]
  },
  {
   "cell_type": "code",
   "execution_count": 4,
   "metadata": {
    "scrolled": true
   },
   "outputs": [
    {
     "name": "stdout",
     "output_type": "stream",
     "text": [
      "[[ 4.26616408 -3.37081876  0.01885175 ...  0.16645132 -0.69728048\n",
      "  -0.73026482]\n",
      " [ 3.96354958 -1.09940075  0.72588229 ...  0.38966973 -0.67378058\n",
      "  -0.72242037]\n",
      " [14.4719187   7.74607887 -1.5050687  ...  4.23931884  7.2940579\n",
      "  -2.82344571]\n",
      " ...\n",
      " [ 0.72788142  0.60665734 -0.70433433 ... -0.01592422  0.12462253\n",
      "   0.08442982]\n",
      " [ 5.77501709  4.62783088 -5.63719091 ... -1.56446705  0.5018494\n",
      "   0.81687103]\n",
      " [ 6.52529359  1.6021713   0.53302629 ...  0.6842801   0.5692837\n",
      "   0.59640081]]\n",
      "                0         1         2         3         4         5         6  \\\n",
      "0        4.266164 -3.370819  0.018852  1.006848  0.620661 -0.214125 -0.556896   \n",
      "1        3.963550 -1.099401  0.725882 -0.560909  0.338411  2.805625 -0.221218   \n",
      "2       14.471919  7.746079 -1.505069  1.585133  0.697662 -4.421009 -2.918772   \n",
      "3        2.018344  0.900111  2.367294 -0.566768 -0.509549  1.863570  0.255314   \n",
      "4        4.969348 -4.724672 -1.145415 -3.919261  3.566865  0.822860 -1.410481   \n",
      "...           ...       ...       ...       ...       ...       ...       ...   \n",
      "242489   4.176435 -0.166962  0.600454 -0.478505 -1.718617 -2.793928  1.177128   \n",
      "242490   2.560838  1.935514 -2.687967 -1.540761 -2.622552  0.080130  1.961508   \n",
      "242491   0.727881  0.606657 -0.704334 -0.322258 -0.478018  0.043628  0.216726   \n",
      "242492   5.775017  4.627831 -5.637191 -3.373760 -4.601806  0.338660  3.006798   \n",
      "242493   6.525294  1.602171  0.533026 -1.234808 -0.441525 -4.706252 -1.103533   \n",
      "\n",
      "               7         8         9        10        11        12        13  \\\n",
      "0       0.539705 -1.151617  0.349412 -0.177796  0.199887  0.183129  0.495364   \n",
      "1       0.158813 -0.593809 -0.410098 -0.471997 -0.501286  0.352839  0.263002   \n",
      "2      -1.590386  1.437419  2.333655 -5.528524 -2.083222  0.552320 -3.503907   \n",
      "3      -0.478548 -0.459422  0.724257 -0.125651 -0.632378  0.679126  1.164483   \n",
      "4       0.589983 -1.664089  0.626437 -0.112161  0.366503  0.245984  0.725426   \n",
      "...          ...       ...       ...       ...       ...       ...       ...   \n",
      "242489  0.134297 -1.442061 -0.777222  1.604989 -0.416902  0.120153 -0.175676   \n",
      "242490 -1.074295 -3.184471  0.692711  1.383147  0.993196  0.269290 -0.532194   \n",
      "242491  0.120678 -0.401723 -0.075240  0.213845  0.063821  0.033879  0.053113   \n",
      "242492 -0.833216 -1.998244 -0.973194  0.093443  0.245177 -0.051864  1.549200   \n",
      "242493  2.601105 -2.100523  3.354049  3.848024 -0.632045  0.952282 -1.713382   \n",
      "\n",
      "               14        15        16        17        18        19  \n",
      "0       -0.271649  0.623418  0.734516  0.166451 -0.697280 -0.730265  \n",
      "1        0.661741  0.437611  1.154074  0.389670 -0.673781 -0.722420  \n",
      "2       11.059757  0.961012  4.438467  4.239319  7.294058 -2.823446  \n",
      "3        0.502077 -0.153147  0.198952  0.332101 -0.617529 -0.835758  \n",
      "4        0.593361 -0.759280 -0.230943 -0.982313  0.270776 -0.972558  \n",
      "...           ...       ...       ...       ...       ...       ...  \n",
      "242489  -0.088041  0.932000 -0.806623 -0.328709 -0.315320 -0.493074  \n",
      "242490  -0.785628 -0.303847  0.060520  1.251540  0.988401 -0.778482  \n",
      "242491  -0.327828  0.278386 -0.055354 -0.015924  0.124623  0.084430  \n",
      "242492  -0.113142  2.414685  0.340240 -1.564467  0.501849  0.816871  \n",
      "242493  -0.641055  0.169239 -1.004007  0.684280  0.569284  0.596401  \n",
      "\n",
      "[242494 rows x 20 columns]\n"
     ]
    }
   ],
   "source": [
    "print(principal_components)\n",
    "principal_components_df = pd.DataFrame(principal_components)\n",
    "print(principal_components_df)"
   ]
  },
  {
   "cell_type": "markdown",
   "metadata": {},
   "source": [
    "__One hot encoding of extra columns__"
   ]
  },
  {
   "cell_type": "code",
   "execution_count": 5,
   "metadata": {},
   "outputs": [
    {
     "name": "stdout",
     "output_type": "stream",
     "text": [
      "(242494, 20)\n",
      "(242494, 146)\n",
      "(242494, 166)\n"
     ]
    }
   ],
   "source": [
    "#One hot encoding\n",
    "issue_df = pd.Categorical(df_selected['Issue'])\n",
    "\n",
    "df_dummies = pd.get_dummies(issue_df, prefix = 'issue')\n",
    "\n",
    "#X_train_counts_df = pd.DataFrame(X_train_counts)\n",
    "#print(\"DF conversion done\")\n",
    "\n",
    "print(principal_components_df.shape)\n",
    "print(df_dummies.shape)\n",
    "df_concat = pd.concat([principal_components_df, df_dummies], axis = 1)\n",
    "print(df_concat.shape)\n"
   ]
  },
  {
   "cell_type": "markdown",
   "metadata": {},
   "source": [
    "__Split into train and test__"
   ]
  },
  {
   "cell_type": "code",
   "execution_count": 6,
   "metadata": {},
   "outputs": [
    {
     "name": "stdout",
     "output_type": "stream",
     "text": [
      "(181870, 166)\n",
      "(60624, 166)\n",
      "(181870,)\n",
      "(60624,)\n"
     ]
    }
   ],
   "source": [
    "from sklearn.model_selection import train_test_split\n",
    "X_train, X_test, Y_train, Y_test = train_test_split(df_concat, df_selected['Product'])\n",
    "print(X_train.shape)\n",
    "print(X_test.shape)\n",
    "print(Y_train.shape)\n",
    "print(Y_test.shape)"
   ]
  },
  {
   "cell_type": "markdown",
   "metadata": {},
   "source": [
    "__Application of linear SVM__"
   ]
  },
  {
   "cell_type": "code",
   "execution_count": 7,
   "metadata": {
    "scrolled": false
   },
   "outputs": [
    {
     "name": "stderr",
     "output_type": "stream",
     "text": [
      "C:\\Users\\l-Larsovic-l\\anaconda3\\lib\\site-packages\\sklearn\\svm\\_base.py:947: ConvergenceWarning: Liblinear failed to converge, increase the number of iterations.\n",
      "  \"the number of iterations.\", ConvergenceWarning)\n"
     ]
    },
    {
     "name": "stdout",
     "output_type": "stream",
     "text": [
      "                                                    precision    recall  f1-score   support\n",
      "\n",
      "                           Bank account or service       1.00      1.00      1.00      3777\n",
      "                       Checking or savings account       0.99      1.00      1.00      4740\n",
      "                                     Consumer Loan       0.95      0.78      0.86      2904\n",
      "                                       Credit card       1.00      1.00      1.00      4743\n",
      "                       Credit card or prepaid card       0.99      0.95      0.97      8168\n",
      "                                  Credit reporting       1.00      1.00      1.00      7922\n",
      "                                   Debt collection       1.00      1.00      1.00      9880\n",
      "Money transfer, virtual currency, or money service       0.99      0.99      0.99      1935\n",
      "                                          Mortgage       0.99      1.00      1.00      7556\n",
      "         Payday loan, title loan, or personal loan       0.82      0.97      0.89      1343\n",
      "                                      Student loan       0.99      0.99      0.99      6157\n",
      "                             Vehicle loan or lease       0.59      0.80      0.68      1499\n",
      "\n",
      "                                          accuracy                           0.98     60624\n",
      "                                         macro avg       0.94      0.96      0.95     60624\n",
      "                                      weighted avg       0.98      0.98      0.98     60624\n",
      "\n"
     ]
    }
   ],
   "source": [
    "from sklearn import svm\n",
    "from sklearn.metrics import accuracy_score\n",
    "from sklearn.metrics import classification_report # do more stats\n",
    "\n",
    "classifier = svm.LinearSVC()\n",
    "classifier.fit(X_train, Y_train)\n",
    "\n",
    "test_predictions = classifier.predict(X_test)\n",
    "print(classification_report(test_predictions, Y_test))"
   ]
  },
  {
   "cell_type": "code",
   "execution_count": null,
   "metadata": {},
   "outputs": [],
   "source": []
  }
 ],
 "metadata": {
  "kernelspec": {
   "display_name": "Python 3",
   "language": "python",
   "name": "python3"
  },
  "language_info": {
   "codemirror_mode": {
    "name": "ipython",
    "version": 3
   },
   "file_extension": ".py",
   "mimetype": "text/x-python",
   "name": "python",
   "nbconvert_exporter": "python",
   "pygments_lexer": "ipython3",
   "version": "3.7.4"
  },
  "toc": {
   "base_numbering": 1,
   "nav_menu": {},
   "number_sections": true,
   "sideBar": true,
   "skip_h1_title": false,
   "title_cell": "Table of Contents",
   "title_sidebar": "Contents",
   "toc_cell": false,
   "toc_position": {},
   "toc_section_display": true,
   "toc_window_display": false
  }
 },
 "nbformat": 4,
 "nbformat_minor": 2
}

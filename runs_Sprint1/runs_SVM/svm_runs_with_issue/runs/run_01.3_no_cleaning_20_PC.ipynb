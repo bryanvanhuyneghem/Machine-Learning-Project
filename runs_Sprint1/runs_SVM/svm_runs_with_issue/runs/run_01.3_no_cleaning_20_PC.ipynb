{
 "cells": [
  {
   "cell_type": "markdown",
   "metadata": {},
   "source": [
    "In all versions 1.x no data gets cleaned except for the narrative. This run uses 20 different principle components."
   ]
  },
  {
   "cell_type": "markdown",
   "metadata": {},
   "source": [
    "__Initialing the data__"
   ]
  },
  {
   "cell_type": "code",
   "execution_count": 6,
   "metadata": {},
   "outputs": [],
   "source": [
    "import pandas as pd\n",
    "\n",
    "df = pd.read_csv(\"../../../complaints-2020-01-22_08_24.csv\", encoding=\"utf-8\")\n",
    "\n",
    "df_selected = df.loc[:, ('Product', 'Consumer complaint narrative', 'Issue')]"
   ]
  },
  {
   "cell_type": "markdown",
   "metadata": {},
   "source": [
    "__Functions to clean the Consumer complaint narrative__"
   ]
  },
  {
   "cell_type": "code",
   "execution_count": 7,
   "metadata": {},
   "outputs": [],
   "source": [
    "import re\n",
    "import string\n",
    "\n",
    "def clean_url(complaint):\n",
    "    # to do: more regex url garbage matching\n",
    "    complaint = re.sub('https?://(?:[-\\w.]|(?:%[\\da-fA-F]{2}))+', '', complaint)\n",
    "    complaint = re.sub('https? ?: ?// ?(?:[-\\w.]|(?:%[\\da-fA-F]{2}))+', '', complaint)\n",
    "    return complaint\n",
    "\n",
    "# Remove punctuation from complaint\n",
    "def clean_punctuation(complaint):\n",
    "    complaint = re.sub('[%s]' % re.escape(string.punctuation), '', complaint)\n",
    "    return complaint\n",
    "\n",
    "# Remove non-sensical characters from complaint\n",
    "def clean_nonsense(complaint):\n",
    "    complaint = re.sub('[''\"\"...]', '', complaint)\n",
    "    complaint = re.sub('\\n', '', complaint)\n",
    "    return complaint\n",
    "\n",
    "# Remove censored words from complaint\n",
    "def clean_censored(complaint):\n",
    "    complaint = re.sub('[XXXX]', '', complaint)\n",
    "    return complaint\n",
    "\n",
    "# Turn everything into lowercase\n",
    "def clean_lowercase(complaint):\n",
    "    complaint = complaint.lower()\n",
    "    return complaint\n",
    "\n",
    "# Remove numbers from complaint\n",
    "def clean_numbers(complaint):\n",
    "    complaint = re.sub('\\w*\\d\\w', '', complaint)\n",
    "    return complaint"
   ]
  },
  {
   "cell_type": "markdown",
   "metadata": {},
   "source": [
    "__Application of narrative cleaning__"
   ]
  },
  {
   "cell_type": "code",
   "execution_count": 8,
   "metadata": {},
   "outputs": [],
   "source": [
    "df_selected[\"Consumer complaint narrative\"] = df_selected[\"Consumer complaint narrative\"].apply(clean_url)\n",
    "df_selected[\"Consumer complaint narrative\"] = df_selected[\"Consumer complaint narrative\"].apply(clean_punctuation)\n",
    "df_selected[\"Consumer complaint narrative\"] = df_selected[\"Consumer complaint narrative\"].apply(clean_nonsense)\n",
    "df_selected[\"Consumer complaint narrative\"] = df_selected[\"Consumer complaint narrative\"].apply(clean_censored)\n",
    "df_selected[\"Consumer complaint narrative\"] = df_selected[\"Consumer complaint narrative\"].apply(clean_lowercase)\n",
    "df_selected[\"Consumer complaint narrative\"] = df_selected[\"Consumer complaint narrative\"].apply(clean_numbers)"
   ]
  },
  {
   "cell_type": "markdown",
   "metadata": {},
   "source": [
    "__Initializing the bag of words__"
   ]
  },
  {
   "cell_type": "code",
   "execution_count": 9,
   "metadata": {},
   "outputs": [],
   "source": [
    "from sklearn.feature_extraction.text import CountVectorizer\n",
    "\n",
    "# vect (bag of words)\n",
    "count_vect = CountVectorizer(\n",
    "    stop_words=\"english\",\n",
    "    #ngram_range=(1,2), # bigrammen\n",
    "    min_df=2, # only keep words that appear twice\n",
    "    max_df=0.5 # appears max in 50% of documents\n",
    ")\n",
    "\n",
    "X_train_counts = count_vect.fit_transform(df_selected[\"Consumer complaint narrative\"])"
   ]
  },
  {
   "cell_type": "markdown",
   "metadata": {},
   "source": [
    "__Principal components are chosen__"
   ]
  },
  {
   "cell_type": "code",
   "execution_count": 10,
   "metadata": {},
   "outputs": [
    {
     "name": "stdout",
     "output_type": "stream",
     "text": [
      "(485701, 20)\n"
     ]
    }
   ],
   "source": [
    "from sklearn.decomposition import TruncatedSVD\n",
    "\n",
    "tSVD = TruncatedSVD(n_components=20)\n",
    "\n",
    "principal_components = tSVD.fit_transform(X_train_counts)\n",
    "print(principal_components.shape)"
   ]
  },
  {
   "cell_type": "code",
   "execution_count": 11,
   "metadata": {},
   "outputs": [],
   "source": [
    "principal_components_df = pd.DataFrame(principal_components)"
   ]
  },
  {
   "cell_type": "markdown",
   "metadata": {},
   "source": [
    "__One hot encoding of extra columns__"
   ]
  },
  {
   "cell_type": "code",
   "execution_count": 12,
   "metadata": {},
   "outputs": [],
   "source": [
    "#One hot encoding\n",
    "df_selected['Issue'] = pd.Categorical(df_selected['Issue'])\n",
    "df_dummies = pd.get_dummies(df_selected['Issue'], prefix = 'issue')\n",
    "\n",
    "df_concat = pd.concat([principal_components_df, df_dummies], axis = 1)"
   ]
  },
  {
   "cell_type": "markdown",
   "metadata": {},
   "source": [
    "__Split into train and test__"
   ]
  },
  {
   "cell_type": "code",
   "execution_count": 13,
   "metadata": {},
   "outputs": [
    {
     "name": "stdout",
     "output_type": "stream",
     "text": [
      "(364275, 181)\n",
      "(121426, 181)\n",
      "(364275,)\n",
      "(121426,)\n"
     ]
    }
   ],
   "source": [
    "from sklearn.model_selection import train_test_split\n",
    "X_train, X_test, Y_train, Y_test = train_test_split(df_concat, df_selected['Product'])\n",
    "print(X_train.shape)\n",
    "print(X_test.shape)\n",
    "print(Y_train.shape)\n",
    "print(Y_test.shape)"
   ]
  },
  {
   "cell_type": "markdown",
   "metadata": {},
   "source": [
    "__Application of linear SVM__"
   ]
  },
  {
   "cell_type": "code",
   "execution_count": 14,
   "metadata": {
    "scrolled": true
   },
   "outputs": [
    {
     "name": "stderr",
     "output_type": "stream",
     "text": [
      "C:\\Users\\l-Larsovic-l\\anaconda3\\lib\\site-packages\\sklearn\\svm\\_base.py:947: ConvergenceWarning: Liblinear failed to converge, increase the number of iterations.\n",
      "  \"the number of iterations.\", ConvergenceWarning)\n",
      "C:\\Users\\l-Larsovic-l\\anaconda3\\lib\\site-packages\\sklearn\\metrics\\_classification.py:1272: UndefinedMetricWarning: Recall and F-score are ill-defined and being set to 0.0 in labels with no true samples. Use `zero_division` parameter to control this behavior.\n",
      "  _warn_prf(average, modifier, msg_start, len(result))\n"
     ]
    },
    {
     "name": "stdout",
     "output_type": "stream",
     "text": [
      "                                                                              precision    recall  f1-score   support\n",
      "\n",
      "                                                     Bank account or service       1.00      1.00      1.00      3761\n",
      "                                                 Checking or savings account       0.99      1.00      1.00      4718\n",
      "                                                               Consumer Loan       0.96      0.78      0.86      2932\n",
      "                                                                 Credit card       1.00      1.00      1.00      4630\n",
      "                                                 Credit card or prepaid card       0.95      0.97      0.96      7785\n",
      "                                                            Credit reporting       1.00      1.00      1.00      7811\n",
      "Credit reporting, credit repair services, or other personal consumer reports       1.00      0.97      0.98     36530\n",
      "                                                             Debt collection       1.00      1.00      1.00     26429\n",
      "                          Money transfer, virtual currency, or money service       0.96      0.82      0.89      2246\n",
      "                                                             Money transfers       0.42      0.98      0.59       162\n",
      "                                                                    Mortgage       0.99      1.00      0.99     15136\n",
      "                                                     Other financial service       0.33      0.93      0.49        27\n",
      "                                                                 Payday loan       1.00      0.91      0.95       473\n",
      "                                   Payday loan, title loan, or personal loan       0.69      0.99      0.81      1113\n",
      "                                                                Prepaid card       0.81      0.98      0.88       294\n",
      "                                                                Student loan       0.97      1.00      0.98      6005\n",
      "                                                       Vehicle loan or lease       0.54      0.78      0.63      1374\n",
      "                                                            Virtual currency       0.00      0.00      0.00         0\n",
      "\n",
      "                                                                    accuracy                           0.98    121426\n",
      "                                                                   macro avg       0.81      0.89      0.83    121426\n",
      "                                                                weighted avg       0.98      0.98      0.98    121426\n",
      "\n"
     ]
    }
   ],
   "source": [
    "from sklearn import svm\n",
    "from sklearn.metrics import accuracy_score\n",
    "from sklearn.metrics import classification_report # do more stats\n",
    "\n",
    "classifier = svm.LinearSVC()\n",
    "classifier.fit(X_train, Y_train)\n",
    "\n",
    "test_predictions = classifier.predict(X_test)\n",
    "print(classification_report(test_predictions, Y_test))"
   ]
  },
  {
   "cell_type": "code",
   "execution_count": null,
   "metadata": {},
   "outputs": [],
   "source": []
  }
 ],
 "metadata": {
  "kernelspec": {
   "display_name": "Python 3",
   "language": "python",
   "name": "python3"
  },
  "language_info": {
   "codemirror_mode": {
    "name": "ipython",
    "version": 3
   },
   "file_extension": ".py",
   "mimetype": "text/x-python",
   "name": "python",
   "nbconvert_exporter": "python",
   "pygments_lexer": "ipython3",
   "version": "3.7.4"
  },
  "toc": {
   "base_numbering": 1,
   "nav_menu": {},
   "number_sections": true,
   "sideBar": true,
   "skip_h1_title": false,
   "title_cell": "Table of Contents",
   "title_sidebar": "Contents",
   "toc_cell": false,
   "toc_position": {},
   "toc_section_display": true,
   "toc_window_display": false
  }
 },
 "nbformat": 4,
 "nbformat_minor": 2
}

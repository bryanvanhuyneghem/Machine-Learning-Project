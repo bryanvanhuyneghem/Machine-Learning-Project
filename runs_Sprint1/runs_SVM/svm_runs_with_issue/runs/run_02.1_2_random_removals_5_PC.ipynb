{
 "cells": [
  {
   "cell_type": "markdown",
   "metadata": {},
   "source": [
    "In all versions 2.x the narrative gets cleaned as before and products are cleaned twice. The first time half of the three most occuring entries in __Product__ are randomly removed. The second time the same happens with the six most occuring ones. This run uses 5 different principle components."
   ]
  },
  {
   "cell_type": "markdown",
   "metadata": {},
   "source": [
    "__Initialing the data__"
   ]
  },
  {
   "cell_type": "code",
   "execution_count": 2,
   "metadata": {},
   "outputs": [
    {
     "name": "stdout",
     "output_type": "stream",
     "text": [
      "nulls in df_selected: 3\n"
     ]
    }
   ],
   "source": [
    "import pandas as pd\n",
    "\n",
    "df_selected1 = pd.read_csv(\"../balanced_data/corpus_balanced_cleaned_lemmatized_both.csv\", encoding=\"utf-8\")\n",
    "\n",
    "print(\"nulls in df_selected:\", df_selected1[\"Consumer complaint narrative\"].isnull().sum())\n",
    "df_selected = df_selected1.dropna()"
   ]
  },
  {
   "cell_type": "markdown",
   "metadata": {},
   "source": [
    "__Initializing the bag of words__"
   ]
  },
  {
   "cell_type": "code",
   "execution_count": 3,
   "metadata": {},
   "outputs": [],
   "source": [
    "from sklearn.feature_extraction.text import CountVectorizer\n",
    "\n",
    "# vect (bag of words)\n",
    "count_vect = CountVectorizer(\n",
    "    stop_words=\"english\",\n",
    "    #ngram_range=(1,2), # bigrammen\n",
    "    min_df=2, # only keep words that appear twice\n",
    "    max_df=0.5 # appears max in 50% of documents\n",
    ")\n",
    "\n",
    "X_train_counts = count_vect.fit_transform(df_selected[\"Consumer complaint narrative\"])"
   ]
  },
  {
   "cell_type": "markdown",
   "metadata": {},
   "source": [
    "__Principal components are chosen__"
   ]
  },
  {
   "cell_type": "code",
   "execution_count": 4,
   "metadata": {},
   "outputs": [
    {
     "name": "stdout",
     "output_type": "stream",
     "text": [
      "(208872, 5)\n"
     ]
    }
   ],
   "source": [
    "from sklearn.decomposition import TruncatedSVD\n",
    "\n",
    "tSVD = TruncatedSVD(n_components=5)\n",
    "\n",
    "principal_components = tSVD.fit_transform(X_train_counts)\n",
    "print(principal_components.shape)"
   ]
  },
  {
   "cell_type": "code",
   "execution_count": 5,
   "metadata": {
    "scrolled": true
   },
   "outputs": [
    {
     "name": "stdout",
     "output_type": "stream",
     "text": [
      "[[ 4.18578609 -3.61092799  0.13197781  0.78822846  0.12734307]\n",
      " [ 3.99741843 -1.19769356  0.72043814 -0.68818075  0.31232516]\n",
      " [ 2.08671505  0.90257542  2.2977584  -0.95105684 -0.47205625]\n",
      " ...\n",
      " [ 8.09025741 -8.10549452 -1.76294362 -6.57218189  8.90049378]\n",
      " [ 5.24479333 -5.01219469 -0.97876904 -2.41989919  3.06272885]\n",
      " [ 3.8196355  -2.15453383  0.58298244 -1.84334449  2.81534325]]\n",
      "                0          1         2         3         4\n",
      "0        4.185786  -3.610928  0.131978  0.788228  0.127343\n",
      "1        3.997418  -1.197694  0.720438 -0.688181  0.312325\n",
      "2        2.086715   0.902575  2.297758 -0.951057 -0.472056\n",
      "3       24.306424 -15.933382  3.728391  8.876167 -9.848902\n",
      "4        3.268770   0.855641  2.253067 -1.290437 -0.392561\n",
      "...           ...        ...       ...       ...       ...\n",
      "208867   6.923291  -4.363558  1.390731 -1.148501  1.043125\n",
      "208868   8.448625  -3.973068 -0.027313 -5.175088  6.178807\n",
      "208869   8.090257  -8.105495 -1.762944 -6.572182  8.900494\n",
      "208870   5.244793  -5.012195 -0.978769 -2.419899  3.062729\n",
      "208871   3.819635  -2.154534  0.582982 -1.843344  2.815343\n",
      "\n",
      "[208872 rows x 5 columns]\n"
     ]
    }
   ],
   "source": [
    "print(principal_components)\n",
    "principal_components_df = pd.DataFrame(principal_components)\n",
    "print(principal_components_df)"
   ]
  },
  {
   "cell_type": "markdown",
   "metadata": {},
   "source": [
    "__One hot encoding of extra columns__"
   ]
  },
  {
   "cell_type": "code",
   "execution_count": 7,
   "metadata": {},
   "outputs": [
    {
     "name": "stdout",
     "output_type": "stream",
     "text": [
      "(208872, 5)\n",
      "(208872, 161)\n",
      "(208872, 166)\n"
     ]
    }
   ],
   "source": [
    "#One hot encoding\n",
    "issue_df = pd.Categorical(df_selected['Issue'])\n",
    "\n",
    "df_dummies = pd.get_dummies(issue_df, prefix = 'issue')\n",
    "\n",
    "#X_train_counts_df = pd.DataFrame(X_train_counts)\n",
    "#print(\"DF conversion done\")\n",
    "\n",
    "print(principal_components_df.shape)\n",
    "print(df_dummies.shape)\n",
    "df_concat = pd.concat([principal_components_df, df_dummies], axis = 1)\n",
    "print(df_concat.shape)\n"
   ]
  },
  {
   "cell_type": "markdown",
   "metadata": {},
   "source": [
    "__Split into train and test__"
   ]
  },
  {
   "cell_type": "code",
   "execution_count": 8,
   "metadata": {},
   "outputs": [
    {
     "name": "stdout",
     "output_type": "stream",
     "text": [
      "(156654, 166)\n",
      "(52218, 166)\n",
      "(156654,)\n",
      "(52218,)\n"
     ]
    }
   ],
   "source": [
    "from sklearn.model_selection import train_test_split\n",
    "X_train, X_test, Y_train, Y_test = train_test_split(df_concat, df_selected['Product'])\n",
    "print(X_train.shape)\n",
    "print(X_test.shape)\n",
    "print(Y_train.shape)\n",
    "print(Y_test.shape)"
   ]
  },
  {
   "cell_type": "markdown",
   "metadata": {},
   "source": [
    "__Application of linear SVM__"
   ]
  },
  {
   "cell_type": "code",
   "execution_count": 9,
   "metadata": {
    "scrolled": false
   },
   "outputs": [
    {
     "name": "stderr",
     "output_type": "stream",
     "text": [
      "C:\\Users\\l-Larsovic-l\\anaconda3\\lib\\site-packages\\sklearn\\svm\\_base.py:947: ConvergenceWarning: Liblinear failed to converge, increase the number of iterations.\n",
      "  \"the number of iterations.\", ConvergenceWarning)\n",
      "C:\\Users\\l-Larsovic-l\\anaconda3\\lib\\site-packages\\sklearn\\metrics\\_classification.py:1272: UndefinedMetricWarning: Recall and F-score are ill-defined and being set to 0.0 in labels with no true samples. Use `zero_division` parameter to control this behavior.\n",
      "  _warn_prf(average, modifier, msg_start, len(result))\n"
     ]
    },
    {
     "name": "stdout",
     "output_type": "stream",
     "text": [
      "                                                                              precision    recall  f1-score   support\n",
      "\n",
      "                                                     Bank account or service       1.00      1.00      1.00      3763\n",
      "                                                 Checking or savings account       0.99      1.00      1.00      4713\n",
      "                                                               Consumer Loan       0.95      0.76      0.85      2933\n",
      "                                                                 Credit card       1.00      1.00      1.00      4680\n",
      "                                                 Credit card or prepaid card       0.95      0.96      0.96      4657\n",
      "                                                            Credit reporting       1.00      1.00      1.00      4739\n",
      "Credit reporting, credit repair services, or other personal consumer reports       0.99      0.86      0.92      6081\n",
      "                                                             Debt collection       1.00      1.00      1.00      5259\n",
      "                          Money transfer, virtual currency, or money service       0.99      0.83      0.90      2283\n",
      "                                                             Money transfers       0.40      0.99      0.57       158\n",
      "                                                                    Mortgage       0.99      1.00      0.99      4490\n",
      "                                                     Other financial service       0.47      0.88      0.61        34\n",
      "                                                                 Payday loan       1.00      0.89      0.94       513\n",
      "                                   Payday loan, title loan, or personal loan       0.66      0.99      0.79      1043\n",
      "                                                                Prepaid card       0.81      0.99      0.89       308\n",
      "                                                                Student loan       0.97      1.00      0.98      5145\n",
      "                                                       Vehicle loan or lease       0.53      0.77      0.63      1419\n",
      "                                                            Virtual currency       0.00      0.00      0.00         0\n",
      "\n",
      "                                                                    accuracy                           0.95     52218\n",
      "                                                                   macro avg       0.82      0.88      0.84     52218\n",
      "                                                                weighted avg       0.96      0.95      0.95     52218\n",
      "\n"
     ]
    }
   ],
   "source": [
    "from sklearn import svm\n",
    "from sklearn.metrics import accuracy_score\n",
    "from sklearn.metrics import classification_report # do more stats\n",
    "\n",
    "classifier = svm.LinearSVC()\n",
    "classifier.fit(X_train, Y_train)\n",
    "\n",
    "test_predictions = classifier.predict(X_test)\n",
    "print(classification_report(test_predictions, Y_test))"
   ]
  },
  {
   "cell_type": "code",
   "execution_count": null,
   "metadata": {},
   "outputs": [],
   "source": []
  }
 ],
 "metadata": {
  "kernelspec": {
   "display_name": "Python 3",
   "language": "python",
   "name": "python3"
  },
  "language_info": {
   "codemirror_mode": {
    "name": "ipython",
    "version": 3
   },
   "file_extension": ".py",
   "mimetype": "text/x-python",
   "name": "python",
   "nbconvert_exporter": "python",
   "pygments_lexer": "ipython3",
   "version": "3.7.4"
  },
  "toc": {
   "base_numbering": 1,
   "nav_menu": {},
   "number_sections": true,
   "sideBar": true,
   "skip_h1_title": false,
   "title_cell": "Table of Contents",
   "title_sidebar": "Contents",
   "toc_cell": false,
   "toc_position": {},
   "toc_section_display": true,
   "toc_window_display": false
  }
 },
 "nbformat": 4,
 "nbformat_minor": 2
}

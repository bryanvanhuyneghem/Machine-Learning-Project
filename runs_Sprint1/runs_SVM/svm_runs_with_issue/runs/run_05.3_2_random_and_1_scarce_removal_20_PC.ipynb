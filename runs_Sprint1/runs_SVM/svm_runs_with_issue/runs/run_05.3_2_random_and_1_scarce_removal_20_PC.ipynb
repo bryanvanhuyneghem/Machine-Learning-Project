{
 "cells": [
  {
   "cell_type": "markdown",
   "metadata": {},
   "source": [
    "In all versions 5.x the narrative gets cleaned as before and products are cleaned three times. The first time half of the three most occuring entries in __Product__ are randomly removed. The second time the same happens with the six most occuring ones. Finally, the components that almost never occur are removed. This run uses 20 different principle components. "
   ]
  },
  {
   "cell_type": "markdown",
   "metadata": {},
   "source": [
    "__Initialing the data__"
   ]
  },
  {
   "cell_type": "code",
   "execution_count": 1,
   "metadata": {},
   "outputs": [
    {
     "name": "stdout",
     "output_type": "stream",
     "text": [
      "nulls in df_selected: 5\n"
     ]
    }
   ],
   "source": [
    "import pandas as pd\n",
    "\n",
    "df_selected1 = pd.read_csv(\"../balanced_data/corpus_balanced_cleaned_lemmatized_both_scarce_elimination.csv\", encoding=\"utf-8\")\n",
    "\n",
    "print(\"nulls in df_selected:\", df_selected1[\"Consumer complaint narrative\"].isnull().sum())\n",
    "df_selected = df_selected1.dropna()"
   ]
  },
  {
   "cell_type": "markdown",
   "metadata": {},
   "source": [
    "__Initializing the bag of words__"
   ]
  },
  {
   "cell_type": "code",
   "execution_count": 2,
   "metadata": {},
   "outputs": [],
   "source": [
    "from sklearn.feature_extraction.text import CountVectorizer\n",
    "\n",
    "# vect (bag of words)\n",
    "count_vect = CountVectorizer(\n",
    "    stop_words=\"english\",\n",
    "    #ngram_range=(1,2), # bigrammen\n",
    "    min_df=2, # only keep words that appear twice\n",
    "    max_df=0.5 # appears max in 50% of documents\n",
    ")\n",
    "\n",
    "X_train_counts = count_vect.fit_transform(df_selected[\"Consumer complaint narrative\"])"
   ]
  },
  {
   "cell_type": "markdown",
   "metadata": {},
   "source": [
    "__Principal components are chosen__"
   ]
  },
  {
   "cell_type": "code",
   "execution_count": 3,
   "metadata": {},
   "outputs": [
    {
     "name": "stdout",
     "output_type": "stream",
     "text": [
      "(203869, 20)\n"
     ]
    }
   ],
   "source": [
    "from sklearn.decomposition import TruncatedSVD\n",
    "\n",
    "tSVD = TruncatedSVD(n_components=20)\n",
    "\n",
    "principal_components = tSVD.fit_transform(X_train_counts)\n",
    "print(principal_components.shape)"
   ]
  },
  {
   "cell_type": "code",
   "execution_count": null,
   "metadata": {},
   "outputs": [],
   "source": [
    "print(principal_components)\n",
    "principal_components_df = pd.DataFrame(principal_components)\n",
    "print(principal_components_df)"
   ]
  },
  {
   "cell_type": "markdown",
   "metadata": {},
   "source": [
    "__One hot encoding of extra columns__"
   ]
  },
  {
   "cell_type": "code",
   "execution_count": 5,
   "metadata": {},
   "outputs": [
    {
     "name": "stdout",
     "output_type": "stream",
     "text": [
      "(203869, 20)\n",
      "(203869, 149)\n",
      "(203869, 169)\n"
     ]
    }
   ],
   "source": [
    "#One hot encoding\n",
    "issue_df = pd.Categorical(df_selected['Issue'])\n",
    "\n",
    "df_dummies = pd.get_dummies(issue_df, prefix = 'issue')\n",
    "\n",
    "#X_train_counts_df = pd.DataFrame(X_train_counts)\n",
    "#print(\"DF conversion done\")\n",
    "\n",
    "print(principal_components_df.shape)\n",
    "print(df_dummies.shape)\n",
    "df_concat = pd.concat([principal_components_df, df_dummies], axis = 1)\n",
    "print(df_concat.shape)\n"
   ]
  },
  {
   "cell_type": "markdown",
   "metadata": {},
   "source": [
    "__Split into train and test__"
   ]
  },
  {
   "cell_type": "code",
   "execution_count": 6,
   "metadata": {},
   "outputs": [
    {
     "name": "stdout",
     "output_type": "stream",
     "text": [
      "(152901, 169)\n",
      "(50968, 169)\n",
      "(152901,)\n",
      "(50968,)\n"
     ]
    }
   ],
   "source": [
    "from sklearn.model_selection import train_test_split\n",
    "X_train, X_test, Y_train, Y_test = train_test_split(df_concat, df_selected['Product'])\n",
    "print(X_train.shape)\n",
    "print(X_test.shape)\n",
    "print(Y_train.shape)\n",
    "print(Y_test.shape)"
   ]
  },
  {
   "cell_type": "markdown",
   "metadata": {},
   "source": [
    "__Application of linear SVM__"
   ]
  },
  {
   "cell_type": "code",
   "execution_count": 7,
   "metadata": {
    "scrolled": false
   },
   "outputs": [
    {
     "name": "stderr",
     "output_type": "stream",
     "text": [
      "C:\\Users\\l-Larsovic-l\\anaconda3\\lib\\site-packages\\sklearn\\svm\\_base.py:947: ConvergenceWarning: Liblinear failed to converge, increase the number of iterations.\n",
      "  \"the number of iterations.\", ConvergenceWarning)\n"
     ]
    },
    {
     "name": "stdout",
     "output_type": "stream",
     "text": [
      "                                                                              precision    recall  f1-score   support\n",
      "\n",
      "                                                     Bank account or service       1.00      1.00      1.00      3679\n",
      "                                                 Checking or savings account       0.99      1.00      1.00      4776\n",
      "                                                               Consumer Loan       0.96      0.78      0.86      2979\n",
      "                                                                 Credit card       1.00      1.00      1.00      4594\n",
      "                                                 Credit card or prepaid card       0.96      0.96      0.96      4655\n",
      "                                                            Credit reporting       1.00      1.00      1.00      4767\n",
      "Credit reporting, credit repair services, or other personal consumer reports       0.99      0.88      0.93      6080\n",
      "                                                             Debt collection       1.00      1.00      1.00      5331\n",
      "                          Money transfer, virtual currency, or money service       0.99      0.99      0.99      1930\n",
      "                                                                    Mortgage       0.99      1.00      0.99      4474\n",
      "                                   Payday loan, title loan, or personal loan       0.81      0.97      0.88      1343\n",
      "                                                                Student loan       0.97      1.00      0.98      5130\n",
      "                                                       Vehicle loan or lease       0.53      0.86      0.66      1230\n",
      "\n",
      "                                                                    accuracy                           0.96     50968\n",
      "                                                                   macro avg       0.94      0.96      0.94     50968\n",
      "                                                                weighted avg       0.97      0.96      0.97     50968\n",
      "\n"
     ]
    }
   ],
   "source": [
    "from sklearn import svm\n",
    "from sklearn.metrics import accuracy_score\n",
    "from sklearn.metrics import classification_report # do more stats\n",
    "\n",
    "classifier = svm.LinearSVC()\n",
    "classifier.fit(X_train, Y_train)\n",
    "\n",
    "test_predictions = classifier.predict(X_test)\n",
    "print(classification_report(test_predictions, Y_test))"
   ]
  },
  {
   "cell_type": "code",
   "execution_count": null,
   "metadata": {},
   "outputs": [],
   "source": []
  }
 ],
 "metadata": {
  "kernelspec": {
   "display_name": "Python 3",
   "language": "python",
   "name": "python3"
  },
  "language_info": {
   "codemirror_mode": {
    "name": "ipython",
    "version": 3
   },
   "file_extension": ".py",
   "mimetype": "text/x-python",
   "name": "python",
   "nbconvert_exporter": "python",
   "pygments_lexer": "ipython3",
   "version": "3.7.4"
  },
  "toc": {
   "base_numbering": 1,
   "nav_menu": {},
   "number_sections": true,
   "sideBar": true,
   "skip_h1_title": false,
   "title_cell": "Table of Contents",
   "title_sidebar": "Contents",
   "toc_cell": false,
   "toc_position": {},
   "toc_section_display": true,
   "toc_window_display": false
  }
 },
 "nbformat": 4,
 "nbformat_minor": 2
}

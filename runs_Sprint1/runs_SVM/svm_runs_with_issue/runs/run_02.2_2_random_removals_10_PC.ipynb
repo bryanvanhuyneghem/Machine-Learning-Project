{
 "cells": [
  {
   "cell_type": "markdown",
   "metadata": {},
   "source": [
    "In all versions 2.x the narrative gets cleaned as before and products are cleaned twice. The first time half of the three most occuring entries in __Product__ are randomly removed. The second time the same happens with the six most occuring ones. This run uses 10 different principle components."
   ]
  },
  {
   "cell_type": "markdown",
   "metadata": {},
   "source": [
    "__Initialing the data__"
   ]
  },
  {
   "cell_type": "code",
   "execution_count": 8,
   "metadata": {},
   "outputs": [
    {
     "name": "stdout",
     "output_type": "stream",
     "text": [
      "nulls in df_selected: 3\n"
     ]
    }
   ],
   "source": [
    "import pandas as pd\n",
    "\n",
    "df_selected1 = pd.read_csv(\"../balanced_data/corpus_balanced_cleaned_lemmatized_both.csv\", encoding=\"utf-8\")\n",
    "\n",
    "print(\"nulls in df_selected:\", df_selected1[\"Consumer complaint narrative\"].isnull().sum())\n",
    "df_selected = df_selected1.dropna()"
   ]
  },
  {
   "cell_type": "markdown",
   "metadata": {},
   "source": [
    "__Initializing the bag of words__"
   ]
  },
  {
   "cell_type": "code",
   "execution_count": 9,
   "metadata": {},
   "outputs": [],
   "source": [
    "from sklearn.feature_extraction.text import CountVectorizer\n",
    "\n",
    "# vect (bag of words)\n",
    "count_vect = CountVectorizer(\n",
    "    stop_words=\"english\",\n",
    "    #ngram_range=(1,2), # bigrammen\n",
    "    min_df=2, # only keep words that appear twice\n",
    "    max_df=0.5 # appears max in 50% of documents\n",
    ")\n",
    "\n",
    "X_train_counts = count_vect.fit_transform(df_selected[\"Consumer complaint narrative\"])"
   ]
  },
  {
   "cell_type": "markdown",
   "metadata": {},
   "source": [
    "__Principal components are chosen__"
   ]
  },
  {
   "cell_type": "code",
   "execution_count": 10,
   "metadata": {},
   "outputs": [
    {
     "name": "stdout",
     "output_type": "stream",
     "text": [
      "(208872, 10)\n"
     ]
    }
   ],
   "source": [
    "from sklearn.decomposition import TruncatedSVD\n",
    "\n",
    "tSVD = TruncatedSVD(n_components=10)\n",
    "\n",
    "principal_components = tSVD.fit_transform(X_train_counts)\n",
    "print(principal_components.shape)"
   ]
  },
  {
   "cell_type": "code",
   "execution_count": 11,
   "metadata": {},
   "outputs": [
    {
     "name": "stdout",
     "output_type": "stream",
     "text": [
      "[[ 4.18578621 -3.61074476  0.13379118 ... -0.47769417 -0.72143028\n",
      "   0.83083891]\n",
      " [ 3.99741845 -1.1975272   0.72272862 ... -0.18135558 -0.12623301\n",
      "  -0.11902317]\n",
      " [ 2.08671497  0.90268685  2.29909557 ... -0.03070652  0.66966474\n",
      "   0.79917863]\n",
      " ...\n",
      " [ 8.09025727 -8.10500172 -1.75889552 ... -1.68269286 -2.31766757\n",
      "   1.70611601]\n",
      " [ 5.24479353 -5.0118109  -0.97536482 ... -1.20185751 -0.8614178\n",
      "  -0.65661415]\n",
      " [ 3.81963549 -2.15467603  0.5804621  ... -0.37329915 -1.53251186\n",
      "   0.49740042]]\n",
      "                0          1         2         3         4         5  \\\n",
      "0        4.185786  -3.610745  0.133791  0.789644  0.120347 -0.061496   \n",
      "1        3.997418  -1.197527  0.722729 -0.687870  0.304083  0.013298   \n",
      "2        2.086715   0.902687  2.299096 -0.951874 -0.480134  0.328047   \n",
      "3       24.306424 -15.933717  3.726543  8.877398 -9.840651  3.538600   \n",
      "4        3.268770   0.855807  2.254020 -1.288967 -0.392812 -0.068501   \n",
      "...           ...        ...       ...       ...       ...       ...   \n",
      "208867   6.923291  -4.363144  1.394653 -1.145433  1.031074  0.222754   \n",
      "208868   8.448625  -3.973329 -0.029635 -5.179435  6.181591 -1.528769   \n",
      "208869   8.090257  -8.105002 -1.758896 -6.571985  8.882223 -1.644768   \n",
      "208870   5.244794  -5.011811 -0.975365 -2.416852  3.054820  0.089090   \n",
      "208871   3.819635  -2.154676  0.580462 -1.844193  2.824101 -1.136493   \n",
      "\n",
      "               6         7         8         9  \n",
      "0      -0.213966 -0.477694 -0.721430  0.830839  \n",
      "1       2.749587 -0.181356 -0.126233 -0.119023  \n",
      "2       1.710782 -0.030707  0.669665  0.799179  \n",
      "3       6.989331  0.355517  2.530820 -2.590708  \n",
      "4      -0.898940  1.364342  0.321118 -0.227515  \n",
      "...          ...       ...       ...       ...  \n",
      "208867  2.621421 -0.198137 -0.548929 -1.246845  \n",
      "208868 -1.970042  0.462774 -0.778060  0.329309  \n",
      "208869  1.992351 -1.682693 -2.317668  1.706116  \n",
      "208870  1.633971 -1.201858 -0.861418 -0.656614  \n",
      "208871 -1.239293 -0.373299 -1.532512  0.497400  \n",
      "\n",
      "[208872 rows x 10 columns]\n"
     ]
    }
   ],
   "source": [
    "print(principal_components)\n",
    "principal_components_df = pd.DataFrame(principal_components)\n",
    "print(principal_components_df)"
   ]
  },
  {
   "cell_type": "markdown",
   "metadata": {},
   "source": [
    "__One hot encoding of extra columns__"
   ]
  },
  {
   "cell_type": "code",
   "execution_count": 12,
   "metadata": {},
   "outputs": [
    {
     "name": "stdout",
     "output_type": "stream",
     "text": [
      "(208872, 10)\n",
      "(208872, 161)\n",
      "(208872, 171)\n"
     ]
    }
   ],
   "source": [
    "#One hot encoding\n",
    "issue_df = pd.Categorical(df_selected['Issue'])\n",
    "\n",
    "df_dummies = pd.get_dummies(issue_df, prefix = 'issue')\n",
    "\n",
    "#X_train_counts_df = pd.DataFrame(X_train_counts)\n",
    "#print(\"DF conversion done\")\n",
    "\n",
    "print(principal_components_df.shape)\n",
    "print(df_dummies.shape)\n",
    "df_concat = pd.concat([principal_components_df, df_dummies], axis = 1)\n",
    "print(df_concat.shape)\n"
   ]
  },
  {
   "cell_type": "markdown",
   "metadata": {},
   "source": [
    "__Split into train and test__"
   ]
  },
  {
   "cell_type": "code",
   "execution_count": 13,
   "metadata": {},
   "outputs": [
    {
     "name": "stdout",
     "output_type": "stream",
     "text": [
      "(156654, 171)\n",
      "(52218, 171)\n",
      "(156654,)\n",
      "(52218,)\n"
     ]
    }
   ],
   "source": [
    "from sklearn.model_selection import train_test_split\n",
    "X_train, X_test, Y_train, Y_test = train_test_split(df_concat, df_selected['Product'])\n",
    "print(X_train.shape)\n",
    "print(X_test.shape)\n",
    "print(Y_train.shape)\n",
    "print(Y_test.shape)"
   ]
  },
  {
   "cell_type": "markdown",
   "metadata": {},
   "source": [
    "__Application of linear SVM__"
   ]
  },
  {
   "cell_type": "code",
   "execution_count": 14,
   "metadata": {
    "scrolled": false
   },
   "outputs": [
    {
     "name": "stderr",
     "output_type": "stream",
     "text": [
      "C:\\Users\\l-Larsovic-l\\anaconda3\\lib\\site-packages\\sklearn\\svm\\_base.py:947: ConvergenceWarning: Liblinear failed to converge, increase the number of iterations.\n",
      "  \"the number of iterations.\", ConvergenceWarning)\n",
      "C:\\Users\\l-Larsovic-l\\anaconda3\\lib\\site-packages\\sklearn\\metrics\\_classification.py:1272: UndefinedMetricWarning: Recall and F-score are ill-defined and being set to 0.0 in labels with no true samples. Use `zero_division` parameter to control this behavior.\n",
      "  _warn_prf(average, modifier, msg_start, len(result))\n"
     ]
    },
    {
     "name": "stdout",
     "output_type": "stream",
     "text": [
      "                                                                              precision    recall  f1-score   support\n",
      "\n",
      "                                                     Bank account or service       1.00      1.00      1.00      3721\n",
      "                                                 Checking or savings account       0.99      1.00      1.00      4791\n",
      "                                                               Consumer Loan       0.94      0.78      0.85      2882\n",
      "                                                                 Credit card       1.00      1.00      1.00      4675\n",
      "                                                 Credit card or prepaid card       0.95      0.96      0.96      4579\n",
      "                                                            Credit reporting       1.00      1.00      1.00      4721\n",
      "Credit reporting, credit repair services, or other personal consumer reports       0.99      0.86      0.92      6102\n",
      "                                                             Debt collection       1.00      1.00      1.00      5306\n",
      "                          Money transfer, virtual currency, or money service       0.99      0.85      0.91      2265\n",
      "                                                             Money transfers       0.45      0.98      0.62       172\n",
      "                                                                    Mortgage       0.99      1.00      0.99      4482\n",
      "                                                     Other financial service       0.47      0.86      0.61        42\n",
      "                                                                 Payday loan       1.00      0.90      0.95       492\n",
      "                                   Payday loan, title loan, or personal loan       0.71      0.99      0.82      1106\n",
      "                                                                Prepaid card       0.81      0.99      0.89       288\n",
      "                                                                Student loan       0.97      1.00      0.98      5169\n",
      "                                                       Vehicle loan or lease       0.54      0.76      0.63      1425\n",
      "                                                            Virtual currency       0.00      0.00      0.00         0\n",
      "\n",
      "                                                                    accuracy                           0.95     52218\n",
      "                                                                   macro avg       0.82      0.89      0.84     52218\n",
      "                                                                weighted avg       0.96      0.95      0.96     52218\n",
      "\n"
     ]
    }
   ],
   "source": [
    "from sklearn import svm\n",
    "from sklearn.metrics import accuracy_score\n",
    "from sklearn.metrics import classification_report # do more stats\n",
    "\n",
    "classifier = svm.LinearSVC()\n",
    "classifier.fit(X_train, Y_train)\n",
    "\n",
    "test_predictions = classifier.predict(X_test)\n",
    "print(classification_report(test_predictions, Y_test))"
   ]
  },
  {
   "cell_type": "code",
   "execution_count": null,
   "metadata": {},
   "outputs": [],
   "source": []
  }
 ],
 "metadata": {
  "kernelspec": {
   "display_name": "Python 3",
   "language": "python",
   "name": "python3"
  },
  "language_info": {
   "codemirror_mode": {
    "name": "ipython",
    "version": 3
   },
   "file_extension": ".py",
   "mimetype": "text/x-python",
   "name": "python",
   "nbconvert_exporter": "python",
   "pygments_lexer": "ipython3",
   "version": "3.7.4"
  },
  "toc": {
   "base_numbering": 1,
   "nav_menu": {},
   "number_sections": true,
   "sideBar": true,
   "skip_h1_title": false,
   "title_cell": "Table of Contents",
   "title_sidebar": "Contents",
   "toc_cell": false,
   "toc_position": {},
   "toc_section_display": true,
   "toc_window_display": false
  }
 },
 "nbformat": 4,
 "nbformat_minor": 2
}

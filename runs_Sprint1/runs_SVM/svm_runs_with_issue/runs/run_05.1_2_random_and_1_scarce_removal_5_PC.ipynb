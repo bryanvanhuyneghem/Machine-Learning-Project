{
 "cells": [
  {
   "cell_type": "markdown",
   "metadata": {},
   "source": [
    "In all versions 5.x the narrative gets cleaned as before and products are cleaned three times. The first time half of the three most occuring entries in __Product__ are randomly removed. The second time the same happens with the six most occuring ones. Finally, the components that almost never occur are removed. This run uses 5 different principle components. "
   ]
  },
  {
   "cell_type": "markdown",
   "metadata": {},
   "source": [
    "__Initialing the data__"
   ]
  },
  {
   "cell_type": "code",
   "execution_count": 1,
   "metadata": {},
   "outputs": [
    {
     "name": "stdout",
     "output_type": "stream",
     "text": [
      "nulls in df_selected: 5\n"
     ]
    }
   ],
   "source": [
    "import pandas as pd\n",
    "\n",
    "df_selected1 = pd.read_csv(\"../balanced_data/corpus_balanced_cleaned_lemmatized_both_scarce_elimination.csv\", encoding=\"utf-8\")\n",
    "\n",
    "print(\"nulls in df_selected:\", df_selected1[\"Consumer complaint narrative\"].isnull().sum())\n",
    "df_selected = df_selected1.dropna()"
   ]
  },
  {
   "cell_type": "markdown",
   "metadata": {},
   "source": [
    "__Initializing the bag of words__"
   ]
  },
  {
   "cell_type": "code",
   "execution_count": 2,
   "metadata": {},
   "outputs": [],
   "source": [
    "from sklearn.feature_extraction.text import CountVectorizer\n",
    "\n",
    "# vect (bag of words)\n",
    "count_vect = CountVectorizer(\n",
    "    stop_words=\"english\",\n",
    "    #ngram_range=(1,2), # bigrammen\n",
    "    min_df=2, # only keep words that appear twice\n",
    "    max_df=0.5 # appears max in 50% of documents\n",
    ")\n",
    "\n",
    "X_train_counts = count_vect.fit_transform(df_selected[\"Consumer complaint narrative\"])"
   ]
  },
  {
   "cell_type": "code",
   "execution_count": 3,
   "metadata": {},
   "outputs": [
    {
     "name": "stdout",
     "output_type": "stream",
     "text": [
      "(203869, 5)\n"
     ]
    }
   ],
   "source": [
    "from sklearn.decomposition import TruncatedSVD\n",
    "\n",
    "tSVD = TruncatedSVD(n_components=5)\n",
    "\n",
    "principal_components = tSVD.fit_transform(X_train_counts)\n",
    "print(principal_components.shape)"
   ]
  },
  {
   "cell_type": "code",
   "execution_count": 4,
   "metadata": {},
   "outputs": [
    {
     "name": "stdout",
     "output_type": "stream",
     "text": [
      "[[ 4.18481166 -3.60215287  0.07864812  0.74368383  0.01109701]\n",
      " [ 3.99935188 -1.1631372   0.68663759 -0.62149946  0.28618582]\n",
      " [ 2.07097064  0.89935291  2.25004262 -0.97246547 -0.49530679]\n",
      " ...\n",
      " [ 3.4946031  -3.52442265 -0.55910145  0.10504256  0.80855957]\n",
      " [ 2.46637612 -2.01368106 -1.34635291 -0.01348345  0.91737232]\n",
      " [ 1.58335223 -1.22226617  0.03063566  0.73870888 -0.62937727]]\n",
      "                0          1         2         3          4\n",
      "0        4.184812  -3.602153  0.078648  0.743684   0.011097\n",
      "1        3.999352  -1.163137  0.686638 -0.621499   0.286186\n",
      "2        2.070971   0.899353  2.250043 -0.972465  -0.495307\n",
      "3       24.403531 -15.836370  3.414995  8.228719 -10.625432\n",
      "4        3.270028   0.836831  2.221791 -1.323542  -0.310381\n",
      "...           ...        ...       ...       ...        ...\n",
      "203864   0.721678  -1.076698 -0.302435  0.075636   0.222101\n",
      "203865   1.488503  -1.414682 -0.482761 -1.216981   1.878449\n",
      "203866   3.494603  -3.524423 -0.559101  0.105043   0.808560\n",
      "203867   2.466376  -2.013681 -1.346353 -0.013483   0.917372\n",
      "203868   1.583352  -1.222266  0.030636  0.738709  -0.629377\n",
      "\n",
      "[203869 rows x 5 columns]\n"
     ]
    }
   ],
   "source": [
    "print(principal_components)\n",
    "principal_components_df = pd.DataFrame(principal_components)\n",
    "print(principal_components_df)"
   ]
  },
  {
   "cell_type": "markdown",
   "metadata": {},
   "source": [
    "__One hot encoding of extra columns__"
   ]
  },
  {
   "cell_type": "code",
   "execution_count": 5,
   "metadata": {},
   "outputs": [
    {
     "name": "stdout",
     "output_type": "stream",
     "text": [
      "(203869, 5)\n",
      "(203869, 149)\n",
      "(203869, 154)\n"
     ]
    }
   ],
   "source": [
    "#One hot encoding\n",
    "issue_df = pd.Categorical(df_selected['Issue'])\n",
    "\n",
    "df_dummies = pd.get_dummies(issue_df, prefix = 'issue')\n",
    "\n",
    "#X_train_counts_df = pd.DataFrame(X_train_counts)\n",
    "#print(\"DF conversion done\")\n",
    "\n",
    "print(principal_components_df.shape)\n",
    "print(df_dummies.shape)\n",
    "df_concat = pd.concat([principal_components_df, df_dummies], axis = 1)\n",
    "print(df_concat.shape)"
   ]
  },
  {
   "cell_type": "markdown",
   "metadata": {},
   "source": [
    "__Split into train and test__"
   ]
  },
  {
   "cell_type": "code",
   "execution_count": 6,
   "metadata": {},
   "outputs": [
    {
     "name": "stdout",
     "output_type": "stream",
     "text": [
      "(152901, 154)\n",
      "(50968, 154)\n",
      "(152901,)\n",
      "(50968,)\n"
     ]
    }
   ],
   "source": [
    "from sklearn.model_selection import train_test_split\n",
    "X_train, X_test, Y_train, Y_test = train_test_split(df_concat, df_selected['Product'])\n",
    "print(X_train.shape)\n",
    "print(X_test.shape)\n",
    "print(Y_train.shape)\n",
    "print(Y_test.shape)"
   ]
  },
  {
   "cell_type": "markdown",
   "metadata": {},
   "source": [
    "__Application of linear SVM__"
   ]
  },
  {
   "cell_type": "code",
   "execution_count": 7,
   "metadata": {
    "scrolled": false
   },
   "outputs": [
    {
     "name": "stderr",
     "output_type": "stream",
     "text": [
      "C:\\Users\\l-Larsovic-l\\anaconda3\\lib\\site-packages\\sklearn\\svm\\_base.py:947: ConvergenceWarning: Liblinear failed to converge, increase the number of iterations.\n",
      "  \"the number of iterations.\", ConvergenceWarning)\n"
     ]
    },
    {
     "name": "stdout",
     "output_type": "stream",
     "text": [
      "                                                                              precision    recall  f1-score   support\n",
      "\n",
      "                                                     Bank account or service       1.00      1.00      1.00      3702\n",
      "                                                 Checking or savings account       0.99      1.00      1.00      4620\n",
      "                                                               Consumer Loan       0.97      0.78      0.86      2911\n",
      "                                                                 Credit card       1.00      1.00      1.00      4754\n",
      "                                                 Credit card or prepaid card       0.95      0.97      0.96      4584\n",
      "                                                            Credit reporting       1.00      1.00      1.00      4765\n",
      "Credit reporting, credit repair services, or other personal consumer reports       0.99      0.87      0.93      6154\n",
      "                                                             Debt collection       1.00      1.00      1.00      5280\n",
      "                          Money transfer, virtual currency, or money service       0.99      0.98      0.98      1993\n",
      "                                                                    Mortgage       0.98      1.00      0.99      4485\n",
      "                                   Payday loan, title loan, or personal loan       0.69      0.99      0.81      1118\n",
      "                                                                Student loan       0.97      1.00      0.98      5139\n",
      "                                                       Vehicle loan or lease       0.54      0.74      0.63      1463\n",
      "\n",
      "                                                                    accuracy                           0.96     50968\n",
      "                                                                   macro avg       0.93      0.95      0.93     50968\n",
      "                                                                weighted avg       0.97      0.96      0.96     50968\n",
      "\n"
     ]
    }
   ],
   "source": [
    "from sklearn import svm\n",
    "from sklearn.metrics import accuracy_score\n",
    "from sklearn.metrics import classification_report # do more stats\n",
    "\n",
    "classifier = svm.LinearSVC()\n",
    "classifier.fit(X_train, Y_train)\n",
    "\n",
    "test_predictions = classifier.predict(X_test)\n",
    "print(classification_report(test_predictions, Y_test))"
   ]
  },
  {
   "cell_type": "code",
   "execution_count": null,
   "metadata": {},
   "outputs": [],
   "source": []
  }
 ],
 "metadata": {
  "kernelspec": {
   "display_name": "Python 3",
   "language": "python",
   "name": "python3"
  },
  "language_info": {
   "codemirror_mode": {
    "name": "ipython",
    "version": 3
   },
   "file_extension": ".py",
   "mimetype": "text/x-python",
   "name": "python",
   "nbconvert_exporter": "python",
   "pygments_lexer": "ipython3",
   "version": "3.7.4"
  },
  "toc": {
   "base_numbering": 1,
   "nav_menu": {},
   "number_sections": true,
   "sideBar": true,
   "skip_h1_title": false,
   "title_cell": "Table of Contents",
   "title_sidebar": "Contents",
   "toc_cell": false,
   "toc_position": {},
   "toc_section_display": true,
   "toc_window_display": false
  }
 },
 "nbformat": 4,
 "nbformat_minor": 2
}

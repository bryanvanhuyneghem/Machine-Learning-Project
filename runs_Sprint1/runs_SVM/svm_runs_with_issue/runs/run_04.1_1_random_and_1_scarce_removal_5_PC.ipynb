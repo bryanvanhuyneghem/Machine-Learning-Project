{
 "cells": [
  {
   "cell_type": "markdown",
   "metadata": {},
   "source": [
    "In all versions 4.x the narrative gets cleaned as before and products are cleaned twice times. The first time half of the three most occuring entries in __Product__ are randomly removed. The second time , the components that almost never occur are removed. This run uses 5 different principle components. "
   ]
  },
  {
   "cell_type": "markdown",
   "metadata": {},
   "source": [
    "__Initialing the data__"
   ]
  },
  {
   "cell_type": "code",
   "execution_count": 1,
   "metadata": {},
   "outputs": [
    {
     "name": "stdout",
     "output_type": "stream",
     "text": [
      "nulls in df_selected: 0\n"
     ]
    }
   ],
   "source": [
    "import pandas as pd\n",
    "\n",
    "df_selected1 = pd.read_csv(\"../balanced_data/corpus_balanced_cleaned_lemmatized_first_cut_scarce_elimination.csv\", encoding=\"utf-8\")\n",
    "\n",
    "print(\"nulls in df_selected:\", df_selected1[\"Consumer complaint narrative\"].isnull().sum())\n",
    "df_selected = df_selected1.dropna()"
   ]
  },
  {
   "cell_type": "markdown",
   "metadata": {},
   "source": [
    "__Initializing the bag of words__"
   ]
  },
  {
   "cell_type": "code",
   "execution_count": 2,
   "metadata": {},
   "outputs": [],
   "source": [
    "from sklearn.feature_extraction.text import CountVectorizer\n",
    "\n",
    "# vect (bag of words)\n",
    "count_vect = CountVectorizer(\n",
    "    stop_words=\"english\",\n",
    "    #ngram_range=(1,2), # bigrammen\n",
    "    min_df=2, # only keep words that appear twice\n",
    "    max_df=0.5 # appears max in 50% of documents\n",
    ")\n",
    "\n",
    "X_train_counts = count_vect.fit_transform(df_selected[\"Consumer complaint narrative\"])"
   ]
  },
  {
   "cell_type": "markdown",
   "metadata": {},
   "source": [
    "__Principal components are chosen__"
   ]
  },
  {
   "cell_type": "code",
   "execution_count": 3,
   "metadata": {},
   "outputs": [
    {
     "name": "stdout",
     "output_type": "stream",
     "text": [
      "(242494, 5)\n"
     ]
    }
   ],
   "source": [
    "from sklearn.decomposition import TruncatedSVD\n",
    "\n",
    "tSVD = TruncatedSVD(n_components=5)\n",
    "\n",
    "principal_components = tSVD.fit_transform(X_train_counts)\n",
    "print(principal_components.shape)"
   ]
  },
  {
   "cell_type": "code",
   "execution_count": 4,
   "metadata": {
    "scrolled": true
   },
   "outputs": [
    {
     "name": "stdout",
     "output_type": "stream",
     "text": [
      "[[ 4.26616418 -3.3707761   0.01891819  1.00721228  0.62388963]\n",
      " [ 3.96354958 -1.09950572  0.72599931 -0.56177672  0.33559394]\n",
      " [14.47191765  7.74448078 -1.5026979   1.56886974  0.64794075]\n",
      " ...\n",
      " [ 0.72788146  0.60669373 -0.70435362 -0.32203655 -0.47626891]\n",
      " [ 5.77501736  4.62786666 -5.6368094  -3.37447198 -4.59749694]\n",
      " [ 6.52529348  1.60234284  0.53302023 -1.23424193 -0.4389109 ]]\n",
      "                0         1         2         3         4\n",
      "0        4.266164 -3.370776  0.018918  1.007212  0.623890\n",
      "1        3.963550 -1.099506  0.725999 -0.561777  0.335594\n",
      "2       14.471918  7.744481 -1.502698  1.568870  0.647941\n",
      "3        2.018344  0.900113  2.367260 -0.566600 -0.508107\n",
      "4        4.969348 -4.724731 -1.145126 -3.919982  3.563143\n",
      "...           ...       ...       ...       ...       ...\n",
      "242489   4.176435 -0.166879  0.600370 -0.478135 -1.715241\n",
      "242490   2.560838  1.935495 -2.688079 -1.540338 -2.619397\n",
      "242491   0.727881  0.606694 -0.704354 -0.322037 -0.476269\n",
      "242492   5.775017  4.627867 -5.636809 -3.374472 -4.597497\n",
      "242493   6.525293  1.602343  0.533020 -1.234242 -0.438911\n",
      "\n",
      "[242494 rows x 5 columns]\n"
     ]
    }
   ],
   "source": [
    "print(principal_components)\n",
    "principal_components_df = pd.DataFrame(principal_components)\n",
    "print(principal_components_df)"
   ]
  },
  {
   "cell_type": "markdown",
   "metadata": {},
   "source": [
    "__One hot encoding of extra columns__"
   ]
  },
  {
   "cell_type": "code",
   "execution_count": 5,
   "metadata": {},
   "outputs": [
    {
     "name": "stdout",
     "output_type": "stream",
     "text": [
      "(242494, 5)\n",
      "(242494, 146)\n",
      "(242494, 151)\n"
     ]
    }
   ],
   "source": [
    "#One hot encoding\n",
    "issue_df = pd.Categorical(df_selected['Issue'])\n",
    "\n",
    "df_dummies = pd.get_dummies(issue_df, prefix = 'issue')\n",
    "\n",
    "#X_train_counts_df = pd.DataFrame(X_train_counts)\n",
    "#print(\"DF conversion done\")\n",
    "\n",
    "print(principal_components_df.shape)\n",
    "print(df_dummies.shape)\n",
    "df_concat = pd.concat([principal_components_df, df_dummies], axis = 1)\n",
    "print(df_concat.shape)\n"
   ]
  },
  {
   "cell_type": "markdown",
   "metadata": {},
   "source": [
    "__Split into train and test__"
   ]
  },
  {
   "cell_type": "code",
   "execution_count": 6,
   "metadata": {},
   "outputs": [
    {
     "name": "stdout",
     "output_type": "stream",
     "text": [
      "(181870, 151)\n",
      "(60624, 151)\n",
      "(181870,)\n",
      "(60624,)\n"
     ]
    }
   ],
   "source": [
    "from sklearn.model_selection import train_test_split\n",
    "X_train, X_test, Y_train, Y_test = train_test_split(df_concat, df_selected['Product'])\n",
    "print(X_train.shape)\n",
    "print(X_test.shape)\n",
    "print(Y_train.shape)\n",
    "print(Y_test.shape)"
   ]
  },
  {
   "cell_type": "markdown",
   "metadata": {},
   "source": [
    "__Application of linear SVM__"
   ]
  },
  {
   "cell_type": "code",
   "execution_count": 7,
   "metadata": {
    "scrolled": false
   },
   "outputs": [
    {
     "name": "stderr",
     "output_type": "stream",
     "text": [
      "C:\\Users\\l-Larsovic-l\\anaconda3\\lib\\site-packages\\sklearn\\svm\\_base.py:947: ConvergenceWarning: Liblinear failed to converge, increase the number of iterations.\n",
      "  \"the number of iterations.\", ConvergenceWarning)\n"
     ]
    },
    {
     "name": "stdout",
     "output_type": "stream",
     "text": [
      "                                                    precision    recall  f1-score   support\n",
      "\n",
      "                           Bank account or service       1.00      1.00      1.00      3656\n",
      "                       Checking or savings account       0.99      1.00      1.00      4628\n",
      "                                     Consumer Loan       0.96      0.78      0.86      3031\n",
      "                                       Credit card       1.00      1.00      1.00      4706\n",
      "                       Credit card or prepaid card       1.00      0.93      0.97      8417\n",
      "                                  Credit reporting       1.00      1.00      1.00      7882\n",
      "                                   Debt collection       1.00      1.00      1.00      9999\n",
      "Money transfer, virtual currency, or money service       0.98      1.00      0.99      1847\n",
      "                                          Mortgage       0.99      1.00      0.99      7642\n",
      "         Payday loan, title loan, or personal loan       0.71      0.97      0.82      1144\n",
      "                                      Student loan       0.99      0.98      0.98      6194\n",
      "                             Vehicle loan or lease       0.54      0.74      0.62      1478\n",
      "\n",
      "                                          accuracy                           0.97     60624\n",
      "                                         macro avg       0.93      0.95      0.94     60624\n",
      "                                      weighted avg       0.98      0.97      0.97     60624\n",
      "\n"
     ]
    }
   ],
   "source": [
    "from sklearn import svm\n",
    "from sklearn.metrics import accuracy_score\n",
    "from sklearn.metrics import classification_report # do more stats\n",
    "\n",
    "classifier = svm.LinearSVC()\n",
    "classifier.fit(X_train, Y_train)\n",
    "\n",
    "test_predictions = classifier.predict(X_test)\n",
    "print(classification_report(test_predictions, Y_test))"
   ]
  },
  {
   "cell_type": "code",
   "execution_count": null,
   "metadata": {},
   "outputs": [],
   "source": []
  }
 ],
 "metadata": {
  "kernelspec": {
   "display_name": "Python 3",
   "language": "python",
   "name": "python3"
  },
  "language_info": {
   "codemirror_mode": {
    "name": "ipython",
    "version": 3
   },
   "file_extension": ".py",
   "mimetype": "text/x-python",
   "name": "python",
   "nbconvert_exporter": "python",
   "pygments_lexer": "ipython3",
   "version": "3.7.4"
  },
  "toc": {
   "base_numbering": 1,
   "nav_menu": {},
   "number_sections": true,
   "sideBar": true,
   "skip_h1_title": false,
   "title_cell": "Table of Contents",
   "title_sidebar": "Contents",
   "toc_cell": false,
   "toc_position": {},
   "toc_section_display": true,
   "toc_window_display": false
  }
 },
 "nbformat": 4,
 "nbformat_minor": 2
}

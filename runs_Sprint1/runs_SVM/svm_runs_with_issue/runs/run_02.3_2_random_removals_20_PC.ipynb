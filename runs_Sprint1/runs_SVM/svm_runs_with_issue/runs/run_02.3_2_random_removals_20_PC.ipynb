{
 "cells": [
  {
   "cell_type": "markdown",
   "metadata": {},
   "source": [
    "In all versions 2.x the narrative gets cleaned as before and products are cleaned twice. The first time half of the three most occuring entries in __Product__ are randomly removed. The second time the same happens with the six most occuring ones. This run uses 20 different principle components."
   ]
  },
  {
   "cell_type": "markdown",
   "metadata": {},
   "source": [
    "__Initialing the data__"
   ]
  },
  {
   "cell_type": "code",
   "execution_count": 1,
   "metadata": {},
   "outputs": [
    {
     "name": "stdout",
     "output_type": "stream",
     "text": [
      "nulls in df_selected: 3\n"
     ]
    }
   ],
   "source": [
    "import pandas as pd\n",
    "\n",
    "df_selected1 = pd.read_csv(\"../balanced_data/corpus_balanced_cleaned_lemmatized_both.csv\", encoding=\"utf-8\")\n",
    "\n",
    "print(\"nulls in df_selected:\", df_selected1[\"Consumer complaint narrative\"].isnull().sum())\n",
    "df_selected = df_selected1.dropna()"
   ]
  },
  {
   "cell_type": "markdown",
   "metadata": {},
   "source": [
    "__Initializing the bag of words__"
   ]
  },
  {
   "cell_type": "code",
   "execution_count": 2,
   "metadata": {},
   "outputs": [],
   "source": [
    "from sklearn.feature_extraction.text import CountVectorizer\n",
    "\n",
    "# vect (bag of words)\n",
    "count_vect = CountVectorizer(\n",
    "    stop_words=\"english\",\n",
    "    #ngram_range=(1,2), # bigrammen\n",
    "    min_df=2, # only keep words that appear twice\n",
    "    max_df=0.5 # appears max in 50% of documents\n",
    ")\n",
    "\n",
    "X_train_counts = count_vect.fit_transform(df_selected[\"Consumer complaint narrative\"])"
   ]
  },
  {
   "cell_type": "markdown",
   "metadata": {},
   "source": [
    "__Principal components are chosen__"
   ]
  },
  {
   "cell_type": "code",
   "execution_count": 3,
   "metadata": {},
   "outputs": [
    {
     "name": "stdout",
     "output_type": "stream",
     "text": [
      "(208872, 20)\n"
     ]
    }
   ],
   "source": [
    "from sklearn.decomposition import TruncatedSVD\n",
    "\n",
    "tSVD = TruncatedSVD(n_components=20)\n",
    "\n",
    "principal_components = tSVD.fit_transform(X_train_counts)\n",
    "print(principal_components.shape)"
   ]
  },
  {
   "cell_type": "code",
   "execution_count": 4,
   "metadata": {},
   "outputs": [
    {
     "name": "stdout",
     "output_type": "stream",
     "text": [
      "[[ 4.18578615 -3.610759    0.13388786 ... -0.54652566  1.15203696\n",
      "  -0.13296604]\n",
      " [ 3.99741841 -1.19752306  0.72257196 ... -1.05203991  0.83965275\n",
      "  -0.35607695]\n",
      " [ 2.08671488  0.90268593  2.2992995  ... -0.38061559 -0.46367514\n",
      "  -0.23677046]\n",
      " ...\n",
      " [ 8.09025722 -8.10508537 -1.75883809 ...  0.65896645 -3.15931774\n",
      "  -2.70548853]\n",
      " [ 5.24479348 -5.0118416  -0.97544411 ... -0.18241553  1.40392981\n",
      "  -0.29336061]\n",
      " [ 3.81963555 -2.1546713   0.58043305 ...  0.1914758   0.10798633\n",
      "   0.57497495]]\n",
      "                0          1         2         3         4         5  \\\n",
      "0        4.185786  -3.610759  0.133888  0.789195  0.120049 -0.061636   \n",
      "1        3.997418  -1.197523  0.722572 -0.687759  0.304585  0.013855   \n",
      "2        2.086715   0.902686  2.299300 -0.952044 -0.480680  0.329261   \n",
      "3       24.306424 -15.933903  3.727168  8.876126 -9.842742  3.544956   \n",
      "4        3.268770   0.855733  2.253802 -1.288721 -0.393339 -0.069052   \n",
      "...           ...        ...       ...       ...       ...       ...   \n",
      "208867   6.923291  -4.363212  1.394828 -1.145591  1.031338  0.221565   \n",
      "208868   8.448625  -3.973238 -0.029361 -5.179474  6.179070 -1.523142   \n",
      "208869   8.090257  -8.105085 -1.758838 -6.572848  8.886789 -1.655352   \n",
      "208870   5.244793  -5.011842 -0.975444 -2.416908  3.054798  0.088776   \n",
      "208871   3.819636  -2.154671  0.580433 -1.843979  2.824801 -1.140083   \n",
      "\n",
      "               6         7         8         9        10        11        12  \\\n",
      "0      -0.216883 -0.479724 -0.718802  0.820176 -0.547229  0.568037  0.399855   \n",
      "1       2.750031 -0.180245 -0.107987 -0.142944 -0.477504 -0.309860  0.694011   \n",
      "2       1.712567 -0.036379  0.662282  0.742166 -0.680257 -0.518283 -0.100842   \n",
      "3       6.999253  0.323476  2.492383 -2.528438 -1.876811 -2.993390  4.031550   \n",
      "4      -0.899162  1.374561  0.276585 -0.169866 -0.566149  0.736106 -0.020446   \n",
      "...          ...       ...       ...       ...       ...       ...       ...   \n",
      "208867  2.624235 -0.191635 -0.591547 -1.278153 -1.467969  0.864278  2.238341   \n",
      "208868 -1.971537  0.442861 -0.777720  0.258159 -1.833642  0.521676  1.705807   \n",
      "208869  2.002731 -1.695009 -2.306233  1.734134 -0.980265  1.759164 -0.378860   \n",
      "208870  1.632307 -1.198736 -0.867425 -0.645680 -0.537811  0.925519  1.440126   \n",
      "208871 -1.233984 -0.365155 -1.544428  0.484515 -0.769422 -0.489924  0.286925   \n",
      "\n",
      "              13        14        15        16        17        18        19  \n",
      "0       0.310858 -0.669358 -0.416010 -0.391427 -0.546526  1.152037 -0.132966  \n",
      "1       0.397539 -0.621535  0.575566 -0.143645 -1.052040  0.839653 -0.356077  \n",
      "2       0.686045 -1.687599 -0.127218 -0.538380 -0.380616 -0.463675 -0.236770  \n",
      "3      -1.447485  4.795909  2.099658  1.612575  0.874243 -1.183903 -3.124257  \n",
      "4      -0.687662  0.389075  0.667312 -0.248740  0.786086  0.679292  0.708517  \n",
      "...          ...       ...       ...       ...       ...       ...       ...  \n",
      "208867 -0.222644 -0.229951  0.241779 -0.785642  0.430526  0.242854  1.181977  \n",
      "208868  0.439499 -0.679404 -0.845062  0.554473  0.656855 -1.749156 -0.759416  \n",
      "208869  0.732036 -2.161995  0.298388 -1.711901  0.658966 -3.159318 -2.705489  \n",
      "208870 -0.009107 -0.214348  0.824642 -0.485664 -0.182416  1.403930 -0.293361  \n",
      "208871 -0.162849  1.032878 -0.883401  0.616694  0.191476  0.107986  0.574975  \n",
      "\n",
      "[208872 rows x 20 columns]\n"
     ]
    }
   ],
   "source": [
    "print(principal_components)\n",
    "principal_components_df = pd.DataFrame(principal_components)\n",
    "print(principal_components_df)"
   ]
  },
  {
   "cell_type": "markdown",
   "metadata": {},
   "source": [
    "__One hot encoding of extra columns__"
   ]
  },
  {
   "cell_type": "code",
   "execution_count": 5,
   "metadata": {},
   "outputs": [
    {
     "name": "stdout",
     "output_type": "stream",
     "text": [
      "(208872, 20)\n",
      "(208872, 161)\n",
      "(208872, 181)\n"
     ]
    }
   ],
   "source": [
    "#One hot encoding\n",
    "issue_df = pd.Categorical(df_selected['Issue'])\n",
    "\n",
    "df_dummies = pd.get_dummies(issue_df, prefix = 'issue')\n",
    "\n",
    "#X_train_counts_df = pd.DataFrame(X_train_counts)\n",
    "#print(\"DF conversion done\")\n",
    "\n",
    "print(principal_components_df.shape)\n",
    "print(df_dummies.shape)\n",
    "df_concat = pd.concat([principal_components_df, df_dummies], axis = 1)\n",
    "print(df_concat.shape)\n"
   ]
  },
  {
   "cell_type": "markdown",
   "metadata": {},
   "source": [
    "__Split into train and test__"
   ]
  },
  {
   "cell_type": "code",
   "execution_count": 6,
   "metadata": {},
   "outputs": [
    {
     "name": "stdout",
     "output_type": "stream",
     "text": [
      "(156654, 181)\n",
      "(52218, 181)\n",
      "(156654,)\n",
      "(52218,)\n"
     ]
    }
   ],
   "source": [
    "from sklearn.model_selection import train_test_split\n",
    "X_train, X_test, Y_train, Y_test = train_test_split(df_concat, df_selected['Product'])\n",
    "print(X_train.shape)\n",
    "print(X_test.shape)\n",
    "print(Y_train.shape)\n",
    "print(Y_test.shape)"
   ]
  },
  {
   "cell_type": "markdown",
   "metadata": {},
   "source": [
    "__Application of linear SVM__"
   ]
  },
  {
   "cell_type": "code",
   "execution_count": 7,
   "metadata": {
    "scrolled": false
   },
   "outputs": [
    {
     "name": "stderr",
     "output_type": "stream",
     "text": [
      "C:\\Users\\l-Larsovic-l\\anaconda3\\lib\\site-packages\\sklearn\\svm\\_base.py:947: ConvergenceWarning: Liblinear failed to converge, increase the number of iterations.\n",
      "  \"the number of iterations.\", ConvergenceWarning)\n",
      "C:\\Users\\l-Larsovic-l\\anaconda3\\lib\\site-packages\\sklearn\\metrics\\_classification.py:1272: UndefinedMetricWarning: Recall and F-score are ill-defined and being set to 0.0 in labels with no true samples. Use `zero_division` parameter to control this behavior.\n",
      "  _warn_prf(average, modifier, msg_start, len(result))\n"
     ]
    },
    {
     "name": "stdout",
     "output_type": "stream",
     "text": [
      "                                                                              precision    recall  f1-score   support\n",
      "\n",
      "                                                     Bank account or service       1.00      1.00      1.00      3768\n",
      "                                                 Checking or savings account       0.99      1.00      1.00      4764\n",
      "                                                               Consumer Loan       0.93      0.79      0.85      2765\n",
      "                                                                 Credit card       1.00      1.00      1.00      4680\n",
      "                                                 Credit card or prepaid card       0.95      0.97      0.96      4653\n",
      "                                                            Credit reporting       1.00      1.00      1.00      4776\n",
      "Credit reporting, credit repair services, or other personal consumer reports       0.99      0.86      0.92      6091\n",
      "                                                             Debt collection       1.00      1.00      1.00      5240\n",
      "                          Money transfer, virtual currency, or money service       0.99      0.85      0.91      2202\n",
      "                                                             Money transfers       0.42      0.94      0.58       161\n",
      "                                                                    Mortgage       0.98      1.00      0.99      4533\n",
      "                                                     Other financial service       0.48      0.84      0.61        43\n",
      "                                                                 Payday loan       1.00      0.91      0.95       488\n",
      "                                   Payday loan, title loan, or personal loan       0.81      0.97      0.88      1311\n",
      "                                                                Prepaid card       0.87      0.99      0.92       320\n",
      "                                                                Student loan       0.96      1.00      0.98      5098\n",
      "                                                       Vehicle loan or lease       0.55      0.84      0.67      1325\n",
      "                                                            Virtual currency       0.00      0.00      0.00         0\n",
      "\n",
      "                                                                    accuracy                           0.96     52218\n",
      "                                                                   macro avg       0.83      0.89      0.85     52218\n",
      "                                                                weighted avg       0.97      0.96      0.96     52218\n",
      "\n"
     ]
    }
   ],
   "source": [
    "from sklearn import svm\n",
    "from sklearn.metrics import accuracy_score\n",
    "from sklearn.metrics import classification_report # do more stats\n",
    "\n",
    "classifier = svm.LinearSVC()\n",
    "classifier.fit(X_train, Y_train)\n",
    "\n",
    "test_predictions = classifier.predict(X_test)\n",
    "print(classification_report(test_predictions, Y_test))"
   ]
  },
  {
   "cell_type": "code",
   "execution_count": null,
   "metadata": {},
   "outputs": [],
   "source": []
  }
 ],
 "metadata": {
  "kernelspec": {
   "display_name": "Python 3",
   "language": "python",
   "name": "python3"
  },
  "language_info": {
   "codemirror_mode": {
    "name": "ipython",
    "version": 3
   },
   "file_extension": ".py",
   "mimetype": "text/x-python",
   "name": "python",
   "nbconvert_exporter": "python",
   "pygments_lexer": "ipython3",
   "version": "3.7.4"
  },
  "toc": {
   "base_numbering": 1,
   "nav_menu": {},
   "number_sections": true,
   "sideBar": true,
   "skip_h1_title": false,
   "title_cell": "Table of Contents",
   "title_sidebar": "Contents",
   "toc_cell": false,
   "toc_position": {},
   "toc_section_display": true,
   "toc_window_display": false
  }
 },
 "nbformat": 4,
 "nbformat_minor": 2
}

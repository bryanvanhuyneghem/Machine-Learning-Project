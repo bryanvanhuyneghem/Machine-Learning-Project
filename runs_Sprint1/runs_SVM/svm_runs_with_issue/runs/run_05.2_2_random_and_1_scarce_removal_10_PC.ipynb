{
 "cells": [
  {
   "cell_type": "markdown",
   "metadata": {},
   "source": [
    "In all versions 5.x the narrative gets cleaned as before and products are cleaned three times. The first time half of the three most occuring entries in __Product__ are randomly removed. The second time the same happens with the six most occuring ones. Finally, the components that almost never occur are removed. This run uses 10 different principle components. "
   ]
  },
  {
   "cell_type": "markdown",
   "metadata": {},
   "source": [
    "__Initialing the data__"
   ]
  },
  {
   "cell_type": "code",
   "execution_count": 2,
   "metadata": {
    "scrolled": true
   },
   "outputs": [
    {
     "name": "stdout",
     "output_type": "stream",
     "text": [
      "nulls in df_selected: 5\n"
     ]
    }
   ],
   "source": [
    "import pandas as pd\n",
    "\n",
    "df_selected1 = pd.read_csv(\"../balanced_data/corpus_balanced_cleaned_lemmatized_both_scarce_elimination.csv\", encoding=\"utf-8\")\n",
    "\n",
    "print(\"nulls in df_selected:\", df_selected1[\"Consumer complaint narrative\"].isnull().sum())\n",
    "df_selected = df_selected1.dropna()"
   ]
  },
  {
   "cell_type": "markdown",
   "metadata": {},
   "source": [
    "__Initializing the bag of words__"
   ]
  },
  {
   "cell_type": "code",
   "execution_count": 3,
   "metadata": {},
   "outputs": [],
   "source": [
    "from sklearn.feature_extraction.text import CountVectorizer\n",
    "\n",
    "# vect (bag of words)\n",
    "count_vect = CountVectorizer(\n",
    "    stop_words=\"english\",\n",
    "    #ngram_range=(1,2), # bigrammen\n",
    "    min_df=2, # only keep words that appear twice\n",
    "    max_df=0.5 # appears max in 50% of documents\n",
    ")\n",
    "\n",
    "X_train_counts = count_vect.fit_transform(df_selected[\"Consumer complaint narrative\"])"
   ]
  },
  {
   "cell_type": "markdown",
   "metadata": {},
   "source": [
    "__Principal components are chosen__"
   ]
  },
  {
   "cell_type": "code",
   "execution_count": 4,
   "metadata": {},
   "outputs": [
    {
     "name": "stdout",
     "output_type": "stream",
     "text": [
      "(203869, 10)\n"
     ]
    }
   ],
   "source": [
    "from sklearn.decomposition import TruncatedSVD\n",
    "\n",
    "tSVD = TruncatedSVD(n_components=10)\n",
    "\n",
    "principal_components = tSVD.fit_transform(X_train_counts)\n",
    "print(principal_components.shape)"
   ]
  },
  {
   "cell_type": "code",
   "execution_count": 5,
   "metadata": {},
   "outputs": [
    {
     "name": "stdout",
     "output_type": "stream",
     "text": [
      "[[ 4.18481179 -3.602065    0.07901313 ... -0.55808707 -0.63825754\n",
      "   0.78319113]\n",
      " [ 3.99935195 -1.16297815  0.68679863 ... -0.24819009 -0.10744953\n",
      "  -0.14247453]\n",
      " [ 2.07097048  0.89951185  2.24984513 ...  0.014236    0.7256091\n",
      "   0.63355153]\n",
      " ...\n",
      " [ 3.49460278 -3.52437615 -0.55894344 ... -0.50223818 -0.43054596\n",
      "  -0.17712096]\n",
      " [ 2.46637635 -2.01364228 -1.34605033 ... -0.17156302 -0.87213809\n",
      "  -0.22219866]\n",
      " [ 1.58335219 -1.22219907  0.0306219  ...  0.06473113 -0.21014603\n",
      "  -0.04491385]]\n",
      "                0          1         2         3          4         5  \\\n",
      "0        4.184812  -3.602065  0.079013  0.745045   0.011816  0.063925   \n",
      "1        3.999352  -1.162978  0.686799 -0.619888   0.289567 -0.107508   \n",
      "2        2.070970   0.899512  2.249845 -0.971209  -0.491737  0.208497   \n",
      "3       24.403532 -15.836288  3.415882  8.222537 -10.634001  3.164170   \n",
      "4        3.270027   0.836783  2.221457 -1.323723  -0.310826 -0.141760   \n",
      "...           ...        ...       ...       ...        ...       ...   \n",
      "203864   0.721678  -1.076683 -0.302358  0.075820   0.222189  0.063021   \n",
      "203865   1.488503  -1.414692 -0.482518 -1.216983   1.877607 -0.300586   \n",
      "203866   3.494603  -3.524376 -0.558943  0.104954   0.807513  0.000944   \n",
      "203867   2.466376  -2.013642 -1.346050 -0.013325   0.916683 -0.359253   \n",
      "203868   1.583352  -1.222199  0.030622  0.738480  -0.627924  0.094058   \n",
      "\n",
      "               6         7         8         9  \n",
      "0      -0.188812 -0.558087 -0.638258  0.783191  \n",
      "1       2.773423 -0.248190 -0.107450 -0.142475  \n",
      "2       1.790062  0.014236  0.725609  0.633552  \n",
      "3       6.895193  0.860455  2.535848 -3.015312  \n",
      "4      -0.828007  1.423359  0.179064 -0.076522  \n",
      "...          ...       ...       ...       ...  \n",
      "203864  0.338776 -0.201681 -0.137457 -0.196100  \n",
      "203865  0.433149 -0.420651  0.358844  0.494821  \n",
      "203866  0.389947 -0.502238 -0.430546 -0.177121  \n",
      "203867  0.893878 -0.171563 -0.872138 -0.222199  \n",
      "203868 -0.355703  0.064731 -0.210146 -0.044914  \n",
      "\n",
      "[203869 rows x 10 columns]\n"
     ]
    }
   ],
   "source": [
    "print(principal_components)\n",
    "principal_components_df = pd.DataFrame(principal_components)\n",
    "print(principal_components_df)"
   ]
  },
  {
   "cell_type": "markdown",
   "metadata": {},
   "source": [
    "__One hot encoding of extra columns__"
   ]
  },
  {
   "cell_type": "code",
   "execution_count": 6,
   "metadata": {},
   "outputs": [
    {
     "name": "stdout",
     "output_type": "stream",
     "text": [
      "(203869, 10)\n",
      "(203869, 149)\n",
      "(203869, 159)\n"
     ]
    }
   ],
   "source": [
    "#One hot encoding\n",
    "issue_df = pd.Categorical(df_selected['Issue'])\n",
    "\n",
    "df_dummies = pd.get_dummies(issue_df, prefix = 'issue')\n",
    "\n",
    "#X_train_counts_df = pd.DataFrame(X_train_counts)\n",
    "#print(\"DF conversion done\")\n",
    "\n",
    "print(principal_components_df.shape)\n",
    "print(df_dummies.shape)\n",
    "df_concat = pd.concat([principal_components_df, df_dummies], axis = 1)\n",
    "print(df_concat.shape)\n"
   ]
  },
  {
   "cell_type": "markdown",
   "metadata": {},
   "source": [
    "__Split into train and test__"
   ]
  },
  {
   "cell_type": "code",
   "execution_count": 7,
   "metadata": {},
   "outputs": [
    {
     "name": "stdout",
     "output_type": "stream",
     "text": [
      "(152901, 159)\n",
      "(50968, 159)\n",
      "(152901,)\n",
      "(50968,)\n"
     ]
    }
   ],
   "source": [
    "from sklearn.model_selection import train_test_split\n",
    "X_train, X_test, Y_train, Y_test = train_test_split(df_concat, df_selected['Product'])\n",
    "print(X_train.shape)\n",
    "print(X_test.shape)\n",
    "print(Y_train.shape)\n",
    "print(Y_test.shape)"
   ]
  },
  {
   "cell_type": "markdown",
   "metadata": {},
   "source": [
    "__Application of linear SVM__"
   ]
  },
  {
   "cell_type": "code",
   "execution_count": 8,
   "metadata": {
    "scrolled": false
   },
   "outputs": [
    {
     "name": "stderr",
     "output_type": "stream",
     "text": [
      "C:\\Users\\l-Larsovic-l\\anaconda3\\lib\\site-packages\\sklearn\\svm\\_base.py:947: ConvergenceWarning: Liblinear failed to converge, increase the number of iterations.\n",
      "  \"the number of iterations.\", ConvergenceWarning)\n"
     ]
    },
    {
     "name": "stdout",
     "output_type": "stream",
     "text": [
      "                                                                              precision    recall  f1-score   support\n",
      "\n",
      "                                                     Bank account or service       1.00      1.00      1.00      3632\n",
      "                                                 Checking or savings account       0.99      1.00      1.00      4656\n",
      "                                                               Consumer Loan       0.97      0.78      0.86      2958\n",
      "                                                                 Credit card       1.00      1.00      1.00      4742\n",
      "                                                 Credit card or prepaid card       0.96      0.96      0.96      4670\n",
      "                                                            Credit reporting       1.00      1.00      1.00      4740\n",
      "Credit reporting, credit repair services, or other personal consumer reports       0.99      0.86      0.92      6189\n",
      "                                                             Debt collection       1.00      1.00      1.00      5343\n",
      "                          Money transfer, virtual currency, or money service       0.99      0.99      0.99      2016\n",
      "                                                                    Mortgage       0.99      1.00      0.99      4469\n",
      "                                   Payday loan, title loan, or personal loan       0.69      0.99      0.82      1078\n",
      "                                                                Student loan       0.97      1.00      0.98      5091\n",
      "                                                       Vehicle loan or lease       0.53      0.77      0.63      1384\n",
      "\n",
      "                                                                    accuracy                           0.96     50968\n",
      "                                                                   macro avg       0.93      0.95      0.93     50968\n",
      "                                                                weighted avg       0.97      0.96      0.96     50968\n",
      "\n"
     ]
    }
   ],
   "source": [
    "from sklearn import svm\n",
    "from sklearn.metrics import accuracy_score\n",
    "from sklearn.metrics import classification_report # do more stats\n",
    "\n",
    "classifier = svm.LinearSVC()\n",
    "classifier.fit(X_train, Y_train)\n",
    "\n",
    "test_predictions = classifier.predict(X_test)\n",
    "print(classification_report(test_predictions, Y_test))"
   ]
  },
  {
   "cell_type": "code",
   "execution_count": null,
   "metadata": {},
   "outputs": [],
   "source": []
  }
 ],
 "metadata": {
  "kernelspec": {
   "display_name": "Python 3",
   "language": "python",
   "name": "python3"
  },
  "language_info": {
   "codemirror_mode": {
    "name": "ipython",
    "version": 3
   },
   "file_extension": ".py",
   "mimetype": "text/x-python",
   "name": "python",
   "nbconvert_exporter": "python",
   "pygments_lexer": "ipython3",
   "version": "3.7.4"
  },
  "toc": {
   "base_numbering": 1,
   "nav_menu": {},
   "number_sections": true,
   "sideBar": true,
   "skip_h1_title": false,
   "title_cell": "Table of Contents",
   "title_sidebar": "Contents",
   "toc_cell": false,
   "toc_position": {},
   "toc_section_display": true,
   "toc_window_display": false
  }
 },
 "nbformat": 4,
 "nbformat_minor": 2
}

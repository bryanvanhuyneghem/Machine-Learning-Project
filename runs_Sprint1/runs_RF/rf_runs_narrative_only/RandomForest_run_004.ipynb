{
 "cells": [
  {
   "cell_type": "code",
   "execution_count": 1,
   "metadata": {},
   "outputs": [],
   "source": [
    "import pandas as pd\n",
    "\n",
    "df_selected = pd.read_pickle('corpus.pkl')"
   ]
  },
  {
   "cell_type": "markdown",
   "metadata": {},
   "source": [
    "**Data Cleaning**"
   ]
  },
  {
   "cell_type": "code",
   "execution_count": 2,
   "metadata": {},
   "outputs": [],
   "source": [
    "import re\n",
    "import string\n",
    "\n",
    "def clean_url(complaint):\n",
    "    # to do: more regex url garbage matching\n",
    "    complaint = re.sub('https?://(?:[-\\w.]|(?:%[\\da-fA-F]{2}))+', '', complaint)\n",
    "    complaint = re.sub('https? ?: ?// ?(?:[-\\w.]|(?:%[\\da-fA-F]{2}))+', '', complaint)\n",
    "    return complaint\n",
    "\n",
    "# Remove punctuation from complaint\n",
    "def clean_punctuation(complaint):\n",
    "    complaint = re.sub('[%s]' % re.escape(string.punctuation), '', complaint)\n",
    "    return complaint\n",
    "\n",
    "# Remove non-sensical characters from complaint\n",
    "def clean_nonsense(complaint):\n",
    "    complaint = re.sub('[''\"\"...]', '', complaint)\n",
    "    complaint = re.sub('\\n', '', complaint)\n",
    "    return complaint\n",
    "\n",
    "# Remove censored words from complaint\n",
    "def clean_censored(complaint):\n",
    "    complaint = re.sub('[XXXX]', '', complaint)\n",
    "    return complaint\n",
    "\n",
    "# Turn everything into lowercase\n",
    "def clean_lowercase(complaint):\n",
    "    complaint = complaint.lower()\n",
    "    return complaint\n",
    "\n",
    "# Remove numbers from complaint\n",
    "def clean_numbers(complaint):\n",
    "    complaint = re.sub('\\w*\\d\\w', '', complaint)\n",
    "    return complaint"
   ]
  },
  {
   "cell_type": "code",
   "execution_count": 3,
   "metadata": {},
   "outputs": [],
   "source": [
    "df_selected[\"Consumer complaint narrative\"] = df_selected[\"Consumer complaint narrative\"].apply(clean_url)\n",
    "df_selected[\"Consumer complaint narrative\"] = df_selected[\"Consumer complaint narrative\"].apply(clean_punctuation)\n",
    "df_selected[\"Consumer complaint narrative\"] = df_selected[\"Consumer complaint narrative\"].apply(clean_nonsense)\n",
    "df_selected[\"Consumer complaint narrative\"] = df_selected[\"Consumer complaint narrative\"].apply(clean_censored)\n",
    "df_selected[\"Consumer complaint narrative\"] = df_selected[\"Consumer complaint narrative\"].apply(clean_lowercase)\n",
    "df_selected[\"Consumer complaint narrative\"] = df_selected[\"Consumer complaint narrative\"].apply(clean_numbers)"
   ]
  },
  {
   "cell_type": "markdown",
   "metadata": {},
   "source": [
    "**Apply CountVectorizer**"
   ]
  },
  {
   "cell_type": "code",
   "execution_count": 4,
   "metadata": {},
   "outputs": [],
   "source": [
    "from sklearn.feature_extraction.text import CountVectorizer\n",
    "\n",
    "# vect (bag of words)\n",
    "count_vect = CountVectorizer(\n",
    "    stop_words=\"english\",\n",
    "    #ngram_range=(1,2), # bigrammen\n",
    "    min_df=2, # only keep words that appear twice\n",
    "    max_df=0.5 # appears max in 50% of documents\n",
    ")\n",
    "\n",
    "X_train_counts = count_vect.fit_transform(df_selected[\"Consumer complaint narrative\"])"
   ]
  },
  {
   "cell_type": "markdown",
   "metadata": {},
   "source": [
    "**Split into train & test**"
   ]
  },
  {
   "cell_type": "code",
   "execution_count": 5,
   "metadata": {},
   "outputs": [
    {
     "name": "stdout",
     "output_type": "stream",
     "text": [
      "(364275, 77541)\n",
      "(121426, 77541)\n",
      "(364275,)\n",
      "(121426,)\n"
     ]
    }
   ],
   "source": [
    "from sklearn.model_selection import train_test_split\n",
    "X_train, X_test, Y_train, Y_test = train_test_split(X_train_counts, df_selected['Product'])\n",
    "print(X_train.shape)\n",
    "print(X_test.shape)\n",
    "print(Y_train.shape)\n",
    "print(Y_test.shape)"
   ]
  },
  {
   "cell_type": "markdown",
   "metadata": {},
   "source": [
    "**Dimensionality Reduction**"
   ]
  },
  {
   "cell_type": "code",
   "execution_count": 6,
   "metadata": {},
   "outputs": [
    {
     "name": "stdout",
     "output_type": "stream",
     "text": [
      "(364275, 200)\n",
      "(121426, 200)\n"
     ]
    }
   ],
   "source": [
    "from sklearn.decomposition import TruncatedSVD\n",
    "\n",
    "tSVD = TruncatedSVD(n_components=200)\n",
    "\n",
    "# apply PCA\n",
    "principal_components_train = tSVD.fit_transform(X_train)\n",
    "principal_components_test = tSVD.transform(X_test)\n",
    "\n",
    "# data points & their principal components\n",
    "print(principal_components_train.shape)\n",
    "print(principal_components_test.shape)"
   ]
  },
  {
   "cell_type": "markdown",
   "metadata": {},
   "source": [
    "**Run algorithm and report**"
   ]
  },
  {
   "cell_type": "code",
   "execution_count": 7,
   "metadata": {},
   "outputs": [
    {
     "name": "stdout",
     "output_type": "stream",
     "text": [
      "                                                                              precision    recall  f1-score   support\n",
      "\n",
      "                                                     Bank account or service       0.23      0.42      0.30      2047\n",
      "                                                 Checking or savings account       0.59      0.46      0.52      6015\n",
      "                                                               Consumer Loan       0.06      0.48      0.11       308\n",
      "                                                                 Credit card       0.10      0.46      0.16      1006\n",
      "                                                 Credit card or prepaid card       0.61      0.50      0.55      9721\n",
      "                                                            Credit reporting       0.21      0.90      0.34      1816\n",
      "Credit reporting, credit repair services, or other personal consumer reports       0.91      0.71      0.79     45516\n",
      "                                                             Debt collection       0.82      0.75      0.78     29048\n",
      "                          Money transfer, virtual currency, or money service       0.35      0.62      0.45      1110\n",
      "                                                             Money transfers       0.00      0.00      0.00         2\n",
      "                                                                    Mortgage       0.90      0.75      0.82     18257\n",
      "                                                     Other financial service       0.01      1.00      0.03         1\n",
      "                                                                 Payday loan       0.01      0.43      0.01         7\n",
      "                                   Payday loan, title loan, or personal loan       0.04      0.55      0.07       105\n",
      "                                                                Prepaid card       0.01      0.67      0.02         6\n",
      "                                                                Student loan       0.71      0.76      0.73      5814\n",
      "                                                       Vehicle loan or lease       0.18      0.55      0.27       646\n",
      "                                                            Virtual currency       0.50      1.00      0.67         1\n",
      "\n",
      "                                                                    accuracy                           0.69    121426\n",
      "                                                                   macro avg       0.35      0.61      0.37    121426\n",
      "                                                                weighted avg       0.80      0.69      0.73    121426\n",
      "\n"
     ]
    }
   ],
   "source": [
    "from sklearn.ensemble import RandomForestClassifier\n",
    "from sklearn.metrics import accuracy_score\n",
    "from sklearn.metrics import classification_report # do more stats\n",
    "\n",
    "clf = RandomForestClassifier()\n",
    "clf.fit(principal_components_train, Y_train)\n",
    "\n",
    "test_predictions = clf.predict(principal_components_test)\n",
    "print(classification_report(test_predictions, Y_test))"
   ]
  }
 ],
 "metadata": {
  "kernelspec": {
   "display_name": "Python 3",
   "language": "python",
   "name": "python3"
  },
  "language_info": {
   "codemirror_mode": {
    "name": "ipython",
    "version": 3
   },
   "file_extension": ".py",
   "mimetype": "text/x-python",
   "name": "python",
   "nbconvert_exporter": "python",
   "pygments_lexer": "ipython3",
   "version": "3.6.5"
  },
  "toc": {
   "base_numbering": 1,
   "nav_menu": {},
   "number_sections": true,
   "sideBar": true,
   "skip_h1_title": false,
   "title_cell": "Table of Contents",
   "title_sidebar": "Contents",
   "toc_cell": false,
   "toc_position": {},
   "toc_section_display": true,
   "toc_window_display": false
  }
 },
 "nbformat": 4,
 "nbformat_minor": 2
}

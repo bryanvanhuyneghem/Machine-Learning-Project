{
 "cells": [
  {
   "cell_type": "code",
   "execution_count": 1,
   "metadata": {},
   "outputs": [
    {
     "data": {
      "text/html": [
       "<div>\n",
       "<style scoped>\n",
       "    .dataframe tbody tr th:only-of-type {\n",
       "        vertical-align: middle;\n",
       "    }\n",
       "\n",
       "    .dataframe tbody tr th {\n",
       "        vertical-align: top;\n",
       "    }\n",
       "\n",
       "    .dataframe thead th {\n",
       "        text-align: right;\n",
       "    }\n",
       "</style>\n",
       "<table border=\"1\" class=\"dataframe\">\n",
       "  <thead>\n",
       "    <tr style=\"text-align: right;\">\n",
       "      <th></th>\n",
       "      <th>Product</th>\n",
       "      <th>Consumer complaint narrative</th>\n",
       "    </tr>\n",
       "  </thead>\n",
       "  <tbody>\n",
       "    <tr>\n",
       "      <th>0</th>\n",
       "      <td>Credit reporting, credit repair services, or o...</td>\n",
       "      <td>i have complained many time that the credit re...</td>\n",
       "    </tr>\n",
       "    <tr>\n",
       "      <th>1</th>\n",
       "      <td>Debt collection</td>\n",
       "      <td>please review the current fraud account and al...</td>\n",
       "    </tr>\n",
       "    <tr>\n",
       "      <th>2</th>\n",
       "      <td>Debt collection</td>\n",
       "      <td>called multiple time over the year for a debt ...</td>\n",
       "    </tr>\n",
       "    <tr>\n",
       "      <th>3</th>\n",
       "      <td>Debt collection</td>\n",
       "      <td>i sent in a letter to the company to have them...</td>\n",
       "    </tr>\n",
       "    <tr>\n",
       "      <th>4</th>\n",
       "      <td>Credit reporting, credit repair services, or o...</td>\n",
       "      <td>on i applied for a debt relief product from th...</td>\n",
       "    </tr>\n",
       "  </tbody>\n",
       "</table>\n",
       "</div>"
      ],
      "text/plain": [
       "                                             Product  \\\n",
       "0  Credit reporting, credit repair services, or o...   \n",
       "1                                    Debt collection   \n",
       "2                                    Debt collection   \n",
       "3                                    Debt collection   \n",
       "4  Credit reporting, credit repair services, or o...   \n",
       "\n",
       "                        Consumer complaint narrative  \n",
       "0  i have complained many time that the credit re...  \n",
       "1  please review the current fraud account and al...  \n",
       "2  called multiple time over the year for a debt ...  \n",
       "3  i sent in a letter to the company to have them...  \n",
       "4  on i applied for a debt relief product from th...  "
      ]
     },
     "execution_count": 1,
     "metadata": {},
     "output_type": "execute_result"
    }
   ],
   "source": [
    "import pandas as pd\n",
    "\n",
    "df_selected = pd.read_csv(\"corpus_balanced3_cleaned_lemmatized.csv\", encoding=\"utf-8\")\n",
    "df_selected.head()"
   ]
  },
  {
   "cell_type": "markdown",
   "metadata": {},
   "source": [
    "In case of nulls (should be solved now):"
   ]
  },
  {
   "cell_type": "code",
   "execution_count": 2,
   "metadata": {},
   "outputs": [],
   "source": [
    "df_selected = df_selected.dropna()"
   ]
  },
  {
   "cell_type": "markdown",
   "metadata": {},
   "source": [
    "---"
   ]
  },
  {
   "cell_type": "markdown",
   "metadata": {},
   "source": [
    "**Apply CountVectorizer**"
   ]
  },
  {
   "cell_type": "code",
   "execution_count": 3,
   "metadata": {},
   "outputs": [],
   "source": [
    "from sklearn.feature_extraction.text import CountVectorizer\n",
    "\n",
    "# vect (bag of words)\n",
    "count_vect = CountVectorizer(\n",
    "    stop_words=\"english\",\n",
    "    #ngram_range=(1,2), # bigrammen\n",
    "    min_df=2, # only keep words that appear twice\n",
    "    max_df=0.5 # appears max in 50% of documents\n",
    ")\n",
    "\n",
    "X_train_counts = count_vect.fit_transform(df_selected[\"Consumer complaint narrative\"])"
   ]
  },
  {
   "cell_type": "markdown",
   "metadata": {},
   "source": [
    "**Apply TF-IDF**"
   ]
  },
  {
   "cell_type": "code",
   "execution_count": 4,
   "metadata": {
    "scrolled": true
   },
   "outputs": [
    {
     "name": "stdout",
     "output_type": "stream",
     "text": [
      "Shape (485688, 71567)\n",
      "  (0, 71192)\t0.05230595616010456\n",
      "  (0, 70723)\t0.16833478998169477\n",
      "  (0, 69468)\t0.0719075584637063\n",
      "  (0, 69258)\t0.06503017384693298\n",
      "  (0, 69160)\t0.09531042729330397\n",
      "  (0, 68017)\t0.12124308114444977\n",
      "  (0, 66290)\t0.18586637900118472\n",
      "  (0, 64339)\t0.12320350827353503\n",
      "  (0, 64131)\t0.042060110277500326\n",
      "  (0, 63853)\t0.11539433841016501\n",
      "  (0, 63654)\t0.07951149797926328\n",
      "  (0, 61778)\t0.09707771835299159\n",
      "  (0, 61535)\t0.14217081952709348\n",
      "  (0, 59978)\t0.1052462673028251\n",
      "  (0, 58490)\t0.12505200999905375\n",
      "  (0, 57754)\t0.057482791458895045\n",
      "  (0, 57740)\t0.1264306013900411\n",
      "  (0, 57309)\t0.11466435910050997\n",
      "  (0, 56779)\t0.07124095663790687\n",
      "  (0, 55054)\t0.09331491070099641\n",
      "  (0, 55044)\t0.09882442354430733\n",
      "  (0, 53961)\t0.05435146164625784\n",
      "  (0, 53859)\t0.039928334054282255\n",
      "  (0, 53163)\t0.14878862661034029\n",
      "  (0, 52419)\t0.14608657350753182\n",
      "  :\t:\n",
      "  (485687, 69160)\t0.1830055859006121\n",
      "  (485687, 66962)\t0.2097008105134163\n",
      "  (485687, 65593)\t0.2667716011246174\n",
      "  (485687, 64570)\t0.09326009824864832\n",
      "  (485687, 56822)\t0.1949787829661088\n",
      "  (485687, 54667)\t0.19816206677808876\n",
      "  (485687, 54271)\t0.1364609529364479\n",
      "  (485687, 52154)\t0.21980960892961862\n",
      "  (485687, 51930)\t0.2318053348358005\n",
      "  (485687, 46375)\t0.1707536841987032\n",
      "  (485687, 45261)\t0.19716140541231247\n",
      "  (485687, 40424)\t0.20164057324005807\n",
      "  (485687, 39676)\t0.18535641162020872\n",
      "  (485687, 39373)\t0.18632023878251114\n",
      "  (485687, 30506)\t0.19178919092627195\n",
      "  (485687, 30207)\t0.2134475479372168\n",
      "  (485687, 29874)\t0.15841140154101957\n",
      "  (485687, 18876)\t0.2296832733177368\n",
      "  (485687, 12882)\t0.1745384994473581\n",
      "  (485687, 12339)\t0.22175820021247303\n",
      "  (485687, 8975)\t0.1326301122314219\n",
      "  (485687, 5739)\t0.21258703066321472\n",
      "  (485687, 5625)\t0.17312340881498225\n",
      "  (485687, 2428)\t0.1580163441942931\n",
      "  (485687, 514)\t0.06598217962951389\n"
     ]
    }
   ],
   "source": [
    "from sklearn.feature_extraction.text import TfidfTransformer\n",
    "\n",
    "# Normalise with tf-idf\n",
    "tfidf_transformer = TfidfTransformer()\n",
    "X_train_tfidf = tfidf_transformer.fit_transform(X_train_counts)\n",
    "print('Shape', X_train_tfidf.shape)\n",
    "print(X_train_tfidf)"
   ]
  },
  {
   "cell_type": "markdown",
   "metadata": {},
   "source": [
    "**Split into train & test**"
   ]
  },
  {
   "cell_type": "code",
   "execution_count": 5,
   "metadata": {},
   "outputs": [
    {
     "name": "stdout",
     "output_type": "stream",
     "text": [
      "(364266, 71567)\n",
      "(121422, 71567)\n",
      "(364266,)\n",
      "(121422,)\n"
     ]
    }
   ],
   "source": [
    "from sklearn.model_selection import train_test_split\n",
    "X_train, X_test, Y_train, Y_test = train_test_split(X_train_counts, df_selected['Product'])\n",
    "print(X_train.shape)\n",
    "print(X_test.shape)\n",
    "print(Y_train.shape)\n",
    "print(Y_test.shape)"
   ]
  },
  {
   "cell_type": "markdown",
   "metadata": {},
   "source": [
    "**Run algorithm**"
   ]
  },
  {
   "cell_type": "code",
   "execution_count": 6,
   "metadata": {},
   "outputs": [
    {
     "name": "stdout",
     "output_type": "stream",
     "text": [
      "(364266, 30)\n",
      "(121422, 30)\n"
     ]
    }
   ],
   "source": [
    "from sklearn.decomposition import TruncatedSVD\n",
    "\n",
    "tSVD = TruncatedSVD(n_components=30)\n",
    "\n",
    "# apply TruncatedSVD\n",
    "principal_components_train = tSVD.fit_transform(X_train)\n",
    "principal_components_test = tSVD.transform(X_test)\n",
    "\n",
    "# data points & their principal components\n",
    "print(principal_components_train.shape)\n",
    "print(principal_components_test.shape)"
   ]
  },
  {
   "cell_type": "markdown",
   "metadata": {},
   "source": [
    "**Report**"
   ]
  },
  {
   "cell_type": "code",
   "execution_count": 7,
   "metadata": {},
   "outputs": [
    {
     "name": "stdout",
     "output_type": "stream",
     "text": [
      "                                                                              precision    recall  f1-score   support\n",
      "\n",
      "                                                     Bank account or service       0.24      0.38      0.30      2393\n",
      "                                                 Checking or savings account       0.56      0.44      0.50      6024\n",
      "                                                               Consumer Loan       0.06      0.38      0.10       358\n",
      "                                                                 Credit card       0.11      0.41      0.17      1246\n",
      "                                                 Credit card or prepaid card       0.62      0.47      0.54     10286\n",
      "                                                            Credit reporting       0.23      0.85      0.36      2122\n",
      "Credit reporting, credit repair services, or other personal consumer reports       0.90      0.71      0.79     44453\n",
      "                                                             Debt collection       0.81      0.75      0.78     28868\n",
      "                          Money transfer, virtual currency, or money service       0.32      0.56      0.41      1166\n",
      "                                                             Money transfers       0.01      0.31      0.03        16\n",
      "                                                                    Mortgage       0.87      0.78      0.83     16720\n",
      "                                                     Other financial service       0.00      0.00      0.00         1\n",
      "                                                                 Payday loan       0.03      0.71      0.05        17\n",
      "                                   Payday loan, title loan, or personal loan       0.04      0.42      0.07       148\n",
      "                                                                Prepaid card       0.04      0.68      0.07        19\n",
      "                                                                Student loan       0.71      0.62      0.67      7076\n",
      "                                                       Vehicle loan or lease       0.13      0.52      0.21       508\n",
      "                                                            Virtual currency       0.25      1.00      0.40         1\n",
      "\n",
      "                                                                    accuracy                           0.68    121422\n",
      "                                                                   macro avg       0.33      0.56      0.35    121422\n",
      "                                                                weighted avg       0.78      0.68      0.72    121422\n",
      "\n"
     ]
    }
   ],
   "source": [
    "from sklearn.ensemble import RandomForestClassifier\n",
    "from sklearn.metrics import accuracy_score\n",
    "from sklearn.metrics import classification_report # do more stats\n",
    "\n",
    "clf = RandomForestClassifier()\n",
    "clf.fit(principal_components_train, Y_train)\n",
    "\n",
    "test_predictions = clf.predict(principal_components_test)\n",
    "print(classification_report(test_predictions, Y_test))"
   ]
  }
 ],
 "metadata": {
  "kernelspec": {
   "display_name": "Python 3",
   "language": "python",
   "name": "python3"
  },
  "language_info": {
   "codemirror_mode": {
    "name": "ipython",
    "version": 3
   },
   "file_extension": ".py",
   "mimetype": "text/x-python",
   "name": "python",
   "nbconvert_exporter": "python",
   "pygments_lexer": "ipython3",
   "version": "3.6.5"
  },
  "toc": {
   "base_numbering": 1,
   "nav_menu": {},
   "number_sections": true,
   "sideBar": true,
   "skip_h1_title": false,
   "title_cell": "Table of Contents",
   "title_sidebar": "Contents",
   "toc_cell": false,
   "toc_position": {},
   "toc_section_display": true,
   "toc_window_display": false
  }
 },
 "nbformat": 4,
 "nbformat_minor": 2
}

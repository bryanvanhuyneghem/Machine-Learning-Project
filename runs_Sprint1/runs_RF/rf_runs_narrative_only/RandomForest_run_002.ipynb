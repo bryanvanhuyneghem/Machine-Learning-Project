{
 "cells": [
  {
   "cell_type": "code",
   "execution_count": 3,
   "metadata": {},
   "outputs": [],
   "source": [
    "import pandas as pd\n",
    "\n",
    "df_selected = pd.read_pickle('corpus.pkl')"
   ]
  },
  {
   "cell_type": "markdown",
   "metadata": {},
   "source": [
    "**Data Cleaning**"
   ]
  },
  {
   "cell_type": "code",
   "execution_count": 4,
   "metadata": {},
   "outputs": [],
   "source": [
    "import re\n",
    "import string\n",
    "\n",
    "def clean_url(complaint):\n",
    "    # to do: more regex url garbage matching\n",
    "    complaint = re.sub('https?://(?:[-\\w.]|(?:%[\\da-fA-F]{2}))+', '', complaint)\n",
    "    complaint = re.sub('https? ?: ?// ?(?:[-\\w.]|(?:%[\\da-fA-F]{2}))+', '', complaint)\n",
    "    return complaint\n",
    "\n",
    "# Remove punctuation from complaint\n",
    "def clean_punctuation(complaint):\n",
    "    complaint = re.sub('[%s]' % re.escape(string.punctuation), '', complaint)\n",
    "    return complaint\n",
    "\n",
    "# Remove non-sensical characters from complaint\n",
    "def clean_nonsense(complaint):\n",
    "    complaint = re.sub('[''\"\"...]', '', complaint)\n",
    "    complaint = re.sub('\\n', '', complaint)\n",
    "    return complaint\n",
    "\n",
    "# Remove censored words from complaint\n",
    "def clean_censored(complaint):\n",
    "    complaint = re.sub('[XXXX]', '', complaint)\n",
    "    return complaint\n",
    "\n",
    "# Turn everything into lowercase\n",
    "def clean_lowercase(complaint):\n",
    "    complaint = complaint.lower()\n",
    "    return complaint\n",
    "\n",
    "# Remove numbers from complaint\n",
    "def clean_numbers(complaint):\n",
    "    complaint = re.sub('\\w*\\d\\w', '', complaint)\n",
    "    return complaint"
   ]
  },
  {
   "cell_type": "code",
   "execution_count": 5,
   "metadata": {},
   "outputs": [],
   "source": [
    "df_selected[\"Consumer complaint narrative\"] = df_selected[\"Consumer complaint narrative\"].apply(clean_url)\n",
    "df_selected[\"Consumer complaint narrative\"] = df_selected[\"Consumer complaint narrative\"].apply(clean_punctuation)\n",
    "df_selected[\"Consumer complaint narrative\"] = df_selected[\"Consumer complaint narrative\"].apply(clean_nonsense)\n",
    "df_selected[\"Consumer complaint narrative\"] = df_selected[\"Consumer complaint narrative\"].apply(clean_censored)\n",
    "df_selected[\"Consumer complaint narrative\"] = df_selected[\"Consumer complaint narrative\"].apply(clean_lowercase)\n",
    "df_selected[\"Consumer complaint narrative\"] = df_selected[\"Consumer complaint narrative\"].apply(clean_numbers)"
   ]
  },
  {
   "cell_type": "markdown",
   "metadata": {},
   "source": [
    "**Apply CountVectorizer**"
   ]
  },
  {
   "cell_type": "code",
   "execution_count": 6,
   "metadata": {},
   "outputs": [],
   "source": [
    "from sklearn.feature_extraction.text import CountVectorizer\n",
    "\n",
    "# vect (bag of words)\n",
    "count_vect = CountVectorizer(\n",
    "    stop_words=\"english\",\n",
    "    #ngram_range=(1,2), # bigrammen\n",
    "    min_df=2, # only keep words that appear twice\n",
    "    max_df=0.5 # appears max in 50% of documents\n",
    ")\n",
    "\n",
    "X_train_counts = count_vect.fit_transform(df_selected[\"Consumer complaint narrative\"])"
   ]
  },
  {
   "cell_type": "markdown",
   "metadata": {},
   "source": [
    "**Split into train & test**"
   ]
  },
  {
   "cell_type": "code",
   "execution_count": 7,
   "metadata": {},
   "outputs": [
    {
     "name": "stdout",
     "output_type": "stream",
     "text": [
      "(364275, 77541)\n",
      "(121426, 77541)\n",
      "(364275,)\n",
      "(121426,)\n"
     ]
    }
   ],
   "source": [
    "from sklearn.model_selection import train_test_split\n",
    "X_train, X_test, Y_train, Y_test = train_test_split(X_train_counts, df_selected['Product'])\n",
    "print(X_train.shape)\n",
    "print(X_test.shape)\n",
    "print(Y_train.shape)\n",
    "print(Y_test.shape)"
   ]
  },
  {
   "cell_type": "markdown",
   "metadata": {},
   "source": [
    "**Dimensionality Reduction**"
   ]
  },
  {
   "cell_type": "code",
   "execution_count": 8,
   "metadata": {},
   "outputs": [
    {
     "name": "stdout",
     "output_type": "stream",
     "text": [
      "(364275, 30)\n",
      "(121426, 30)\n"
     ]
    }
   ],
   "source": [
    "from sklearn.decomposition import TruncatedSVD\n",
    "\n",
    "tSVD = TruncatedSVD(n_components=30)\n",
    "\n",
    "# apply PCA\n",
    "principal_components_train = tSVD.fit_transform(X_train)\n",
    "principal_components_test = tSVD.transform(X_test)\n",
    "\n",
    "# data points & their principal components\n",
    "print(principal_components_train.shape)\n",
    "print(principal_components_test.shape)"
   ]
  },
  {
   "cell_type": "markdown",
   "metadata": {},
   "source": [
    "**Run algorithm and report**"
   ]
  },
  {
   "cell_type": "code",
   "execution_count": 9,
   "metadata": {},
   "outputs": [
    {
     "name": "stderr",
     "output_type": "stream",
     "text": [
      "C:\\Program Files (x86)\\Microsoft Visual Studio\\Shared\\Anaconda3_64\\lib\\site-packages\\sklearn\\metrics\\_classification.py:1272: UndefinedMetricWarning: Recall and F-score are ill-defined and being set to 0.0 in labels with no true samples. Use `zero_division` parameter to control this behavior.\n",
      "  _warn_prf(average, modifier, msg_start, len(result))\n"
     ]
    },
    {
     "name": "stdout",
     "output_type": "stream",
     "text": [
      "                                                                              precision    recall  f1-score   support\n",
      "\n",
      "                                                     Bank account or service       0.26      0.38      0.31      2516\n",
      "                                                 Checking or savings account       0.54      0.44      0.49      5933\n",
      "                                                               Consumer Loan       0.07      0.36      0.11       432\n",
      "                                                                 Credit card       0.14      0.41      0.21      1568\n",
      "                                                 Credit card or prepaid card       0.61      0.48      0.54      9916\n",
      "                                                            Credit reporting       0.22      0.88      0.36      2011\n",
      "Credit reporting, credit repair services, or other personal consumer reports       0.90      0.71      0.79     44636\n",
      "                                                             Debt collection       0.81      0.75      0.78     28670\n",
      "                          Money transfer, virtual currency, or money service       0.32      0.55      0.40      1102\n",
      "                                                             Money transfers       0.01      0.50      0.03        10\n",
      "                                                                    Mortgage       0.89      0.78      0.83     17386\n",
      "                                                     Other financial service       0.00      0.00      0.00         0\n",
      "                                                                 Payday loan       0.02      0.47      0.04        17\n",
      "                                   Payday loan, title loan, or personal loan       0.07      0.36      0.12       305\n",
      "                                                                Prepaid card       0.04      0.62      0.07        21\n",
      "                                                                Student loan       0.70      0.69      0.69      6261\n",
      "                                                       Vehicle loan or lease       0.15      0.50      0.23       639\n",
      "                                                            Virtual currency       0.50      1.00      0.67         3\n",
      "\n",
      "                                                                    accuracy                           0.69    121426\n",
      "                                                                   macro avg       0.35      0.55      0.37    121426\n",
      "                                                                weighted avg       0.78      0.69      0.72    121426\n",
      "\n"
     ]
    }
   ],
   "source": [
    "from sklearn.ensemble import RandomForestClassifier\n",
    "from sklearn.metrics import accuracy_score\n",
    "from sklearn.metrics import classification_report # do more stats\n",
    "\n",
    "clf = RandomForestClassifier()\n",
    "clf.fit(principal_components_train, Y_train)\n",
    "\n",
    "test_predictions = clf.predict(principal_components_test)\n",
    "print(classification_report(test_predictions, Y_test))"
   ]
  }
 ],
 "metadata": {
  "kernelspec": {
   "display_name": "Python 3",
   "language": "python",
   "name": "python3"
  },
  "language_info": {
   "codemirror_mode": {
    "name": "ipython",
    "version": 3
   },
   "file_extension": ".py",
   "mimetype": "text/x-python",
   "name": "python",
   "nbconvert_exporter": "python",
   "pygments_lexer": "ipython3",
   "version": "3.7.6"
  },
  "toc": {
   "base_numbering": 1,
   "nav_menu": {},
   "number_sections": true,
   "sideBar": true,
   "skip_h1_title": false,
   "title_cell": "Table of Contents",
   "title_sidebar": "Contents",
   "toc_cell": false,
   "toc_position": {},
   "toc_section_display": true,
   "toc_window_display": false
  }
 },
 "nbformat": 4,
 "nbformat_minor": 2
}

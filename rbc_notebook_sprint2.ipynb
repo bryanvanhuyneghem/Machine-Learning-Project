{
 "cells": [
  {
   "cell_type": "markdown",
   "metadata": {},
   "source": [
    "<h1 style='color:#00868b'>Read, balance and clean dataset<span class=\"tocSkip\"></span></h1>"
   ]
  },
  {
   "cell_type": "markdown",
   "metadata": {},
   "source": [
    "This notebook produces 6 different CSV files. \n",
    "\n",
    "**CSVs**:\n",
    "\n",
    "There are **3 types CSV files (cp, cps, cpsi)** that each have **2 subtypes**, indicating whether or not the dataset has been balanced or not. In other words, there are **6 CSVs in total** that serve as the starting point for every unsupervised algorithm.\n",
    "\n",
    "*Imbalanced*\n",
    "* <code>corpus_sprint2_imbalanced_cp</code>: unbalanced, cleaned dataset consisting of the *consumer complaint narrative* (**c**) and the *product* (**p**).\n",
    "* <code>corpus_sprint2_imbalanced_cps</code>: unbalanced, cleaned dataset consisting of the *consumer complaint narrative* (**c**), the *product* (**p**) and the *sub-product* (**s**).\n",
    "* <code>corpus_sprint2_imbalanced_cpsi</code>: unbalanced, cleaned dataset consisting of the *consumer complaint narrative* (**c**), the *product* (**p**), the *sub-product* (**s**) and the *Issue* and *Sub-issue*, combined into one (**i**).\n",
    "\n",
    "*Balanced*\n",
    "* <code>corpus_sprint2_balanced_cp</code>: balanced, cleaned dataset consisting of the *consumer complaint narrative* (**c**) and the *product* (**p**).\n",
    "* <code>corpus_sprint2_balanced_cps</code>: balanced, cleaned dataset consisting of the *consumer complaint narrative* (**c**), the *product* (**p**) and the *sub-product* (**s**).\n",
    "* <code>corpus_sprint2_balanced_cpsi</code>: balanced, cleaned dataset consisting of the *consumer complaint narrative* (**c**), the *product* (**p**), the *sub-product* (**s**) and the *Issue* and *Sub-issue*, combined into one (**i**).\n",
    "\n",
    "We have chosen this approach because we are also interested in viewing what the imbalanced dataset yields as a result. A new column is added over time to gauge whether or not it improves the clustering algorithms or not."
   ]
  },
  {
   "cell_type": "markdown",
   "metadata": {},
   "source": [
    "# Start"
   ]
  },
  {
   "cell_type": "code",
   "execution_count": 1,
   "metadata": {},
   "outputs": [],
   "source": [
    "import pandas as pd\n",
    "import seaborn as sns\n",
    "import matplotlib.pyplot as plt\n",
    "import numpy as np"
   ]
  },
  {
   "cell_type": "markdown",
   "metadata": {},
   "source": [
    "## Read dataset"
   ]
  },
  {
   "cell_type": "code",
   "execution_count": 1,
   "metadata": {},
   "outputs": [
    {
     "ename": "NameError",
     "evalue": "name 'pd' is not defined",
     "output_type": "error",
     "traceback": [
      "\u001b[1;31m---------------------------------------------------------------------------\u001b[0m",
      "\u001b[1;31mNameError\u001b[0m                                 Traceback (most recent call last)",
      "\u001b[1;32m<ipython-input-1-5306a7565ae5>\u001b[0m in \u001b[0;36m<module>\u001b[1;34m\u001b[0m\n\u001b[1;32m----> 1\u001b[1;33m \u001b[0m_df\u001b[0m \u001b[1;33m=\u001b[0m \u001b[0mpd\u001b[0m\u001b[1;33m.\u001b[0m\u001b[0mread_csv\u001b[0m\u001b[1;33m(\u001b[0m\u001b[1;34m\"complaints-2020-01-22_08_24.csv\"\u001b[0m\u001b[1;33m,\u001b[0m \u001b[0mencoding\u001b[0m\u001b[1;33m=\u001b[0m\u001b[1;34m\"utf-8\"\u001b[0m\u001b[1;33m)\u001b[0m\u001b[1;33m\u001b[0m\u001b[1;33m\u001b[0m\u001b[0m\n\u001b[0m",
      "\u001b[1;31mNameError\u001b[0m: name 'pd' is not defined"
     ]
    }
   ],
   "source": [
    "_df = pd.read_csv(\"complaints-2020-01-22_08_24.csv\", encoding=\"utf-8\")"
   ]
  },
  {
   "cell_type": "code",
   "execution_count": 3,
   "metadata": {},
   "outputs": [
    {
     "data": {
      "text/html": [
       "<div>\n",
       "<style scoped>\n",
       "    .dataframe tbody tr th:only-of-type {\n",
       "        vertical-align: middle;\n",
       "    }\n",
       "\n",
       "    .dataframe tbody tr th {\n",
       "        vertical-align: top;\n",
       "    }\n",
       "\n",
       "    .dataframe thead th {\n",
       "        text-align: right;\n",
       "    }\n",
       "</style>\n",
       "<table border=\"1\" class=\"dataframe\">\n",
       "  <thead>\n",
       "    <tr style=\"text-align: right;\">\n",
       "      <th></th>\n",
       "      <th>Date received</th>\n",
       "      <th>Product</th>\n",
       "      <th>Sub-product</th>\n",
       "      <th>Issue</th>\n",
       "      <th>Sub-issue</th>\n",
       "      <th>Consumer complaint narrative</th>\n",
       "      <th>Company public response</th>\n",
       "      <th>Company</th>\n",
       "      <th>State</th>\n",
       "      <th>ZIP code</th>\n",
       "      <th>Tags</th>\n",
       "      <th>Consumer consent provided?</th>\n",
       "      <th>Submitted via</th>\n",
       "      <th>Date sent to company</th>\n",
       "      <th>Company response to consumer</th>\n",
       "      <th>Timely response?</th>\n",
       "      <th>Consumer disputed?</th>\n",
       "      <th>Complaint ID</th>\n",
       "    </tr>\n",
       "  </thead>\n",
       "  <tbody>\n",
       "    <tr>\n",
       "      <td>0</td>\n",
       "      <td>07/23/19</td>\n",
       "      <td>Credit reporting, credit repair services, or o...</td>\n",
       "      <td>Credit reporting</td>\n",
       "      <td>Credit monitoring or identity theft protection...</td>\n",
       "      <td>Problem canceling credit monitoring or identif...</td>\n",
       "      <td>I have complained many times that the credit r...</td>\n",
       "      <td>Company has responded to the consumer and the ...</td>\n",
       "      <td>Experian Information Solutions Inc.</td>\n",
       "      <td>CA</td>\n",
       "      <td>926XX</td>\n",
       "      <td>None</td>\n",
       "      <td>Consent provided</td>\n",
       "      <td>Web</td>\n",
       "      <td>07/23/19</td>\n",
       "      <td>Closed with explanation</td>\n",
       "      <td>Yes</td>\n",
       "      <td>NaN</td>\n",
       "      <td>3315279</td>\n",
       "    </tr>\n",
       "    <tr>\n",
       "      <td>1</td>\n",
       "      <td>07/26/19</td>\n",
       "      <td>Debt collection</td>\n",
       "      <td>I do not know</td>\n",
       "      <td>False statements or representation</td>\n",
       "      <td>Attempted to collect wrong amount</td>\n",
       "      <td>please review the current fraud account and al...</td>\n",
       "      <td>Company believes it acted appropriately as aut...</td>\n",
       "      <td>Ideal Collection Services, Inc.</td>\n",
       "      <td>FL</td>\n",
       "      <td>333XX</td>\n",
       "      <td>None</td>\n",
       "      <td>Consent provided</td>\n",
       "      <td>Web</td>\n",
       "      <td>07/26/19</td>\n",
       "      <td>Closed with explanation</td>\n",
       "      <td>Yes</td>\n",
       "      <td>NaN</td>\n",
       "      <td>3319487</td>\n",
       "    </tr>\n",
       "    <tr>\n",
       "      <td>2</td>\n",
       "      <td>06/03/19</td>\n",
       "      <td>Debt collection</td>\n",
       "      <td>I do not know</td>\n",
       "      <td>Attempts to collect debt not owed</td>\n",
       "      <td>Debt was paid</td>\n",
       "      <td>Called multiple times over the years for a deb...</td>\n",
       "      <td>None</td>\n",
       "      <td>ONEMAIN FINANCIAL HOLDINGS, LLC.</td>\n",
       "      <td>FL</td>\n",
       "      <td>327XX</td>\n",
       "      <td>None</td>\n",
       "      <td>Consent provided</td>\n",
       "      <td>Web</td>\n",
       "      <td>06/07/19</td>\n",
       "      <td>Closed with explanation</td>\n",
       "      <td>Yes</td>\n",
       "      <td>NaN</td>\n",
       "      <td>3262794</td>\n",
       "    </tr>\n",
       "    <tr>\n",
       "      <td>3</td>\n",
       "      <td>07/03/19</td>\n",
       "      <td>Debt collection</td>\n",
       "      <td>Other debt</td>\n",
       "      <td>Attempts to collect debt not owed</td>\n",
       "      <td>Debt was result of identity theft</td>\n",
       "      <td>I sent in a letter to the company to have them...</td>\n",
       "      <td>None</td>\n",
       "      <td>Diversified Consultants, Inc.</td>\n",
       "      <td>VA</td>\n",
       "      <td>232XX</td>\n",
       "      <td>None</td>\n",
       "      <td>Consent provided</td>\n",
       "      <td>Web</td>\n",
       "      <td>07/03/19</td>\n",
       "      <td>Closed with explanation</td>\n",
       "      <td>Yes</td>\n",
       "      <td>NaN</td>\n",
       "      <td>3295208</td>\n",
       "    </tr>\n",
       "    <tr>\n",
       "      <td>4</td>\n",
       "      <td>07/14/19</td>\n",
       "      <td>Credit reporting, credit repair services, or o...</td>\n",
       "      <td>Credit reporting</td>\n",
       "      <td>Improper use of your report</td>\n",
       "      <td>Received unsolicited financial product or insu...</td>\n",
       "      <td>On XX/XX/19 I applied for a Debt Relief Produc...</td>\n",
       "      <td>None</td>\n",
       "      <td>ClearOne Advantage, LLC</td>\n",
       "      <td>PA</td>\n",
       "      <td>191XX</td>\n",
       "      <td>Older American, Servicemember</td>\n",
       "      <td>Consent provided</td>\n",
       "      <td>Web</td>\n",
       "      <td>07/18/19</td>\n",
       "      <td>Closed with explanation</td>\n",
       "      <td>Yes</td>\n",
       "      <td>NaN</td>\n",
       "      <td>3306130</td>\n",
       "    </tr>\n",
       "  </tbody>\n",
       "</table>\n",
       "</div>"
      ],
      "text/plain": [
       "  Date received                                            Product  \\\n",
       "0      07/23/19  Credit reporting, credit repair services, or o...   \n",
       "1      07/26/19                                    Debt collection   \n",
       "2      06/03/19                                    Debt collection   \n",
       "3      07/03/19                                    Debt collection   \n",
       "4      07/14/19  Credit reporting, credit repair services, or o...   \n",
       "\n",
       "        Sub-product                                              Issue  \\\n",
       "0  Credit reporting  Credit monitoring or identity theft protection...   \n",
       "1     I do not know                 False statements or representation   \n",
       "2     I do not know                  Attempts to collect debt not owed   \n",
       "3        Other debt                  Attempts to collect debt not owed   \n",
       "4  Credit reporting                        Improper use of your report   \n",
       "\n",
       "                                           Sub-issue  \\\n",
       "0  Problem canceling credit monitoring or identif...   \n",
       "1                  Attempted to collect wrong amount   \n",
       "2                                      Debt was paid   \n",
       "3                  Debt was result of identity theft   \n",
       "4  Received unsolicited financial product or insu...   \n",
       "\n",
       "                        Consumer complaint narrative  \\\n",
       "0  I have complained many times that the credit r...   \n",
       "1  please review the current fraud account and al...   \n",
       "2  Called multiple times over the years for a deb...   \n",
       "3  I sent in a letter to the company to have them...   \n",
       "4  On XX/XX/19 I applied for a Debt Relief Produc...   \n",
       "\n",
       "                             Company public response  \\\n",
       "0  Company has responded to the consumer and the ...   \n",
       "1  Company believes it acted appropriately as aut...   \n",
       "2                                               None   \n",
       "3                                               None   \n",
       "4                                               None   \n",
       "\n",
       "                               Company State ZIP code  \\\n",
       "0  Experian Information Solutions Inc.    CA    926XX   \n",
       "1      Ideal Collection Services, Inc.    FL    333XX   \n",
       "2     ONEMAIN FINANCIAL HOLDINGS, LLC.    FL    327XX   \n",
       "3        Diversified Consultants, Inc.    VA    232XX   \n",
       "4              ClearOne Advantage, LLC    PA    191XX   \n",
       "\n",
       "                            Tags Consumer consent provided? Submitted via  \\\n",
       "0                           None           Consent provided           Web   \n",
       "1                           None           Consent provided           Web   \n",
       "2                           None           Consent provided           Web   \n",
       "3                           None           Consent provided           Web   \n",
       "4  Older American, Servicemember           Consent provided           Web   \n",
       "\n",
       "  Date sent to company Company response to consumer Timely response?  \\\n",
       "0             07/23/19      Closed with explanation              Yes   \n",
       "1             07/26/19      Closed with explanation              Yes   \n",
       "2             06/07/19      Closed with explanation              Yes   \n",
       "3             07/03/19      Closed with explanation              Yes   \n",
       "4             07/18/19      Closed with explanation              Yes   \n",
       "\n",
       "  Consumer disputed?  Complaint ID  \n",
       "0                NaN       3315279  \n",
       "1                NaN       3319487  \n",
       "2                NaN       3262794  \n",
       "3                NaN       3295208  \n",
       "4                NaN       3306130  "
      ]
     },
     "execution_count": 3,
     "metadata": {},
     "output_type": "execute_result"
    }
   ],
   "source": [
    "df.head()"
   ]
  },
  {
   "cell_type": "markdown",
   "metadata": {},
   "source": [
    "## Select columns to keep"
   ]
  },
  {
   "cell_type": "markdown",
   "metadata": {},
   "source": [
    "### Consumer complaint narrative + Product (cp)"
   ]
  },
  {
   "cell_type": "code",
   "execution_count": 4,
   "metadata": {},
   "outputs": [],
   "source": [
    "df_cp = df.loc[:, ('Product', 'Consumer complaint narrative')]"
   ]
  },
  {
   "cell_type": "code",
   "execution_count": 5,
   "metadata": {},
   "outputs": [
    {
     "data": {
      "text/html": [
       "<div>\n",
       "<style scoped>\n",
       "    .dataframe tbody tr th:only-of-type {\n",
       "        vertical-align: middle;\n",
       "    }\n",
       "\n",
       "    .dataframe tbody tr th {\n",
       "        vertical-align: top;\n",
       "    }\n",
       "\n",
       "    .dataframe thead th {\n",
       "        text-align: right;\n",
       "    }\n",
       "</style>\n",
       "<table border=\"1\" class=\"dataframe\">\n",
       "  <thead>\n",
       "    <tr style=\"text-align: right;\">\n",
       "      <th></th>\n",
       "      <th>Product</th>\n",
       "      <th>Consumer complaint narrative</th>\n",
       "    </tr>\n",
       "  </thead>\n",
       "  <tbody>\n",
       "    <tr>\n",
       "      <td>0</td>\n",
       "      <td>Credit reporting, credit repair services, or o...</td>\n",
       "      <td>I have complained many times that the credit r...</td>\n",
       "    </tr>\n",
       "    <tr>\n",
       "      <td>1</td>\n",
       "      <td>Debt collection</td>\n",
       "      <td>please review the current fraud account and al...</td>\n",
       "    </tr>\n",
       "    <tr>\n",
       "      <td>2</td>\n",
       "      <td>Debt collection</td>\n",
       "      <td>Called multiple times over the years for a deb...</td>\n",
       "    </tr>\n",
       "    <tr>\n",
       "      <td>3</td>\n",
       "      <td>Debt collection</td>\n",
       "      <td>I sent in a letter to the company to have them...</td>\n",
       "    </tr>\n",
       "    <tr>\n",
       "      <td>4</td>\n",
       "      <td>Credit reporting, credit repair services, or o...</td>\n",
       "      <td>On XX/XX/19 I applied for a Debt Relief Produc...</td>\n",
       "    </tr>\n",
       "  </tbody>\n",
       "</table>\n",
       "</div>"
      ],
      "text/plain": [
       "                                             Product  \\\n",
       "0  Credit reporting, credit repair services, or o...   \n",
       "1                                    Debt collection   \n",
       "2                                    Debt collection   \n",
       "3                                    Debt collection   \n",
       "4  Credit reporting, credit repair services, or o...   \n",
       "\n",
       "                        Consumer complaint narrative  \n",
       "0  I have complained many times that the credit r...  \n",
       "1  please review the current fraud account and al...  \n",
       "2  Called multiple times over the years for a deb...  \n",
       "3  I sent in a letter to the company to have them...  \n",
       "4  On XX/XX/19 I applied for a Debt Relief Produc...  "
      ]
     },
     "execution_count": 5,
     "metadata": {},
     "output_type": "execute_result"
    }
   ],
   "source": [
    "df_cp.head()"
   ]
  },
  {
   "cell_type": "markdown",
   "metadata": {},
   "source": [
    "### Consumer complaint narrative + Product + Sub-product (cps)"
   ]
  },
  {
   "cell_type": "code",
   "execution_count": 6,
   "metadata": {},
   "outputs": [],
   "source": [
    "df_cps = df.loc[:, ('Product', 'Sub-product', 'Consumer complaint narrative')]"
   ]
  },
  {
   "cell_type": "code",
   "execution_count": 7,
   "metadata": {},
   "outputs": [
    {
     "data": {
      "text/html": [
       "<div>\n",
       "<style scoped>\n",
       "    .dataframe tbody tr th:only-of-type {\n",
       "        vertical-align: middle;\n",
       "    }\n",
       "\n",
       "    .dataframe tbody tr th {\n",
       "        vertical-align: top;\n",
       "    }\n",
       "\n",
       "    .dataframe thead th {\n",
       "        text-align: right;\n",
       "    }\n",
       "</style>\n",
       "<table border=\"1\" class=\"dataframe\">\n",
       "  <thead>\n",
       "    <tr style=\"text-align: right;\">\n",
       "      <th></th>\n",
       "      <th>Product</th>\n",
       "      <th>Sub-product</th>\n",
       "      <th>Consumer complaint narrative</th>\n",
       "    </tr>\n",
       "  </thead>\n",
       "  <tbody>\n",
       "    <tr>\n",
       "      <td>0</td>\n",
       "      <td>Credit reporting, credit repair services, or o...</td>\n",
       "      <td>Credit reporting</td>\n",
       "      <td>I have complained many times that the credit r...</td>\n",
       "    </tr>\n",
       "    <tr>\n",
       "      <td>1</td>\n",
       "      <td>Debt collection</td>\n",
       "      <td>I do not know</td>\n",
       "      <td>please review the current fraud account and al...</td>\n",
       "    </tr>\n",
       "    <tr>\n",
       "      <td>2</td>\n",
       "      <td>Debt collection</td>\n",
       "      <td>I do not know</td>\n",
       "      <td>Called multiple times over the years for a deb...</td>\n",
       "    </tr>\n",
       "    <tr>\n",
       "      <td>3</td>\n",
       "      <td>Debt collection</td>\n",
       "      <td>Other debt</td>\n",
       "      <td>I sent in a letter to the company to have them...</td>\n",
       "    </tr>\n",
       "    <tr>\n",
       "      <td>4</td>\n",
       "      <td>Credit reporting, credit repair services, or o...</td>\n",
       "      <td>Credit reporting</td>\n",
       "      <td>On XX/XX/19 I applied for a Debt Relief Produc...</td>\n",
       "    </tr>\n",
       "  </tbody>\n",
       "</table>\n",
       "</div>"
      ],
      "text/plain": [
       "                                             Product       Sub-product  \\\n",
       "0  Credit reporting, credit repair services, or o...  Credit reporting   \n",
       "1                                    Debt collection     I do not know   \n",
       "2                                    Debt collection     I do not know   \n",
       "3                                    Debt collection        Other debt   \n",
       "4  Credit reporting, credit repair services, or o...  Credit reporting   \n",
       "\n",
       "                        Consumer complaint narrative  \n",
       "0  I have complained many times that the credit r...  \n",
       "1  please review the current fraud account and al...  \n",
       "2  Called multiple times over the years for a deb...  \n",
       "3  I sent in a letter to the company to have them...  \n",
       "4  On XX/XX/19 I applied for a Debt Relief Produc...  "
      ]
     },
     "execution_count": 7,
     "metadata": {},
     "output_type": "execute_result"
    }
   ],
   "source": [
    "df_cps.head()"
   ]
  },
  {
   "cell_type": "markdown",
   "metadata": {},
   "source": [
    "### Consumer complaint narrative + Product + Issue + Sub-issue (cpsi)"
   ]
  },
  {
   "cell_type": "code",
   "execution_count": 8,
   "metadata": {},
   "outputs": [],
   "source": [
    "df_cpsi = df.loc[:, ('Product', 'Sub-product', 'Issue', 'Sub-issue', 'Consumer complaint narrative')]"
   ]
  },
  {
   "cell_type": "code",
   "execution_count": 9,
   "metadata": {
    "scrolled": false
   },
   "outputs": [
    {
     "data": {
      "text/html": [
       "<div>\n",
       "<style scoped>\n",
       "    .dataframe tbody tr th:only-of-type {\n",
       "        vertical-align: middle;\n",
       "    }\n",
       "\n",
       "    .dataframe tbody tr th {\n",
       "        vertical-align: top;\n",
       "    }\n",
       "\n",
       "    .dataframe thead th {\n",
       "        text-align: right;\n",
       "    }\n",
       "</style>\n",
       "<table border=\"1\" class=\"dataframe\">\n",
       "  <thead>\n",
       "    <tr style=\"text-align: right;\">\n",
       "      <th></th>\n",
       "      <th>Product</th>\n",
       "      <th>Sub-product</th>\n",
       "      <th>Issue</th>\n",
       "      <th>Sub-issue</th>\n",
       "      <th>Consumer complaint narrative</th>\n",
       "    </tr>\n",
       "  </thead>\n",
       "  <tbody>\n",
       "    <tr>\n",
       "      <td>0</td>\n",
       "      <td>Credit reporting, credit repair services, or o...</td>\n",
       "      <td>Credit reporting</td>\n",
       "      <td>Credit monitoring or identity theft protection...</td>\n",
       "      <td>Problem canceling credit monitoring or identif...</td>\n",
       "      <td>I have complained many times that the credit r...</td>\n",
       "    </tr>\n",
       "    <tr>\n",
       "      <td>1</td>\n",
       "      <td>Debt collection</td>\n",
       "      <td>I do not know</td>\n",
       "      <td>False statements or representation</td>\n",
       "      <td>Attempted to collect wrong amount</td>\n",
       "      <td>please review the current fraud account and al...</td>\n",
       "    </tr>\n",
       "    <tr>\n",
       "      <td>2</td>\n",
       "      <td>Debt collection</td>\n",
       "      <td>I do not know</td>\n",
       "      <td>Attempts to collect debt not owed</td>\n",
       "      <td>Debt was paid</td>\n",
       "      <td>Called multiple times over the years for a deb...</td>\n",
       "    </tr>\n",
       "    <tr>\n",
       "      <td>3</td>\n",
       "      <td>Debt collection</td>\n",
       "      <td>Other debt</td>\n",
       "      <td>Attempts to collect debt not owed</td>\n",
       "      <td>Debt was result of identity theft</td>\n",
       "      <td>I sent in a letter to the company to have them...</td>\n",
       "    </tr>\n",
       "    <tr>\n",
       "      <td>4</td>\n",
       "      <td>Credit reporting, credit repair services, or o...</td>\n",
       "      <td>Credit reporting</td>\n",
       "      <td>Improper use of your report</td>\n",
       "      <td>Received unsolicited financial product or insu...</td>\n",
       "      <td>On XX/XX/19 I applied for a Debt Relief Produc...</td>\n",
       "    </tr>\n",
       "  </tbody>\n",
       "</table>\n",
       "</div>"
      ],
      "text/plain": [
       "                                             Product       Sub-product  \\\n",
       "0  Credit reporting, credit repair services, or o...  Credit reporting   \n",
       "1                                    Debt collection     I do not know   \n",
       "2                                    Debt collection     I do not know   \n",
       "3                                    Debt collection        Other debt   \n",
       "4  Credit reporting, credit repair services, or o...  Credit reporting   \n",
       "\n",
       "                                               Issue  \\\n",
       "0  Credit monitoring or identity theft protection...   \n",
       "1                 False statements or representation   \n",
       "2                  Attempts to collect debt not owed   \n",
       "3                  Attempts to collect debt not owed   \n",
       "4                        Improper use of your report   \n",
       "\n",
       "                                           Sub-issue  \\\n",
       "0  Problem canceling credit monitoring or identif...   \n",
       "1                  Attempted to collect wrong amount   \n",
       "2                                      Debt was paid   \n",
       "3                  Debt was result of identity theft   \n",
       "4  Received unsolicited financial product or insu...   \n",
       "\n",
       "                        Consumer complaint narrative  \n",
       "0  I have complained many times that the credit r...  \n",
       "1  please review the current fraud account and al...  \n",
       "2  Called multiple times over the years for a deb...  \n",
       "3  I sent in a letter to the company to have them...  \n",
       "4  On XX/XX/19 I applied for a Debt Relief Produc...  "
      ]
     },
     "execution_count": 9,
     "metadata": {},
     "output_type": "execute_result"
    }
   ],
   "source": [
    "df_cpsi.head()"
   ]
  },
  {
   "cell_type": "markdown",
   "metadata": {},
   "source": [
    "## Data preprocessing"
   ]
  },
  {
   "cell_type": "code",
   "execution_count": 10,
   "metadata": {},
   "outputs": [],
   "source": [
    "import re\n",
    "import string\n",
    "\n",
    "def clean_document(complaint):\n",
    "    # turn text to lowercase\n",
    "    complaint = complaint.lower()\n",
    "    # remove URLs\n",
    "    complaint = re.sub('https?://(?:[-\\w.]|(?:%[\\da-fA-F]{2}))+', '', complaint)\n",
    "    complaint = re.sub('https? ?: ?// ?(?:[-\\w.]|(?:%[\\da-fA-F]{2}))+', '', complaint)\n",
    "    # removed censored words\n",
    "    complaint = re.sub('[xxxx]{4}', '', complaint)\n",
    "    complaint = re.sub('[XXXX]{4}', '', complaint)\n",
    "    # remove  non-sensical characters\n",
    "    complaint = re.sub(\"[,#'-\\(\\):$;\\?%}{]\",' ', complaint)\n",
    "    complaint = re.sub('\\n', '', complaint)\n",
    "    complaint = re.sub('\\t', '', complaint)\n",
    "    # normalise spaces to just one space\n",
    "    complaint = re.sub(\" +\", \" \", complaint);\n",
    "    # remove normal dates and censored dates\n",
    "    complaint = re.sub('[\\dx]{1,2}/[\\dx]{1,2}/[\\dx]{2,4}', '', complaint)\n",
    "    #Get sentences from the tokenizer, remove the dot in each.\n",
    "    return complaint\n"
   ]
  },
  {
   "cell_type": "code",
   "execution_count": 11,
   "metadata": {},
   "outputs": [],
   "source": [
    "df_cp[\"Consumer complaint narrative\"] = df_cp[\"Consumer complaint narrative\"].apply(clean_document)\n",
    "df_cps[\"Consumer complaint narrative\"] = df_cps[\"Consumer complaint narrative\"].apply(clean_document)\n",
    "df_cpsi[\"Consumer complaint narrative\"] = df_cpsi[\"Consumer complaint narrative\"].apply(clean_document)"
   ]
  },
  {
   "cell_type": "code",
   "execution_count": 12,
   "metadata": {},
   "outputs": [],
   "source": [
    "# Export to these 3 imbalanced datasets to csv for later use\n",
    "df_cp.to_csv(\"corpus_sprint3_imbalanced_cp.csv\", index=False)\n",
    "df_cps.to_csv(\"corpus_sprint3_imbalanced_cps.csv\", index=False)\n",
    "df_cpsi.to_csv(\"corpus_sprint3_imbalanced_cpsi.csv\", index=False)"
   ]
  },
  {
   "cell_type": "markdown",
   "metadata": {},
   "source": [
    "## Balancing the dataset"
   ]
  },
  {
   "cell_type": "markdown",
   "metadata": {},
   "source": [
    "We will now produce 3 more CSV files based on a balanced dataset."
   ]
  },
  {
   "cell_type": "code",
   "execution_count": 13,
   "metadata": {
    "scrolled": false
   },
   "outputs": [
    {
     "data": {
      "text/plain": [
       "Text(0, 0.5, 'categories')"
      ]
     },
     "execution_count": 13,
     "metadata": {},
     "output_type": "execute_result"
    },
    {
     "data": {
      "image/png": "[encoded data removed]",
      "text/plain": [
       "<Figure size 432x288 with 1 Axes>"
      ]
     },
     "metadata": {
      "needs_background": "light"
     },
     "output_type": "display_data"
    }
   ],
   "source": [
    "diff_products = df_cp.groupby(\"Product\")[\"Product\"].count().sort_values(ascending=False)\n",
    "fig = plt.figure()\n",
    "plt.rcParams['figure.figsize'] = [30,15]\n",
    "ax = fig.add_axes([0,0,0.4,0.5])\n",
    "\n",
    "ax.barh(diff_products.index,diff_products,color='teal')\n",
    "ax.invert_yaxis()\n",
    "plt.title('Complaints per Products')\n",
    "plt.xlabel('amount')\n",
    "plt.ylabel('categories')"
   ]
  },
  {
   "cell_type": "markdown",
   "metadata": {},
   "source": [
    "Produce 3 dataframes that will contain the balanced dataset:"
   ]
  },
  {
   "cell_type": "code",
   "execution_count": 14,
   "metadata": {},
   "outputs": [],
   "source": [
    "df_cp_balanced1 = df_cp.copy()\n",
    "df_cps_balanced1 = df_cps.copy()\n",
    "df_cpsi_balanced1 = df_cpsi.copy()"
   ]
  },
  {
   "cell_type": "markdown",
   "metadata": {},
   "source": [
    "### Remove columns with the least complaints"
   ]
  },
  {
   "cell_type": "markdown",
   "metadata": {},
   "source": [
    "#### Balancing round 1"
   ]
  },
  {
   "cell_type": "code",
   "execution_count": 15,
   "metadata": {},
   "outputs": [],
   "source": [
    "df_cp_balanced1 = df_cp_balanced1[df_cp_balanced1[\"Product\"] != \"Virtual currency\"]\n",
    "df_cp_balanced1 = df_cp_balanced1[df_cp_balanced1[\"Product\"] != \"Other financial service\"]\n",
    "df_cp_balanced1 = df_cp_balanced1[df_cp_balanced1[\"Product\"] != \"Prepaid card\"]\n",
    "df_cp_balanced1 = df_cp_balanced1[df_cp_balanced1[\"Product\"] != \"Money transfers\"]\n",
    "df_cp_balanced1 = df_cp_balanced1[df_cp_balanced1[\"Product\"] != \"Payday loan\"]\n",
    "\n",
    "df_cps_balanced1 = df_cps_balanced1[df_cps_balanced1[\"Product\"] != \"Virtual currency\"]\n",
    "df_cps_balanced1 = df_cps_balanced1[df_cps_balanced1[\"Product\"] != \"Other financial service\"]\n",
    "df_cps_balanced1 = df_cps_balanced1[df_cps_balanced1[\"Product\"] != \"Prepaid card\"]\n",
    "df_cps_balanced1 = df_cps_balanced1[df_cps_balanced1[\"Product\"] != \"Money transfers\"]\n",
    "df_cps_balanced1 = df_cps_balanced1[df_cps_balanced1[\"Product\"] != \"Payday loan\"]\n",
    "\n",
    "df_cpsi_balanced1 = df_cpsi_balanced1[df_cpsi_balanced1[\"Product\"] != \"Virtual currency\"]\n",
    "df_cpsi_balanced1 = df_cpsi_balanced1[df_cpsi_balanced1[\"Product\"] != \"Other financial service\"]\n",
    "df_cpsi_balanced1 = df_cpsi_balanced1[df_cpsi_balanced1[\"Product\"] != \"Prepaid card\"]\n",
    "df_cpsi_balanced1 = df_cpsi_balanced1[df_cpsi_balanced1[\"Product\"] != \"Money transfers\"]\n",
    "df_cpsi_balanced1 = df_cpsi_balanced1[df_cpsi_balanced1[\"Product\"] != \"Payday loan\"]"
   ]
  },
  {
   "cell_type": "markdown",
   "metadata": {},
   "source": [
    "### Make a copy and iteratively drop the products with the most complaints, adding a random sample % of them back afterwards"
   ]
  },
  {
   "cell_type": "markdown",
   "metadata": {},
   "source": [
    "#### Balancing round 2"
   ]
  },
  {
   "cell_type": "code",
   "execution_count": 16,
   "metadata": {},
   "outputs": [],
   "source": [
    "df_cp_balanced2 = df_cp_balanced1.copy()\n",
    "df_cps_balanced2 = df_cps_balanced1.copy()\n",
    "df_cpsi_balanced2 = df_cpsi_balanced1.copy()"
   ]
  },
  {
   "cell_type": "code",
   "execution_count": 17,
   "metadata": {},
   "outputs": [],
   "source": [
    "indexNames = df_cp_balanced2[df_cp_balanced2[\"Product\"] == \"Mortgage\"].index\n",
    "df_cp_balanced2.drop(indexNames, inplace=True)\n",
    "indexNames = df_cp_balanced2[df_cp_balanced2[\"Product\"] == \"Debt collection\"].index\n",
    "df_cp_balanced2.drop(indexNames, inplace=True)\n",
    "indexNames = df_cp_balanced2[df_cp_balanced2[\"Product\"] == \"Credit reporting, credit repair services, or other personal consumer reports\"].index\n",
    "df_cp_balanced2.drop(indexNames, inplace=True)\n",
    "\n",
    "indexNames = df_cps_balanced2[df_cps_balanced2[\"Product\"] == \"Mortgage\"].index\n",
    "df_cps_balanced2.drop(indexNames, inplace=True)\n",
    "indexNames = df_cps_balanced2[df_cps_balanced2[\"Product\"] == \"Debt collection\"].index\n",
    "df_cps_balanced2.drop(indexNames, inplace=True)\n",
    "indexNames = df_cps_balanced2[df_cps_balanced2[\"Product\"] == \"Credit reporting, credit repair services, or other personal consumer reports\"].index\n",
    "df_cps_balanced2.drop(indexNames, inplace=True)\n",
    "\n",
    "indexNames = df_cpsi_balanced2[df_cpsi_balanced2[\"Product\"] == \"Mortgage\"].index\n",
    "df_cpsi_balanced2.drop(indexNames, inplace=True)\n",
    "indexNames = df_cpsi_balanced2[df_cpsi_balanced2[\"Product\"] == \"Debt collection\"].index\n",
    "df_cpsi_balanced2.drop(indexNames, inplace=True)\n",
    "indexNames = df_cpsi_balanced2[df_cpsi_balanced2[\"Product\"] == \"Credit reporting, credit repair services, or other personal consumer reports\"].index\n",
    "df_cpsi_balanced2.drop(indexNames, inplace=True)"
   ]
  },
  {
   "cell_type": "code",
   "execution_count": 18,
   "metadata": {},
   "outputs": [],
   "source": [
    "df_cp_balanced2 = df_cp_balanced2.append(df_cp_balanced1.loc[df_cp_balanced1[\"Product\"] == 'Mortgage'].sample(frac=0.5))\n",
    "df_cp_balanced2 = df_cp_balanced2.append(df_cp_balanced1.loc[df_cp_balanced1[\"Product\"] == 'Debt collection'].sample(frac=0.4))\n",
    "df_cp_balanced2 = df_cp_balanced2.append(df_cp_balanced1.loc[df_cp_balanced1[\"Product\"] == 'Credit reporting, credit repair services, or other personal consumer reports'].sample(frac=0.3))\n",
    "\n",
    "df_cps_balanced2 = df_cps_balanced2.append(df_cps_balanced1.loc[df_cps_balanced1[\"Product\"] == 'Mortgage'].sample(frac=0.5))\n",
    "df_cps_balanced2 = df_cps_balanced2.append(df_cps_balanced1.loc[df_cps_balanced1[\"Product\"] == 'Debt collection'].sample(frac=0.4))\n",
    "df_cps_balanced2 = df_cps_balanced2.append(df_cps_balanced1.loc[df_cps_balanced1[\"Product\"] == 'Credit reporting, credit repair services, or other personal consumer reports'].sample(frac=0.3))\n",
    "\n",
    "df_cpsi_balanced2 = df_cpsi_balanced2.append(df_cpsi_balanced1.loc[df_cpsi_balanced1[\"Product\"] == 'Mortgage'].sample(frac=0.5))\n",
    "df_cpsi_balanced2 = df_cpsi_balanced2.append(df_cpsi_balanced1.loc[df_cpsi_balanced1[\"Product\"] == 'Debt collection'].sample(frac=0.4))\n",
    "df_cpsi_balanced2 = df_cpsi_balanced2.append(df_cpsi_balanced1.loc[df_cpsi_balanced1[\"Product\"] == 'Credit reporting, credit repair services, or other personal consumer reports'].sample(frac=0.3))"
   ]
  },
  {
   "cell_type": "code",
   "execution_count": 19,
   "metadata": {},
   "outputs": [
    {
     "data": {
      "text/plain": [
       "Text(0, 0.5, 'categories')"
      ]
     },
     "execution_count": 19,
     "metadata": {},
     "output_type": "execute_result"
    },
    {
     "data": {
      "image/png": "[encoded data removed]",
      "text/plain": [
       "<Figure size 2160x1080 with 1 Axes>"
      ]
     },
     "metadata": {
      "needs_background": "light"
     },
     "output_type": "display_data"
    }
   ],
   "source": [
    "diff_products = df_cp_balanced2.groupby(\"Product\")[\"Product\"].count().sort_values(ascending=False)\n",
    "fig = plt.figure()\n",
    "plt.rcParams['figure.figsize'] = [30,15]\n",
    "ax = fig.add_axes([0,0,0.4,0.5])\n",
    "\n",
    "ax.barh(diff_products.index,diff_products,color='teal')\n",
    "ax.invert_yaxis()\n",
    "plt.title('Complaints per Products')\n",
    "plt.xlabel('amount')\n",
    "plt.ylabel('categories')"
   ]
  },
  {
   "cell_type": "markdown",
   "metadata": {},
   "source": [
    "#### Balancing round 3"
   ]
  },
  {
   "cell_type": "code",
   "execution_count": 20,
   "metadata": {},
   "outputs": [],
   "source": [
    "df_cp_balanced3 = df_cp_balanced2.copy()\n",
    "df_cps_balanced3 = df_cps_balanced2.copy()\n",
    "df_cpsi_balanced3 = df_cpsi_balanced2.copy()"
   ]
  },
  {
   "cell_type": "code",
   "execution_count": 21,
   "metadata": {},
   "outputs": [],
   "source": [
    "indexNames = df_cp_balanced3[df_cp_balanced3[\"Product\"] == \"Credit reporting, credit repair services, or other personal consumer reports\"].index\n",
    "df_cp_balanced3.drop(indexNames, inplace=True)\n",
    "indexNames = df_cp_balanced3[df_cp_balanced3[\"Product\"] == \"Debt collection\"].index\n",
    "df_cp_balanced3.drop(indexNames, inplace=True)\n",
    "indexNames = df_cp_balanced3[df_cp_balanced3[\"Product\"] == \"Credit reporting\"].index\n",
    "df_cp_balanced3.drop(indexNames, inplace=True)\n",
    "indexNames = df_cp_balanced3[df_cp_balanced3[\"Product\"] == \"Credit card or prepaid card\"].index\n",
    "df_cp_balanced3.drop(indexNames, inplace=True)\n",
    "indexNames = df_cp_balanced3[df_cp_balanced3[\"Product\"] == \"Mortgage\"].index\n",
    "df_cp_balanced3.drop(indexNames, inplace=True)\n",
    "indexNames = df_cp_balanced3[df_cp_balanced3[\"Product\"] == \"Student loan\"].index\n",
    "df_cp_balanced3.drop(indexNames, inplace=True)\n",
    "\n",
    "indexNames = df_cps_balanced3[df_cps_balanced3[\"Product\"] == \"Credit reporting, credit repair services, or other personal consumer reports\"].index\n",
    "df_cps_balanced3.drop(indexNames, inplace=True)\n",
    "indexNames = df_cps_balanced3[df_cps_balanced3[\"Product\"] == \"Debt collection\"].index\n",
    "df_cps_balanced3.drop(indexNames, inplace=True)\n",
    "indexNames = df_cps_balanced3[df_cps_balanced3[\"Product\"] == \"Credit reporting\"].index\n",
    "df_cps_balanced3.drop(indexNames, inplace=True)\n",
    "indexNames = df_cps_balanced3[df_cps_balanced3[\"Product\"] == \"Credit card or prepaid card\"].index\n",
    "df_cps_balanced3.drop(indexNames, inplace=True)\n",
    "indexNames = df_cps_balanced3[df_cps_balanced3[\"Product\"] == \"Mortgage\"].index\n",
    "df_cps_balanced3.drop(indexNames, inplace=True)\n",
    "indexNames = df_cps_balanced3[df_cps_balanced3[\"Product\"] == \"Student loan\"].index\n",
    "df_cps_balanced3.drop(indexNames, inplace=True)\n",
    "\n",
    "indexNames = df_cpsi_balanced3[df_cpsi_balanced3[\"Product\"] == \"Credit reporting, credit repair services, or other personal consumer reports\"].index\n",
    "df_cpsi_balanced3.drop(indexNames, inplace=True)\n",
    "indexNames = df_cpsi_balanced3[df_cpsi_balanced3[\"Product\"] == \"Debt collection\"].index\n",
    "df_cpsi_balanced3.drop(indexNames, inplace=True)\n",
    "indexNames = df_cpsi_balanced3[df_cpsi_balanced3[\"Product\"] == \"Credit reporting\"].index\n",
    "df_cpsi_balanced3.drop(indexNames, inplace=True)\n",
    "indexNames = df_cpsi_balanced3[df_cpsi_balanced3[\"Product\"] == \"Credit card or prepaid card\"].index\n",
    "df_cpsi_balanced3.drop(indexNames, inplace=True)\n",
    "indexNames = df_cpsi_balanced3[df_cpsi_balanced3[\"Product\"] == \"Mortgage\"].index\n",
    "df_cpsi_balanced3.drop(indexNames, inplace=True)\n",
    "indexNames = df_cpsi_balanced3[df_cpsi_balanced3[\"Product\"] == \"Student loan\"].index\n",
    "df_cpsi_balanced3.drop(indexNames, inplace=True)"
   ]
  },
  {
   "cell_type": "code",
   "execution_count": 22,
   "metadata": {},
   "outputs": [],
   "source": [
    "df_cp_balanced3 = df_cp_balanced3.append(df_cp_balanced2.loc[df_cp_balanced2[\"Product\"] == 'Credit reporting, credit repair services, or other personal consumer reports'].sample(frac=0.5))\n",
    "df_cp_balanced3 = df_cp_balanced3.append(df_cp_balanced2.loc[df_cp_balanced2[\"Product\"] == 'Debt collection'].sample(frac=0.5))\n",
    "df_cp_balanced3 = df_cp_balanced3.append(df_cp_balanced2.loc[df_cp_balanced2[\"Product\"] == 'Credit reporting'].sample(frac=0.6))\n",
    "df_cp_balanced3 = df_cp_balanced3.append(df_cp_balanced2.loc[df_cp_balanced2[\"Product\"] == 'Credit card or prepaid card'].sample(frac=0.6))\n",
    "df_cp_balanced3 = df_cp_balanced3.append(df_cp_balanced2.loc[df_cp_balanced2[\"Product\"] == 'Mortgage'].sample(frac=0.6))\n",
    "df_cp_balanced3 = df_cp_balanced3.append(df_cp_balanced2.loc[df_cp_balanced2[\"Product\"] == 'Student loan'].sample(frac=0.85))\n",
    "\n",
    "df_cps_balanced3 = df_cps_balanced3.append(df_cps_balanced2.loc[df_cps_balanced2[\"Product\"] == 'Credit reporting, credit repair services, or other personal consumer reports'].sample(frac=0.5))\n",
    "df_cps_balanced3 = df_cps_balanced3.append(df_cps_balanced2.loc[df_cps_balanced2[\"Product\"] == 'Debt collection'].sample(frac=0.5))\n",
    "df_cps_balanced3 = df_cps_balanced3.append(df_cps_balanced2.loc[df_cps_balanced2[\"Product\"] == 'Credit reporting'].sample(frac=0.6))\n",
    "df_cps_balanced3 = df_cps_balanced3.append(df_cps_balanced2.loc[df_cps_balanced2[\"Product\"] == 'Credit card or prepaid card'].sample(frac=0.6))\n",
    "df_cps_balanced3 = df_cps_balanced3.append(df_cps_balanced2.loc[df_cps_balanced2[\"Product\"] == 'Mortgage'].sample(frac=0.6))\n",
    "df_cps_balanced3 = df_cps_balanced3.append(df_cps_balanced2.loc[df_cps_balanced2[\"Product\"] == 'Student loan'].sample(frac=0.85))\n",
    "\n",
    "df_cpsi_balanced3 = df_cpsi_balanced3.append(df_cpsi_balanced2.loc[df_cpsi_balanced2[\"Product\"] == 'Credit reporting, credit repair services, or other personal consumer reports'].sample(frac=0.5))\n",
    "df_cpsi_balanced3 = df_cpsi_balanced3.append(df_cpsi_balanced2.loc[df_cpsi_balanced2[\"Product\"] == 'Debt collection'].sample(frac=0.5))\n",
    "df_cpsi_balanced3 = df_cpsi_balanced3.append(df_cpsi_balanced2.loc[df_cpsi_balanced2[\"Product\"] == 'Credit reporting'].sample(frac=0.6))\n",
    "df_cpsi_balanced3 = df_cpsi_balanced3.append(df_cpsi_balanced2.loc[df_cpsi_balanced2[\"Product\"] == 'Credit card or prepaid card'].sample(frac=0.6))\n",
    "df_cpsi_balanced3 = df_cpsi_balanced3.append(df_cpsi_balanced2.loc[df_cpsi_balanced2[\"Product\"] == 'Mortgage'].sample(frac=0.6))\n",
    "df_cpsi_balanced3 = df_cpsi_balanced3.append(df_cpsi_balanced2.loc[df_cpsi_balanced2[\"Product\"] == 'Student loan'].sample(frac=0.85))"
   ]
  },
  {
   "cell_type": "code",
   "execution_count": 23,
   "metadata": {
    "scrolled": false
   },
   "outputs": [
    {
     "data": {
      "text/plain": [
       "Text(0, 0.5, 'categories')"
      ]
     },
     "execution_count": 23,
     "metadata": {},
     "output_type": "execute_result"
    },
    {
     "data": {
      "image/png": "[encoded data removed]",
      "text/plain": [
       "<Figure size 2160x1080 with 1 Axes>"
      ]
     },
     "metadata": {
      "needs_background": "light"
     },
     "output_type": "display_data"
    }
   ],
   "source": [
    "diff_products = df_cp_balanced3.groupby(\"Product\")[\"Product\"].count().sort_values(ascending=False)\n",
    "fig = plt.figure()\n",
    "plt.rcParams['figure.figsize'] = [30,15]\n",
    "ax = fig.add_axes([0,0,0.4,0.5])\n",
    "\n",
    "ax.barh(diff_products.index,diff_products,color='teal')\n",
    "ax.invert_yaxis()\n",
    "plt.title('Complaints per Products')\n",
    "plt.xlabel('amount')\n",
    "plt.ylabel('categories')"
   ]
  },
  {
   "cell_type": "markdown",
   "metadata": {},
   "source": [
    "#### Balancing round 4"
   ]
  },
  {
   "cell_type": "code",
   "execution_count": 24,
   "metadata": {},
   "outputs": [],
   "source": [
    "df_cp_balanced4 = df_cp_balanced3.copy()\n",
    "df_cps_balanced4 = df_cps_balanced3.copy()\n",
    "df_cpsi_balanced4 = df_cpsi_balanced3.copy()"
   ]
  },
  {
   "cell_type": "code",
   "execution_count": 25,
   "metadata": {},
   "outputs": [],
   "source": [
    "indexNames = df_cp_balanced4[df_cp_balanced4[\"Product\"] == \"Credit reporting, credit repair services, or other personal consumer reports\"].index\n",
    "df_cp_balanced4.drop(indexNames, inplace=True)\n",
    "indexNames = df_cp_balanced4[df_cp_balanced4[\"Product\"] == \"Debt collection\"].index\n",
    "df_cp_balanced4.drop(indexNames, inplace=True)\n",
    "indexNames = df_cp_balanced4[df_cp_balanced4[\"Product\"] == \"Credit reporting\"].index\n",
    "df_cp_balanced4.drop(indexNames, inplace=True)\n",
    "indexNames = df_cp_balanced4[df_cp_balanced4[\"Product\"] == \"Credit card or prepaid card\"].index\n",
    "df_cp_balanced4.drop(indexNames, inplace=True)\n",
    "indexNames = df_cp_balanced4[df_cp_balanced4[\"Product\"] == \"Mortgage\"].index\n",
    "df_cp_balanced4.drop(indexNames, inplace=True)\n",
    "indexNames = df_cp_balanced4[df_cp_balanced4[\"Product\"] == \"Student loan\"].index\n",
    "df_cp_balanced4.drop(indexNames, inplace=True)\n",
    "indexNames = df_cp_balanced4[df_cp_balanced4[\"Product\"] == \"Credit card\"].index\n",
    "df_cp_balanced4.drop(indexNames, inplace=True)\n",
    "indexNames = df_cp_balanced4[df_cp_balanced4[\"Product\"] == \"Checking or savings account\"].index\n",
    "df_cp_balanced4.drop(indexNames, inplace=True)\n",
    "indexNames = df_cp_balanced4[df_cp_balanced4[\"Product\"] == \"Bank account or service\"].index\n",
    "df_cp_balanced4.drop(indexNames, inplace=True)\n",
    "\n",
    "indexNames = df_cps_balanced4[df_cps_balanced4[\"Product\"] == \"Credit reporting, credit repair services, or other personal consumer reports\"].index\n",
    "df_cps_balanced4.drop(indexNames, inplace=True)\n",
    "indexNames = df_cps_balanced4[df_cps_balanced4[\"Product\"] == \"Debt collection\"].index\n",
    "df_cps_balanced4.drop(indexNames, inplace=True)\n",
    "indexNames = df_cps_balanced4[df_cps_balanced4[\"Product\"] == \"Credit reporting\"].index\n",
    "df_cps_balanced4.drop(indexNames, inplace=True)\n",
    "indexNames = df_cps_balanced4[df_cps_balanced4[\"Product\"] == \"Credit card or prepaid card\"].index\n",
    "df_cps_balanced4.drop(indexNames, inplace=True)\n",
    "indexNames = df_cps_balanced4[df_cps_balanced4[\"Product\"] == \"Mortgage\"].index\n",
    "df_cps_balanced4.drop(indexNames, inplace=True)\n",
    "indexNames = df_cps_balanced4[df_cps_balanced4[\"Product\"] == \"Student loan\"].index\n",
    "df_cps_balanced4.drop(indexNames, inplace=True)\n",
    "indexNames = df_cps_balanced4[df_cps_balanced4[\"Product\"] == \"Credit card\"].index\n",
    "df_cps_balanced4.drop(indexNames, inplace=True)\n",
    "indexNames = df_cps_balanced4[df_cps_balanced4[\"Product\"] == \"Checking or savings account\"].index\n",
    "df_cps_balanced4.drop(indexNames, inplace=True)\n",
    "indexNames = df_cps_balanced4[df_cps_balanced4[\"Product\"] == \"Bank account or service\"].index\n",
    "df_cps_balanced4.drop(indexNames, inplace=True)\n",
    "\n",
    "indexNames = df_cpsi_balanced4[df_cpsi_balanced4[\"Product\"] == \"Credit reporting, credit repair services, or other personal consumer reports\"].index\n",
    "df_cpsi_balanced4.drop(indexNames, inplace=True)\n",
    "indexNames = df_cpsi_balanced4[df_cpsi_balanced4[\"Product\"] == \"Debt collection\"].index\n",
    "df_cpsi_balanced4.drop(indexNames, inplace=True)\n",
    "indexNames = df_cpsi_balanced4[df_cpsi_balanced4[\"Product\"] == \"Credit reporting\"].index\n",
    "df_cpsi_balanced4.drop(indexNames, inplace=True)\n",
    "indexNames = df_cpsi_balanced4[df_cpsi_balanced4[\"Product\"] == \"Credit card or prepaid card\"].index\n",
    "df_cpsi_balanced4.drop(indexNames, inplace=True)\n",
    "indexNames = df_cpsi_balanced4[df_cpsi_balanced4[\"Product\"] == \"Mortgage\"].index\n",
    "df_cpsi_balanced4.drop(indexNames, inplace=True)\n",
    "indexNames = df_cpsi_balanced4[df_cpsi_balanced4[\"Product\"] == \"Student loan\"].index\n",
    "df_cpsi_balanced4.drop(indexNames, inplace=True)\n",
    "indexNames = df_cpsi_balanced4[df_cpsi_balanced4[\"Product\"] == \"Credit card\"].index\n",
    "df_cpsi_balanced4.drop(indexNames, inplace=True)\n",
    "indexNames = df_cpsi_balanced4[df_cpsi_balanced4[\"Product\"] == \"Checking or savings account\"].index\n",
    "df_cpsi_balanced4.drop(indexNames, inplace=True)\n",
    "indexNames = df_cpsi_balanced4[df_cpsi_balanced4[\"Product\"] == \"Bank account or service\"].index\n",
    "df_cpsi_balanced4.drop(indexNames, inplace=True)"
   ]
  },
  {
   "cell_type": "code",
   "execution_count": 26,
   "metadata": {},
   "outputs": [],
   "source": [
    "df_cp_balanced4 = df_cp_balanced4.append(df_cp_balanced3.loc[df_cp_balanced3[\"Product\"] == 'Credit reporting, credit repair services, or other personal consumer reports'].sample(frac=0.44))\n",
    "df_cp_balanced4 = df_cp_balanced4.append(df_cp_balanced3.loc[df_cp_balanced3[\"Product\"] == 'Debt collection'].sample(frac=0.44))\n",
    "df_cp_balanced4 = df_cp_balanced4.append(df_cp_balanced3.loc[df_cp_balanced3[\"Product\"] == 'Credit reporting'].sample(frac=0.46))\n",
    "df_cp_balanced4 = df_cp_balanced4.append(df_cp_balanced3.loc[df_cp_balanced3[\"Product\"] == 'Credit card or prepaid card'].sample(frac=0.44))\n",
    "df_cp_balanced4 = df_cp_balanced4.append(df_cp_balanced3.loc[df_cp_balanced3[\"Product\"] == 'Mortgage'].sample(frac=0.45))\n",
    "df_cp_balanced4 = df_cp_balanced4.append(df_cp_balanced3.loc[df_cp_balanced3[\"Product\"] == 'Student loan'].sample(frac=0.43))\n",
    "df_cp_balanced4 = df_cp_balanced4.append(df_cp_balanced3.loc[df_cp_balanced3[\"Product\"] == 'Credit card'].sample(frac=0.5))\n",
    "df_cp_balanced4 = df_cp_balanced4.append(df_cp_balanced3.loc[df_cp_balanced3[\"Product\"] == 'Checking or savings account'].sample(frac=0.46))\n",
    "df_cp_balanced4 = df_cp_balanced4.append(df_cp_balanced3.loc[df_cp_balanced3[\"Product\"] == 'Bank account or service'].sample(frac=0.6))\n",
    "\n",
    "df_cps_balanced4 = df_cps_balanced4.append(df_cps_balanced3.loc[df_cps_balanced3[\"Product\"] == 'Credit reporting, credit repair services, or other personal consumer reports'].sample(frac=0.44))\n",
    "df_cps_balanced4 = df_cps_balanced4.append(df_cps_balanced3.loc[df_cps_balanced3[\"Product\"] == 'Debt collection'].sample(frac=0.44))\n",
    "df_cps_balanced4 = df_cps_balanced4.append(df_cps_balanced3.loc[df_cps_balanced3[\"Product\"] == 'Credit reporting'].sample(frac=0.46))\n",
    "df_cps_balanced4 = df_cps_balanced4.append(df_cps_balanced3.loc[df_cps_balanced3[\"Product\"] == 'Credit card or prepaid card'].sample(frac=0.44))\n",
    "df_cps_balanced4 = df_cps_balanced4.append(df_cps_balanced3.loc[df_cps_balanced3[\"Product\"] == 'Mortgage'].sample(frac=0.45))\n",
    "df_cps_balanced4 = df_cps_balanced4.append(df_cps_balanced3.loc[df_cps_balanced3[\"Product\"] == 'Student loan'].sample(frac=0.43))\n",
    "df_cps_balanced4 = df_cps_balanced4.append(df_cps_balanced3.loc[df_cps_balanced3[\"Product\"] == 'Credit card'].sample(frac=0.5))\n",
    "df_cps_balanced4 = df_cps_balanced4.append(df_cps_balanced3.loc[df_cps_balanced3[\"Product\"] == 'Checking or savings account'].sample(frac=0.46))\n",
    "df_cps_balanced4 = df_cps_balanced4.append(df_cps_balanced3.loc[df_cps_balanced3[\"Product\"] == 'Bank account or service'].sample(frac=0.6))\n",
    "\n",
    "df_cpsi_balanced4 = df_cpsi_balanced4.append(df_cpsi_balanced3.loc[df_cpsi_balanced3[\"Product\"] == 'Credit reporting, credit repair services, or other personal consumer reports'].sample(frac=0.44))\n",
    "df_cpsi_balanced4 = df_cpsi_balanced4.append(df_cpsi_balanced3.loc[df_cpsi_balanced3[\"Product\"] == 'Debt collection'].sample(frac=0.44))\n",
    "df_cpsi_balanced4 = df_cpsi_balanced4.append(df_cpsi_balanced3.loc[df_cpsi_balanced3[\"Product\"] == 'Credit reporting'].sample(frac=0.46))\n",
    "df_cpsi_balanced4 = df_cpsi_balanced4.append(df_cpsi_balanced3.loc[df_cpsi_balanced3[\"Product\"] == 'Credit card or prepaid card'].sample(frac=0.44))\n",
    "df_cpsi_balanced4 = df_cpsi_balanced4.append(df_cpsi_balanced3.loc[df_cpsi_balanced3[\"Product\"] == 'Mortgage'].sample(frac=0.45))\n",
    "df_cpsi_balanced4 = df_cpsi_balanced4.append(df_cpsi_balanced3.loc[df_cpsi_balanced3[\"Product\"] == 'Student loan'].sample(frac=0.43))\n",
    "df_cpsi_balanced4 = df_cpsi_balanced4.append(df_cpsi_balanced3.loc[df_cpsi_balanced3[\"Product\"] == 'Credit card'].sample(frac=0.5))\n",
    "df_cpsi_balanced4 = df_cpsi_balanced4.append(df_cpsi_balanced3.loc[df_cpsi_balanced3[\"Product\"] == 'Checking or savings account'].sample(frac=0.46))\n",
    "df_cpsi_balanced4 = df_cpsi_balanced4.append(df_cpsi_balanced3.loc[df_cpsi_balanced3[\"Product\"] == 'Bank account or service'].sample(frac=0.6))"
   ]
  },
  {
   "cell_type": "code",
   "execution_count": 27,
   "metadata": {},
   "outputs": [
    {
     "data": {
      "text/plain": [
       "Text(0, 0.5, 'categories')"
      ]
     },
     "execution_count": 27,
     "metadata": {},
     "output_type": "execute_result"
    },
    {
     "data": {
      "image/png": "[encoded data removed]",
      "text/plain": [
       "<Figure size 2160x1080 with 1 Axes>"
      ]
     },
     "metadata": {
      "needs_background": "light"
     },
     "output_type": "display_data"
    }
   ],
   "source": [
    "diff_products = df_cp_balanced4.groupby(\"Product\")[\"Product\"].count().sort_values(ascending=False)\n",
    "fig = plt.figure()\n",
    "plt.rcParams['figure.figsize'] = [30,15]\n",
    "ax = fig.add_axes([0,0,0.4,0.5])\n",
    "\n",
    "ax.barh(diff_products.index,diff_products,color='teal')\n",
    "ax.invert_yaxis()\n",
    "plt.title('Complaints per Products')\n",
    "plt.xlabel('amount')\n",
    "plt.ylabel('categories')"
   ]
  },
  {
   "cell_type": "code",
   "execution_count": 28,
   "metadata": {},
   "outputs": [],
   "source": [
    "# Export to these 3 more balanced datasets to csv for later use\n",
    "df_cp_balanced4.to_csv(\"corpus_sprint3_balanced_cp.csv\", index=False)\n",
    "df_cps_balanced4.to_csv(\"corpus_sprint3_balanced_cps.csv\", index=False)\n",
    "df_cpsi_balanced4.to_csv(\"corpus_sprint3_balanced_cpsi.csv\", index=False)"
   ]
  }
 ],
 "metadata": {
  "kernelspec": {
   "display_name": "Python 3",
   "language": "python",
   "name": "python3"
  },
  "language_info": {
   "codemirror_mode": {
    "name": "ipython",
    "version": 3
   },
   "file_extension": ".py",
   "mimetype": "text/x-python",
   "name": "python",
   "nbconvert_exporter": "python",
   "pygments_lexer": "ipython3",
   "version": "3.7.7"
  },
  "toc": {
   "base_numbering": 1,
   "nav_menu": {},
   "number_sections": true,
   "sideBar": true,
   "skip_h1_title": false,
   "title_cell": "Table of Contents",
   "title_sidebar": "Contents",
   "toc_cell": false,
   "toc_position": {},
   "toc_section_display": true,
   "toc_window_display": false
  }
 },
 "nbformat": 4,
 "nbformat_minor": 2
}

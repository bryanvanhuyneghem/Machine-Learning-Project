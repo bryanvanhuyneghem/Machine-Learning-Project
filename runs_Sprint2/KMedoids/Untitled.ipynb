{
 "cells": [
  {
   "cell_type": "code",
   "execution_count": 1,
   "metadata": {},
   "outputs": [],
   "source": [
    "import pandas as pd\n",
    "import numpy as np\n",
    "from gensim.models.doc2vec import Doc2Vec, TaggedDocument\n",
    "import matplotlib.pyplot as plt\n",
    "\n",
    "df_bal = pd.read_csv(\"../../corpus_sprint2_balanced_cp.csv\", encoding=\"utf-8\")\n",
    "df = df_bal[\"Consumer complaint narrative\"]\n",
    "df = df.dropna()\n",
    "\n",
    "model = Doc2Vec.load(\"../../model_doc2vec_balanced_20epochs\")\n",
    "\n",
    "X = model.docvecs.vectors_docs"
   ]
  },
  {
   "cell_type": "code",
   "execution_count": 2,
   "metadata": {},
   "outputs": [],
   "source": [
    "def init_medoids(X, k):\n",
    "    from numpy.random import choice\n",
    "    from numpy.random import seed\n",
    " \n",
    "    seed(1)\n",
    "    samples = choice(len(X), size=k, replace=False)\n",
    "    return X[samples, :]\n",
    "def compute_d_p(X, medoids, p):\n",
    "    m = len(X)\n",
    "    medoids_shape = medoids.shape\n",
    "    # If a 1-D array is provided, \n",
    "    # it will be reshaped to a single row 2-D array\n",
    "    if len(medoids_shape) == 1: \n",
    "        medoids = medoids.reshape((1,len(medoids)))\n",
    "    k = len(medoids)\n",
    "    \n",
    "    S = np.empty((m, k))\n",
    "    \n",
    "    for i in range(m):\n",
    "        d_i = np.linalg.norm(X[i, :] - medoids, ord=p, axis=1)\n",
    "        S[i, :] = d_i**p\n",
    "\n",
    "    return S\n",
    "def assign_labels(S):\n",
    "    return np.argmin(S, axis=1)\n",
    "def update_medoids(points, medoids, p):\n",
    "    \n",
    "    S = compute_d_p(points, medoids, p)\n",
    "    labels = assign_labels(S)\n",
    "        \n",
    "    out_medoids = medoids\n",
    "                \n",
    "    for i in set(labels):\n",
    "        \n",
    "        avg_dissimilarity = np.sum(compute_d_p(points, medoids[i], p))\n",
    "\n",
    "        cluster_points = points[labels == i]\n",
    "        \n",
    "        for datap in cluster_points:\n",
    "            new_medoid = datap\n",
    "            new_dissimilarity= np.sum(compute_d_p(points, datap, p))\n",
    "            \n",
    "            if new_dissimilarity < avg_dissimilarity :\n",
    "                avg_dissimilarity = new_dissimilarity\n",
    "                \n",
    "                out_medoids[i] = datap\n",
    "                \n",
    "    return out_medoids\n",
    "def has_converged(old_medoids, medoids):\n",
    "    return set([tuple(x) for x in old_medoids]) == set([tuple(x) for x in medoids])\n",
    "def kmedoids(X, k, p, starting_medoids=None, max_steps=np.inf):\n",
    "    print(\"START\")\n",
    "    if starting_medoids is None:\n",
    "        medoids = init_medoids(X, k)\n",
    "    else:\n",
    "        medoids = starting_medoids\n",
    "    print(\"INIT MEDIODS DONE\")\n",
    "\n",
    "    converged = False\n",
    "    labels = np.zeros(len(X))\n",
    "    i = 1\n",
    "    while (not converged) and (i <= max_steps):\n",
    "        print(\"START \")\n",
    "        print(i)\n",
    "        old_medoids = medoids.copy()\n",
    "        S = compute_d_p(X, medoids, p)\n",
    "        print(\"COMPUTED \")\n",
    "        labels = assign_labels(S)\n",
    "        print(\"ASSIGNED \")\n",
    "        medoids = update_medoids(X, medoids, p)\n",
    "        print(\"UPDATED \")\n",
    "        converged = has_converged(old_medoids, medoids)\n",
    "        print(\"CONVERGED \")\n",
    "        i += 1\n",
    "    return (medoids,labels)"
   ]
  },
  {
   "cell_type": "code",
   "execution_count": 3,
   "metadata": {},
   "outputs": [
    {
     "name": "stdout",
     "output_type": "stream",
     "text": [
      "START\n",
      "INIT MEDIODS DONE\n",
      "START \n",
      "1\n",
      "COMPUTED \n",
      "ASSIGNED \n"
     ]
    },
    {
     "ename": "KeyboardInterrupt",
     "evalue": "",
     "output_type": "error",
     "traceback": [
      "\u001b[1;31m---------------------------------------------------------------------------\u001b[0m",
      "\u001b[1;31mKeyboardInterrupt\u001b[0m                         Traceback (most recent call last)",
      "\u001b[1;32m<ipython-input-3-7e67b65c302b>\u001b[0m in \u001b[0;36m<module>\u001b[1;34m\u001b[0m\n\u001b[1;32m----> 1\u001b[1;33m \u001b[0mresults\u001b[0m \u001b[1;33m=\u001b[0m \u001b[0mkmedoids\u001b[0m\u001b[1;33m(\u001b[0m\u001b[0mX\u001b[0m\u001b[1;33m,\u001b[0m \u001b[1;36m3\u001b[0m\u001b[1;33m,\u001b[0m \u001b[1;36m2\u001b[0m\u001b[1;33m)\u001b[0m\u001b[1;33m\u001b[0m\u001b[1;33m\u001b[0m\u001b[0m\n\u001b[0m",
      "\u001b[1;32m<ipython-input-2-3522959960a1>\u001b[0m in \u001b[0;36mkmedoids\u001b[1;34m(X, k, p, starting_medoids, max_steps)\u001b[0m\n\u001b[0;32m     68\u001b[0m         \u001b[0mlabels\u001b[0m \u001b[1;33m=\u001b[0m \u001b[0massign_labels\u001b[0m\u001b[1;33m(\u001b[0m\u001b[0mS\u001b[0m\u001b[1;33m)\u001b[0m\u001b[1;33m\u001b[0m\u001b[1;33m\u001b[0m\u001b[0m\n\u001b[0;32m     69\u001b[0m         \u001b[0mprint\u001b[0m\u001b[1;33m(\u001b[0m\u001b[1;34m\"ASSIGNED \"\u001b[0m\u001b[1;33m)\u001b[0m\u001b[1;33m\u001b[0m\u001b[1;33m\u001b[0m\u001b[0m\n\u001b[1;32m---> 70\u001b[1;33m         \u001b[0mmedoids\u001b[0m \u001b[1;33m=\u001b[0m \u001b[0mupdate_medoids\u001b[0m\u001b[1;33m(\u001b[0m\u001b[0mX\u001b[0m\u001b[1;33m,\u001b[0m \u001b[0mmedoids\u001b[0m\u001b[1;33m,\u001b[0m \u001b[0mp\u001b[0m\u001b[1;33m)\u001b[0m\u001b[1;33m\u001b[0m\u001b[1;33m\u001b[0m\u001b[0m\n\u001b[0m\u001b[0;32m     71\u001b[0m         \u001b[0mprint\u001b[0m\u001b[1;33m(\u001b[0m\u001b[1;34m\"UPDATED \"\u001b[0m\u001b[1;33m)\u001b[0m\u001b[1;33m\u001b[0m\u001b[1;33m\u001b[0m\u001b[0m\n\u001b[0;32m     72\u001b[0m         \u001b[0mconverged\u001b[0m \u001b[1;33m=\u001b[0m \u001b[0mhas_converged\u001b[0m\u001b[1;33m(\u001b[0m\u001b[0mold_medoids\u001b[0m\u001b[1;33m,\u001b[0m \u001b[0mmedoids\u001b[0m\u001b[1;33m)\u001b[0m\u001b[1;33m\u001b[0m\u001b[1;33m\u001b[0m\u001b[0m\n",
      "\u001b[1;32m<ipython-input-2-3522959960a1>\u001b[0m in \u001b[0;36mupdate_medoids\u001b[1;34m(points, medoids, p)\u001b[0m\n\u001b[0;32m     39\u001b[0m         \u001b[1;32mfor\u001b[0m \u001b[0mdatap\u001b[0m \u001b[1;32min\u001b[0m \u001b[0mcluster_points\u001b[0m\u001b[1;33m:\u001b[0m\u001b[1;33m\u001b[0m\u001b[1;33m\u001b[0m\u001b[0m\n\u001b[0;32m     40\u001b[0m             \u001b[0mnew_medoid\u001b[0m \u001b[1;33m=\u001b[0m \u001b[0mdatap\u001b[0m\u001b[1;33m\u001b[0m\u001b[1;33m\u001b[0m\u001b[0m\n\u001b[1;32m---> 41\u001b[1;33m             \u001b[0mnew_dissimilarity\u001b[0m\u001b[1;33m=\u001b[0m \u001b[0mnp\u001b[0m\u001b[1;33m.\u001b[0m\u001b[0msum\u001b[0m\u001b[1;33m(\u001b[0m\u001b[0mcompute_d_p\u001b[0m\u001b[1;33m(\u001b[0m\u001b[0mpoints\u001b[0m\u001b[1;33m,\u001b[0m \u001b[0mdatap\u001b[0m\u001b[1;33m,\u001b[0m \u001b[0mp\u001b[0m\u001b[1;33m)\u001b[0m\u001b[1;33m)\u001b[0m\u001b[1;33m\u001b[0m\u001b[1;33m\u001b[0m\u001b[0m\n\u001b[0m\u001b[0;32m     42\u001b[0m \u001b[1;33m\u001b[0m\u001b[0m\n\u001b[0;32m     43\u001b[0m             \u001b[1;32mif\u001b[0m \u001b[0mnew_dissimilarity\u001b[0m \u001b[1;33m<\u001b[0m \u001b[0mavg_dissimilarity\u001b[0m \u001b[1;33m:\u001b[0m\u001b[1;33m\u001b[0m\u001b[1;33m\u001b[0m\u001b[0m\n",
      "\u001b[1;32m<ipython-input-2-3522959960a1>\u001b[0m in \u001b[0;36mcompute_d_p\u001b[1;34m(X, medoids, p)\u001b[0m\n\u001b[0;32m     19\u001b[0m     \u001b[1;32mfor\u001b[0m \u001b[0mi\u001b[0m \u001b[1;32min\u001b[0m \u001b[0mrange\u001b[0m\u001b[1;33m(\u001b[0m\u001b[0mm\u001b[0m\u001b[1;33m)\u001b[0m\u001b[1;33m:\u001b[0m\u001b[1;33m\u001b[0m\u001b[1;33m\u001b[0m\u001b[0m\n\u001b[0;32m     20\u001b[0m         \u001b[0md_i\u001b[0m \u001b[1;33m=\u001b[0m \u001b[0mnp\u001b[0m\u001b[1;33m.\u001b[0m\u001b[0mlinalg\u001b[0m\u001b[1;33m.\u001b[0m\u001b[0mnorm\u001b[0m\u001b[1;33m(\u001b[0m\u001b[0mX\u001b[0m\u001b[1;33m[\u001b[0m\u001b[0mi\u001b[0m\u001b[1;33m,\u001b[0m \u001b[1;33m:\u001b[0m\u001b[1;33m]\u001b[0m \u001b[1;33m-\u001b[0m \u001b[0mmedoids\u001b[0m\u001b[1;33m,\u001b[0m \u001b[0mord\u001b[0m\u001b[1;33m=\u001b[0m\u001b[0mp\u001b[0m\u001b[1;33m,\u001b[0m \u001b[0maxis\u001b[0m\u001b[1;33m=\u001b[0m\u001b[1;36m1\u001b[0m\u001b[1;33m)\u001b[0m\u001b[1;33m\u001b[0m\u001b[1;33m\u001b[0m\u001b[0m\n\u001b[1;32m---> 21\u001b[1;33m         \u001b[0mS\u001b[0m\u001b[1;33m[\u001b[0m\u001b[0mi\u001b[0m\u001b[1;33m,\u001b[0m \u001b[1;33m:\u001b[0m\u001b[1;33m]\u001b[0m \u001b[1;33m=\u001b[0m \u001b[0md_i\u001b[0m\u001b[1;33m**\u001b[0m\u001b[0mp\u001b[0m\u001b[1;33m\u001b[0m\u001b[1;33m\u001b[0m\u001b[0m\n\u001b[0m\u001b[0;32m     22\u001b[0m \u001b[1;33m\u001b[0m\u001b[0m\n\u001b[0;32m     23\u001b[0m     \u001b[1;32mreturn\u001b[0m \u001b[0mS\u001b[0m\u001b[1;33m\u001b[0m\u001b[1;33m\u001b[0m\u001b[0m\n",
      "\u001b[1;31mKeyboardInterrupt\u001b[0m: "
     ]
    }
   ],
   "source": [
    "results = kmedoids(X, 3, 2)"
   ]
  }
 ],
 "metadata": {
  "kernelspec": {
   "display_name": "Python 3",
   "language": "python",
   "name": "python3"
  },
  "language_info": {
   "codemirror_mode": {
    "name": "ipython",
    "version": 3
   },
   "file_extension": ".py",
   "mimetype": "text/x-python",
   "name": "python",
   "nbconvert_exporter": "python",
   "pygments_lexer": "ipython3",
   "version": "3.7.4"
  },
  "toc": {
   "base_numbering": 1,
   "nav_menu": {},
   "number_sections": true,
   "sideBar": true,
   "skip_h1_title": false,
   "title_cell": "Table of Contents",
   "title_sidebar": "Contents",
   "toc_cell": false,
   "toc_position": {},
   "toc_section_display": true,
   "toc_window_display": false
  }
 },
 "nbformat": 4,
 "nbformat_minor": 2
}
